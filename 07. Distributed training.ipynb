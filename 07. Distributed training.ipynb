{
 "cells": [
  {
   "cell_type": "markdown",
   "metadata": {},
   "source": [
    "# Распределенное обучение классических моделей\n",
    "\n",
    "Поговорим про то, как решать задачу машинного обучения, когда самих наблюдений очень много и они все не помещаются на машину.\n",
    "\n",
    "Центральная идея во всех алгоритмах - параллельно на нескольких машинах посчитать частичные элементы, которые требуются для принятия решения, передать их на центральную машину и сделать шаг алгоритма.\n",
    "\n",
    "Для обучения линейных моделей на различных машинах будем считать градиент и на главной машине делать шаг градиентного спуска.\n",
    "\n",
    "Для деревьев решений на различных машинах будем считать распределение по корзинкам (по бинам) и на главной машине будет определять порог для определенного признака."
   ]
  },
  {
   "cell_type": "markdown",
   "metadata": {},
   "source": [
    "### Распределенное обучение VW\n",
    "\n",
    "Vowpal Wabbit также умеет работать распределенно, что делает его универсальным инструментом для обучения линейных моделей на больших данных. Для работы он использует дополнительный компонент - `spanning_tree` - это специальный процесс, который координирует работу различных воркеров между собой.\n",
    "\n",
    "Про него можно также думать, как про корневую вершину в алгоритме \"Tree Allreduce\", который используется для эффективной утилизации сети при обучении.\n",
    "\n",
    "Чтобы иметь возможность использовать `spanning_tree`, необходимо собрать VW руками.\n",
    "\n",
    "\n",
    "Собирем VW. Делать это нужно с суперпользоателя, поэтому удобнее всего запускать из терминала.\n",
    "\n",
    "```bash\n",
    "apt update && \\\n",
    "apt install git psmisc -y && \\\n",
    "apt install libboost-dev libboost-program-options-dev libboost-system-dev libboost-thread-dev libboost-math-dev libboost-test-dev zlib1g-dev cmake g++ -y \n",
    "\n",
    "\n",
    "wget https://github.com/google/flatbuffers/archive/v1.12.0.tar.gz && \\\n",
    "tar -xzf v1.12.0.tar.gz && \\\n",
    "cd flatbuffers-1.12.0 && \\\n",
    "mkdir build_dir && \\\n",
    "cd build_dir && \\\n",
    "cmake -G \"Unix Makefiles\" -DFLATBUFFERS_BUILD_TESTS=Off -DFLATBUFFERS_INSTALL=On -DCMAKE_BUILD_TYPE=Release DFLATBUFFERS_BUILD_FLATHASH=Off .. && \\\n",
    "make install -j$(nproc) && \\\n",
    "cd ../..\n",
    "\n",
    "git clone --recursive https://github.com/VowpalWabbit/vowpal_wabbit.git && \\\n",
    "cd vowpal_wabbit && \\\n",
    "sudo make && \\\n",
    "cd build && \\\n",
    "sudo make install -j$(nproc)\n",
    "```"
   ]
  },
  {
   "cell_type": "code",
   "execution_count": 1,
   "metadata": {},
   "outputs": [
    {
     "name": "stdout",
     "output_type": "stream",
     "text": [
      "Writing install_vw.sh\n"
     ]
    }
   ],
   "source": [
    "%%writefile install_vw.sh\n",
    "\n",
    "sudo apt update -y\n",
    "sudo apt install git psmisc -y \n",
    "sudo apt install libboost-dev libboost-program-options-dev libboost-system-dev libboost-thread-dev libboost-math-dev libboost-test-dev zlib1g-dev cmake g++ -y \n",
    "\n",
    "wget https://github.com/google/flatbuffers/archive/v1.12.0.tar.gz && \\\n",
    "    tar -xzf v1.12.0.tar.gz && \\\n",
    "    cd flatbuffers-1.12.0 && \\\n",
    "    mkdir build_dir && \\\n",
    "    cd build_dir && \\\n",
    "    cmake -G \"Unix Makefiles\" -DFLATBUFFERS_BUILD_TESTS=Off -DFLATBUFFERS_INSTALL=On -DCMAKE_BUILD_TYPE=Release DFLATBUFFERS_BUILD_FLATHASH=Off .. && \\\n",
    "    make install -j$(nproc) && \\\n",
    "    cd ../..\n",
    "    \n",
    "git clone --recursive https://github.com/VowpalWabbit/vowpal_wabbit.git && \\\n",
    "    cd vowpal_wabbit && \\\n",
    "    git checkout d1ead9a0a9afd56d2ee11a72e0c1aaa7702ee281 && \\\n",
    "    sudo make && \\\n",
    "    cd build && \\\n",
    "    sudo make install -j$(nproc)"
   ]
  },
  {
   "cell_type": "code",
   "execution_count": 2,
   "metadata": {
    "collapsed": true
   },
   "outputs": [
    {
     "name": "stdout",
     "output_type": "stream",
     "text": [
      "Err:1 https://repo.saltproject.io/salt/py3/ubuntu/20.04/amd64/3006 focal InRelease\n",
      "  Could not resolve 'repo.saltproject.io'\n",
      "Hit:2 http://mirror.yandex.ru/ubuntu focal InRelease                           \u001b[0m\n",
      "Hit:3 http://dataproc.storage.yandexcloud.net/ci/trunk/225-54615002560eee21 focal InRelease\n",
      "Get:4 http://mirror.yandex.ru/ubuntu focal-updates InRelease [128 kB]          \u001b[0m\n",
      "Get:5 http://mirror.yandex.ru/ubuntu focal-backports InRelease [128 kB]        \u001b[0m\u001b[33m\n",
      "Get:6 http://mirror.yandex.ru/mirrors/postgresql focal-pgdg InRelease [129 kB] \u001b[0m\u001b[33m\n",
      "Get:7 http://security.ubuntu.com/ubuntu focal-security InRelease [128 kB]      \u001b[0m\u001b[33m\n",
      "Hit:8 https://repos.influxdata.com/ubuntu focal InRelease                     \u001b[0m\n",
      "Get:9 http://mirror.yandex.ru/ubuntu focal-updates/main amd64 Packages [3,778 kB]3m\u001b[33m\u001b[33m\u001b[33m\n",
      "Get:10 http://mirror.yandex.ru/ubuntu focal-updates/main i386 Packages [1,073 kB]\n",
      "Get:11 http://mirror.yandex.ru/ubuntu focal-updates/main Translation-en [576 kB]m\u001b[33m\n",
      "Get:12 http://mirror.yandex.ru/ubuntu focal-updates/universe i386 Packages [822 kB]\u001b[33m\n",
      "Get:13 http://mirror.yandex.ru/ubuntu focal-updates/universe amd64 Packages [1,254 kB]3m\n",
      "Get:14 http://mirror.yandex.ru/ubuntu focal-updates/universe Translation-en [301 kB][33m\n",
      "Get:15 http://mirror.yandex.ru/mirrors/postgresql focal-pgdg/main amd64 Packages [351 kB][33m\n",
      "Hit:16 https://packages.fluentbit.io/ubuntu/focal focal InRelease              \u001b[0m\u001b[33m\n",
      "Get:17 http://security.ubuntu.com/ubuntu focal-security/main i386 Packages [851 kB]\n",
      "Get:18 http://security.ubuntu.com/ubuntu focal-security/main amd64 Packages [3,396 kB]\n",
      "Get:19 http://security.ubuntu.com/ubuntu focal-security/main Translation-en [496 kB]\n",
      "Get:20 http://security.ubuntu.com/ubuntu focal-security/universe amd64 Packages [1,032 kB]\n",
      "Get:21 http://security.ubuntu.com/ubuntu focal-security/universe i386 Packages [695 kB]\n",
      "Get:22 http://security.ubuntu.com/ubuntu focal-security/universe Translation-en [219 kB]\n",
      "Fetched 15.4 MB in 3s (5,045 kB/s)\u001b[0m                           \u001b[0m\u001b[33m\u001b[33m\u001b[33m\u001b[33m\u001b[33m\u001b[33m\u001b[33m\u001b[33m\u001b[33m\u001b[33m\u001b[33m\u001b[33m\u001b[33m\n",
      "Reading package lists... Done\n",
      "Building dependency tree       \n",
      "Reading state information... Done\n",
      "97 packages can be upgraded. Run 'apt list --upgradable' to see them.\n",
      "\u001b[33mN: \u001b[0mSkipping acquire of configured file 'main/binary-i386/Packages' as repository 'https://packages.fluentbit.io/ubuntu/focal focal InRelease' doesn't support architecture 'i386'\u001b[0m\n",
      "\u001b[1;33mW: \u001b[0mFailed to fetch https://repo.saltproject.io/salt/py3/ubuntu/20.04/amd64/3006/dists/focal/InRelease  Could not resolve 'repo.saltproject.io'\u001b[0m\n",
      "\u001b[1;33mW: \u001b[0mSome index files failed to download. They have been ignored, or old ones used instead.\u001b[0m\n",
      "Reading package lists... Done\n",
      "Building dependency tree       \n",
      "Reading state information... Done\n",
      "psmisc is already the newest version (23.3-1).\n",
      "The following additional packages will be installed:\n",
      "  git-man libcurl3-gnutls liberror-perl\n",
      "Suggested packages:\n",
      "  git-daemon-run | git-daemon-sysvinit git-doc git-el git-email git-gui gitk\n",
      "  gitweb git-cvs git-mediawiki git-svn\n",
      "The following NEW packages will be installed:\n",
      "  git git-man libcurl3-gnutls liberror-perl\n",
      "0 upgraded, 4 newly installed, 0 to remove and 97 not upgraded.\n",
      "Need to get 5,758 kB of archives.\n",
      "After this operation, 39.5 MB of additional disk space will be used.\n",
      "Get:1 http://mirror.yandex.ru/ubuntu focal-updates/main amd64 libcurl3-gnutls amd64 7.68.0-1ubuntu2.25 [233 kB]\n",
      "Get:2 http://mirror.yandex.ru/ubuntu focal/main amd64 liberror-perl all 0.17029-1 [26.5 kB]\n",
      "Get:3 http://mirror.yandex.ru/ubuntu focal-updates/main amd64 git-man all 1:2.25.1-1ubuntu3.13 [887 kB]\n",
      "Get:4 http://mirror.yandex.ru/ubuntu focal-updates/main amd64 git amd64 1:2.25.1-1ubuntu3.13 [4,612 kB]\n",
      "Fetched 5,758 kB in 0s (74.5 MB/s)m\u001b[33m\n",
      "\n",
      "\u001b7\u001b[0;23r\u001b8\u001b[1ASelecting previously unselected package libcurl3-gnutls:amd64.\n",
      "(Reading database ... 131250 files and directories currently installed.)\n",
      "Preparing to unpack .../libcurl3-gnutls_7.68.0-1ubuntu2.25_amd64.deb ...\n",
      "\u001b7\u001b[24;0f\u001b[42m\u001b[30mProgress: [  0%]\u001b[49m\u001b[39m [..........................................................] \u001b8\u001b7\u001b[24;0f\u001b[42m\u001b[30mProgress: [  6%]\u001b[49m\u001b[39m [###.......................................................] \u001b8Unpacking libcurl3-gnutls:amd64 (7.68.0-1ubuntu2.25) ...\n",
      "\u001b7\u001b[24;0f\u001b[42m\u001b[30mProgress: [ 12%]\u001b[49m\u001b[39m [######....................................................] \u001b8Selecting previously unselected package liberror-perl.\n",
      "Preparing to unpack .../liberror-perl_0.17029-1_all.deb ...\n",
      "\u001b7\u001b[24;0f\u001b[42m\u001b[30mProgress: [ 18%]\u001b[49m\u001b[39m [##########................................................] \u001b8Unpacking liberror-perl (0.17029-1) ...\n",
      "\u001b7\u001b[24;0f\u001b[42m\u001b[30mProgress: [ 24%]\u001b[49m\u001b[39m [#############.............................................] \u001b8Selecting previously unselected package git-man.\n",
      "Preparing to unpack .../git-man_1%3a2.25.1-1ubuntu3.13_all.deb ...\n",
      "\u001b7\u001b[24;0f\u001b[42m\u001b[30mProgress: [ 29%]\u001b[49m\u001b[39m [#################.........................................] \u001b8Unpacking git-man (1:2.25.1-1ubuntu3.13) ...\n",
      "\u001b7\u001b[24;0f\u001b[42m\u001b[30mProgress: [ 35%]\u001b[49m\u001b[39m [####################......................................] \u001b8Selecting previously unselected package git.\n",
      "Preparing to unpack .../git_1%3a2.25.1-1ubuntu3.13_amd64.deb ...\n",
      "\u001b7\u001b[24;0f\u001b[42m\u001b[30mProgress: [ 41%]\u001b[49m\u001b[39m [#######################...................................] \u001b8Unpacking git (1:2.25.1-1ubuntu3.13) ...\n",
      "\u001b7\u001b[24;0f\u001b[42m\u001b[30mProgress: [ 47%]\u001b[49m\u001b[39m [###########################...............................] \u001b8Setting up libcurl3-gnutls:amd64 (7.68.0-1ubuntu2.25) ...\n",
      "\u001b7\u001b[24;0f\u001b[42m\u001b[30mProgress: [ 53%]\u001b[49m\u001b[39m [##############################............................] \u001b8\u001b7\u001b[24;0f\u001b[42m\u001b[30mProgress: [ 59%]\u001b[49m\u001b[39m [##################################........................] \u001b8Setting up liberror-perl (0.17029-1) ...\n",
      "\u001b7\u001b[24;0f\u001b[42m\u001b[30mProgress: [ 65%]\u001b[49m\u001b[39m [#####################################.....................] \u001b8\u001b7\u001b[24;0f\u001b[42m\u001b[30mProgress: [ 71%]\u001b[49m\u001b[39m [########################################..................] \u001b8Setting up git-man (1:2.25.1-1ubuntu3.13) ...\n",
      "\u001b7\u001b[24;0f\u001b[42m\u001b[30mProgress: [ 76%]\u001b[49m\u001b[39m [############################################..............] \u001b8\u001b7\u001b[24;0f\u001b[42m\u001b[30mProgress: [ 82%]\u001b[49m\u001b[39m [###############################################...........] \u001b8Setting up git (1:2.25.1-1ubuntu3.13) ...\n",
      "\u001b7\u001b[24;0f\u001b[42m\u001b[30mProgress: [ 88%]\u001b[49m\u001b[39m [###################################################.......] \u001b8\u001b7\u001b[24;0f\u001b[42m\u001b[30mProgress: [ 94%]\u001b[49m\u001b[39m [######################################################....] \u001b8Processing triggers for man-db (2.9.1-1) ...\n",
      "Processing triggers for libc-bin (2.31-0ubuntu9.16) ...\n",
      "\n",
      "Reading package lists... Done\n",
      "Building dependency tree       \n",
      "Reading state information... Done\n",
      "g++ is already the newest version (4:9.3.0-1ubuntu2).\n",
      "g++ set to manually installed.\n",
      "zlib1g-dev is already the newest version (1:1.2.11.dfsg-2ubuntu1.5).\n",
      "zlib1g-dev set to manually installed.\n",
      "The following additional packages will be installed:\n",
      "  cmake-data libarchive13 libboost-atomic1.71-dev libboost-atomic1.71.0\n",
      "  libboost-chrono1.71-dev libboost-chrono1.71.0 libboost-date-time1.71-dev\n",
      "  libboost-date-time1.71.0 libboost-math1.71-dev libboost-math1.71.0\n",
      "  libboost-program-options1.71-dev libboost-program-options1.71.0\n",
      "  libboost-serialization1.71-dev libboost-serialization1.71.0\n",
      "  libboost-system1.71-dev libboost-system1.71.0 libboost-test1.71-dev\n",
      "  libboost-test1.71.0 libboost-thread1.71-dev libboost-thread1.71.0\n",
      "  libboost1.71-dev libjsoncpp1 librhash0\n",
      "Suggested packages:\n",
      "  cmake-doc ninja-build lrzip libboost-doc libboost1.71-doc\n",
      "  libboost-container1.71-dev libboost-context1.71-dev\n",
      "  libboost-contract1.71-dev libboost-coroutine1.71-dev\n",
      "  libboost-exception1.71-dev libboost-fiber1.71-dev\n",
      "  libboost-filesystem1.71-dev libboost-graph1.71-dev\n",
      "  libboost-graph-parallel1.71-dev libboost-iostreams1.71-dev\n",
      "  libboost-locale1.71-dev libboost-log1.71-dev libboost-mpi1.71-dev\n",
      "  libboost-mpi-python1.71-dev libboost-numpy1.71-dev libboost-python1.71-dev\n",
      "  libboost-random1.71-dev libboost-regex1.71-dev libboost-stacktrace1.71-dev\n",
      "  libboost-timer1.71-dev libboost-type-erasure1.71-dev libboost-wave1.71-dev\n",
      "  libboost1.71-tools-dev libmpfrc++-dev libntl-dev\n",
      "The following NEW packages will be installed:\n",
      "  cmake cmake-data libarchive13 libboost-atomic1.71-dev libboost-atomic1.71.0\n",
      "  libboost-chrono1.71-dev libboost-chrono1.71.0 libboost-date-time1.71-dev\n",
      "  libboost-date-time1.71.0 libboost-dev libboost-math-dev\n",
      "  libboost-math1.71-dev libboost-math1.71.0 libboost-program-options-dev\n",
      "  libboost-program-options1.71-dev libboost-program-options1.71.0\n",
      "  libboost-serialization1.71-dev libboost-serialization1.71.0\n",
      "  libboost-system-dev libboost-system1.71-dev libboost-system1.71.0\n",
      "  libboost-test-dev libboost-test1.71-dev libboost-test1.71.0\n",
      "  libboost-thread-dev libboost-thread1.71-dev libboost-thread1.71.0\n",
      "  libboost1.71-dev libjsoncpp1 librhash0\n",
      "0 upgraded, 30 newly installed, 0 to remove and 97 not upgraded.\n",
      "Need to get 20.7 MB of archives.\n",
      "After this operation, 228 MB of additional disk space will be used.\n",
      "Get:1 http://mirror.yandex.ru/ubuntu focal-updates/main amd64 cmake-data all 3.16.3-1ubuntu1.20.04.1 [1,613 kB]\n",
      "Get:2 http://mirror.yandex.ru/ubuntu focal-updates/main amd64 libarchive13 amd64 3.4.0-2ubuntu1.4 [327 kB]\n",
      "Get:3 http://mirror.yandex.ru/ubuntu focal/main amd64 libjsoncpp1 amd64 1.7.4-3.1ubuntu2 [75.6 kB]\n",
      "Get:4 http://mirror.yandex.ru/ubuntu focal/main amd64 librhash0 amd64 1.3.9-1 [113 kB]\n",
      "Get:5 http://mirror.yandex.ru/ubuntu focal-updates/main amd64 cmake amd64 3.16.3-1ubuntu1.20.04.1 [3,668 kB]\n",
      "Get:6 http://mirror.yandex.ru/ubuntu focal/main amd64 libboost1.71-dev amd64 1.71.0-6ubuntu6 [9,068 kB]\n",
      "Get:7 http://mirror.yandex.ru/ubuntu focal/main amd64 libboost-atomic1.71.0 amd64 1.71.0-6ubuntu6 [205 kB]\n",
      "Get:8 http://mirror.yandex.ru/ubuntu focal/main amd64 libboost-atomic1.71-dev amd64 1.71.0-6ubuntu6 [205 kB]\n",
      "Get:9 http://mirror.yandex.ru/ubuntu focal/main amd64 libboost-chrono1.71.0 amd64 1.71.0-6ubuntu6 [217 kB]\n",
      "Get:10 http://mirror.yandex.ru/ubuntu focal/main amd64 libboost-chrono1.71-dev amd64 1.71.0-6ubuntu6 [225 kB]\n",
      "Get:11 http://mirror.yandex.ru/ubuntu focal/main amd64 libboost-date-time1.71.0 amd64 1.71.0-6ubuntu6 [219 kB]\n",
      "Get:12 http://mirror.yandex.ru/ubuntu focal/main amd64 libboost-serialization1.71.0 amd64 1.71.0-6ubuntu6 [302 kB]\n",
      "Get:13 http://mirror.yandex.ru/ubuntu focal/main amd64 libboost-serialization1.71-dev amd64 1.71.0-6ubuntu6 [344 kB]\n",
      "Get:14 http://mirror.yandex.ru/ubuntu focal/main amd64 libboost-date-time1.71-dev amd64 1.71.0-6ubuntu6 [228 kB]\n",
      "Get:15 http://mirror.yandex.ru/ubuntu focal/main amd64 libboost-dev amd64 1.71.0.0ubuntu2 [3,596 B]\n",
      "Get:16 http://mirror.yandex.ru/ubuntu focal/universe amd64 libboost-math1.71.0 amd64 1.71.0-6ubuntu6 [492 kB]\n",
      "Get:17 http://mirror.yandex.ru/ubuntu focal/universe amd64 libboost-math1.71-dev amd64 1.71.0-6ubuntu6 [757 kB]\n",
      "Get:18 http://mirror.yandex.ru/ubuntu focal/universe amd64 libboost-math-dev amd64 1.71.0.0ubuntu2 [3,580 B]\n",
      "Get:19 http://mirror.yandex.ru/ubuntu focal/main amd64 libboost-program-options1.71.0 amd64 1.71.0-6ubuntu6 [342 kB]\n",
      "Get:20 http://mirror.yandex.ru/ubuntu focal/main amd64 libboost-program-options1.71-dev amd64 1.71.0-6ubuntu6 [374 kB]\n",
      "Get:21 http://mirror.yandex.ru/ubuntu focal/main amd64 libboost-program-options-dev amd64 1.71.0.0ubuntu2 [3,408 B]\n",
      "Get:22 http://mirror.yandex.ru/ubuntu focal/main amd64 libboost-system1.71.0 amd64 1.71.0-6ubuntu6 [205 kB]\n",
      "Get:23 http://mirror.yandex.ru/ubuntu focal/main amd64 libboost-system1.71-dev amd64 1.71.0-6ubuntu6 [205 kB]\n",
      "Get:24 http://mirror.yandex.ru/ubuntu focal/main amd64 libboost-system-dev amd64 1.71.0.0ubuntu2 [3,536 B]\n",
      "Get:25 http://mirror.yandex.ru/ubuntu focal/universe amd64 libboost-test1.71.0 amd64 1.71.0-6ubuntu6 [437 kB]\n",
      "Get:26 http://mirror.yandex.ru/ubuntu focal/universe amd64 libboost-test1.71-dev amd64 1.71.0-6ubuntu6 [513 kB]\n",
      "Get:27 http://mirror.yandex.ru/ubuntu focal/universe amd64 libboost-test-dev amd64 1.71.0.0ubuntu2 [3,424 B]\n",
      "Get:28 http://mirror.yandex.ru/ubuntu focal/main amd64 libboost-thread1.71.0 amd64 1.71.0-6ubuntu6 [249 kB]\n",
      "Get:29 http://mirror.yandex.ru/ubuntu focal/main amd64 libboost-thread1.71-dev amd64 1.71.0-6ubuntu6 [258 kB]\n",
      "Get:30 http://mirror.yandex.ru/ubuntu focal/main amd64 libboost-thread-dev amd64 1.71.0.0ubuntu2 [3,416 B]\n",
      "Fetched 20.7 MB in 1s (31.2 MB/s)                \u001b[0m\u001b[33m\n",
      "\n",
      "\u001b7\u001b[0;23r\u001b8\u001b[1ASelecting previously unselected package cmake-data.\n",
      "(Reading database ... 132193 files and directories currently installed.)\n",
      "Preparing to unpack .../00-cmake-data_3.16.3-1ubuntu1.20.04.1_all.deb ...\n",
      "\u001b7\u001b[24;0f\u001b[42m\u001b[30mProgress: [  0%]\u001b[49m\u001b[39m [..........................................................] \u001b8Unpacking cmake-data (3.16.3-1ubuntu1.20.04.1) ...\n",
      "\u001b7\u001b[24;0f\u001b[42m\u001b[30mProgress: [  2%]\u001b[49m\u001b[39m [..........................................................] \u001b8Selecting previously unselected package libarchive13:amd64.\n",
      "Preparing to unpack .../01-libarchive13_3.4.0-2ubuntu1.4_amd64.deb ...\n",
      "\u001b7\u001b[24;0f\u001b[42m\u001b[30mProgress: [  2%]\u001b[49m\u001b[39m [#.........................................................] \u001b8Unpacking libarchive13:amd64 (3.4.0-2ubuntu1.4) ...\n",
      "\u001b7\u001b[24;0f\u001b[42m\u001b[30mProgress: [  3%]\u001b[49m\u001b[39m [#.........................................................] \u001b8Selecting previously unselected package libjsoncpp1:amd64.\n",
      "Preparing to unpack .../02-libjsoncpp1_1.7.4-3.1ubuntu2_amd64.deb ...\n",
      "\u001b7\u001b[24;0f\u001b[42m\u001b[30mProgress: [  4%]\u001b[49m\u001b[39m [##........................................................] \u001b8Unpacking libjsoncpp1:amd64 (1.7.4-3.1ubuntu2) ...\n",
      "Selecting previously unselected package librhash0:amd64.\n",
      "Preparing to unpack .../03-librhash0_1.3.9-1_amd64.deb ...\n",
      "\u001b7\u001b[24;0f\u001b[42m\u001b[30mProgress: [  6%]\u001b[49m\u001b[39m [###.......................................................] \u001b8Unpacking librhash0:amd64 (1.3.9-1) ...\n",
      "\u001b7\u001b[24;0f\u001b[42m\u001b[30mProgress: [  7%]\u001b[49m\u001b[39m [###.......................................................] \u001b8Selecting previously unselected package cmake.\n",
      "Preparing to unpack .../04-cmake_3.16.3-1ubuntu1.20.04.1_amd64.deb ...\n",
      "\u001b7\u001b[24;0f\u001b[42m\u001b[30mProgress: [  7%]\u001b[49m\u001b[39m [####......................................................] \u001b8Unpacking cmake (3.16.3-1ubuntu1.20.04.1) ...\n",
      "\u001b7\u001b[24;0f\u001b[42m\u001b[30mProgress: [  8%]\u001b[49m\u001b[39m [####......................................................] \u001b8Selecting previously unselected package libboost1.71-dev:amd64.\n",
      "Preparing to unpack .../05-libboost1.71-dev_1.71.0-6ubuntu6_amd64.deb ...\n",
      "\u001b7\u001b[24;0f\u001b[42m\u001b[30mProgress: [  9%]\u001b[49m\u001b[39m [#####.....................................................] \u001b8Unpacking libboost1.71-dev:amd64 (1.71.0-6ubuntu6) ...\n",
      "Selecting previously unselected package libboost-atomic1.71.0:amd64.\n",
      "Preparing to unpack .../06-libboost-atomic1.71.0_1.71.0-6ubuntu6_amd64.deb ...\n",
      "\u001b7\u001b[24;0f\u001b[42m\u001b[30mProgress: [ 11%]\u001b[49m\u001b[39m [######....................................................] \u001b8Unpacking libboost-atomic1.71.0:amd64 (1.71.0-6ubuntu6) ...\n",
      "\u001b7\u001b[24;0f\u001b[42m\u001b[30mProgress: [ 12%]\u001b[49m\u001b[39m [######....................................................] \u001b8Selecting previously unselected package libboost-atomic1.71-dev:amd64.\n",
      "Preparing to unpack .../07-libboost-atomic1.71-dev_1.71.0-6ubuntu6_amd64.deb ...\n",
      "\u001b7\u001b[24;0f\u001b[42m\u001b[30mProgress: [ 12%]\u001b[49m\u001b[39m [#######...................................................] \u001b8Unpacking libboost-atomic1.71-dev:amd64 (1.71.0-6ubuntu6) ...\n",
      "\u001b7\u001b[24;0f\u001b[42m\u001b[30mProgress: [ 13%]\u001b[49m\u001b[39m [#######...................................................] \u001b8Selecting previously unselected package libboost-chrono1.71.0:amd64.\n",
      "Preparing to unpack .../08-libboost-chrono1.71.0_1.71.0-6ubuntu6_amd64.deb ...\n",
      "\u001b7\u001b[24;0f\u001b[42m\u001b[30mProgress: [ 14%]\u001b[49m\u001b[39m [########..................................................] \u001b8Unpacking libboost-chrono1.71.0:amd64 (1.71.0-6ubuntu6) ...\n",
      "Selecting previously unselected package libboost-chrono1.71-dev:amd64.\n",
      "Preparing to unpack .../09-libboost-chrono1.71-dev_1.71.0-6ubuntu6_amd64.deb ...\n",
      "\u001b7\u001b[24;0f\u001b[42m\u001b[30mProgress: [ 16%]\u001b[49m\u001b[39m [#########.................................................] \u001b8Unpacking libboost-chrono1.71-dev:amd64 (1.71.0-6ubuntu6) ...\n",
      "\u001b7\u001b[24;0f\u001b[42m\u001b[30mProgress: [ 17%]\u001b[49m\u001b[39m [#########.................................................] \u001b8Selecting previously unselected package libboost-date-time1.71.0:amd64.\n",
      "Preparing to unpack .../10-libboost-date-time1.71.0_1.71.0-6ubuntu6_amd64.deb ...\n",
      "\u001b7\u001b[24;0f\u001b[42m\u001b[30mProgress: [ 17%]\u001b[49m\u001b[39m [##########................................................] \u001b8Unpacking libboost-date-time1.71.0:amd64 (1.71.0-6ubuntu6) ...\n",
      "\u001b7\u001b[24;0f\u001b[42m\u001b[30mProgress: [ 18%]\u001b[49m\u001b[39m [##########................................................] \u001b8Selecting previously unselected package libboost-serialization1.71.0:amd64.\n",
      "Preparing to unpack .../11-libboost-serialization1.71.0_1.71.0-6ubuntu6_amd64.deb ...\n",
      "\u001b7\u001b[24;0f\u001b[42m\u001b[30mProgress: [ 19%]\u001b[49m\u001b[39m [###########...............................................] \u001b8Unpacking libboost-serialization1.71.0:amd64 (1.71.0-6ubuntu6) ...\n",
      "Selecting previously unselected package libboost-serialization1.71-dev:amd64.\n",
      "Preparing to unpack .../12-libboost-serialization1.71-dev_1.71.0-6ubuntu6_amd64.deb ...\n",
      "\u001b7\u001b[24;0f\u001b[42m\u001b[30mProgress: [ 21%]\u001b[49m\u001b[39m [###########...............................................] \u001b8Unpacking libboost-serialization1.71-dev:amd64 (1.71.0-6ubuntu6) ...\n",
      "\u001b7\u001b[24;0f\u001b[42m\u001b[30mProgress: [ 21%]\u001b[49m\u001b[39m [############..............................................] \u001b8Selecting previously unselected package libboost-date-time1.71-dev:amd64.\n",
      "Preparing to unpack .../13-libboost-date-time1.71-dev_1.71.0-6ubuntu6_amd64.deb ...\n",
      "\u001b7\u001b[24;0f\u001b[42m\u001b[30mProgress: [ 22%]\u001b[49m\u001b[39m [############..............................................] \u001b8Unpacking libboost-date-time1.71-dev:amd64 (1.71.0-6ubuntu6) ...\n",
      "\u001b7\u001b[24;0f\u001b[42m\u001b[30mProgress: [ 23%]\u001b[49m\u001b[39m [#############.............................................] \u001b8Selecting previously unselected package libboost-dev:amd64.\n",
      "Preparing to unpack .../14-libboost-dev_1.71.0.0ubuntu2_amd64.deb ...\n",
      "Unpacking libboost-dev:amd64 (1.71.0.0ubuntu2) ...\n",
      "\u001b7\u001b[24;0f\u001b[42m\u001b[30mProgress: [ 25%]\u001b[49m\u001b[39m [##############............................................] \u001b8Selecting previously unselected package libboost-math1.71.0:amd64.\n",
      "Preparing to unpack .../15-libboost-math1.71.0_1.71.0-6ubuntu6_amd64.deb ...\n",
      "\u001b7\u001b[24;0f\u001b[42m\u001b[30mProgress: [ 26%]\u001b[49m\u001b[39m [##############............................................] \u001b8Unpacking libboost-math1.71.0:amd64 (1.71.0-6ubuntu6) ...\n",
      "\u001b7\u001b[24;0f\u001b[42m\u001b[30mProgress: [ 26%]\u001b[49m\u001b[39m [###############...........................................] \u001b8Selecting previously unselected package libboost-math1.71-dev:amd64.\n",
      "Preparing to unpack .../16-libboost-math1.71-dev_1.71.0-6ubuntu6_amd64.deb ...\n",
      "\u001b7\u001b[24;0f\u001b[42m\u001b[30mProgress: [ 27%]\u001b[49m\u001b[39m [###############...........................................] \u001b8Unpacking libboost-math1.71-dev:amd64 (1.71.0-6ubuntu6) ...\n",
      "\u001b7\u001b[24;0f\u001b[42m\u001b[30mProgress: [ 28%]\u001b[49m\u001b[39m [################..........................................] \u001b8Selecting previously unselected package libboost-math-dev:amd64.\n",
      "Preparing to unpack .../17-libboost-math-dev_1.71.0.0ubuntu2_amd64.deb ...\n",
      "Unpacking libboost-math-dev:amd64 (1.71.0.0ubuntu2) ...\n",
      "\u001b7\u001b[24;0f\u001b[42m\u001b[30mProgress: [ 30%]\u001b[49m\u001b[39m [#################.........................................] \u001b8Selecting previously unselected package libboost-program-options1.71.0:amd64.\n",
      "Preparing to unpack .../18-libboost-program-options1.71.0_1.71.0-6ubuntu6_amd64.deb ...\n",
      "\u001b7\u001b[24;0f\u001b[42m\u001b[30mProgress: [ 31%]\u001b[49m\u001b[39m [#################.........................................] \u001b8Unpacking libboost-program-options1.71.0:amd64 (1.71.0-6ubuntu6) ...\n",
      "\u001b7\u001b[24;0f\u001b[42m\u001b[30mProgress: [ 31%]\u001b[49m\u001b[39m [##################........................................] \u001b8Selecting previously unselected package libboost-program-options1.71-dev:amd64.\n",
      "Preparing to unpack .../19-libboost-program-options1.71-dev_1.71.0-6ubuntu6_amd64.deb ...\n",
      "\u001b7\u001b[24;0f\u001b[42m\u001b[30mProgress: [ 32%]\u001b[49m\u001b[39m [##################........................................] \u001b8Unpacking libboost-program-options1.71-dev:amd64 (1.71.0-6ubuntu6) ...\n",
      "\u001b7\u001b[24;0f\u001b[42m\u001b[30mProgress: [ 33%]\u001b[49m\u001b[39m [###################.......................................] \u001b8Selecting previously unselected package libboost-program-options-dev:amd64.\n",
      "Preparing to unpack .../20-libboost-program-options-dev_1.71.0.0ubuntu2_amd64.deb ...\n",
      "Unpacking libboost-program-options-dev:amd64 (1.71.0.0ubuntu2) ...\n",
      "\u001b7\u001b[24;0f\u001b[42m\u001b[30mProgress: [ 35%]\u001b[49m\u001b[39m [####################......................................] \u001b8Selecting previously unselected package libboost-system1.71.0:amd64.\n",
      "Preparing to unpack .../21-libboost-system1.71.0_1.71.0-6ubuntu6_amd64.deb ...\n",
      "\u001b7\u001b[24;0f\u001b[42m\u001b[30mProgress: [ 36%]\u001b[49m\u001b[39m [####################......................................] \u001b8Unpacking libboost-system1.71.0:amd64 (1.71.0-6ubuntu6) ...\n",
      "\u001b7\u001b[24;0f\u001b[42m\u001b[30mProgress: [ 36%]\u001b[49m\u001b[39m [#####################.....................................] \u001b8Selecting previously unselected package libboost-system1.71-dev:amd64.\n",
      "Preparing to unpack .../22-libboost-system1.71-dev_1.71.0-6ubuntu6_amd64.deb ...\n",
      "\u001b7\u001b[24;0f\u001b[42m\u001b[30mProgress: [ 37%]\u001b[49m\u001b[39m [#####################.....................................] \u001b8Unpacking libboost-system1.71-dev:amd64 (1.71.0-6ubuntu6) ...\n",
      "\u001b7\u001b[24;0f\u001b[42m\u001b[30mProgress: [ 38%]\u001b[49m\u001b[39m [######################....................................] \u001b8Selecting previously unselected package libboost-system-dev:amd64.\n",
      "Preparing to unpack .../23-libboost-system-dev_1.71.0.0ubuntu2_amd64.deb ...\n",
      "Unpacking libboost-system-dev:amd64 (1.71.0.0ubuntu2) ...\n",
      "\u001b7\u001b[24;0f\u001b[42m\u001b[30mProgress: [ 40%]\u001b[49m\u001b[39m [#######################...................................] \u001b8Selecting previously unselected package libboost-test1.71.0:amd64.\n",
      "Preparing to unpack .../24-libboost-test1.71.0_1.71.0-6ubuntu6_amd64.deb ...\n",
      "\u001b7\u001b[24;0f\u001b[42m\u001b[30mProgress: [ 40%]\u001b[49m\u001b[39m [#######################...................................] \u001b8Unpacking libboost-test1.71.0:amd64 (1.71.0-6ubuntu6) ...\n",
      "\u001b7\u001b[24;0f\u001b[42m\u001b[30mProgress: [ 41%]\u001b[49m\u001b[39m [#######################...................................] \u001b8Selecting previously unselected package libboost-test1.71-dev:amd64.\n",
      "Preparing to unpack .../25-libboost-test1.71-dev_1.71.0-6ubuntu6_amd64.deb ...\n",
      "\u001b7\u001b[24;0f\u001b[42m\u001b[30mProgress: [ 42%]\u001b[49m\u001b[39m [########################..................................] \u001b8Unpacking libboost-test1.71-dev:amd64 (1.71.0-6ubuntu6) ...\n",
      "Selecting previously unselected package libboost-test-dev:amd64.\n",
      "Preparing to unpack .../26-libboost-test-dev_1.71.0.0ubuntu2_amd64.deb ...\n",
      "\u001b7\u001b[24;0f\u001b[42m\u001b[30mProgress: [ 44%]\u001b[49m\u001b[39m [#########################.................................] \u001b8Unpacking libboost-test-dev:amd64 (1.71.0.0ubuntu2) ...\n",
      "\u001b7\u001b[24;0f\u001b[42m\u001b[30mProgress: [ 45%]\u001b[49m\u001b[39m [#########################.................................] \u001b8Selecting previously unselected package libboost-thread1.71.0:amd64.\n",
      "Preparing to unpack .../27-libboost-thread1.71.0_1.71.0-6ubuntu6_amd64.deb ...\n",
      "\u001b7\u001b[24;0f\u001b[42m\u001b[30mProgress: [ 45%]\u001b[49m\u001b[39m [##########################................................] \u001b8Unpacking libboost-thread1.71.0:amd64 (1.71.0-6ubuntu6) ...\n",
      "\u001b7\u001b[24;0f\u001b[42m\u001b[30mProgress: [ 46%]\u001b[49m\u001b[39m [##########################................................] \u001b8Selecting previously unselected package libboost-thread1.71-dev:amd64.\n",
      "Preparing to unpack .../28-libboost-thread1.71-dev_1.71.0-6ubuntu6_amd64.deb ...\n",
      "\u001b7\u001b[24;0f\u001b[42m\u001b[30mProgress: [ 47%]\u001b[49m\u001b[39m [###########################...............................] \u001b8Unpacking libboost-thread1.71-dev:amd64 (1.71.0-6ubuntu6) ...\n",
      "Selecting previously unselected package libboost-thread-dev:amd64.\n",
      "Preparing to unpack .../29-libboost-thread-dev_1.71.0.0ubuntu2_amd64.deb ...\n",
      "\u001b7\u001b[24;0f\u001b[42m\u001b[30mProgress: [ 49%]\u001b[49m\u001b[39m [############################..............................] \u001b8Unpacking libboost-thread-dev:amd64 (1.71.0.0ubuntu2) ...\n",
      "\u001b7\u001b[24;0f\u001b[42m\u001b[30mProgress: [ 50%]\u001b[49m\u001b[39m [############################..............................] \u001b8Setting up libarchive13:amd64 (3.4.0-2ubuntu1.4) ...\n",
      "\u001b7\u001b[24;0f\u001b[42m\u001b[30mProgress: [ 50%]\u001b[49m\u001b[39m [#############################.............................] \u001b8\u001b7\u001b[24;0f\u001b[42m\u001b[30mProgress: [ 51%]\u001b[49m\u001b[39m [#############################.............................] \u001b8Setting up libboost1.71-dev:amd64 (1.71.0-6ubuntu6) ...\n",
      "\u001b7\u001b[24;0f\u001b[42m\u001b[30mProgress: [ 52%]\u001b[49m\u001b[39m [##############################............................] \u001b8Setting up libboost-chrono1.71.0:amd64 (1.71.0-6ubuntu6) ...\n",
      "\u001b7\u001b[24;0f\u001b[42m\u001b[30mProgress: [ 54%]\u001b[49m\u001b[39m [###############################...........................] \u001b8\u001b7\u001b[24;0f\u001b[42m\u001b[30mProgress: [ 55%]\u001b[49m\u001b[39m [###############################...........................] \u001b8Setting up libboost-date-time1.71.0:amd64 (1.71.0-6ubuntu6) ...\n",
      "\u001b7\u001b[24;0f\u001b[42m\u001b[30mProgress: [ 55%]\u001b[49m\u001b[39m [################################..........................] \u001b8\u001b7\u001b[24;0f\u001b[42m\u001b[30mProgress: [ 56%]\u001b[49m\u001b[39m [################################..........................] \u001b8Setting up libboost-math1.71.0:amd64 (1.71.0-6ubuntu6) ...\n",
      "\u001b7\u001b[24;0f\u001b[42m\u001b[30mProgress: [ 57%]\u001b[49m\u001b[39m [#################################.........................] \u001b8Setting up libboost-atomic1.71.0:amd64 (1.71.0-6ubuntu6) ...\n",
      "\u001b7\u001b[24;0f\u001b[42m\u001b[30mProgress: [ 59%]\u001b[49m\u001b[39m [##################################........................] \u001b8\u001b7\u001b[24;0f\u001b[42m\u001b[30mProgress: [ 60%]\u001b[49m\u001b[39m [##################################........................] \u001b8Setting up libboost-math1.71-dev:amd64 (1.71.0-6ubuntu6) ...\n",
      "\u001b7\u001b[24;0f\u001b[42m\u001b[30mProgress: [ 60%]\u001b[49m\u001b[39m [##################################........................] \u001b8\u001b7\u001b[24;0f\u001b[42m\u001b[30mProgress: [ 61%]\u001b[49m\u001b[39m [###################################.......................] \u001b8Setting up libboost-test1.71.0:amd64 (1.71.0-6ubuntu6) ...\n",
      "\u001b7\u001b[24;0f\u001b[42m\u001b[30mProgress: [ 63%]\u001b[49m\u001b[39m [####################################......................] \u001b8Setting up librhash0:amd64 (1.3.9-1) ...\n",
      "\u001b7\u001b[24;0f\u001b[42m\u001b[30mProgress: [ 64%]\u001b[49m\u001b[39m [####################################......................] \u001b8\u001b7\u001b[24;0f\u001b[42m\u001b[30mProgress: [ 64%]\u001b[49m\u001b[39m [#####################################.....................] \u001b8Setting up libboost-thread1.71.0:amd64 (1.71.0-6ubuntu6) ...\n",
      "\u001b7\u001b[24;0f\u001b[42m\u001b[30mProgress: [ 65%]\u001b[49m\u001b[39m [#####################################.....................] \u001b8\u001b7\u001b[24;0f\u001b[42m\u001b[30mProgress: [ 66%]\u001b[49m\u001b[39m [######################################....................] \u001b8Setting up libboost-serialization1.71.0:amd64 (1.71.0-6ubuntu6) ...\n",
      "\u001b7\u001b[24;0f\u001b[42m\u001b[30mProgress: [ 68%]\u001b[49m\u001b[39m [#######################################...................] \u001b8Setting up cmake-data (3.16.3-1ubuntu1.20.04.1) ...\n",
      "\u001b7\u001b[24;0f\u001b[42m\u001b[30mProgress: [ 69%]\u001b[49m\u001b[39m [#######################################...................] \u001b8\u001b7\u001b[24;0f\u001b[42m\u001b[30mProgress: [ 69%]\u001b[49m\u001b[39m [########################################..................] \u001b8Setting up libboost-system1.71.0:amd64 (1.71.0-6ubuntu6) ...\n",
      "\u001b7\u001b[24;0f\u001b[42m\u001b[30mProgress: [ 70%]\u001b[49m\u001b[39m [########################################..................] \u001b8\u001b7\u001b[24;0f\u001b[42m\u001b[30mProgress: [ 71%]\u001b[49m\u001b[39m [#########################################.................] \u001b8Setting up libboost-atomic1.71-dev:amd64 (1.71.0-6ubuntu6) ...\n",
      "\u001b7\u001b[24;0f\u001b[42m\u001b[30mProgress: [ 73%]\u001b[49m\u001b[39m [##########################################................] \u001b8Setting up libboost-dev:amd64 (1.71.0.0ubuntu2) ...\n",
      "\u001b7\u001b[24;0f\u001b[42m\u001b[30mProgress: [ 74%]\u001b[49m\u001b[39m [##########################################................] \u001b8\u001b7\u001b[24;0f\u001b[42m\u001b[30mProgress: [ 74%]\u001b[49m\u001b[39m [###########################################...............] \u001b8Setting up libjsoncpp1:amd64 (1.7.4-3.1ubuntu2) ...\n",
      "\u001b7\u001b[24;0f\u001b[42m\u001b[30mProgress: [ 75%]\u001b[49m\u001b[39m [###########################################...............] \u001b8\u001b7\u001b[24;0f\u001b[42m\u001b[30mProgress: [ 76%]\u001b[49m\u001b[39m [############################################..............] \u001b8Setting up libboost-program-options1.71.0:amd64 (1.71.0-6ubuntu6) ...\n",
      "\u001b7\u001b[24;0f\u001b[42m\u001b[30mProgress: [ 78%]\u001b[49m\u001b[39m [#############################################.............] \u001b8Setting up libboost-program-options1.71-dev:amd64 (1.71.0-6ubuntu6) ...\n",
      "\u001b7\u001b[24;0f\u001b[42m\u001b[30mProgress: [ 79%]\u001b[49m\u001b[39m [#############################################.............] \u001b8\u001b7\u001b[24;0f\u001b[42m\u001b[30mProgress: [ 79%]\u001b[49m\u001b[39m [##############################################............] \u001b8Setting up libboost-chrono1.71-dev:amd64 (1.71.0-6ubuntu6) ...\n",
      "\u001b7\u001b[24;0f\u001b[42m\u001b[30mProgress: [ 80%]\u001b[49m\u001b[39m [##############################################............] \u001b8Setting up libboost-math-dev:amd64 (1.71.0.0ubuntu2) ...\n",
      "\u001b7\u001b[24;0f\u001b[42m\u001b[30mProgress: [ 82%]\u001b[49m\u001b[39m [###############################################...........] \u001b8\u001b7\u001b[24;0f\u001b[42m\u001b[30mProgress: [ 83%]\u001b[49m\u001b[39m [###############################################...........] \u001b8Setting up libboost-system1.71-dev:amd64 (1.71.0-6ubuntu6) ...\n",
      "\u001b7\u001b[24;0f\u001b[42m\u001b[30mProgress: [ 83%]\u001b[49m\u001b[39m [################################################..........] \u001b8\u001b7\u001b[24;0f\u001b[42m\u001b[30mProgress: [ 84%]\u001b[49m\u001b[39m [################################################..........] \u001b8Setting up libboost-test1.71-dev:amd64 (1.71.0-6ubuntu6) ...\n",
      "\u001b7\u001b[24;0f\u001b[42m\u001b[30mProgress: [ 85%]\u001b[49m\u001b[39m [#################################################.........] \u001b8Setting up libboost-program-options-dev:amd64 (1.71.0.0ubuntu2) ...\n",
      "\u001b7\u001b[24;0f\u001b[42m\u001b[30mProgress: [ 87%]\u001b[49m\u001b[39m [##################################################........] \u001b8\u001b7\u001b[24;0f\u001b[42m\u001b[30mProgress: [ 88%]\u001b[49m\u001b[39m [##################################################........] \u001b8Setting up libboost-serialization1.71-dev:amd64 (1.71.0-6ubuntu6) ...\n",
      "\u001b7\u001b[24;0f\u001b[42m\u001b[30mProgress: [ 88%]\u001b[49m\u001b[39m [###################################################.......] \u001b8\u001b7\u001b[24;0f\u001b[42m\u001b[30mProgress: [ 89%]\u001b[49m\u001b[39m [###################################################.......] \u001b8Setting up libboost-date-time1.71-dev:amd64 (1.71.0-6ubuntu6) ...\n",
      "\u001b7\u001b[24;0f\u001b[42m\u001b[30mProgress: [ 90%]\u001b[49m\u001b[39m [####################################################......] \u001b8Setting up cmake (3.16.3-1ubuntu1.20.04.1) ...\n",
      "\u001b7\u001b[24;0f\u001b[42m\u001b[30mProgress: [ 92%]\u001b[49m\u001b[39m [#####################################################.....] \u001b8\u001b7\u001b[24;0f\u001b[42m\u001b[30mProgress: [ 93%]\u001b[49m\u001b[39m [#####################################################.....] \u001b8Setting up libboost-thread1.71-dev:amd64 (1.71.0-6ubuntu6) ...\n",
      "\u001b7\u001b[24;0f\u001b[42m\u001b[30mProgress: [ 93%]\u001b[49m\u001b[39m [######################################################....] \u001b8\u001b7\u001b[24;0f\u001b[42m\u001b[30mProgress: [ 94%]\u001b[49m\u001b[39m [######################################################....] \u001b8Setting up libboost-system-dev:amd64 (1.71.0.0ubuntu2) ...\n",
      "\u001b7\u001b[24;0f\u001b[42m\u001b[30mProgress: [ 95%]\u001b[49m\u001b[39m [#######################################################...] \u001b8Setting up libboost-test-dev:amd64 (1.71.0.0ubuntu2) ...\n",
      "\u001b7\u001b[24;0f\u001b[42m\u001b[30mProgress: [ 97%]\u001b[49m\u001b[39m [########################################################..] \u001b8\u001b7\u001b[24;0f\u001b[42m\u001b[30mProgress: [ 98%]\u001b[49m\u001b[39m [########################################################..] \u001b8Setting up libboost-thread-dev:amd64 (1.71.0.0ubuntu2) ...\n",
      "\u001b7\u001b[24;0f\u001b[42m\u001b[30mProgress: [ 98%]\u001b[49m\u001b[39m [#########################################################.] \u001b8\u001b7\u001b[24;0f\u001b[42m\u001b[30mProgress: [ 99%]\u001b[49m\u001b[39m [#########################################################.] \u001b8Processing triggers for man-db (2.9.1-1) ...\n",
      "Processing triggers for libc-bin (2.31-0ubuntu9.16) ...\n",
      "\n",
      "\u001b7\u001b[0;24r\u001b8\u001b[1A\u001b[J--2025-02-24 15:03:27--  https://github.com/google/flatbuffers/archive/v1.12.0.tar.gz\n",
      "Resolving github.com (github.com)... 140.82.121.3\n",
      "Connecting to github.com (github.com)|140.82.121.3|:443... connected.\n",
      "HTTP request sent, awaiting response... 302 Found\n",
      "Location: https://codeload.github.com/google/flatbuffers/tar.gz/refs/tags/v1.12.0 [following]\n",
      "--2025-02-24 15:03:28--  https://codeload.github.com/google/flatbuffers/tar.gz/refs/tags/v1.12.0\n",
      "Resolving codeload.github.com (codeload.github.com)... 140.82.121.9\n",
      "Connecting to codeload.github.com (codeload.github.com)|140.82.121.9|:443... connected.\n",
      "HTTP request sent, awaiting response... 200 OK\n",
      "Length: unspecified [application/x-gzip]\n",
      "Saving to: ‘v1.12.0.tar.gz’\n",
      "\n",
      "v1.12.0.tar.gz          [  <=>               ]   1.09M  3.83MB/s    in 0.3s    \n",
      "\n",
      "2025-02-24 15:03:28 (3.83 MB/s) - ‘v1.12.0.tar.gz’ saved [1145348]\n",
      "\n",
      "-- The C compiler identification is GNU 9.4.0\n",
      "-- The CXX compiler identification is GNU 9.4.0\n",
      "-- Check for working C compiler: /usr/bin/cc\n",
      "-- Check for working C compiler: /usr/bin/cc -- works\n",
      "-- Detecting C compiler ABI info\n",
      "-- Detecting C compiler ABI info - done\n",
      "-- Detecting C compile features\n",
      "-- Detecting C compile features - done\n",
      "-- Check for working CXX compiler: /usr/bin/c++\n",
      "-- Check for working CXX compiler: /usr/bin/c++ -- works\n",
      "-- Detecting CXX compiler ABI info\n",
      "-- Detecting CXX compiler ABI info - done\n",
      "-- Detecting CXX compile features\n",
      "-- Detecting CXX compile features - done\n",
      "-- Looking for strtof_l\n",
      "-- Looking for strtof_l - found\n",
      "-- Looking for strtoull_l\n",
      "-- Looking for strtoull_l - found\n",
      "fatal: not a git repository (or any of the parent directories): .git\n",
      "-- Configuring done\n",
      "-- Generating done\n",
      "-- Build files have been written to: /home/ubuntu/flatbuffers-1.12.0/build_dir\n",
      "\u001b[35m\u001b[1mScanning dependencies of target flatbuffers\u001b[0m\n",
      "\u001b[35m\u001b[1mScanning dependencies of target flathash\u001b[0m\n",
      "\u001b[35m\u001b[1mScanning dependencies of target flatc\u001b[0m\n",
      "[  2%] \u001b[32mBuilding CXX object CMakeFiles/flatbuffers.dir/src/idl_parser.cpp.o\u001b[0m\n",
      "[  5%] \u001b[32mBuilding CXX object CMakeFiles/flathash.dir/src/flathash.cpp.o\u001b[0m\n",
      "[  8%] \u001b[32mBuilding CXX object CMakeFiles/flatbuffers.dir/src/idl_gen_text.cpp.o\u001b[0m\n",
      "[ 11%] \u001b[32mBuilding CXX object CMakeFiles/flatc.dir/src/idl_parser.cpp.o\u001b[0m\n",
      "[ 13%] \u001b[32m\u001b[1mLinking CXX executable flathash\u001b[0m\n",
      "[ 13%] Built target flathash\n",
      "[ 16%] \u001b[32mBuilding CXX object CMakeFiles/flatbuffers.dir/src/reflection.cpp.o\u001b[0m\n",
      "[ 19%] \u001b[32mBuilding CXX object CMakeFiles/flatbuffers.dir/src/util.cpp.o\u001b[0m\n",
      "[ 22%] \u001b[32mBuilding CXX object CMakeFiles/flatc.dir/src/idl_gen_text.cpp.o\u001b[0m\n",
      "[ 25%] \u001b[32mBuilding CXX object CMakeFiles/flatc.dir/src/reflection.cpp.o\u001b[0m\n",
      "[ 27%] \u001b[32mBuilding CXX object CMakeFiles/flatc.dir/src/util.cpp.o\u001b[0m\n",
      "[ 30%] \u001b[32mBuilding CXX object CMakeFiles/flatc.dir/src/idl_gen_cpp.cpp.o\u001b[0m\n",
      "[ 33%] \u001b[32mBuilding CXX object CMakeFiles/flatc.dir/src/idl_gen_csharp.cpp.o\u001b[0m\n",
      "[ 36%] \u001b[32mBuilding CXX object CMakeFiles/flatc.dir/src/idl_gen_dart.cpp.o\u001b[0m\n",
      "[ 38%] \u001b[32mBuilding CXX object CMakeFiles/flatc.dir/src/idl_gen_kotlin.cpp.o\u001b[0m\n",
      "[ 41%] \u001b[32m\u001b[1mLinking CXX static library libflatbuffers.a\u001b[0m\n",
      "[ 41%] Built target flatbuffers\n",
      "[ 44%] \u001b[32mBuilding CXX object CMakeFiles/flatc.dir/src/idl_gen_go.cpp.o\u001b[0m\n",
      "[ 47%] \u001b[32mBuilding CXX object CMakeFiles/flatc.dir/src/idl_gen_java.cpp.o\u001b[0m\n",
      "[ 50%] \u001b[32mBuilding CXX object CMakeFiles/flatc.dir/src/idl_gen_js_ts.cpp.o\u001b[0m\n",
      "[ 52%] \u001b[32mBuilding CXX object CMakeFiles/flatc.dir/src/idl_gen_php.cpp.o\u001b[0m\n",
      "[ 55%] \u001b[32mBuilding CXX object CMakeFiles/flatc.dir/src/idl_gen_python.cpp.o\u001b[0m\n",
      "[ 58%] \u001b[32mBuilding CXX object CMakeFiles/flatc.dir/src/idl_gen_lobster.cpp.o\u001b[0m\n",
      "[ 61%] \u001b[32mBuilding CXX object CMakeFiles/flatc.dir/src/idl_gen_lua.cpp.o\u001b[0m\n",
      "[ 63%] \u001b[32mBuilding CXX object CMakeFiles/flatc.dir/src/idl_gen_rust.cpp.o\u001b[0m\n",
      "[ 66%] \u001b[32mBuilding CXX object CMakeFiles/flatc.dir/src/idl_gen_fbs.cpp.o\u001b[0m\n",
      "[ 69%] \u001b[32mBuilding CXX object CMakeFiles/flatc.dir/src/idl_gen_grpc.cpp.o\u001b[0m\n",
      "[ 72%] \u001b[32mBuilding CXX object CMakeFiles/flatc.dir/src/idl_gen_json_schema.cpp.o\u001b[0m\n",
      "[ 75%] \u001b[32mBuilding CXX object CMakeFiles/flatc.dir/src/idl_gen_swift.cpp.o\u001b[0m\n",
      "[ 77%] \u001b[32mBuilding CXX object CMakeFiles/flatc.dir/src/flatc.cpp.o\u001b[0m\n",
      "[ 80%] \u001b[32mBuilding CXX object CMakeFiles/flatc.dir/src/flatc_main.cpp.o\u001b[0m\n",
      "[ 83%] \u001b[32mBuilding CXX object CMakeFiles/flatc.dir/src/code_generators.cpp.o\u001b[0m\n",
      "[ 86%] \u001b[32mBuilding CXX object CMakeFiles/flatc.dir/grpc/src/compiler/cpp_generator.cc.o\u001b[0m\n",
      "[ 88%] \u001b[32mBuilding CXX object CMakeFiles/flatc.dir/grpc/src/compiler/go_generator.cc.o\u001b[0m\n",
      "[ 91%] \u001b[32mBuilding CXX object CMakeFiles/flatc.dir/grpc/src/compiler/java_generator.cc.o\u001b[0m\n",
      "[ 94%] \u001b[32mBuilding CXX object CMakeFiles/flatc.dir/grpc/src/compiler/python_generator.cc.o\u001b[0m\n",
      "[ 97%] \u001b[32mBuilding CXX object CMakeFiles/flatc.dir/grpc/src/compiler/swift_generator.cc.o\u001b[0m\n",
      "[100%] \u001b[32m\u001b[1mLinking CXX executable flatc\u001b[0m\n",
      "[100%] Built target flatc\n",
      "\u001b[36mInstall the project...\u001b[0m\n",
      "-- Install configuration: \"Release\"\n",
      "-- Installing: /usr/local/include/flatbuffers\n",
      "CMake Error at cmake_install.cmake:41 (file):\n",
      "  file INSTALL cannot make directory \"/usr/local/include/flatbuffers\":\n",
      "  Permission denied.\n",
      "\n",
      "\n",
      "make: *** [Makefile:96: install] Error 1\n",
      "Cloning into 'vowpal_wabbit'...\n",
      "remote: Enumerating objects: 104659, done.\u001b[K\n",
      "remote: Counting objects: 100% (262/262), done.\u001b[K\n",
      "remote: Compressing objects: 100% (179/179), done.\u001b[K\n",
      "remote: Total 104659 (delta 174), reused 83 (delta 83), pack-reused 104397 (from 3)\u001b[K\n",
      "Receiving objects: 100% (104659/104659), 159.88 MiB | 30.54 MiB/s, done.\n",
      "Resolving deltas: 100% (78402/78402), done.\n",
      "Submodule 'ext_libs/armadillo-code' (https://gitlab.com/conradsnicta/armadillo-code.git) registered for path 'ext_libs/armadillo-code'\n",
      "Submodule 'ext_libs/boost_math' (https://github.com/boostorg/math.git) registered for path 'ext_libs/boost_math'\n",
      "Submodule 'ext_libs/eigen' (https://gitlab.com/libeigen/eigen.git) registered for path 'ext_libs/eigen'\n",
      "Submodule 'ext_libs/ensmallen' (https://github.com/mlpack/ensmallen.git) registered for path 'ext_libs/ensmallen'\n",
      "Submodule 'ext_libs/fmt' (https://github.com/fmtlib/fmt.git) registered for path 'ext_libs/fmt'\n",
      "Submodule 'rapidjson' (https://github.com/Tencent/rapidjson.git) registered for path 'ext_libs/rapidjson'\n",
      "Submodule 'ext_libs/spdlog' (https://github.com/gabime/spdlog.git) registered for path 'ext_libs/spdlog'\n",
      "Submodule 'ext_libs/sse2neon' (https://github.com/DLTcollab/sse2neon) registered for path 'ext_libs/sse2neon/sse2neon'\n",
      "Submodule 'ext_libs/vcpkg' (https://github.com/microsoft/vcpkg.git) registered for path 'ext_libs/vcpkg'\n",
      "Submodule 'ext_libs/zlib' (https://github.com/madler/zlib.git) registered for path 'ext_libs/zlib'\n",
      "Cloning into '/home/ubuntu/flatbuffers-1.12.0/build_dir/vowpal_wabbit/ext_libs/armadillo-code'...\n",
      "remote: Enumerating objects: 15325, done.        \n",
      "remote: Counting objects: 100% (371/371), done.        \n",
      "remote: Compressing objects: 100% (108/108), done.        \n",
      "remote: Total 15325 (delta 317), reused 263 (delta 263), pack-reused 14954 (from 1)        \n",
      "Receiving objects: 100% (15325/15325), 38.79 MiB | 21.17 MiB/s, done.\n",
      "Resolving deltas: 100% (10517/10517), done.\n",
      "Cloning into '/home/ubuntu/flatbuffers-1.12.0/build_dir/vowpal_wabbit/ext_libs/boost_math'...\n",
      "remote: Enumerating objects: 115134, done.        \n",
      "remote: Counting objects: 100% (46/46), done.        \n",
      "remote: Compressing objects: 100% (39/39), done.        \n",
      "remote: Total 115134 (delta 11), reused 13 (delta 5), pack-reused 115088 (from 2)        \n",
      "Receiving objects: 100% (115134/115134), 179.14 MiB | 30.42 MiB/s, done.\n",
      "Resolving deltas: 100% (88054/88054), done.\n",
      "Cloning into '/home/ubuntu/flatbuffers-1.12.0/build_dir/vowpal_wabbit/ext_libs/eigen'...\n",
      "remote: Enumerating objects: 127101, done.        \n",
      "remote: Counting objects: 100% (438/438), done.        \n",
      "remote: Compressing objects: 100% (223/223), done.        \n",
      "remote: Total 127101 (delta 213), reused 430 (delta 213), pack-reused 126663 (from 1)        \n",
      "Receiving objects: 100% (127101/127101), 106.13 MiB | 31.25 MiB/s, done.\n",
      "Resolving deltas: 100% (105300/105300), done.\n",
      "Cloning into '/home/ubuntu/flatbuffers-1.12.0/build_dir/vowpal_wabbit/ext_libs/ensmallen'...\n",
      "remote: Enumerating objects: 19404, done.        \n",
      "remote: Counting objects: 100% (5108/5108), done.        \n",
      "remote: Compressing objects: 100% (1318/1318), done.        \n",
      "remote: Total 19404 (delta 3912), reused 3803 (delta 3790), pack-reused 14296 (from 3)        \n",
      "Receiving objects: 100% (19404/19404), 5.47 MiB | 4.09 MiB/s, done.\n",
      "Resolving deltas: 100% (12085/12085), done.\n",
      "Cloning into '/home/ubuntu/flatbuffers-1.12.0/build_dir/vowpal_wabbit/ext_libs/fmt'...\n",
      "remote: Enumerating objects: 39065, done.        \n",
      "remote: Counting objects: 100% (3129/3129), done.        \n",
      "remote: Compressing objects: 100% (160/160), done.        \n",
      "remote: Total 39065 (delta 3037), reused 2969 (delta 2969), pack-reused 35936 (from 2)        \n",
      "Receiving objects: 100% (39065/39065), 16.24 MiB | 24.49 MiB/s, done.\n",
      "Resolving deltas: 100% (26422/26422), done.\n",
      "Cloning into '/home/ubuntu/flatbuffers-1.12.0/build_dir/vowpal_wabbit/ext_libs/rapidjson'...\n",
      "remote: Enumerating objects: 25114, done.        \n",
      "remote: Counting objects: 100% (42/42), done.        \n",
      "remote: Compressing objects: 100% (24/24), done.        \n",
      "remote: Total 25114 (delta 23), reused 18 (delta 18), pack-reused 25072 (from 4)        \n",
      "Receiving objects: 100% (25114/25114), 29.80 MiB | 28.65 MiB/s, done.\n",
      "Resolving deltas: 100% (19203/19203), done.\n",
      "Cloning into '/home/ubuntu/flatbuffers-1.12.0/build_dir/vowpal_wabbit/ext_libs/spdlog'...\n",
      "remote: Enumerating objects: 30204, done.        \n",
      "remote: Counting objects: 100% (405/405), done.        \n",
      "remote: Compressing objects: 100% (198/198), done.        \n",
      "remote: Total 30204 (delta 283), reused 207 (delta 207), pack-reused 29799 (from 2)        \n",
      "Receiving objects: 100% (30204/30204), 41.80 MiB | 21.35 MiB/s, done.\n",
      "Resolving deltas: 100% (20142/20142), done.\n",
      "Cloning into '/home/ubuntu/flatbuffers-1.12.0/build_dir/vowpal_wabbit/ext_libs/sse2neon/sse2neon'...\n",
      "remote: Enumerating objects: 4982, done.        \n",
      "remote: Counting objects: 100% (216/216), done.        \n",
      "remote: Compressing objects: 100% (89/89), done.        \n",
      "remote: Total 4982 (delta 180), reused 127 (delta 127), pack-reused 4766 (from 4)        \n",
      "Receiving objects: 100% (4982/4982), 2.82 MiB | 10.50 MiB/s, done.\n",
      "Resolving deltas: 100% (3361/3361), done.\n",
      "Cloning into '/home/ubuntu/flatbuffers-1.12.0/build_dir/vowpal_wabbit/ext_libs/vcpkg'...\n",
      "remote: Enumerating objects: 264428, done.        \n",
      "remote: Total 264428 (delta 0), reused 0 (delta 0), pack-reused 264428 (from 1)        \n",
      "Receiving objects: 100% (264428/264428), 81.76 MiB | 29.59 MiB/s, done.\n",
      "Resolving deltas: 100% (175404/175404), done.\n",
      "Cloning into '/home/ubuntu/flatbuffers-1.12.0/build_dir/vowpal_wabbit/ext_libs/zlib'...\n",
      "remote: Enumerating objects: 7297, done.        \n",
      "remote: Counting objects: 100% (1/1), done.        \n",
      "remote: Total 7297 (delta 0), reused 0 (delta 0), pack-reused 7296 (from 1)        \n",
      "Receiving objects: 100% (7297/7297), 4.34 MiB | 13.72 MiB/s, done.\n",
      "Resolving deltas: 100% (5162/5162), done.\n",
      "Submodule path 'ext_libs/armadillo-code': checked out '437cf4816eebd04e6514f8b8a590df139147cdfc'\n",
      "Submodule path 'ext_libs/boost_math': checked out 'ed01dae24893bb69c02c6d599acc74bdb8f46bda'\n",
      "Submodule path 'ext_libs/eigen': checked out '3147391d946bb4b6c68edd901f2add6ac1f31f8c'\n",
      "Submodule path 'ext_libs/ensmallen': checked out '27246082ac20493d2ee2ce834537afac973ecef3'\n",
      "Submodule path 'ext_libs/fmt': checked out 'a33701196adfad74917046096bf5a2aa0ab0bb50'\n",
      "Submodule path 'ext_libs/rapidjson': checked out 'f54b0e47a08782a6131cc3d60f94d038fa6e0a51'\n",
      "Submodule 'thirdparty/gtest' (https://github.com/google/googletest.git) registered for path 'ext_libs/rapidjson/thirdparty/gtest'\n",
      "Cloning into '/home/ubuntu/flatbuffers-1.12.0/build_dir/vowpal_wabbit/ext_libs/rapidjson/thirdparty/gtest'...\n",
      "remote: Enumerating objects: 27871, done.        \n",
      "remote: Counting objects: 100% (128/128), done.        \n",
      "remote: Compressing objects: 100% (95/95), done.        \n",
      "remote: Total 27871 (delta 66), reused 34 (delta 31), pack-reused 27743 (from 4)        \n",
      "Receiving objects: 100% (27871/27871), 13.52 MiB | 25.45 MiB/s, done.\n",
      "Resolving deltas: 100% (20632/20632), done.\n",
      "Submodule path 'ext_libs/rapidjson/thirdparty/gtest': checked out '0a439623f75c029912728d80cb7f1b8b48739ca4'\n",
      "Submodule path 'ext_libs/spdlog': checked out 'ad0e89cbfb4d0c1ce4d097e134eb7be67baebb36'\n",
      "Submodule path 'ext_libs/sse2neon/sse2neon': checked out '270cf6efbc7efaae1ea017727079e929814b8002'\n",
      "Submodule path 'ext_libs/vcpkg': checked out '53bef8994c541b6561884a8395ea35715ece75db'\n",
      "Submodule path 'ext_libs/zlib': checked out '04f42ceca40f73e2978b50e93806c2a18c1281fc'\n",
      "warning: unable to rmdir 'ext_libs/armadillo-code': Directory not empty\n",
      "warning: unable to rmdir 'ext_libs/boost_math': Directory not empty\n",
      "warning: unable to rmdir 'ext_libs/eigen': Directory not empty\n",
      "warning: unable to rmdir 'ext_libs/ensmallen': Directory not empty\n",
      "warning: unable to rmdir 'ext_libs/fmt': Directory not empty\n",
      "warning: unable to rmdir 'ext_libs/rapidjson': Directory not empty\n",
      "warning: unable to rmdir 'ext_libs/spdlog': Directory not empty\n",
      "warning: unable to rmdir 'ext_libs/sse2neon/sse2neon': Directory not empty\n",
      "warning: unable to rmdir 'ext_libs/vcpkg': Directory not empty\n",
      "warning: unable to rmdir 'ext_libs/zlib': Directory not empty\n",
      "Note: switching to 'd1ead9a0a9afd56d2ee11a72e0c1aaa7702ee281'.\n",
      "\n",
      "You are in 'detached HEAD' state. You can look around, make experimental\n",
      "changes and commit them, and you can discard any commits you make in this\n",
      "state without impacting any branches by switching back to a branch.\n",
      "\n",
      "If you want to create a new branch to retain commits you create, you may\n",
      "do so (now or later) by using -c with the switch command. Example:\n",
      "\n",
      "  git switch -c <new-branch-name>\n",
      "\n",
      "Or undo this operation with:\n",
      "\n",
      "  git switch -\n",
      "\n",
      "Turn off this advice by setting config variable advice.detachedHead to false\n",
      "\n",
      "HEAD is now at d1ead9a0a Update version to 8.9.0 (#2639)\n",
      "mkdir -p build\n",
      "cd build; cmake ..\n",
      "-- VowpalWabbit Version: 8.9.0\n",
      "-- Setting build type to 'Release' as none was specified.\n",
      "-- The C compiler identification is GNU 9.4.0\n",
      "-- The CXX compiler identification is GNU 9.4.0\n",
      "-- Check for working C compiler: /usr/bin/cc\n",
      "-- Check for working C compiler: /usr/bin/cc -- works\n",
      "-- Detecting C compiler ABI info\n",
      "-- Detecting C compiler ABI info - done\n",
      "-- Detecting C compile features\n",
      "-- Detecting C compile features - done\n",
      "-- Check for working CXX compiler: /usr/bin/c++\n",
      "-- Check for working CXX compiler: /usr/bin/c++ -- works\n",
      "-- Detecting CXX compiler ABI info\n",
      "-- Detecting CXX compiler ABI info - done\n",
      "-- Detecting CXX compile features\n",
      "-- Detecting CXX compile features - done\n",
      "-- Using C++ standard: 11\n",
      "-- Found Git: /usr/bin/git (found version \"2.25.1\") \n",
      "-- Git Version: d1ead9a0a\n",
      "-- Number of processors: 4\n",
      "-- Looking for pthread.h\n",
      "-- Looking for pthread.h - found\n",
      "-- Performing Test CMAKE_HAVE_LIBC_PTHREAD\n",
      "-- Performing Test CMAKE_HAVE_LIBC_PTHREAD - Failed\n",
      "-- Check if compiler accepts -pthread\n",
      "-- Check if compiler accepts -pthread - yes\n",
      "-- Found Threads: TRUE  \n",
      "-- Found Boost: /usr/lib/x86_64-linux-gnu/cmake/Boost-1.71.0/BoostConfig.cmake (found version \"1.71.0\") found components: program_options system \n",
      "-- Found ZLIB: /usr/lib/x86_64-linux-gnu/libz.so (found version \"1.2.11\") \n",
      "-- Submodule update\n",
      "Submodule path 'rapidjson': checked out 'f54b0e47a08782a6131cc3d60f94d038fa6e0a51'\n",
      "Submodule path 'rapidjson/thirdparty/gtest': checked out '0a439623f75c029912728d80cb7f1b8b48739ca4'\n",
      "-- help2man not found, please install it to generate manpages\n",
      "-- Found Boost: /usr/lib/x86_64-linux-gnu/cmake/Boost-1.71.0/BoostConfig.cmake (found version \"1.71.0\") found components: unit_test_framework \n",
      "-- Configuring done\n",
      "-- Generating done\n",
      "-- Build files have been written to: /home/ubuntu/flatbuffers-1.12.0/build_dir/vowpal_wabbit/build\n",
      "cd build; make -j4 vw-bin\n",
      "make[1]: Entering directory '/home/ubuntu/flatbuffers-1.12.0/build_dir/vowpal_wabbit/build'\n",
      "make[2]: Entering directory '/home/ubuntu/flatbuffers-1.12.0/build_dir/vowpal_wabbit/build'\n",
      "make[3]: Entering directory '/home/ubuntu/flatbuffers-1.12.0/build_dir/vowpal_wabbit/build'\n",
      "make[4]: Entering directory '/home/ubuntu/flatbuffers-1.12.0/build_dir/vowpal_wabbit/build'\n",
      "make[4]: Entering directory '/home/ubuntu/flatbuffers-1.12.0/build_dir/vowpal_wabbit/build'\n",
      "\u001b[35m\u001b[1mScanning dependencies of target vw_io\u001b[0m\n",
      "\u001b[35m\u001b[1mScanning dependencies of target allreduce\u001b[0m\n",
      "make[4]: Leaving directory '/home/ubuntu/flatbuffers-1.12.0/build_dir/vowpal_wabbit/build'\n",
      "make[4]: Leaving directory '/home/ubuntu/flatbuffers-1.12.0/build_dir/vowpal_wabbit/build'\n",
      "make[4]: Entering directory '/home/ubuntu/flatbuffers-1.12.0/build_dir/vowpal_wabbit/build'\n",
      "make[4]: Entering directory '/home/ubuntu/flatbuffers-1.12.0/build_dir/vowpal_wabbit/build'\n",
      "[  1%] \u001b[32mBuilding CXX object vowpalwabbit/CMakeFiles/vw_io.dir/io/io_adapter.cc.o\u001b[0m\n",
      "[  1%] \u001b[32mBuilding CXX object vowpalwabbit/CMakeFiles/allreduce.dir/allreduce_sockets.cc.o\u001b[0m\n",
      "[  2%] \u001b[32mBuilding CXX object vowpalwabbit/CMakeFiles/allreduce.dir/allreduce_threads.cc.o\u001b[0m\n",
      "[  2%] \u001b[32mBuilding CXX object vowpalwabbit/CMakeFiles/allreduce.dir/vw_exception.cc.o\u001b[0m\n",
      "[  4%] \u001b[32m\u001b[1mLinking CXX static library libvw_io.a\u001b[0m\n",
      "make[4]: Leaving directory '/home/ubuntu/flatbuffers-1.12.0/build_dir/vowpal_wabbit/build'\n",
      "[  4%] Built target vw_io\n",
      "[  5%] \u001b[32m\u001b[1mLinking CXX static library liballreduce.a\u001b[0m\n",
      "make[4]: Leaving directory '/home/ubuntu/flatbuffers-1.12.0/build_dir/vowpal_wabbit/build'\n",
      "[  5%] Built target allreduce\n",
      "make[4]: Entering directory '/home/ubuntu/flatbuffers-1.12.0/build_dir/vowpal_wabbit/build'\n",
      "\u001b[35m\u001b[1mScanning dependencies of target vw\u001b[0m\n",
      "make[4]: Leaving directory '/home/ubuntu/flatbuffers-1.12.0/build_dir/vowpal_wabbit/build'\n",
      "make[4]: Entering directory '/home/ubuntu/flatbuffers-1.12.0/build_dir/vowpal_wabbit/build'\n",
      "[  5%] \u001b[32mBuilding CXX object vowpalwabbit/CMakeFiles/vw.dir/action_score.cc.o\u001b[0m\n",
      "[  7%] \u001b[32mBuilding CXX object vowpalwabbit/CMakeFiles/vw.dir/accumulate.cc.o\u001b[0m\n",
      "[  8%] \u001b[32mBuilding CXX object vowpalwabbit/CMakeFiles/vw.dir/active_cover.cc.o\u001b[0m\n",
      "[ 10%] \u001b[32mBuilding CXX object vowpalwabbit/CMakeFiles/vw.dir/active.cc.o\u001b[0m\n",
      "[ 10%] \u001b[32mBuilding CXX object vowpalwabbit/CMakeFiles/vw.dir/api_status.cc.o\u001b[0m\n",
      "[ 11%] \u001b[32mBuilding CXX object vowpalwabbit/CMakeFiles/vw.dir/audit_regressor.cc.o\u001b[0m\n",
      "[ 11%] \u001b[32mBuilding CXX object vowpalwabbit/CMakeFiles/vw.dir/autolink.cc.o\u001b[0m\n",
      "[ 13%] \u001b[32mBuilding CXX object vowpalwabbit/CMakeFiles/vw.dir/baseline.cc.o\u001b[0m\n",
      "[ 13%] \u001b[32mBuilding CXX object vowpalwabbit/CMakeFiles/vw.dir/best_constant.cc.o\u001b[0m\n",
      "[ 14%] \u001b[32mBuilding CXX object vowpalwabbit/CMakeFiles/vw.dir/bfgs.cc.o\u001b[0m\n",
      "[ 14%] \u001b[32mBuilding CXX object vowpalwabbit/CMakeFiles/vw.dir/binary.cc.o\u001b[0m\n",
      "[ 15%] \u001b[32mBuilding CXX object vowpalwabbit/CMakeFiles/vw.dir/boosting.cc.o\u001b[0m\n",
      "[ 15%] \u001b[32mBuilding CXX object vowpalwabbit/CMakeFiles/vw.dir/bs.cc.o\u001b[0m\n",
      "[ 17%] \u001b[32mBuilding CXX object vowpalwabbit/CMakeFiles/vw.dir/cache.cc.o\u001b[0m\n",
      "[ 17%] \u001b[32mBuilding CXX object vowpalwabbit/CMakeFiles/vw.dir/cats_pdf.cc.o\u001b[0m\n",
      "[ 18%] \u001b[32mBuilding CXX object vowpalwabbit/CMakeFiles/vw.dir/cats_tree.cc.o\u001b[0m\n",
      "[ 18%] \u001b[32mBuilding CXX object vowpalwabbit/CMakeFiles/vw.dir/cats.cc.o\u001b[0m\n",
      "[ 20%] \u001b[32mBuilding CXX object vowpalwabbit/CMakeFiles/vw.dir/cb_adf.cc.o\u001b[0m\n",
      "[ 21%] \u001b[32mBuilding CXX object vowpalwabbit/CMakeFiles/vw.dir/cb_algs.cc.o\u001b[0m\n",
      "[ 21%] \u001b[32mBuilding CXX object vowpalwabbit/CMakeFiles/vw.dir/cb_continuous_label.cc.o\u001b[0m\n",
      "[ 23%] \u001b[32mBuilding CXX object vowpalwabbit/CMakeFiles/vw.dir/cb_dro.cc.o\u001b[0m\n",
      "[ 23%] \u001b[32mBuilding CXX object vowpalwabbit/CMakeFiles/vw.dir/cb_explore_adf_bag.cc.o\u001b[0m\n",
      "[ 24%] \u001b[32mBuilding CXX object vowpalwabbit/CMakeFiles/vw.dir/cb_explore_adf_cover.cc.o\u001b[0m\n",
      "[ 24%] \u001b[32mBuilding CXX object vowpalwabbit/CMakeFiles/vw.dir/cb_explore_adf_first.cc.o\u001b[0m\n",
      "[ 26%] \u001b[32mBuilding CXX object vowpalwabbit/CMakeFiles/vw.dir/cb_explore_adf_greedy.cc.o\u001b[0m\n",
      "[ 26%] \u001b[32mBuilding CXX object vowpalwabbit/CMakeFiles/vw.dir/cb_explore_adf_regcb.cc.o\u001b[0m\n",
      "[ 27%] \u001b[32mBuilding CXX object vowpalwabbit/CMakeFiles/vw.dir/cb_explore_adf_squarecb.cc.o\u001b[0m\n",
      "[ 27%] \u001b[32mBuilding CXX object vowpalwabbit/CMakeFiles/vw.dir/cb_explore_adf_rnd.cc.o\u001b[0m\n",
      "[ 28%] \u001b[32mBuilding CXX object vowpalwabbit/CMakeFiles/vw.dir/cb_explore_adf_softmax.cc.o\u001b[0m\n",
      "[ 28%] \u001b[32mBuilding CXX object vowpalwabbit/CMakeFiles/vw.dir/cb_explore_pdf.cc.o\u001b[0m\n",
      "[ 30%] \u001b[32mBuilding CXX object vowpalwabbit/CMakeFiles/vw.dir/cb_explore.cc.o\u001b[0m\n",
      "[ 30%] \u001b[32mBuilding CXX object vowpalwabbit/CMakeFiles/vw.dir/cb_sample.cc.o\u001b[0m\n",
      "[ 31%] \u001b[32mBuilding CXX object vowpalwabbit/CMakeFiles/vw.dir/cb.cc.o\u001b[0m\n",
      "[ 31%] \u001b[32mBuilding CXX object vowpalwabbit/CMakeFiles/vw.dir/cbify.cc.o\u001b[0m\n",
      "[ 33%] \u001b[32mBuilding CXX object vowpalwabbit/CMakeFiles/vw.dir/ccb_label.cc.o\u001b[0m\n",
      "[ 34%] \u001b[32mBuilding CXX object vowpalwabbit/CMakeFiles/vw.dir/classweight.cc.o\u001b[0m\n",
      "[ 34%] \u001b[32mBuilding CXX object vowpalwabbit/CMakeFiles/vw.dir/conditional_contextual_bandit.cc.o\u001b[0m\n",
      "[ 36%] \u001b[32mBuilding CXX object vowpalwabbit/CMakeFiles/vw.dir/confidence.cc.o\u001b[0m\n",
      "[ 36%] \u001b[32mBuilding CXX object vowpalwabbit/CMakeFiles/vw.dir/cost_sensitive.cc.o\u001b[0m\n",
      "[ 37%] \u001b[32mBuilding CXX object vowpalwabbit/CMakeFiles/vw.dir/cs_active.cc.o\u001b[0m\n",
      "[ 37%] \u001b[32mBuilding CXX object vowpalwabbit/CMakeFiles/vw.dir/csoaa.cc.o\u001b[0m\n",
      "[ 39%] \u001b[32mBuilding CXX object vowpalwabbit/CMakeFiles/vw.dir/decision_scores.cc.o\u001b[0m\n",
      "[ 39%] \u001b[32mBuilding CXX object vowpalwabbit/CMakeFiles/vw.dir/distributionally_robust.cc.o\u001b[0m\n",
      "[ 40%] \u001b[32mBuilding CXX object vowpalwabbit/CMakeFiles/vw.dir/ect.cc.o\u001b[0m\n",
      "[ 40%] \u001b[32mBuilding CXX object vowpalwabbit/CMakeFiles/vw.dir/example_predict.cc.o\u001b[0m\n",
      "[ 42%] \u001b[32mBuilding CXX object vowpalwabbit/CMakeFiles/vw.dir/example.cc.o\u001b[0m\n",
      "[ 42%] \u001b[32mBuilding CXX object vowpalwabbit/CMakeFiles/vw.dir/explore_eval.cc.o\u001b[0m\n",
      "[ 43%] \u001b[32mBuilding CXX object vowpalwabbit/CMakeFiles/vw.dir/feature_group.cc.o\u001b[0m\n",
      "[ 43%] \u001b[32mBuilding CXX object vowpalwabbit/CMakeFiles/vw.dir/ftrl.cc.o\u001b[0m\n",
      "[ 44%] \u001b[32mBuilding CXX object vowpalwabbit/CMakeFiles/vw.dir/gd_mf.cc.o\u001b[0m\n",
      "[ 46%] \u001b[32mBuilding CXX object vowpalwabbit/CMakeFiles/vw.dir/gd.cc.o\u001b[0m\n",
      "[ 46%] \u001b[32mBuilding CXX object vowpalwabbit/CMakeFiles/vw.dir/gen_cs_example.cc.o\u001b[0m\n",
      "[ 47%] \u001b[32mBuilding CXX object vowpalwabbit/CMakeFiles/vw.dir/get_pmf.cc.o\u001b[0m\n",
      "[ 47%] \u001b[32mBuilding CXX object vowpalwabbit/CMakeFiles/vw.dir/global_data.cc.o\u001b[0m\n",
      "[ 49%] \u001b[32mBuilding CXX object vowpalwabbit/CMakeFiles/vw.dir/interact.cc.o\u001b[0m\n",
      "[ 49%] \u001b[32mBuilding CXX object vowpalwabbit/CMakeFiles/vw.dir/interactions.cc.o\u001b[0m\n",
      "[ 50%] \u001b[32mBuilding CXX object vowpalwabbit/CMakeFiles/vw.dir/io_buf.cc.o\u001b[0m\n",
      "[ 50%] \u001b[32mBuilding CXX object vowpalwabbit/CMakeFiles/vw.dir/kernel_svm.cc.o\u001b[0m\n",
      "[ 52%] \u001b[32mBuilding CXX object vowpalwabbit/CMakeFiles/vw.dir/label_dictionary.cc.o\u001b[0m\n",
      "[ 52%] \u001b[32mBuilding CXX object vowpalwabbit/CMakeFiles/vw.dir/lda_core.cc.o\u001b[0m\n",
      "[ 53%] \u001b[32mBuilding CXX object vowpalwabbit/CMakeFiles/vw.dir/learner.cc.o\u001b[0m\n",
      "[ 53%] \u001b[32mBuilding CXX object vowpalwabbit/CMakeFiles/vw.dir/log_multi.cc.o\u001b[0m\n",
      "[ 55%] \u001b[32mBuilding CXX object vowpalwabbit/CMakeFiles/vw.dir/loss_functions.cc.o\u001b[0m\n",
      "[ 55%] \u001b[32mBuilding CXX object vowpalwabbit/CMakeFiles/vw.dir/lrq.cc.o\u001b[0m\n",
      "[ 56%] \u001b[32mBuilding CXX object vowpalwabbit/CMakeFiles/vw.dir/lrqfa.cc.o\u001b[0m\n",
      "[ 57%] \u001b[32mBuilding CXX object vowpalwabbit/CMakeFiles/vw.dir/marginal.cc.o\u001b[0m\n",
      "[ 57%] \u001b[32mBuilding CXX object vowpalwabbit/CMakeFiles/vw.dir/memory_tree.cc.o\u001b[0m\n",
      "[ 59%] \u001b[32mBuilding CXX object vowpalwabbit/CMakeFiles/vw.dir/mf.cc.o\u001b[0m\n",
      "[ 59%] \u001b[32mBuilding CXX object vowpalwabbit/CMakeFiles/vw.dir/multiclass.cc.o\u001b[0m\n",
      "[ 60%] \u001b[32mBuilding CXX object vowpalwabbit/CMakeFiles/vw.dir/multilabel_oaa.cc.o\u001b[0m\n",
      "[ 60%] \u001b[32mBuilding CXX object vowpalwabbit/CMakeFiles/vw.dir/multilabel.cc.o\u001b[0m\n",
      "[ 62%] \u001b[32mBuilding CXX object vowpalwabbit/CMakeFiles/vw.dir/mwt.cc.o\u001b[0m\n",
      "[ 62%] \u001b[32mBuilding CXX object vowpalwabbit/CMakeFiles/vw.dir/named_labels.cc.o\u001b[0m\n",
      "[ 63%] \u001b[32mBuilding CXX object vowpalwabbit/CMakeFiles/vw.dir/network.cc.o\u001b[0m\n",
      "[ 63%] \u001b[32mBuilding CXX object vowpalwabbit/CMakeFiles/vw.dir/kskip_ngram_transformer.cc.o\u001b[0m\n",
      "[ 65%] \u001b[32mBuilding CXX object vowpalwabbit/CMakeFiles/vw.dir/nn.cc.o\u001b[0m\n",
      "[ 65%] \u001b[32mBuilding CXX object vowpalwabbit/CMakeFiles/vw.dir/no_label.cc.o\u001b[0m\n",
      "[ 66%] \u001b[32mBuilding CXX object vowpalwabbit/CMakeFiles/vw.dir/noop.cc.o\u001b[0m\n",
      "/home/ubuntu/flatbuffers-1.12.0/build_dir/vowpal_wabbit/vowpalwabbit/nn.cc: In instantiation of ‘\u001b[01m\u001b[Kvoid predict_or_learn_multi(nn&, VW::LEARNER::single_learner&, example&) [with bool is_learn = false; bool recompute_hidden = true; VW::LEARNER::single_learner = VW::LEARNER::learner<char, example>]\u001b[m\u001b[K’:\n",
      "\u001b[01m\u001b[K/home/ubuntu/flatbuffers-1.12.0/build_dir/vowpal_wabbit/vowpalwabbit/nn.cc:393:54:\u001b[m\u001b[K   required from here\n",
      "\u001b[01m\u001b[K/home/ubuntu/flatbuffers-1.12.0/build_dir/vowpal_wabbit/vowpalwabbit/nn.cc:148:9:\u001b[m\u001b[K \u001b[01;35m\u001b[Kwarning: \u001b[m\u001b[K‘\u001b[01m\u001b[Kvoid* memcpy(void*, const void*, size_t)\u001b[m\u001b[K’ writing to an object of type ‘\u001b[01m\u001b[Kstruct shared_data\u001b[m\u001b[K’ with no trivial copy-assignment [\u001b[01;35m\u001b[K-Wclass-memaccess\u001b[m\u001b[K]\n",
      "  148 |   \u001b[01;35m\u001b[Kmemcpy(&sd, n.all->sd, sizeof(shared_data))\u001b[m\u001b[K;\n",
      "      |   \u001b[01;35m\u001b[K~~~~~~^~~~~~~~~~~~~~~~~~~~~~~~~~~~~~~~~~~~~\u001b[m\u001b[K\n",
      "In file included from \u001b[01m\u001b[K/home/ubuntu/flatbuffers-1.12.0/build_dir/vowpal_wabbit/vowpalwabbit/reductions.h:9\u001b[m\u001b[K,\n",
      "                 from \u001b[01m\u001b[K/home/ubuntu/flatbuffers-1.12.0/build_dir/vowpal_wabbit/vowpalwabbit/nn.cc:10\u001b[m\u001b[K:\n",
      "\u001b[01m\u001b[K/home/ubuntu/flatbuffers-1.12.0/build_dir/vowpal_wabbit/vowpalwabbit/global_data.h:68:8:\u001b[m\u001b[K \u001b[01;36m\u001b[Knote: \u001b[m\u001b[K‘\u001b[01m\u001b[Kstruct shared_data\u001b[m\u001b[K’ declared here\n",
      "   68 | struct \u001b[01;36m\u001b[Kshared_data\u001b[m\u001b[K\n",
      "      |        \u001b[01;36m\u001b[K^~~~~~~~~~~\u001b[m\u001b[K\n",
      "/home/ubuntu/flatbuffers-1.12.0/build_dir/vowpal_wabbit/vowpalwabbit/nn.cc: In instantiation of ‘\u001b[01m\u001b[Kvoid predict_or_learn_multi(nn&, VW::LEARNER::single_learner&, example&) [with bool is_learn = false; bool recompute_hidden = false; VW::LEARNER::single_learner = VW::LEARNER::learner<char, example>]\u001b[m\u001b[K’:\n",
      "\u001b[01m\u001b[K/home/ubuntu/flatbuffers-1.12.0/build_dir/vowpal_wabbit/vowpalwabbit/nn.cc:395:55:\u001b[m\u001b[K   required from here\n",
      "\u001b[01m\u001b[K/home/ubuntu/flatbuffers-1.12.0/build_dir/vowpal_wabbit/vowpalwabbit/nn.cc:148:9:\u001b[m\u001b[K \u001b[01;35m\u001b[Kwarning: \u001b[m\u001b[K‘\u001b[01m\u001b[Kvoid* memcpy(void*, const void*, size_t)\u001b[m\u001b[K’ writing to an object of type ‘\u001b[01m\u001b[Kstruct shared_data\u001b[m\u001b[K’ with no trivial copy-assignment [\u001b[01;35m\u001b[K-Wclass-memaccess\u001b[m\u001b[K]\n",
      "  148 |   \u001b[01;35m\u001b[Kmemcpy(&sd, n.all->sd, sizeof(shared_data))\u001b[m\u001b[K;\n",
      "      |   \u001b[01;35m\u001b[K~~~~~~^~~~~~~~~~~~~~~~~~~~~~~~~~~~~~~~~~~~~\u001b[m\u001b[K\n",
      "In file included from \u001b[01m\u001b[K/home/ubuntu/flatbuffers-1.12.0/build_dir/vowpal_wabbit/vowpalwabbit/reductions.h:9\u001b[m\u001b[K,\n",
      "                 from \u001b[01m\u001b[K/home/ubuntu/flatbuffers-1.12.0/build_dir/vowpal_wabbit/vowpalwabbit/nn.cc:10\u001b[m\u001b[K:\n",
      "\u001b[01m\u001b[K/home/ubuntu/flatbuffers-1.12.0/build_dir/vowpal_wabbit/vowpalwabbit/global_data.h:68:8:\u001b[m\u001b[K \u001b[01;36m\u001b[Knote: \u001b[m\u001b[K‘\u001b[01m\u001b[Kstruct shared_data\u001b[m\u001b[K’ declared here\n",
      "   68 | struct \u001b[01;36m\u001b[Kshared_data\u001b[m\u001b[K\n",
      "      |        \u001b[01;36m\u001b[K^~~~~~~~~~~\u001b[m\u001b[K\n",
      "/home/ubuntu/flatbuffers-1.12.0/build_dir/vowpal_wabbit/vowpalwabbit/nn.cc: In instantiation of ‘\u001b[01m\u001b[Kvoid predict_or_learn_multi(nn&, VW::LEARNER::single_learner&, example&) [with bool is_learn = true; bool recompute_hidden = true; VW::LEARNER::single_learner = VW::LEARNER::learner<char, example>]\u001b[m\u001b[K’:\n",
      "\u001b[01m\u001b[K/home/ubuntu/flatbuffers-1.12.0/build_dir/vowpal_wabbit/vowpalwabbit/nn.cc:463:110:\u001b[m\u001b[K   required from here\n",
      "\u001b[01m\u001b[K/home/ubuntu/flatbuffers-1.12.0/build_dir/vowpal_wabbit/vowpalwabbit/nn.cc:148:9:\u001b[m\u001b[K \u001b[01;35m\u001b[Kwarning: \u001b[m\u001b[K‘\u001b[01m\u001b[Kvoid* memcpy(void*, const void*, size_t)\u001b[m\u001b[K’ writing to an object of type ‘\u001b[01m\u001b[Kstruct shared_data\u001b[m\u001b[K’ with no trivial copy-assignment [\u001b[01;35m\u001b[K-Wclass-memaccess\u001b[m\u001b[K]\n",
      "  148 |   \u001b[01;35m\u001b[Kmemcpy(&sd, n.all->sd, sizeof(shared_data))\u001b[m\u001b[K;\n",
      "      |   \u001b[01;35m\u001b[K~~~~~~^~~~~~~~~~~~~~~~~~~~~~~~~~~~~~~~~~~~~\u001b[m\u001b[K\n",
      "In file included from \u001b[01m\u001b[K/home/ubuntu/flatbuffers-1.12.0/build_dir/vowpal_wabbit/vowpalwabbit/reductions.h:9\u001b[m\u001b[K,\n",
      "                 from \u001b[01m\u001b[K/home/ubuntu/flatbuffers-1.12.0/build_dir/vowpal_wabbit/vowpalwabbit/nn.cc:10\u001b[m\u001b[K:\n",
      "\u001b[01m\u001b[K/home/ubuntu/flatbuffers-1.12.0/build_dir/vowpal_wabbit/vowpalwabbit/global_data.h:68:8:\u001b[m\u001b[K \u001b[01;36m\u001b[Knote: \u001b[m\u001b[K‘\u001b[01m\u001b[Kstruct shared_data\u001b[m\u001b[K’ declared here\n",
      "   68 | struct \u001b[01;36m\u001b[Kshared_data\u001b[m\u001b[K\n",
      "      |        \u001b[01;36m\u001b[K^~~~~~~~~~~\u001b[m\u001b[K\n",
      "[ 66%] \u001b[32mBuilding CXX object vowpalwabbit/CMakeFiles/vw.dir/oaa.cc.o\u001b[0m\n",
      "[ 68%] \u001b[32mBuilding CXX object vowpalwabbit/CMakeFiles/vw.dir/offset_tree.cc.o\u001b[0m\n",
      "[ 68%] \u001b[32mBuilding CXX object vowpalwabbit/CMakeFiles/vw.dir/OjaNewton.cc.o\u001b[0m\n",
      "[ 69%] \u001b[32mBuilding CXX object vowpalwabbit/CMakeFiles/vw.dir/options_boost_po.cc.o\u001b[0m\n",
      "[ 71%] \u001b[32mBuilding CXX object vowpalwabbit/CMakeFiles/vw.dir/options_serializer_boost_po.cc.o\u001b[0m\n",
      "[ 71%] \u001b[32mBuilding CXX object vowpalwabbit/CMakeFiles/vw.dir/parse_args.cc.o\u001b[0m\n",
      "[ 72%] \u001b[32mBuilding CXX object vowpalwabbit/CMakeFiles/vw.dir/parse_example.cc.o\u001b[0m\n",
      "[ 72%] \u001b[32mBuilding CXX object vowpalwabbit/CMakeFiles/vw.dir/parse_primitives.cc.o\u001b[0m\n",
      "[ 73%] \u001b[32mBuilding CXX object vowpalwabbit/CMakeFiles/vw.dir/parse_regressor.cc.o\u001b[0m\n",
      "[ 73%] \u001b[32mBuilding CXX object vowpalwabbit/CMakeFiles/vw.dir/parser.cc.o\u001b[0m\n",
      "\u001b[01m\u001b[K/home/ubuntu/flatbuffers-1.12.0/build_dir/vowpal_wabbit/vowpalwabbit/parser.cc:\u001b[m\u001b[K In function ‘\u001b[01m\u001b[Kvoid enable_sources(vw&, bool, size_t, input_options&)\u001b[m\u001b[K’:\n",
      "\u001b[01m\u001b[K/home/ubuntu/flatbuffers-1.12.0/build_dir/vowpal_wabbit/vowpalwabbit/parser.cc:425:45:\u001b[m\u001b[K \u001b[01;35m\u001b[Kwarning: \u001b[m\u001b[K‘\u001b[01m\u001b[Kvoid* memcpy(void*, const void*, size_t)\u001b[m\u001b[K’ writing to an object of type ‘\u001b[01m\u001b[Kstruct shared_data\u001b[m\u001b[K’ with no trivial copy-assignment [\u001b[01;35m\u001b[K-Wclass-memaccess\u001b[m\u001b[K]\n",
      "  425 |       memcpy(sd, all.sd, sizeof(shared_data)\u001b[01;35m\u001b[K)\u001b[m\u001b[K;\n",
      "      |                                             \u001b[01;35m\u001b[K^\u001b[m\u001b[K\n",
      "In file included from \u001b[01m\u001b[K/home/ubuntu/flatbuffers-1.12.0/build_dir/vowpal_wabbit/vowpalwabbit/vw.h:29\u001b[m\u001b[K,\n",
      "                 from \u001b[01m\u001b[K/home/ubuntu/flatbuffers-1.12.0/build_dir/vowpal_wabbit/vowpalwabbit/parse_example.h:8\u001b[m\u001b[K,\n",
      "                 from \u001b[01m\u001b[K/home/ubuntu/flatbuffers-1.12.0/build_dir/vowpal_wabbit/vowpalwabbit/parser.cc:48\u001b[m\u001b[K:\n",
      "\u001b[01m\u001b[K/home/ubuntu/flatbuffers-1.12.0/build_dir/vowpal_wabbit/vowpalwabbit/global_data.h:68:8:\u001b[m\u001b[K \u001b[01;36m\u001b[Knote: \u001b[m\u001b[K‘\u001b[01m\u001b[Kstruct shared_data\u001b[m\u001b[K’ declared here\n",
      "   68 | struct \u001b[01;36m\u001b[Kshared_data\u001b[m\u001b[K\n",
      "      |        \u001b[01;36m\u001b[K^~~~~~~~~~~\u001b[m\u001b[K\n",
      "[ 75%] \u001b[32mBuilding CXX object vowpalwabbit/CMakeFiles/vw.dir/pmf_to_pdf.cc.o\u001b[0m\n",
      "[ 75%] \u001b[32mBuilding CXX object vowpalwabbit/CMakeFiles/vw.dir/plt.cc.o\u001b[0m\n",
      "[ 76%] \u001b[32mBuilding CXX object vowpalwabbit/CMakeFiles/vw.dir/print.cc.o\u001b[0m\n",
      "[ 76%] \u001b[32mBuilding CXX object vowpalwabbit/CMakeFiles/vw.dir/prob_dist_cont.cc.o\u001b[0m\n",
      "[ 78%] \u001b[32mBuilding CXX object vowpalwabbit/CMakeFiles/vw.dir/rand48.cc.o\u001b[0m\n",
      "[ 78%] \u001b[32mBuilding CXX object vowpalwabbit/CMakeFiles/vw.dir/recall_tree.cc.o\u001b[0m\n",
      "[ 79%] \u001b[32mBuilding CXX object vowpalwabbit/CMakeFiles/vw.dir/sample_pdf.cc.o\u001b[0m\n",
      "[ 79%] \u001b[32mBuilding CXX object vowpalwabbit/CMakeFiles/vw.dir/scorer.cc.o\u001b[0m\n",
      "[ 81%] \u001b[32mBuilding CXX object vowpalwabbit/CMakeFiles/vw.dir/search_dep_parser.cc.o\u001b[0m\n",
      "[ 82%] \u001b[32mBuilding CXX object vowpalwabbit/CMakeFiles/vw.dir/search_entityrelationtask.cc.o\u001b[0m\n",
      "[ 82%] \u001b[32mBuilding CXX object vowpalwabbit/CMakeFiles/vw.dir/search_graph.cc.o\u001b[0m\n",
      "[ 84%] \u001b[32mBuilding CXX object vowpalwabbit/CMakeFiles/vw.dir/search_hooktask.cc.o\u001b[0m\n",
      "[ 84%] \u001b[32mBuilding CXX object vowpalwabbit/CMakeFiles/vw.dir/search_meta.cc.o\u001b[0m\n",
      "[ 85%] \u001b[32mBuilding CXX object vowpalwabbit/CMakeFiles/vw.dir/search_multiclasstask.cc.o\u001b[0m\n",
      "[ 85%] \u001b[32mBuilding CXX object vowpalwabbit/CMakeFiles/vw.dir/search_sequencetask.cc.o\u001b[0m\n",
      "[ 86%] \u001b[32mBuilding CXX object vowpalwabbit/CMakeFiles/vw.dir/search.cc.o\u001b[0m\n",
      "[ 86%] \u001b[32mBuilding CXX object vowpalwabbit/CMakeFiles/vw.dir/sender.cc.o\u001b[0m\n",
      "\u001b[01m\u001b[K/home/ubuntu/flatbuffers-1.12.0/build_dir/vowpal_wabbit/vowpalwabbit/search.cc:\u001b[m\u001b[K In member function ‘\u001b[01m\u001b[Kvoid Search::search::set_label_parser(label_parser&, bool (*)(polylabel&))\u001b[m\u001b[K’:\n",
      "\u001b[01m\u001b[K/home/ubuntu/flatbuffers-1.12.0/build_dir/vowpal_wabbit/vowpalwabbit/search.cc:2978:77:\u001b[m\u001b[K \u001b[01;35m\u001b[Kwarning: \u001b[m\u001b[Kcast between incompatible function types from ‘\u001b[01m\u001b[Kbool (*)(polylabel&)\u001b[m\u001b[K’ to ‘\u001b[01m\u001b[Kbool (*)(void*)\u001b[m\u001b[K’ [\u001b[01;35m\u001b[K-Wcast-function-type\u001b[m\u001b[K]\n",
      " 2978 |   this->priv->all->example_parser->lbl_parser.test_label = (bool (*)(void*))\u001b[01;35m\u001b[Kis_test\u001b[m\u001b[K;\n",
      "      |                                                                             \u001b[01;35m\u001b[K^~~~~~~\u001b[m\u001b[K\n",
      "\u001b[01m\u001b[K/home/ubuntu/flatbuffers-1.12.0/build_dir/vowpal_wabbit/vowpalwabbit/search.cc:\u001b[m\u001b[K In member function ‘\u001b[01m\u001b[Kvoid Search::predictor::set_input_length(size_t)\u001b[m\u001b[K’:\n",
      "\u001b[01m\u001b[K/home/ubuntu/flatbuffers-1.12.0/build_dir/vowpal_wabbit/vowpalwabbit/search.cc:3092:73:\u001b[m\u001b[K \u001b[01;35m\u001b[Kwarning: \u001b[m\u001b[K‘\u001b[01m\u001b[Kvoid* realloc(void*, size_t)\u001b[m\u001b[K’ moving an object of non-trivially copyable type ‘\u001b[01m\u001b[Kstruct example\u001b[m\u001b[K’; use ‘\u001b[01m\u001b[Knew\u001b[m\u001b[K’ and ‘\u001b[01m\u001b[Kdelete\u001b[m\u001b[K’ instead [\u001b[01;35m\u001b[K-Wclass-memaccess\u001b[m\u001b[K]\n",
      " 3092 |     example* temp = (example*)realloc(ec, input_length * sizeof(example)\u001b[01;35m\u001b[K)\u001b[m\u001b[K;\n",
      "      |                                                                         \u001b[01;35m\u001b[K^\u001b[m\u001b[K\n",
      "In file included from \u001b[01m\u001b[K/home/ubuntu/flatbuffers-1.12.0/build_dir/vowpal_wabbit/vowpalwabbit/global_data.h:38\u001b[m\u001b[K,\n",
      "                 from \u001b[01m\u001b[K/home/ubuntu/flatbuffers-1.12.0/build_dir/vowpal_wabbit/vowpalwabbit/vw.h:29\u001b[m\u001b[K,\n",
      "                 from \u001b[01m\u001b[K/home/ubuntu/flatbuffers-1.12.0/build_dir/vowpal_wabbit/vowpalwabbit/search.cc:8\u001b[m\u001b[K:\n",
      "\u001b[01m\u001b[K/home/ubuntu/flatbuffers-1.12.0/build_dir/vowpal_wabbit/vowpalwabbit/example.h:65:8:\u001b[m\u001b[K \u001b[01;36m\u001b[Knote: \u001b[m\u001b[K‘\u001b[01m\u001b[Kstruct example\u001b[m\u001b[K’ declared here\n",
      "   65 | struct \u001b[01;36m\u001b[Kexample\u001b[m\u001b[K : public example_predict  // core example datatype.\n",
      "      |        \u001b[01;36m\u001b[K^~~~~~~\u001b[m\u001b[K\n",
      "/home/ubuntu/flatbuffers-1.12.0/build_dir/vowpal_wabbit/vowpalwabbit/search.cc: In instantiation of ‘\u001b[01m\u001b[Kvoid Search::push_at(v_array<T>&, T, size_t) [with T = Search::action_repr; size_t = long unsigned int]\u001b[m\u001b[K’:\n",
      "\u001b[01m\u001b[K/home/ubuntu/flatbuffers-1.12.0/build_dir/vowpal_wabbit/vowpalwabbit/search.cc:1704:16:\u001b[m\u001b[K   required from here\n",
      "\u001b[01m\u001b[K/home/ubuntu/flatbuffers-1.12.0/build_dir/vowpal_wabbit/vowpalwabbit/search.cc:1061:13:\u001b[m\u001b[K \u001b[01;35m\u001b[Kwarning: \u001b[m\u001b[K‘\u001b[01m\u001b[Kvoid* memset(void*, int, size_t)\u001b[m\u001b[K’ clearing an object of non-trivial type ‘\u001b[01m\u001b[Kstruct Search::action_repr\u001b[m\u001b[K’; use assignment instead [\u001b[01;35m\u001b[K-Wclass-memaccess\u001b[m\u001b[K]\n",
      " 1061 |       \u001b[01;35m\u001b[Kmemset(v.end(), 0, sizeof(T) * (pos - v.size()))\u001b[m\u001b[K;\n",
      "      |       \u001b[01;35m\u001b[K~~~~~~^~~~~~~~~~~~~~~~~~~~~~~~~~~~~~~~~~~~~~~~~~\u001b[m\u001b[K\n",
      "\u001b[01m\u001b[K/home/ubuntu/flatbuffers-1.12.0/build_dir/vowpal_wabbit/vowpalwabbit/search.cc:105:8:\u001b[m\u001b[K \u001b[01;36m\u001b[Knote: \u001b[m\u001b[K‘\u001b[01m\u001b[Kstruct Search::action_repr\u001b[m\u001b[K’ declared here\n",
      "  105 | struct \u001b[01;36m\u001b[Kaction_repr\u001b[m\u001b[K\n",
      "      |        \u001b[01;36m\u001b[K^~~~~~~~~~~\u001b[m\u001b[K\n",
      "In file included from \u001b[01m\u001b[K/home/ubuntu/flatbuffers-1.12.0/build_dir/vowpal_wabbit/vowpalwabbit/global_data.h:34\u001b[m\u001b[K,\n",
      "                 from \u001b[01m\u001b[K/home/ubuntu/flatbuffers-1.12.0/build_dir/vowpal_wabbit/vowpalwabbit/vw.h:29\u001b[m\u001b[K,\n",
      "                 from \u001b[01m\u001b[K/home/ubuntu/flatbuffers-1.12.0/build_dir/vowpal_wabbit/vowpalwabbit/search.cc:8\u001b[m\u001b[K:\n",
      "/home/ubuntu/flatbuffers-1.12.0/build_dir/vowpal_wabbit/vowpalwabbit/v_array.h: In instantiation of ‘\u001b[01m\u001b[Kvoid v_array<T>::resize(size_t) [with T = Search::action_repr; size_t = long unsigned int]\u001b[m\u001b[K’:\n",
      "\u001b[01m\u001b[K/home/ubuntu/flatbuffers-1.12.0/build_dir/vowpal_wabbit/vowpalwabbit/v_array.h:91:7:\u001b[m\u001b[K   required from ‘\u001b[01m\u001b[Kvoid v_array<T>::clear() [with T = Search::action_repr]\u001b[m\u001b[K’\n",
      "\u001b[01m\u001b[K/home/ubuntu/flatbuffers-1.12.0/build_dir/vowpal_wabbit/vowpalwabbit/search.cc:711:29:\u001b[m\u001b[K   required from here\n",
      "\u001b[01m\u001b[K/home/ubuntu/flatbuffers-1.12.0/build_dir/vowpal_wabbit/vowpalwabbit/v_array.h:81:66:\u001b[m\u001b[K \u001b[01;35m\u001b[Kwarning: \u001b[m\u001b[K‘\u001b[01m\u001b[Kvoid* memset(void*, int, size_t)\u001b[m\u001b[K’ clearing an object of non-trivial type ‘\u001b[01m\u001b[Kstruct Search::action_repr\u001b[m\u001b[K’; use assignment instead [\u001b[01;35m\u001b[K-Wclass-memaccess\u001b[m\u001b[K]\n",
      "   81 |       if (old_len < length && _begin + old_len != nullptr) \u001b[01;35m\u001b[Kmemset(_begin + old_len, 0, (length - old_len) * sizeof(T))\u001b[m\u001b[K;\n",
      "      |                                                            \u001b[01;35m\u001b[K~~~~~~^~~~~~~~~~~~~~~~~~~~~~~~~~~~~~~~~~~~~~~~~~~~~~~~~~~~~\u001b[m\u001b[K\n",
      "\u001b[01m\u001b[K/home/ubuntu/flatbuffers-1.12.0/build_dir/vowpal_wabbit/vowpalwabbit/search.cc:105:8:\u001b[m\u001b[K \u001b[01;36m\u001b[Knote: \u001b[m\u001b[K‘\u001b[01m\u001b[Kstruct Search::action_repr\u001b[m\u001b[K’ declared here\n",
      "  105 | struct \u001b[01;36m\u001b[Kaction_repr\u001b[m\u001b[K\n",
      "      |        \u001b[01;36m\u001b[K^~~~~~~~~~~\u001b[m\u001b[K\n",
      "In file included from \u001b[01m\u001b[K/home/ubuntu/flatbuffers-1.12.0/build_dir/vowpal_wabbit/vowpalwabbit/global_data.h:34\u001b[m\u001b[K,\n",
      "                 from \u001b[01m\u001b[K/home/ubuntu/flatbuffers-1.12.0/build_dir/vowpal_wabbit/vowpalwabbit/vw.h:29\u001b[m\u001b[K,\n",
      "                 from \u001b[01m\u001b[K/home/ubuntu/flatbuffers-1.12.0/build_dir/vowpal_wabbit/vowpalwabbit/search.cc:8\u001b[m\u001b[K:\n",
      "/home/ubuntu/flatbuffers-1.12.0/build_dir/vowpal_wabbit/vowpalwabbit/v_array.h: In instantiation of ‘\u001b[01m\u001b[Kvoid v_array<T>::resize(size_t) [with T = Search::action_cache; size_t = long unsigned int]\u001b[m\u001b[K’:\n",
      "\u001b[01m\u001b[K/home/ubuntu/flatbuffers-1.12.0/build_dir/vowpal_wabbit/vowpalwabbit/v_array.h:108:28:\u001b[m\u001b[K   required from ‘\u001b[01m\u001b[Kvoid v_array<T>::push_back(const T&) [with T = Search::action_cache]\u001b[m\u001b[K’\n",
      "\u001b[01m\u001b[K/home/ubuntu/flatbuffers-1.12.0/build_dir/vowpal_wabbit/vowpalwabbit/search.cc:1132:64:\u001b[m\u001b[K   required from here\n",
      "\u001b[01m\u001b[K/home/ubuntu/flatbuffers-1.12.0/build_dir/vowpal_wabbit/vowpalwabbit/v_array.h:81:66:\u001b[m\u001b[K \u001b[01;35m\u001b[Kwarning: \u001b[m\u001b[K‘\u001b[01m\u001b[Kvoid* memset(void*, int, size_t)\u001b[m\u001b[K’ clearing an object of non-trivial type ‘\u001b[01m\u001b[Kstruct Search::action_cache\u001b[m\u001b[K’; use assignment instead [\u001b[01;35m\u001b[K-Wclass-memaccess\u001b[m\u001b[K]\n",
      "   81 |       if (old_len < length && _begin + old_len != nullptr) \u001b[01;35m\u001b[Kmemset(_begin + old_len, 0, (length - old_len) * sizeof(T))\u001b[m\u001b[K;\n",
      "      |                                                            \u001b[01;35m\u001b[K~~~~~~^~~~~~~~~~~~~~~~~~~~~~~~~~~~~~~~~~~~~~~~~~~~~~~~~~~~~\u001b[m\u001b[K\n",
      "\u001b[01m\u001b[K/home/ubuntu/flatbuffers-1.12.0/build_dir/vowpal_wabbit/vowpalwabbit/search.cc:120:8:\u001b[m\u001b[K \u001b[01;36m\u001b[Knote: \u001b[m\u001b[K‘\u001b[01m\u001b[Kstruct Search::action_cache\u001b[m\u001b[K’ declared here\n",
      "  120 | struct \u001b[01;36m\u001b[Kaction_cache\u001b[m\u001b[K\n",
      "      |        \u001b[01;36m\u001b[K^~~~~~~~~~~~\u001b[m\u001b[K\n",
      "In file included from \u001b[01m\u001b[K/home/ubuntu/flatbuffers-1.12.0/build_dir/vowpal_wabbit/vowpalwabbit/global_data.h:34\u001b[m\u001b[K,\n",
      "                 from \u001b[01m\u001b[K/home/ubuntu/flatbuffers-1.12.0/build_dir/vowpal_wabbit/vowpalwabbit/vw.h:29\u001b[m\u001b[K,\n",
      "                 from \u001b[01m\u001b[K/home/ubuntu/flatbuffers-1.12.0/build_dir/vowpal_wabbit/vowpalwabbit/search.cc:8\u001b[m\u001b[K:\n",
      "/home/ubuntu/flatbuffers-1.12.0/build_dir/vowpal_wabbit/vowpalwabbit/v_array.h: In instantiation of ‘\u001b[01m\u001b[Kvoid v_array<T>::resize(size_t) [with T = Search::scored_action; size_t = long unsigned int]\u001b[m\u001b[K’:\n",
      "\u001b[01m\u001b[K/home/ubuntu/flatbuffers-1.12.0/build_dir/vowpal_wabbit/vowpalwabbit/v_array.h:108:28:\u001b[m\u001b[K   required from ‘\u001b[01m\u001b[Kvoid v_array<T>::push_back(const T&) [with T = Search::scored_action]\u001b[m\u001b[K’\n",
      "\u001b[01m\u001b[K/home/ubuntu/flatbuffers-1.12.0/build_dir/vowpal_wabbit/vowpalwabbit/search.cc:1879:63:\u001b[m\u001b[K   required from here\n",
      "\u001b[01m\u001b[K/home/ubuntu/flatbuffers-1.12.0/build_dir/vowpal_wabbit/vowpalwabbit/v_array.h:81:66:\u001b[m\u001b[K \u001b[01;35m\u001b[Kwarning: \u001b[m\u001b[K‘\u001b[01m\u001b[Kvoid* memset(void*, int, size_t)\u001b[m\u001b[K’ clearing an object of non-trivial type ‘\u001b[01m\u001b[Kstruct Search::scored_action\u001b[m\u001b[K’; use assignment or value-initialization instead [\u001b[01;35m\u001b[K-Wclass-memaccess\u001b[m\u001b[K]\n",
      "   81 |       if (old_len < length && _begin + old_len != nullptr) \u001b[01;35m\u001b[Kmemset(_begin + old_len, 0, (length - old_len) * sizeof(T))\u001b[m\u001b[K;\n",
      "      |                                                            \u001b[01;35m\u001b[K~~~~~~^~~~~~~~~~~~~~~~~~~~~~~~~~~~~~~~~~~~~~~~~~~~~~~~~~~~~\u001b[m\u001b[K\n",
      "\u001b[01m\u001b[K/home/ubuntu/flatbuffers-1.12.0/build_dir/vowpal_wabbit/vowpalwabbit/search.cc:90:8:\u001b[m\u001b[K \u001b[01;36m\u001b[Knote: \u001b[m\u001b[K‘\u001b[01m\u001b[Kstruct Search::scored_action\u001b[m\u001b[K’ declared here\n",
      "   90 | struct \u001b[01;36m\u001b[Kscored_action\u001b[m\u001b[K\n",
      "      |        \u001b[01;36m\u001b[K^~~~~~~~~~~~~\u001b[m\u001b[K\n",
      "[ 88%] \u001b[32mBuilding CXX object vowpalwabbit/CMakeFiles/vw.dir/shared_feature_merger.cc.o\u001b[0m\n",
      "[ 88%] \u001b[32mBuilding CXX object vowpalwabbit/CMakeFiles/vw.dir/simple_label.cc.o\u001b[0m\n",
      "[ 89%] \u001b[32mBuilding CXX object vowpalwabbit/CMakeFiles/vw.dir/slates_label.cc.o\u001b[0m\n",
      "[ 89%] \u001b[32mBuilding CXX object vowpalwabbit/CMakeFiles/vw.dir/slates.cc.o\u001b[0m\n",
      "[ 91%] \u001b[32mBuilding CXX object vowpalwabbit/CMakeFiles/vw.dir/stagewise_poly.cc.o\u001b[0m\n",
      "[ 91%] \u001b[32mBuilding CXX object vowpalwabbit/CMakeFiles/vw.dir/svrg.cc.o\u001b[0m\n",
      "[ 92%] \u001b[32mBuilding CXX object vowpalwabbit/CMakeFiles/vw.dir/tag_utils.cc.o\u001b[0m\n",
      "[ 94%] \u001b[32mBuilding CXX object vowpalwabbit/CMakeFiles/vw.dir/topk.cc.o\u001b[0m\n",
      "[ 94%] \u001b[32mBuilding CXX object vowpalwabbit/CMakeFiles/vw.dir/unique_sort.cc.o\u001b[0m\n",
      "[ 95%] \u001b[32mBuilding CXX object vowpalwabbit/CMakeFiles/vw.dir/version.cc.o\u001b[0m\n",
      "[ 95%] \u001b[32mBuilding CXX object vowpalwabbit/CMakeFiles/vw.dir/vw_exception.cc.o\u001b[0m\n",
      "[ 97%] \u001b[32mBuilding CXX object vowpalwabbit/CMakeFiles/vw.dir/vw_validate.cc.o\u001b[0m\n",
      "[ 97%] \u001b[32mBuilding CXX object vowpalwabbit/CMakeFiles/vw.dir/warm_cb.cc.o\u001b[0m\n",
      "[ 98%] \u001b[32m\u001b[1mLinking CXX static library libvw.a\u001b[0m\n",
      "make[4]: Leaving directory '/home/ubuntu/flatbuffers-1.12.0/build_dir/vowpal_wabbit/build'\n",
      "[ 98%] Built target vw\n",
      "make[4]: Entering directory '/home/ubuntu/flatbuffers-1.12.0/build_dir/vowpal_wabbit/build'\n",
      "\u001b[35m\u001b[1mScanning dependencies of target vw-bin\u001b[0m\n",
      "make[4]: Leaving directory '/home/ubuntu/flatbuffers-1.12.0/build_dir/vowpal_wabbit/build'\n",
      "make[4]: Entering directory '/home/ubuntu/flatbuffers-1.12.0/build_dir/vowpal_wabbit/build'\n",
      "[ 98%] \u001b[32mBuilding CXX object vowpalwabbit/CMakeFiles/vw-bin.dir/main.cc.o\u001b[0m\n",
      "[100%] \u001b[32m\u001b[1mLinking CXX executable vw\u001b[0m\n",
      "make[4]: Leaving directory '/home/ubuntu/flatbuffers-1.12.0/build_dir/vowpal_wabbit/build'\n",
      "[100%] Built target vw-bin\n",
      "make[3]: Leaving directory '/home/ubuntu/flatbuffers-1.12.0/build_dir/vowpal_wabbit/build'\n",
      "make[2]: Leaving directory '/home/ubuntu/flatbuffers-1.12.0/build_dir/vowpal_wabbit/build'\n",
      "make[1]: Leaving directory '/home/ubuntu/flatbuffers-1.12.0/build_dir/vowpal_wabbit/build'\n",
      "\u001b[35m\u001b[1mScanning dependencies of target active_interactor\u001b[0m\n",
      "\u001b[35m\u001b[1mScanning dependencies of target spanning_tree\u001b[0m\n",
      "[  2%] Built target vw_io\n",
      "[  2%] \u001b[32mBuilding CXX object vowpalwabbit/CMakeFiles/active_interactor.dir/active_interactor.cc.o\u001b[0m\n",
      "[  3%] \u001b[32mBuilding CXX object cluster/CMakeFiles/spanning_tree.dir/spanning_tree_main.cc.o\u001b[0m\n",
      "[  5%] Built target allreduce\n",
      "[  5%] \u001b[32mBuilding CXX object cluster/CMakeFiles/spanning_tree.dir/__/vowpalwabbit/spanning_tree.cc.o\u001b[0m\n",
      "[  6%] \u001b[32mBuilding CXX object cluster/CMakeFiles/spanning_tree.dir/__/vowpalwabbit/vw_exception.cc.o\u001b[0m\n",
      "[ 70%] Built target vw\n",
      "\u001b[35m\u001b[1mScanning dependencies of target ezexample_predict_threaded\u001b[0m\n",
      "[ 70%] \u001b[32mBuilding CXX object library/CMakeFiles/ezexample_predict_threaded.dir/ezexample_predict_threaded.cc.o\u001b[0m\n",
      "[ 71%] \u001b[32m\u001b[1mLinking CXX executable active_interactor\u001b[0m\n",
      "[ 71%] Built target active_interactor\n",
      "\u001b[35m\u001b[1mScanning dependencies of target ezexample_train\u001b[0m\n",
      "[ 71%] \u001b[32mBuilding CXX object library/CMakeFiles/ezexample_train.dir/ezexample_train.cc.o\u001b[0m\n",
      "\u001b[35m\u001b[1mScanning dependencies of target test_search\u001b[0m\n",
      "[ 72%] \u001b[32mBuilding CXX object library/CMakeFiles/test_search.dir/test_search.cc.o\u001b[0m\n",
      "[ 72%] \u001b[32m\u001b[1mLinking CXX executable spanning_tree\u001b[0m\n",
      "[ 72%] Built target spanning_tree\n",
      "\u001b[35m\u001b[1mScanning dependencies of target gd_mf_weights\u001b[0m\n",
      "[ 72%] \u001b[32mBuilding CXX object library/CMakeFiles/gd_mf_weights.dir/gd_mf_weights.cc.o\u001b[0m\n",
      "[ 73%] \u001b[32m\u001b[1mLinking CXX executable ezexample_train\u001b[0m\n",
      "[ 73%] \u001b[32m\u001b[1mLinking CXX executable test_search\u001b[0m\n",
      "[ 74%] \u001b[32m\u001b[1mLinking CXX executable ezexample_predict_threaded\u001b[0m\n",
      "[ 74%] Built target ezexample_train\n",
      "\u001b[35m\u001b[1mScanning dependencies of target library_example\u001b[0m\n",
      "[ 74%] \u001b[32mBuilding CXX object library/CMakeFiles/library_example.dir/library_example.cc.o\u001b[0m\n",
      "[ 74%] Built target test_search\n",
      "\u001b[35m\u001b[1mScanning dependencies of target search_generate\u001b[0m\n",
      "[ 75%] \u001b[32mBuilding CXX object library/CMakeFiles/search_generate.dir/search_generate.cc.o\u001b[0m\n",
      "[ 75%] Built target ezexample_predict_threaded\n",
      "\u001b[35m\u001b[1mScanning dependencies of target ezexample_predict\u001b[0m\n",
      "[ 75%] \u001b[32mBuilding CXX object library/CMakeFiles/ezexample_predict.dir/ezexample_predict.cc.o\u001b[0m\n",
      "[ 76%] \u001b[32m\u001b[1mLinking CXX executable library_example\u001b[0m\n",
      "[ 76%] Built target library_example\n",
      "\u001b[35m\u001b[1mScanning dependencies of target recommend\u001b[0m\n",
      "[ 77%] \u001b[32mBuilding CXX object library/CMakeFiles/recommend.dir/recommend.cc.o\u001b[0m\n",
      "[ 78%] \u001b[32m\u001b[1mLinking CXX executable ezexample_predict\u001b[0m\n",
      "[ 79%] \u001b[32m\u001b[1mLinking CXX executable gd_mf_weights\u001b[0m\n",
      "[ 79%] Built target ezexample_predict\n",
      "[ 80%] Built target vw-bin\n",
      "\u001b[35m\u001b[1mScanning dependencies of target vw_c_wrapper\u001b[0m\n",
      "[ 81%] \u001b[32mBuilding CXX object vowpalwabbit/CMakeFiles/vw_c_wrapper.dir/vwdll.cpp.o\u001b[0m\n",
      "[ 81%] Built target gd_mf_weights\n",
      "\u001b[35m\u001b[1mScanning dependencies of target parser_throughput\u001b[0m\n",
      "[ 82%] \u001b[32mBuilding CXX object test/tools/parser_throughput/CMakeFiles/parser_throughput.dir/main.cc.o\u001b[0m\n",
      "[ 82%] \u001b[32m\u001b[1mLinking CXX executable search_generate\u001b[0m\n",
      "[ 82%] Built target search_generate\n",
      "[ 82%] \u001b[32m\u001b[1mLinking CXX shared library libvw_c_wrapper.so\u001b[0m\n",
      "[ 82%] Built target vw_c_wrapper\n",
      "\u001b[35m\u001b[1mScanning dependencies of target vw-unit-test.out\u001b[0m\n",
      "[ 82%] \u001b[32mBuilding CXX object test/unit_test/CMakeFiles/vw-unit-test.out.dir/cats_tree_tests.cc.o\u001b[0m\n",
      "[ 83%] \u001b[32mBuilding CXX object test/unit_test/CMakeFiles/vw-unit-test.out.dir/cb_explore_adf_test.cc.o\u001b[0m\n",
      "[ 83%] \u001b[32m\u001b[1mLinking CXX executable recommend\u001b[0m\n",
      "[ 83%] \u001b[32mBuilding CXX object test/unit_test/CMakeFiles/vw-unit-test.out.dir/ccb_parser_test.cc.o\u001b[0m\n",
      "[ 83%] Built target recommend\n",
      "[ 84%] \u001b[32mBuilding CXX object test/unit_test/CMakeFiles/vw-unit-test.out.dir/ccb_test.cc.o\u001b[0m\n",
      "[ 84%] \u001b[32m\u001b[1mLinking CXX executable parser_throughput\u001b[0m\n",
      "[ 84%] \u001b[32mBuilding CXX object test/unit_test/CMakeFiles/vw-unit-test.out.dir/chain_hashing.cc.o\u001b[0m\n",
      "[ 84%] Built target parser_throughput\n",
      "[ 85%] \u001b[32mBuilding CXX object test/unit_test/CMakeFiles/vw-unit-test.out.dir/continuous_actions_parser_test.cc.o\u001b[0m\n",
      "[ 85%] \u001b[32mBuilding CXX object test/unit_test/CMakeFiles/vw-unit-test.out.dir/dsjson_parser_test.cc.o\u001b[0m\n",
      "[ 86%] \u001b[32mBuilding CXX object test/unit_test/CMakeFiles/vw-unit-test.out.dir/error_test.cc.o\u001b[0m\n",
      "[ 87%] \u001b[32mBuilding CXX object test/unit_test/CMakeFiles/vw-unit-test.out.dir/example_header_test.cc.o\u001b[0m\n",
      "[ 87%] \u001b[32mBuilding CXX object test/unit_test/CMakeFiles/vw-unit-test.out.dir/explore_test.cc.o\u001b[0m\n",
      "[ 88%] \u001b[32mBuilding CXX object test/unit_test/CMakeFiles/vw-unit-test.out.dir/guard_test.cc.o\u001b[0m\n",
      "[ 88%] \u001b[32mBuilding CXX object test/unit_test/CMakeFiles/vw-unit-test.out.dir/initialize_test.cc.o\u001b[0m\n",
      "[ 89%] \u001b[32mBuilding CXX object test/unit_test/CMakeFiles/vw-unit-test.out.dir/io_adapter_test.cc.o\u001b[0m\n",
      "[ 89%] \u001b[32mBuilding CXX object test/unit_test/CMakeFiles/vw-unit-test.out.dir/json_parser_test.cc.o\u001b[0m\n",
      "[ 90%] \u001b[32mBuilding CXX object test/unit_test/CMakeFiles/vw-unit-test.out.dir/main.cc.o\u001b[0m\n",
      "[ 90%] \u001b[32mBuilding CXX object test/unit_test/CMakeFiles/vw-unit-test.out.dir/multiclass_label_parser_test.cc.o\u001b[0m\n",
      "[ 91%] \u001b[32mBuilding CXX object test/unit_test/CMakeFiles/vw-unit-test.out.dir/object_pool_test.cc.o\u001b[0m\n",
      "[ 91%] \u001b[32mBuilding CXX object test/unit_test/CMakeFiles/vw-unit-test.out.dir/offset_tree_tests.cc.o\u001b[0m\n",
      "[ 92%] \u001b[32mBuilding CXX object test/unit_test/CMakeFiles/vw-unit-test.out.dir/options_boost_po_test.cc.o\u001b[0m\n",
      "[ 92%] \u001b[32mBuilding CXX object test/unit_test/CMakeFiles/vw-unit-test.out.dir/options_test.cc.o\u001b[0m\n",
      "[ 93%] \u001b[32mBuilding CXX object test/unit_test/CMakeFiles/vw-unit-test.out.dir/parser_test.cc.o\u001b[0m\n",
      "[ 93%] \u001b[32mBuilding CXX object test/unit_test/CMakeFiles/vw-unit-test.out.dir/power_test.cc.o\u001b[0m\n",
      "[ 94%] \u001b[32mBuilding CXX object test/unit_test/CMakeFiles/vw-unit-test.out.dir/pmf_to_pdf_test.cc.o\u001b[0m\n",
      "[ 95%] \u001b[32mBuilding CXX object test/unit_test/CMakeFiles/vw-unit-test.out.dir/prediction_test.cc.o\u001b[0m\n",
      "[ 95%] \u001b[32mBuilding CXX object test/unit_test/CMakeFiles/vw-unit-test.out.dir/random_test.cc.o\u001b[0m\n",
      "[ 96%] \u001b[32mBuilding CXX object test/unit_test/CMakeFiles/vw-unit-test.out.dir/scope_exit_test.cc.o\u001b[0m\n",
      "[ 96%] \u001b[32mBuilding CXX object test/unit_test/CMakeFiles/vw-unit-test.out.dir/slates_parser_test.cc.o\u001b[0m\n",
      "[ 97%] \u001b[32mBuilding CXX object test/unit_test/CMakeFiles/vw-unit-test.out.dir/slates_test.cc.o\u001b[0m\n",
      "[ 97%] \u001b[32mBuilding CXX object test/unit_test/CMakeFiles/vw-unit-test.out.dir/stable_unique_tests.cc.o\u001b[0m\n",
      "[ 98%] \u001b[32mBuilding CXX object test/unit_test/CMakeFiles/vw-unit-test.out.dir/tag_utils_test.cc.o\u001b[0m\n",
      "[ 98%] \u001b[32mBuilding CXX object test/unit_test/CMakeFiles/vw-unit-test.out.dir/test_common.cc.o\u001b[0m\n",
      "[ 99%] \u001b[32mBuilding CXX object test/unit_test/CMakeFiles/vw-unit-test.out.dir/tokenize_tests.cc.o\u001b[0m\n",
      "[ 99%] \u001b[32mBuilding CXX object test/unit_test/CMakeFiles/vw-unit-test.out.dir/weights_test.cc.o\u001b[0m\n",
      "[100%] \u001b[32mBuilding CXX object test/unit_test/CMakeFiles/vw-unit-test.out.dir/vwdll_test.cc.o\u001b[0m\n",
      "[100%] \u001b[32m\u001b[1mLinking CXX executable vw-unit-test.out\u001b[0m\n",
      "[100%] Built target vw-unit-test.out\n",
      "\u001b[36mInstall the project...\u001b[0m\n",
      "-- Install configuration: \"Release\"\n",
      "-- Installing: /usr/local/include/rapidjson\n",
      "-- Installing: /usr/local/include/rapidjson/stream.h\n",
      "-- Installing: /usr/local/include/rapidjson/memorystream.h\n",
      "-- Installing: /usr/local/include/rapidjson/filewritestream.h\n",
      "-- Installing: /usr/local/include/rapidjson/error\n",
      "-- Installing: /usr/local/include/rapidjson/error/error.h\n",
      "-- Installing: /usr/local/include/rapidjson/error/en.h\n",
      "-- Installing: /usr/local/include/rapidjson/istreamwrapper.h\n",
      "-- Installing: /usr/local/include/rapidjson/prettywriter.h\n",
      "-- Installing: /usr/local/include/rapidjson/internal\n",
      "-- Installing: /usr/local/include/rapidjson/internal/dtoa.h\n",
      "-- Installing: /usr/local/include/rapidjson/internal/biginteger.h\n",
      "-- Installing: /usr/local/include/rapidjson/internal/strfunc.h\n",
      "-- Installing: /usr/local/include/rapidjson/internal/ieee754.h\n",
      "-- Installing: /usr/local/include/rapidjson/internal/stack.h\n",
      "-- Installing: /usr/local/include/rapidjson/internal/itoa.h\n",
      "-- Installing: /usr/local/include/rapidjson/internal/diyfp.h\n",
      "-- Installing: /usr/local/include/rapidjson/internal/swap.h\n",
      "-- Installing: /usr/local/include/rapidjson/internal/pow10.h\n",
      "-- Installing: /usr/local/include/rapidjson/internal/meta.h\n",
      "-- Installing: /usr/local/include/rapidjson/internal/regex.h\n",
      "-- Installing: /usr/local/include/rapidjson/internal/strtod.h\n",
      "-- Installing: /usr/local/include/rapidjson/reader.h\n",
      "-- Installing: /usr/local/include/rapidjson/encodings.h\n",
      "-- Installing: /usr/local/include/rapidjson/encodedstream.h\n",
      "-- Installing: /usr/local/include/rapidjson/filereadstream.h\n",
      "-- Installing: /usr/local/include/rapidjson/rapidjson.h\n",
      "-- Installing: /usr/local/include/rapidjson/writer.h\n",
      "-- Installing: /usr/local/include/rapidjson/ostreamwrapper.h\n",
      "-- Installing: /usr/local/include/rapidjson/document.h\n",
      "-- Installing: /usr/local/include/rapidjson/allocators.h\n",
      "-- Installing: /usr/local/include/rapidjson/fwd.h\n",
      "-- Installing: /usr/local/include/rapidjson/pointer.h\n",
      "-- Installing: /usr/local/include/rapidjson/msinttypes\n",
      "-- Installing: /usr/local/include/rapidjson/msinttypes/stdint.h\n",
      "-- Installing: /usr/local/include/rapidjson/msinttypes/inttypes.h\n",
      "-- Installing: /usr/local/include/rapidjson/schema.h\n",
      "-- Installing: /usr/local/include/rapidjson/stringbuffer.h\n",
      "-- Installing: /usr/local/include/rapidjson/memorybuffer.h\n",
      "-- Installing: /usr/local/lib/pkgconfig/libvw.pc\n",
      "-- Installing: /usr/local/lib/pkgconfig/libvw_c_wrapper.pc\n",
      "-- Installing: /usr/local/lib/cmake/VowpalWabbit/VowpalWabbitTargets.cmake\n",
      "-- Installing: /usr/local/lib/cmake/VowpalWabbit/VowpalWabbitTargets-release.cmake\n",
      "-- Installing: /usr/local/lib/cmake/VowpalWabbit/VowpalWabbitConfigVersion.cmake\n",
      "-- Installing: /usr/local/lib/cmake/VowpalWabbit/VowpalWabbitConfig.cmake\n",
      "-- Installing: /usr/local/include/vowpalwabbit/explore.h\n",
      "-- Installing: /usr/local/include/vowpalwabbit/explore_internal.h\n",
      "-- Installing: /usr/local/include/vowpalwabbit/hash.h\n",
      "-- Installing: /usr/local/include/vowpalwabbit/future_compat.h\n",
      "-- Installing: /usr/local/bin/spanning_tree\n",
      "-- Installing: /usr/local/bin/active_interactor\n",
      "-- Installing: /usr/local/lib/libvw_c_wrapper.so\n",
      "-- Installing: /usr/local/lib/libvw.a\n",
      "-- Installing: /usr/local/bin/vw\n",
      "-- Installing: /usr/local/lib/liballreduce.a\n",
      "-- Installing: /usr/local/lib/libvw_io.a\n",
      "-- Installing: /usr/local/include/vowpalwabbit/accumulate.h\n",
      "-- Installing: /usr/local/include/vowpalwabbit/action_score.h\n",
      "-- Installing: /usr/local/include/vowpalwabbit/active_cover.h\n",
      "-- Installing: /usr/local/include/vowpalwabbit/active.h\n",
      "-- Installing: /usr/local/include/vowpalwabbit/allreduce.h\n",
      "-- Installing: /usr/local/include/vowpalwabbit/api_status.h\n",
      "-- Installing: /usr/local/include/vowpalwabbit/array_parameters_dense.h\n",
      "-- Installing: /usr/local/include/vowpalwabbit/array_parameters.h\n",
      "-- Installing: /usr/local/include/vowpalwabbit/audit_regressor.h\n",
      "-- Installing: /usr/local/include/vowpalwabbit/autolink.h\n",
      "-- Installing: /usr/local/include/vowpalwabbit/baseline.h\n",
      "-- Installing: /usr/local/include/vowpalwabbit/beam.h\n",
      "-- Installing: /usr/local/include/vowpalwabbit/best_constant.h\n",
      "-- Installing: /usr/local/include/vowpalwabbit/bfgs.h\n",
      "-- Installing: /usr/local/include/vowpalwabbit/binary.h\n",
      "-- Installing: /usr/local/include/vowpalwabbit/boosting.h\n",
      "-- Installing: /usr/local/include/vowpalwabbit/bs.h\n",
      "-- Installing: /usr/local/include/vowpalwabbit/cache.h\n",
      "-- Installing: /usr/local/include/vowpalwabbit/cats_pdf.h\n",
      "-- Installing: /usr/local/include/vowpalwabbit/cats_tree.h\n",
      "-- Installing: /usr/local/include/vowpalwabbit/cats.h\n",
      "-- Installing: /usr/local/include/vowpalwabbit/cb_adf.h\n",
      "-- Installing: /usr/local/include/vowpalwabbit/cb_algs.h\n",
      "-- Installing: /usr/local/include/vowpalwabbit/cb_continuous_label.h\n",
      "-- Installing: /usr/local/include/vowpalwabbit/cb_dro.h\n",
      "-- Installing: /usr/local/include/vowpalwabbit/cb_explore_adf_bag.h\n",
      "-- Installing: /usr/local/include/vowpalwabbit/cb_explore_adf_common.h\n",
      "-- Installing: /usr/local/include/vowpalwabbit/cb_explore_adf_cover.h\n",
      "-- Installing: /usr/local/include/vowpalwabbit/cb_explore_adf_first.h\n",
      "-- Installing: /usr/local/include/vowpalwabbit/cb_explore_adf_greedy.h\n",
      "-- Installing: /usr/local/include/vowpalwabbit/cb_explore_adf_regcb.h\n",
      "-- Installing: /usr/local/include/vowpalwabbit/cb_explore_adf_squarecb.h\n",
      "-- Installing: /usr/local/include/vowpalwabbit/cb_explore_adf_rnd.h\n",
      "-- Installing: /usr/local/include/vowpalwabbit/cb_explore_adf_softmax.h\n",
      "-- Installing: /usr/local/include/vowpalwabbit/cb_explore_pdf.h\n",
      "-- Installing: /usr/local/include/vowpalwabbit/cb_explore.h\n",
      "-- Installing: /usr/local/include/vowpalwabbit/cb_label_parser.h\n",
      "-- Installing: /usr/local/include/vowpalwabbit/cb.h\n",
      "-- Installing: /usr/local/include/vowpalwabbit/cbify.h\n",
      "-- Installing: /usr/local/include/vowpalwabbit/ccb_label.h\n",
      "-- Installing: /usr/local/include/vowpalwabbit/classweight.h\n",
      "-- Installing: /usr/local/include/vowpalwabbit/compat.h\n",
      "-- Installing: /usr/local/include/vowpalwabbit/conditional_contextual_bandit.h\n",
      "-- Installing: /usr/local/include/vowpalwabbit/confidence.h\n",
      "-- Installing: /usr/local/include/vowpalwabbit/config.h.in\n",
      "-- Installing: /usr/local/include/vowpalwabbit/constant.h\n",
      "-- Installing: /usr/local/include/vowpalwabbit/correctedMath.h\n",
      "-- Installing: /usr/local/include/vowpalwabbit/cost_sensitive.h\n",
      "-- Installing: /usr/local/include/vowpalwabbit/crossplat_compat.h\n",
      "-- Installing: /usr/local/include/vowpalwabbit/cs_active.h\n",
      "-- Installing: /usr/local/include/vowpalwabbit/csoaa.h\n",
      "-- Installing: /usr/local/include/vowpalwabbit/debug_print.h\n",
      "-- Installing: /usr/local/include/vowpalwabbit/decision_scores.h\n",
      "-- Installing: /usr/local/include/vowpalwabbit/distributionally_robust.h\n",
      "-- Installing: /usr/local/include/vowpalwabbit/ect.h\n",
      "-- Installing: /usr/local/include/vowpalwabbit/error_constants.h\n",
      "-- Installing: /usr/local/include/vowpalwabbit/error_data.h\n",
      "-- Installing: /usr/local/include/vowpalwabbit/error_reporting.h\n",
      "-- Installing: /usr/local/include/vowpalwabbit/errors_data.h\n",
      "-- Installing: /usr/local/include/vowpalwabbit/example_predict.h\n",
      "-- Installing: /usr/local/include/vowpalwabbit/example.h\n",
      "-- Installing: /usr/local/include/vowpalwabbit/explore_eval.h\n",
      "-- Installing: /usr/local/include/vowpalwabbit/expreplay.h\n",
      "-- Installing: /usr/local/include/vowpalwabbit/ezexample.h\n",
      "-- Installing: /usr/local/include/vowpalwabbit/feature_group.h\n",
      "-- Installing: /usr/local/include/vowpalwabbit/ftrl.h\n",
      "-- Installing: /usr/local/include/vowpalwabbit/gd_mf.h\n",
      "-- Installing: /usr/local/include/vowpalwabbit/gd_predict.h\n",
      "-- Installing: /usr/local/include/vowpalwabbit/gd.h\n",
      "-- Installing: /usr/local/include/vowpalwabbit/gen_cs_example.h\n",
      "-- Installing: /usr/local/include/vowpalwabbit/get_pmf.h\n",
      "-- Installing: /usr/local/include/vowpalwabbit/global_data.h\n",
      "-- Installing: /usr/local/include/vowpalwabbit/guard.h\n",
      "-- Installing: /usr/local/include/vowpalwabbit/hashstring.h\n",
      "-- Installing: /usr/local/include/vowpalwabbit/interact.h\n",
      "-- Installing: /usr/local/include/vowpalwabbit/interactions_predict.h\n",
      "-- Installing: /usr/local/include/vowpalwabbit/interactions.h\n",
      "-- Installing: /usr/local/include/vowpalwabbit/io_buf.h\n",
      "-- Installing: /usr/local/include/vowpalwabbit/kernel_svm.h\n",
      "-- Installing: /usr/local/include/vowpalwabbit/label_dictionary.h\n",
      "-- Installing: /usr/local/include/vowpalwabbit/label_parser.h\n",
      "-- Installing: /usr/local/include/vowpalwabbit/lda_core.h\n",
      "-- Installing: /usr/local/include/vowpalwabbit/learner.h\n",
      "-- Installing: /usr/local/include/vowpalwabbit/log_multi.h\n",
      "-- Installing: /usr/local/include/vowpalwabbit/loss_functions.h\n",
      "-- Installing: /usr/local/include/vowpalwabbit/lrq.h\n",
      "-- Installing: /usr/local/include/vowpalwabbit/lrqfa.h\n",
      "-- Installing: /usr/local/include/vowpalwabbit/marginal.h\n",
      "-- Installing: /usr/local/include/vowpalwabbit/memory_tree.h\n",
      "-- Installing: /usr/local/include/vowpalwabbit/memory.h\n",
      "-- Installing: /usr/local/include/vowpalwabbit/mf.h\n",
      "-- Installing: /usr/local/include/vowpalwabbit/multiclass.h\n",
      "-- Installing: /usr/local/include/vowpalwabbit/multilabel_oaa.h\n",
      "-- Installing: /usr/local/include/vowpalwabbit/multilabel.h\n",
      "-- Installing: /usr/local/include/vowpalwabbit/mwt.h\n",
      "-- Installing: /usr/local/include/vowpalwabbit/named_labels.h\n",
      "-- Installing: /usr/local/include/vowpalwabbit/network.h\n",
      "-- Installing: /usr/local/include/vowpalwabbit/kskip_ngram_transformer.h\n",
      "-- Installing: /usr/local/include/vowpalwabbit/nn.h\n",
      "-- Installing: /usr/local/include/vowpalwabbit/no_label.h\n",
      "-- Installing: /usr/local/include/vowpalwabbit/noop.h\n",
      "-- Installing: /usr/local/include/vowpalwabbit/oaa.h\n",
      "-- Installing: /usr/local/include/vowpalwabbit/object_pool.h\n",
      "-- Installing: /usr/local/include/vowpalwabbit/offset_tree.h\n",
      "-- Installing: /usr/local/include/vowpalwabbit/OjaNewton.h\n",
      "-- Installing: /usr/local/include/vowpalwabbit/options_boost_po.h\n",
      "-- Installing: /usr/local/include/vowpalwabbit/options_serializer_boost_po.h\n",
      "-- Installing: /usr/local/include/vowpalwabbit/options_types.h\n",
      "-- Installing: /usr/local/include/vowpalwabbit/options.h\n",
      "-- Installing: /usr/local/include/vowpalwabbit/parse_args.h\n",
      "-- Installing: /usr/local/include/vowpalwabbit/parse_dispatch_loop.h\n",
      "-- Installing: /usr/local/include/vowpalwabbit/parse_example_json.h\n",
      "-- Installing: /usr/local/include/vowpalwabbit/parse_example.h\n",
      "-- Installing: /usr/local/include/vowpalwabbit/parse_primitives.h\n",
      "-- Installing: /usr/local/include/vowpalwabbit/parse_regressor.h\n",
      "-- Installing: /usr/local/include/vowpalwabbit/parse_slates_example_json.h\n",
      "-- Installing: /usr/local/include/vowpalwabbit/parser.h\n",
      "-- Installing: /usr/local/include/vowpalwabbit/pmf_to_pdf.h\n",
      "-- Installing: /usr/local/include/vowpalwabbit/plt.h\n",
      "-- Installing: /usr/local/include/vowpalwabbit/print.h\n",
      "-- Installing: /usr/local/include/vowpalwabbit/prob_dist_cont.h\n",
      "-- Installing: /usr/local/include/vowpalwabbit/queue.h\n",
      "-- Installing: /usr/local/include/vowpalwabbit/rand48.h\n",
      "-- Installing: /usr/local/include/vowpalwabbit/recall_tree.h\n",
      "-- Installing: /usr/local/include/vowpalwabbit/reductions.h\n",
      "-- Installing: /usr/local/include/vowpalwabbit/sample_pdf.h\n",
      "-- Installing: /usr/local/include/vowpalwabbit/scope_exit.h\n",
      "-- Installing: /usr/local/include/vowpalwabbit/scorer.h\n",
      "-- Installing: /usr/local/include/vowpalwabbit/search_dep_parser.h\n",
      "-- Installing: /usr/local/include/vowpalwabbit/search_entityrelationtask.h\n",
      "-- Installing: /usr/local/include/vowpalwabbit/search_graph.h\n",
      "-- Installing: /usr/local/include/vowpalwabbit/search_hooktask.h\n",
      "-- Installing: /usr/local/include/vowpalwabbit/search_meta.h\n",
      "-- Installing: /usr/local/include/vowpalwabbit/search_multiclasstask.h\n",
      "-- Installing: /usr/local/include/vowpalwabbit/search_sequencetask.h\n",
      "-- Installing: /usr/local/include/vowpalwabbit/search.h\n",
      "-- Installing: /usr/local/include/vowpalwabbit/sender.h\n",
      "-- Installing: /usr/local/include/vowpalwabbit/shared_feature_merger.h\n",
      "-- Installing: /usr/local/include/vowpalwabbit/simple_label.h\n",
      "-- Installing: /usr/local/include/vowpalwabbit/slates_label.h\n",
      "-- Installing: /usr/local/include/vowpalwabbit/slates.h\n",
      "-- Installing: /usr/local/include/vowpalwabbit/spanning_tree.h\n",
      "-- Installing: /usr/local/include/vowpalwabbit/stable_unique.h\n",
      "-- Installing: /usr/local/include/vowpalwabbit/stagewise_poly.h\n",
      "-- Installing: /usr/local/include/vowpalwabbit/svrg.h\n",
      "-- Installing: /usr/local/include/vowpalwabbit/tag_utils.h\n",
      "-- Installing: /usr/local/include/vowpalwabbit/topk.h\n",
      "-- Installing: /usr/local/include/vowpalwabbit/unique_sort.h\n",
      "-- Installing: /usr/local/include/vowpalwabbit/v_array.h\n",
      "-- Installing: /usr/local/include/vowpalwabbit/version.h\n",
      "-- Installing: /usr/local/include/vowpalwabbit/vw_allreduce.h\n",
      "-- Installing: /usr/local/include/vowpalwabbit/vw_exception.h\n",
      "-- Installing: /usr/local/include/vowpalwabbit/vw_math.h\n",
      "-- Installing: /usr/local/include/vowpalwabbit/vw_string_view.h\n",
      "-- Installing: /usr/local/include/vowpalwabbit/vw_validate.h\n",
      "-- Installing: /usr/local/include/vowpalwabbit/vw_versions.h\n",
      "-- Installing: /usr/local/include/vowpalwabbit/vw.h\n",
      "-- Installing: /usr/local/include/vowpalwabbit/vwdll.h\n",
      "-- Installing: /usr/local/include/vowpalwabbit/vwvis.h\n",
      "-- Installing: /usr/local/include/vowpalwabbit/warm_cb.h\n",
      "-- Installing: /usr/local/include/vowpalwabbit/config.h\n"
     ]
    }
   ],
   "source": [
    "! bash install_vw.sh"
   ]
  },
  {
   "cell_type": "code",
   "execution_count": 1,
   "metadata": {},
   "outputs": [
    {
     "name": "stdout",
     "output_type": "stream",
     "text": [
      "/usr/local/bin/vw\r\n"
     ]
    }
   ],
   "source": [
    "! which vw"
   ]
  },
  {
   "cell_type": "code",
   "execution_count": 2,
   "metadata": {
    "cell_status": {
     "execute_time": {
      "duration": 186.580078125,
      "end_time": 1613981874641.176
     }
    }
   },
   "outputs": [
    {
     "name": "stdout",
     "output_type": "stream",
     "text": [
      "/usr/local/bin/spanning_tree\r\n"
     ]
    }
   ],
   "source": [
    "! which spanning_tree"
   ]
  },
  {
   "cell_type": "code",
   "execution_count": null,
   "metadata": {},
   "outputs": [],
   "source": []
  },
  {
   "cell_type": "code",
   "execution_count": 5,
   "metadata": {
    "cell_status": {
     "execute_time": {
      "duration": 3100.781982421875,
      "end_time": 1613982023114.511
     }
    },
    "collapsed": true
   },
   "outputs": [
    {
     "name": "stdout",
     "output_type": "stream",
     "text": [
      "--2025-02-24 15:08:40--  https://archive.ics.uci.edu/ml/machine-learning-databases/00462/drugsCom_raw.zip\n",
      "Resolving archive.ics.uci.edu (archive.ics.uci.edu)... 128.195.10.252\n",
      "Connecting to archive.ics.uci.edu (archive.ics.uci.edu)|128.195.10.252|:443... connected.\n",
      "HTTP request sent, awaiting response... 200 OK\n",
      "Length: unspecified\n",
      "Saving to: ‘drugsCom_raw.zip’\n",
      "\n",
      "drugsCom_raw.zip        [         <=>        ]  41.00M  1.46MB/s    in 31s     \n",
      "\n",
      "2025-02-24 15:09:12 (1.33 MB/s) - ‘drugsCom_raw.zip’ saved [42989872]\n",
      "\n",
      "Archive:  drugsCom_raw.zip\n",
      "  inflating: drugsComTest_raw.tsv    \n",
      "  inflating: drugsComTrain_raw.tsv   \n"
     ]
    }
   ],
   "source": [
    "! wget https://archive.ics.uci.edu/ml/machine-learning-databases/00462/drugsCom_raw.zip\n",
    "! unzip drugsCom_raw.zip"
   ]
  },
  {
   "cell_type": "code",
   "execution_count": 3,
   "metadata": {},
   "outputs": [
    {
     "name": "stdout",
     "output_type": "stream",
     "text": [
      "Found 4 items\n",
      "drwxr-xr-x   - ubuntu hadoop          0 2025-02-15 05:32 /user/airbnb\n",
      "drwxr-xr-x   - ubuntu hadoop          0 2025-02-24 15:12 /user/drugs\n",
      "drwxr-xr-x   - hive   hadoop          0 2025-02-10 14:26 /user/hive\n",
      "drwxr-xr-x   - ubuntu hadoop          0 2025-02-10 14:34 /user/ubuntu\n"
     ]
    }
   ],
   "source": [
    "! hdfs dfs -ls /user"
   ]
  },
  {
   "cell_type": "code",
   "execution_count": 4,
   "metadata": {
    "cell_status": {
     "execute_time": {
      "duration": 5219.3681640625,
      "end_time": 1613982512264.579
     }
    }
   },
   "outputs": [
    {
     "name": "stdout",
     "output_type": "stream",
     "text": [
      "Deleted /user/drugs/data\r\n"
     ]
    }
   ],
   "source": [
    "! hdfs dfs -rm -r /user/drugs/data || true\n",
    "! hdfs dfs -mkdir -p /user/drugs/data"
   ]
  },
  {
   "cell_type": "code",
   "execution_count": 7,
   "metadata": {},
   "outputs": [],
   "source": [
    "! hdfs dfs -ls /user/drugs/data"
   ]
  },
  {
   "cell_type": "markdown",
   "metadata": {},
   "source": [
    "Выгрузим датасет с препаратами."
   ]
  },
  {
   "cell_type": "code",
   "execution_count": 8,
   "metadata": {
    "cell_status": {
     "execute_time": {
      "duration": 3977.365966796875,
      "end_time": 1613982557665.565
     }
    }
   },
   "outputs": [],
   "source": [
    "%%bash\n",
    "\n",
    "cat drugsComTrain_raw.tsv <(tail -n +2 drugsComTest_raw.tsv) | hdfs dfs -put - /user/drugs/data/drugs.tsv"
   ]
  },
  {
   "cell_type": "code",
   "execution_count": 9,
   "metadata": {
    "cell_status": {
     "execute_time": {
      "duration": 2452.219970703125,
      "end_time": 1613982582184.549
     }
    }
   },
   "outputs": [
    {
     "name": "stdout",
     "output_type": "stream",
     "text": [
      "Found 1 items\r\n",
      "-rw-r--r--   1 ubuntu hadoop    107.2 M 2025-02-24 16:51 /user/drugs/data/drugs.tsv\r\n"
     ]
    }
   ],
   "source": [
    "! hdfs dfs -ls  -h /user/drugs/data"
   ]
  },
  {
   "cell_type": "code",
   "execution_count": null,
   "metadata": {
    "cell_status": {
     "execute_time": {
      "duration": 38.340087890625,
      "end_time": 1613982201031.531
     }
    }
   },
   "outputs": [],
   "source": []
  },
  {
   "cell_type": "code",
   "execution_count": 10,
   "metadata": {},
   "outputs": [],
   "source": [
    "import findspark\n",
    "findspark.init()"
   ]
  },
  {
   "cell_type": "code",
   "execution_count": 11,
   "metadata": {},
   "outputs": [],
   "source": [
    "import pyspark\n",
    "sc = pyspark.SparkContext(appName=\"lsml-app-1\")"
   ]
  },
  {
   "cell_type": "code",
   "execution_count": 12,
   "metadata": {},
   "outputs": [],
   "source": [
    "from pyspark.sql import SparkSession, Row\n",
    "se = SparkSession(sc)"
   ]
  },
  {
   "cell_type": "code",
   "execution_count": 13,
   "metadata": {
    "cell_status": {
     "execute_time": {
      "duration": 33.364990234375,
      "end_time": 1613986893297.585
     }
    }
   },
   "outputs": [],
   "source": [
    "from pyspark.sql import functions as F\n",
    "from datetime import datetime\n",
    "import re"
   ]
  },
  {
   "cell_type": "code",
   "execution_count": 14,
   "metadata": {
    "cell_status": {
     "execute_time": {
      "duration": 17387.600830078125,
      "end_time": 1613984918317.608
     }
    }
   },
   "outputs": [],
   "source": [
    "data = se.read.option(\"delimiter\", \"\\t\").csv('/user/drugs/data/*', header=True, inferSchema=True)"
   ]
  },
  {
   "cell_type": "code",
   "execution_count": 15,
   "metadata": {
    "cell_status": {
     "execute_time": {
      "duration": 762.689208984375,
      "end_time": 1613984919090.165
     }
    }
   },
   "outputs": [
    {
     "data": {
      "text/html": [
       "<div>\n",
       "<style scoped>\n",
       "    .dataframe tbody tr th:only-of-type {\n",
       "        vertical-align: middle;\n",
       "    }\n",
       "\n",
       "    .dataframe tbody tr th {\n",
       "        vertical-align: top;\n",
       "    }\n",
       "\n",
       "    .dataframe thead th {\n",
       "        text-align: right;\n",
       "    }\n",
       "</style>\n",
       "<table border=\"1\" class=\"dataframe\">\n",
       "  <thead>\n",
       "    <tr style=\"text-align: right;\">\n",
       "      <th></th>\n",
       "      <th>_c0</th>\n",
       "      <th>drugName</th>\n",
       "      <th>condition</th>\n",
       "      <th>review</th>\n",
       "      <th>rating</th>\n",
       "      <th>date</th>\n",
       "      <th>usefulCount</th>\n",
       "    </tr>\n",
       "  </thead>\n",
       "  <tbody>\n",
       "    <tr>\n",
       "      <th>0</th>\n",
       "      <td>206461</td>\n",
       "      <td>Valsartan</td>\n",
       "      <td>Left Ventricular Dysfunction</td>\n",
       "      <td>\"\"\"It has no side effect, I take it in combina...</td>\n",
       "      <td>9.0</td>\n",
       "      <td>May 20, 2012</td>\n",
       "      <td>27.0</td>\n",
       "    </tr>\n",
       "    <tr>\n",
       "      <th>1</th>\n",
       "      <td>95260</td>\n",
       "      <td>Guanfacine</td>\n",
       "      <td>ADHD</td>\n",
       "      <td>\"\"\"My son is halfway through his fourth week o...</td>\n",
       "      <td>None</td>\n",
       "      <td>None</td>\n",
       "      <td>NaN</td>\n",
       "    </tr>\n",
       "    <tr>\n",
       "      <th>2</th>\n",
       "      <td>We have tried many different medications and s...</td>\n",
       "      <td>8.0</td>\n",
       "      <td>April 27, 2010</td>\n",
       "      <td>192</td>\n",
       "      <td>None</td>\n",
       "      <td>None</td>\n",
       "      <td>NaN</td>\n",
       "    </tr>\n",
       "    <tr>\n",
       "      <th>3</th>\n",
       "      <td>92703</td>\n",
       "      <td>Lybrel</td>\n",
       "      <td>Birth Control</td>\n",
       "      <td>\"\"\"I used to take another oral contraceptive, ...</td>\n",
       "      <td>None</td>\n",
       "      <td>None</td>\n",
       "      <td>NaN</td>\n",
       "    </tr>\n",
       "    <tr>\n",
       "      <th>4</th>\n",
       "      <td>The positive side is that I didn&amp;#039;t have a...</td>\n",
       "      <td>5.0</td>\n",
       "      <td>December 14, 2009</td>\n",
       "      <td>17</td>\n",
       "      <td>None</td>\n",
       "      <td>None</td>\n",
       "      <td>NaN</td>\n",
       "    </tr>\n",
       "    <tr>\n",
       "      <th>5</th>\n",
       "      <td>138000</td>\n",
       "      <td>Ortho Evra</td>\n",
       "      <td>Birth Control</td>\n",
       "      <td>\"\"\"This is my first time using any form of bir...</td>\n",
       "      <td>8.0</td>\n",
       "      <td>November 3, 2015</td>\n",
       "      <td>10.0</td>\n",
       "    </tr>\n",
       "    <tr>\n",
       "      <th>6</th>\n",
       "      <td>35696</td>\n",
       "      <td>Buprenorphine / naloxone</td>\n",
       "      <td>Opiate Dependence</td>\n",
       "      <td>\"\"\"Suboxone has completely turned my life arou...</td>\n",
       "      <td>9.0</td>\n",
       "      <td>November 27, 2016</td>\n",
       "      <td>37.0</td>\n",
       "    </tr>\n",
       "    <tr>\n",
       "      <th>7</th>\n",
       "      <td>155963</td>\n",
       "      <td>Cialis</td>\n",
       "      <td>Benign Prostatic Hyperplasia</td>\n",
       "      <td>\"\"\"2nd day on 5mg started to work with rock ha...</td>\n",
       "      <td>2.0</td>\n",
       "      <td>November 28, 2015</td>\n",
       "      <td>43.0</td>\n",
       "    </tr>\n",
       "    <tr>\n",
       "      <th>8</th>\n",
       "      <td>165907</td>\n",
       "      <td>Levonorgestrel</td>\n",
       "      <td>Emergency Contraception</td>\n",
       "      <td>\"\"\"He pulled out, but he cummed a bit in me. I...</td>\n",
       "      <td>1.0</td>\n",
       "      <td>March 7, 2017</td>\n",
       "      <td>5.0</td>\n",
       "    </tr>\n",
       "    <tr>\n",
       "      <th>9</th>\n",
       "      <td>102654</td>\n",
       "      <td>Aripiprazole</td>\n",
       "      <td>Bipolar Disorde</td>\n",
       "      <td>\"\"\"Abilify changed my life. There is hope. I w...</td>\n",
       "      <td>10.0</td>\n",
       "      <td>March 14, 2015</td>\n",
       "      <td>32.0</td>\n",
       "    </tr>\n",
       "  </tbody>\n",
       "</table>\n",
       "</div>"
      ],
      "text/plain": [
       "                                                 _c0  \\\n",
       "0                                             206461   \n",
       "1                                              95260   \n",
       "2  We have tried many different medications and s...   \n",
       "3                                              92703   \n",
       "4  The positive side is that I didn&#039;t have a...   \n",
       "5                                             138000   \n",
       "6                                              35696   \n",
       "7                                             155963   \n",
       "8                                             165907   \n",
       "9                                             102654   \n",
       "\n",
       "                   drugName                     condition  \\\n",
       "0                 Valsartan  Left Ventricular Dysfunction   \n",
       "1                Guanfacine                          ADHD   \n",
       "2                       8.0                April 27, 2010   \n",
       "3                    Lybrel                 Birth Control   \n",
       "4                       5.0             December 14, 2009   \n",
       "5                Ortho Evra                 Birth Control   \n",
       "6  Buprenorphine / naloxone             Opiate Dependence   \n",
       "7                    Cialis  Benign Prostatic Hyperplasia   \n",
       "8            Levonorgestrel       Emergency Contraception   \n",
       "9              Aripiprazole               Bipolar Disorde   \n",
       "\n",
       "                                              review rating  \\\n",
       "0  \"\"\"It has no side effect, I take it in combina...    9.0   \n",
       "1  \"\"\"My son is halfway through his fourth week o...   None   \n",
       "2                                                192   None   \n",
       "3  \"\"\"I used to take another oral contraceptive, ...   None   \n",
       "4                                                 17   None   \n",
       "5  \"\"\"This is my first time using any form of bir...    8.0   \n",
       "6  \"\"\"Suboxone has completely turned my life arou...    9.0   \n",
       "7  \"\"\"2nd day on 5mg started to work with rock ha...    2.0   \n",
       "8  \"\"\"He pulled out, but he cummed a bit in me. I...    1.0   \n",
       "9  \"\"\"Abilify changed my life. There is hope. I w...   10.0   \n",
       "\n",
       "                date  usefulCount  \n",
       "0       May 20, 2012         27.0  \n",
       "1               None          NaN  \n",
       "2               None          NaN  \n",
       "3               None          NaN  \n",
       "4               None          NaN  \n",
       "5   November 3, 2015         10.0  \n",
       "6  November 27, 2016         37.0  \n",
       "7  November 28, 2015         43.0  \n",
       "8      March 7, 2017          5.0  \n",
       "9     March 14, 2015         32.0  "
      ]
     },
     "execution_count": 15,
     "metadata": {},
     "output_type": "execute_result"
    }
   ],
   "source": [
    "data.limit(10).toPandas()"
   ]
  },
  {
   "cell_type": "markdown",
   "metadata": {},
   "source": [
    "Мы будем запускать 2 воркера. Поэтмоу разделим весь датасет на 3 части - 2 равные для воркером и 1 маленькую часть для теста."
   ]
  },
  {
   "cell_type": "code",
   "execution_count": 16,
   "metadata": {
    "cell_status": {
     "execute_time": {
      "duration": 244.2529296875,
      "end_time": 1613986336547.433
     }
    }
   },
   "outputs": [],
   "source": [
    "part1, part2, test = (\n",
    "    data\n",
    "    .na.drop('any')\n",
    "    .randomSplit([0.45, 0.45, 0.1], 422)\n",
    ")"
   ]
  },
  {
   "cell_type": "markdown",
   "metadata": {},
   "source": [
    "Соберем датасет на спарке"
   ]
  },
  {
   "cell_type": "code",
   "execution_count": 17,
   "metadata": {
    "cell_status": {
     "execute_time": {
      "duration": 31.01318359375,
      "end_time": 1613986336688.383
     }
    }
   },
   "outputs": [],
   "source": [
    "def convert_to_vw(data):\n",
    "    target = data['usefulCount']\n",
    "    \n",
    "    drug_name = data['drugName'].lower().replace(' ', '_')\n",
    "    condition = data['condition'].lower().replace(' ', '_')\n",
    "    \n",
    "    raw_text = data['review'].lower()\n",
    "    word_pattern = re.compile(r\"[a-zA-Z0-9_]+\")\n",
    "    words = [match.group(0) for match in re.finditer(word_pattern, raw_text)]\n",
    "    review = ' '.join(words)\n",
    "    \n",
    "    rating = data['rating']\n",
    "    \n",
    "    weekday = datetime.strptime(data['date'], '%B %d, %Y').weekday()\n",
    "    \n",
    "    template = \"{target} |d {drug_name} |c {condition} |r {review} |w {weekday} |s rating:{rating}\"\n",
    "    return template.format(\n",
    "        target=target,\n",
    "        drug_name=drug_name,\n",
    "        condition=condition,\n",
    "        review=review,\n",
    "        weekday=weekday,\n",
    "        rating=rating\n",
    "    )"
   ]
  },
  {
   "cell_type": "code",
   "execution_count": 18,
   "metadata": {
    "cell_status": {
     "execute_time": {
      "duration": 3050.494873046875,
      "end_time": 1613986378939.938
     }
    }
   },
   "outputs": [
    {
     "name": "stdout",
     "output_type": "stream",
     "text": [
      "Deleted /user/drugs/part1.vw\n",
      "Deleted /user/drugs/part2.vw\n",
      "Deleted /user/drugs/test.vw\n"
     ]
    }
   ],
   "source": [
    "! hdfs dfs -rm -r /user/drugs/*.vw"
   ]
  },
  {
   "cell_type": "code",
   "execution_count": 19,
   "metadata": {
    "cell_status": {
     "execute_time": {
      "duration": 9322.19091796875,
      "end_time": 1613986395951.814
     }
    }
   },
   "outputs": [],
   "source": [
    "part1.rdd.map(convert_to_vw).saveAsTextFile('/user/drugs/part1.vw')\n",
    "part2.rdd.map(convert_to_vw).saveAsTextFile('/user/drugs/part2.vw')\n",
    "test.rdd.map(convert_to_vw).saveAsTextFile('/user/drugs/test.vw')"
   ]
  },
  {
   "cell_type": "code",
   "execution_count": 20,
   "metadata": {
    "cell_status": {
     "execute_time": {
      "duration": 12384.204833984375,
      "end_time": 1613986623135.253
     }
    }
   },
   "outputs": [],
   "source": [
    "\n",
    "! hdfs dfs -cat /user/drugs/part1.vw/* > train.part1.vw\n",
    "! hdfs dfs -cat /user/drugs/part2.vw/* > train.part2.vw\n",
    "! hdfs dfs -cat /user/drugs/test.vw/* > test.vw"
   ]
  },
  {
   "cell_type": "markdown",
   "metadata": {},
   "source": [
    "Посмотрим, какие результаты мы получим, если просто запустим VW на всем файле."
   ]
  },
  {
   "cell_type": "code",
   "execution_count": 21,
   "metadata": {
    "cell_status": {
     "execute_time": {
      "duration": 256.260009765625,
      "end_time": 1613987206894.957
     }
    }
   },
   "outputs": [],
   "source": [
    "! cat train.*.vw > train.full.vw"
   ]
  },
  {
   "cell_type": "code",
   "execution_count": 22,
   "metadata": {
    "cell_status": {
     "execute_time": {
      "duration": 3399.77099609375,
      "end_time": 1613987014763.149
     }
    }
   },
   "outputs": [],
   "source": [
    "import numpy as np\n",
    "from sklearn.metrics import r2_score\n",
    "\n",
    "\n",
    "def calc_r2(predictions_filename, answers_filename):\n",
    "    def read_target_from_vw(vw_record):\n",
    "        return float(vw_record.split(' ')[0])\n",
    "    \n",
    "    with open(predictions_filename, 'r') as f:\n",
    "        y_pred = np.array([float(value) for value in f.readlines()])\n",
    "        \n",
    "    with open(answers_filename, 'r') as f:\n",
    "        y_expected = np.array([read_target_from_vw(value) for value in f.readlines()])\n",
    "        \n",
    "    return r2_score(y_expected, y_pred)"
   ]
  },
  {
   "cell_type": "code",
   "execution_count": null,
   "metadata": {},
   "outputs": [],
   "source": []
  },
  {
   "cell_type": "code",
   "execution_count": 23,
   "metadata": {
    "cell_status": {
     "execute_time": {
      "duration": 201.5390625,
      "end_time": 1613987014977.758
     }
    }
   },
   "outputs": [
    {
     "name": "stdout",
     "output_type": "stream",
     "text": [
      "Num weight bits = 18\r\n",
      "learning rate = 0.5\r\n",
      "initial_t = 0\r\n",
      "power_t = 0.5\r\n",
      "using no cache\r\n",
      "Reading datafile = \r\n",
      "num sources = 1\r\n",
      "driver:\r\n",
      "  --onethread           Disable parse thread\r\n",
      "VW options:\r\n",
      "  --ring_size arg (=256, ) size of example ring\r\n",
      "  --strict_parse           throw on malformed examples\r\n",
      "Update options:\r\n",
      "  -l [ --learning_rate ] arg Set learning rate\r\n",
      "  --power_t arg              t power value\r\n",
      "  --decay_learning_rate arg  Set Decay factor for learning_rate between passes\r\n",
      "  --initial_t arg            initial t value\r\n"
     ]
    }
   ],
   "source": [
    "! vw --help | head"
   ]
  },
  {
   "cell_type": "markdown",
   "metadata": {},
   "source": [
    "Обучаем VW на одном файле целиком"
   ]
  },
  {
   "cell_type": "code",
   "execution_count": 24,
   "metadata": {
    "cell_status": {
     "execute_time": {
      "duration": 38173.47607421875,
      "end_time": 1613989408919.288
     }
    }
   },
   "outputs": [
    {
     "name": "stdout",
     "output_type": "stream",
     "text": [
      "Generating 2-grams for r namespaces.\n",
      "creating features for following interactions: dc \n",
      "final_regressor = drugs.model.bin\n",
      "Num weight bits = 23\n",
      "learning rate = 20\n",
      "initial_t = 0\n",
      "power_t = 0.5\n",
      "decay_learning_rate = 1\n",
      "creating cache_file = train.full.vw.cache\n",
      "Reading datafile = train.full.vw\n",
      "num sources = 1\n",
      "Enabled reductions: gd, scorer\n",
      "average  since         example        example  current  current  current\n",
      "loss     last          counter         weight    label  predict features\n",
      "16.000000 16.000000            1            1.0   4.0000   0.0000      155\n",
      "8.284978 0.569956            2            2.0   1.0000   1.7550      207\n",
      "5.384596 2.484213            4            4.0   0.0000   1.6859      249\n",
      "3.444507 1.504419            8            8.0   1.0000   0.1637       45\n",
      "110.780388 218.116268           16           16.0   3.0000   7.7153      139\n",
      "75.235660 39.690933           32           32.0   2.0000   4.0961      151\n",
      "51.536644 27.837627           64           64.0   2.0000   1.9416       73\n",
      "80.020489 108.504335          128          128.0   3.0000   6.1402      195\n",
      "873.081100 1666.141711          256          256.0   9.0000  14.4029      161\n",
      "1160.002329 1446.923559          512          512.0  79.0000   0.0000      247\n",
      "999.645317 839.288304         1024         1024.0  29.0000  33.4246      117\n",
      "839.118734 678.592150         2048         2048.0   0.0000  22.5671       93\n",
      "1045.837843 1252.556953         4096         4096.0  23.0000  16.7853      305\n",
      "924.149914 802.461985         8192         8192.0   3.0000   0.0000      307\n",
      "1045.836684 1167.523454        16384        16384.0  32.0000  22.8957       79\n",
      "991.280404 936.724125        32768        32768.0  68.0000 127.5900      291\n",
      "913.958523 836.636641        65536        65536.0  18.0000  16.1984      125\n",
      "833.377287 752.796051       131072       131072.0  11.0000  17.9540      297\n",
      "767.057827 767.057827       262144       262144.0  18.0000  22.0474      105 h\n",
      "649.845052 532.632276       524288       524288.0  23.0000  22.3745      233 h\n",
      "547.113472 444.383656      1048576      1048576.0   8.0000   7.8707      207 h\n",
      "487.013218 426.912448      2097152      2097152.0  27.0000  27.9684      173 h\n",
      "\n",
      "finished run\n",
      "number of examples per pass = 153905\n",
      "passes used = 17\n",
      "weighted example sum = 2616385.000000\n",
      "weighted label sum = 74117042.000000\n",
      "average loss = 422.329315 h\n",
      "best constant = 28.328033\n",
      "total feature number = 461006153\n",
      "CPU times: user 464 ms, sys: 117 ms, total: 581 ms\n",
      "Wall time: 27.2 s\n"
     ]
    }
   ],
   "source": [
    "%%time\n",
    "\n",
    "! vw --final_regressor drugs.model.bin train.full.vw \\\n",
    "    --onethread \\\n",
    "    --learning_rate 20.0 \\\n",
    "    --bit_precision 23 \\\n",
    "    --passes 40 \\\n",
    "    --ngram r2 \\\n",
    "    --interactions dc \\\n",
    "    --cache -k"
   ]
  },
  {
   "cell_type": "code",
   "execution_count": 25,
   "metadata": {
    "cell_status": {
     "execute_time": {
      "duration": 384.7109375,
      "end_time": 1613989409310.835
     }
    },
    "scrolled": true
   },
   "outputs": [
    {
     "name": "stdout",
     "output_type": "stream",
     "text": [
      "Generating 2-grams for r namespaces.\n",
      "creating features for following interactions: dc \n",
      "only testing\n",
      "predictions = drugs.preductions.txt\n",
      "Num weight bits = 23\n",
      "learning rate = 0.5\n",
      "initial_t = 0\n",
      "power_t = 0.5\n",
      "using no cache\n",
      "Reading datafile = test.vw\n",
      "num sources = 1\n",
      "Enabled reductions: gd, scorer\n",
      "average  since         example        example  current  current  current\n",
      "loss     last          counter         weight    label  predict features\n",
      "0.447677 0.447677            1            1.0   2.0000   2.6691      317\n",
      "2.223839 4.000000            2            2.0   2.0000   0.0000      237\n",
      "4.300955 6.378071            4            4.0  10.0000  11.9381      163\n",
      "25.360267 46.419579            8            8.0   1.0000  14.3987       59\n",
      "17.799924 10.239580           16           16.0   2.0000   9.0071      285\n",
      "24.017554 30.235185           32           32.0   7.0000   3.3096      125\n",
      "158.437527 292.857500           64           64.0  10.0000  44.5076      175\n",
      "336.991100 515.544673          128          128.0  36.0000  58.1014      215\n",
      "267.254932 197.518764          256          256.0  12.0000  15.5234       95\n",
      "229.260331 191.265730          512          512.0   2.0000   0.0000      161\n",
      "417.915709 606.571087         1024         1024.0 101.0000 103.5116      175\n",
      "420.939098 423.962488         2048         2048.0   0.0000   3.6762      191\n",
      "466.031273 511.123448         4096         4096.0  65.0000  51.5437       47\n",
      "515.703584 565.375895         8192         8192.0   7.0000   0.0000      303\n",
      "474.605856 433.508129        16384        16384.0  30.0000  40.9357       33\n",
      "\n",
      "finished run\n",
      "number of examples = 18906\n",
      "weighted example sum = 18906.000000\n",
      "weighted label sum = 535907.000000\n",
      "average loss = 472.151429\n",
      "best constant = 28.345869\n",
      "total feature number = 3339722\n"
     ]
    }
   ],
   "source": [
    "! vw --testonly --initial_regressor drugs.model.bin --predictions drugs.preductions.txt test.vw"
   ]
  },
  {
   "cell_type": "code",
   "execution_count": 26,
   "metadata": {
    "cell_status": {
     "execute_time": {
      "duration": 141.4169921875,
      "end_time": 1613989409456.95
     }
    }
   },
   "outputs": [
    {
     "data": {
      "text/plain": [
       "0.6526252786437012"
      ]
     },
     "execution_count": 26,
     "metadata": {},
     "output_type": "execute_result"
    }
   ],
   "source": [
    "calc_r2('drugs.preductions.txt', 'test.vw')"
   ]
  },
  {
   "cell_type": "markdown",
   "metadata": {},
   "source": [
    "Обучили модель на **0.65** за **30** секунд."
   ]
  },
  {
   "cell_type": "code",
   "execution_count": null,
   "metadata": {},
   "outputs": [],
   "source": []
  },
  {
   "cell_type": "markdown",
   "metadata": {},
   "source": [
    "Посмотрим, что будет если мы обучим модель только на части данных"
   ]
  },
  {
   "cell_type": "code",
   "execution_count": 27,
   "metadata": {
    "cell_status": {
     "execute_time": {
      "duration": 9082.3662109375,
      "end_time": 1613988507257.777
     }
    }
   },
   "outputs": [
    {
     "name": "stdout",
     "output_type": "stream",
     "text": [
      "Generating 2-grams for r namespaces.\n",
      "creating features for following interactions: dc \n",
      "final_regressor = drugs.model.bin\n",
      "Num weight bits = 23\n",
      "learning rate = 20\n",
      "initial_t = 0\n",
      "power_t = 0.5\n",
      "decay_learning_rate = 1\n",
      "creating cache_file = train.part1.vw.cache\n",
      "Reading datafile = train.part1.vw\n",
      "num sources = 1\n",
      "Enabled reductions: gd, scorer\n",
      "average  since         example        example  current  current  current\n",
      "loss     last          counter         weight    label  predict features\n",
      "16.000000 16.000000            1            1.0   4.0000   0.0000      155\n",
      "8.284978 0.569956            2            2.0   1.0000   1.7550      207\n",
      "5.384596 2.484213            4            4.0   0.0000   1.6859      249\n",
      "3.444507 1.504419            8            8.0   1.0000   0.1637       45\n",
      "110.780388 218.116268           16           16.0   3.0000   7.7153      139\n",
      "75.235660 39.690933           32           32.0   2.0000   4.0961      151\n",
      "51.536644 27.837627           64           64.0   2.0000   1.9416       73\n",
      "80.020489 108.504335          128          128.0   3.0000   6.1402      195\n",
      "873.081100 1666.141711          256          256.0   9.0000  14.4029      161\n",
      "1160.002329 1446.923559          512          512.0  79.0000   0.0000      247\n",
      "999.645317 839.288304         1024         1024.0  29.0000  33.4246      117\n",
      "839.118734 678.592150         2048         2048.0   0.0000  22.5671       93\n",
      "1045.837843 1252.556953         4096         4096.0  23.0000  16.7853      305\n",
      "924.149914 802.461985         8192         8192.0   3.0000   0.0000      307\n",
      "1045.836684 1167.523454        16384        16384.0  32.0000  22.8957       79\n",
      "991.280404 936.724125        32768        32768.0  68.0000 127.5900      291\n",
      "913.958523 836.636641        65536        65536.0  18.0000  16.1984      125\n",
      "1037.556544 1037.556544       131072       131072.0  21.0000   0.0000      165 h\n",
      "943.885156 850.207335       262144       262144.0  64.0000  70.6678      233 h\n",
      "931.106259 918.327801       524288       524288.0   2.0000   2.5408       81 h\n",
      "\n",
      "finished run\n",
      "number of examples per pass = 76909\n",
      "passes used = 7\n",
      "weighted example sum = 538363.000000\n",
      "weighted label sum = 15235661.000000\n",
      "average loss = 887.870056 h\n",
      "best constant = 28.299978\n",
      "total feature number = 95024510\n",
      "CPU times: user 91.2 ms, sys: 43.3 ms, total: 135 ms\n",
      "Wall time: 6.09 s\n"
     ]
    }
   ],
   "source": [
    "%%time\n",
    "\n",
    "! vw --final_regressor drugs.model.bin train.part1.vw \\\n",
    "    --onethread \\\n",
    "    --learning_rate 20.0 \\\n",
    "    --bit_precision 23 \\\n",
    "    --passes 40 \\\n",
    "    --ngram r2 \\\n",
    "    --interactions dc \\\n",
    "    --cache -k"
   ]
  },
  {
   "cell_type": "code",
   "execution_count": 28,
   "metadata": {
    "cell_status": {
     "execute_time": {
      "duration": 381.276123046875,
      "end_time": 1613988507644.468
     }
    }
   },
   "outputs": [
    {
     "name": "stdout",
     "output_type": "stream",
     "text": [
      "Generating 2-grams for r namespaces.\n",
      "creating features for following interactions: dc \n",
      "only testing\n",
      "predictions = drugs.preductions.txt\n",
      "Num weight bits = 23\n",
      "learning rate = 0.5\n",
      "initial_t = 0\n",
      "power_t = 0.5\n",
      "using no cache\n",
      "Reading datafile = test.vw\n",
      "num sources = 1\n",
      "Enabled reductions: gd, scorer\n",
      "average  since         example        example  current  current  current\n",
      "loss     last          counter         weight    label  predict features\n",
      "1054.792969 1054.792969            1            1.0   2.0000  34.4776      317\n",
      "529.396484 4.000000            2            2.0   2.0000   0.0000      237\n",
      "351.250557 173.104630            4            4.0  10.0000  28.3633      163\n",
      "214.487823 77.725090            8            8.0   1.0000  16.5387       59\n",
      "140.830627 67.173430           16           16.0   2.0000  21.5064      285\n",
      "101.366076 61.901526           32           32.0   7.0000   3.7109      125\n",
      "202.674485 303.982894           64           64.0  10.0000  32.8632      175\n",
      "677.614774 1152.555063          128          128.0  36.0000  57.6672      215\n",
      "652.559612 627.504449          256          256.0  12.0000  12.7842       95\n",
      "562.562285 472.564959          512          512.0   2.0000   0.8607      161\n",
      "759.854795 957.147305         1024         1024.0 101.0000 104.1705      175\n",
      "803.473320 847.091844         2048         2048.0   0.0000  16.4304      191\n",
      "835.734412 867.995505         4096         4096.0  65.0000  34.9336       47\n",
      "938.522850 1041.311287         8192         8192.0   7.0000   0.0000      303\n",
      "842.230091 745.937331        16384        16384.0  30.0000  44.1338       33\n",
      "\n",
      "finished run\n",
      "number of examples = 18906\n",
      "weighted example sum = 18906.000000\n",
      "weighted label sum = 535907.000000\n",
      "average loss = 840.278802\n",
      "best constant = 28.345869\n",
      "total feature number = 3339722\n"
     ]
    }
   ],
   "source": [
    "! vw --testonly --initial_regressor drugs.model.bin --predictions drugs.preductions.txt test.vw"
   ]
  },
  {
   "cell_type": "code",
   "execution_count": 29,
   "metadata": {
    "cell_status": {
     "execute_time": {
      "duration": 132.541015625,
      "end_time": 1613988507782.773
     }
    }
   },
   "outputs": [
    {
     "data": {
      "text/plain": [
       "0.38178390321607647"
      ]
     },
     "execution_count": 29,
     "metadata": {},
     "output_type": "execute_result"
    }
   ],
   "source": [
    "\n",
    "calc_r2('drugs.preductions.txt', 'test.vw')"
   ]
  },
  {
   "cell_type": "markdown",
   "metadata": {},
   "source": [
    "Гораздо быстрее обучились, но потеряли в качестве. \n",
    "\n",
    "Модель на **0.38** за **6** секунд\n",
    "\n",
    "**Мораль** - семплирование не самых удачный подход, чтобы получать качество, нужно засовывать в модель вообще все данные."
   ]
  },
  {
   "cell_type": "markdown",
   "metadata": {},
   "source": [
    "Запустим в фоновом режиме `spanning_tree` и проверим что он правда работает.\n",
    "\n",
    "Далее воркеры будут подключаться к нему по tcp."
   ]
  },
  {
   "cell_type": "code",
   "execution_count": 30,
   "metadata": {
    "cell_status": {
     "execute_time": {
      "duration": 14.64794921875,
      "end_time": 1613987732434.034
     }
    }
   },
   "outputs": [],
   "source": [
    "%%bash --bg --out OUT --err ERR\n",
    "spanning_tree --nondaemon"
   ]
  },
  {
   "cell_type": "code",
   "execution_count": 32,
   "metadata": {
    "cell_status": {
     "execute_time": {
      "duration": 201.56298828125,
      "end_time": 1613988532226.307
     }
    }
   },
   "outputs": [
    {
     "name": "stdout",
     "output_type": "stream",
     "text": [
      "ubuntu     15353  0.0  0.0   6068  1616 ?        S    16:57   0:00 spanning_tree --nondaemon\r\n",
      "ubuntu     15359  0.0  0.0   9492  3236 pts/1    Ss+  16:57   0:00 /bin/bash -c  ps aux | grep spanning_tree\r\n",
      "ubuntu     15361  0.0  0.0   9032   708 pts/1    S+   16:57   0:00 grep spanning_tree\r\n"
     ]
    }
   ],
   "source": [
    "! ps aux | grep spanning_tree"
   ]
  },
  {
   "cell_type": "markdown",
   "metadata": {},
   "source": [
    "Пора запускать рабочих. Для этого используется уже известная команда vw, в которую просто добавляются специальные параметры\n",
    "\n",
    "* `--span_server` - указываем адрес, где находится менеджер (spanning_tree). В нашем случае это localhost. В реальной жизни там мог бы быть IP адрес другой машины\n",
    "* `--unique_id` - так как один spanning_tree может обрабатывать сразу много различных процессов обучения, то необходимо их как-то разграничить. Для этого используется unique_id - это число, которое должно быть одинаковым для всех ваших рабочих, чтобы их не перепутали с другими. Например ваш коллега также обучает VW но для другой задачи - он может подключить свои VW к этому же spanning_tree указав для них unique_id = 0. В таком случае вам, чтобы подключиться, нужно запускать свои рабочие например с unique_id = 5, чтобы они не смешались с рабочими вашего коллеги.\n",
    "* `--total` - число рабочих, которое вы планируете подключить в текущей сессии обучения\n",
    "* `--node` - идентификатор текущего рабочего. Нумерация начинается с нуля, поэтому если вы хотите запустить 3 рабочих, то им нужно выдать значения для --node 0, 1 и 2.\n",
    "* `-d` - данные для обработки для текущего рабочего\n",
    "Все остальные параметры обучения должны быть одинаковыми для всех рабочих.\n",
    "\n",
    "Чтобы сохранить коэффициенты полученной модели, необходимо для какого-то одного рабочего указать через `-f` или `--final_regressor` файл, куда записать результат. Точно также, как мы это делали в предыдущей лабораторной.\n",
    "\n",
    "Запустим двух рабочих. Первого запустим также в фоне, а вот второй запустим прямо в ноутбуке и будем следить за процессом обучения."
   ]
  },
  {
   "cell_type": "code",
   "execution_count": 33,
   "metadata": {
    "cell_status": {
     "execute_time": {
      "duration": 13.574951171875,
      "end_time": 1613990892362.47
     }
    }
   },
   "outputs": [],
   "source": [
    "%%bash --bg --out OUT --err ERR\n",
    "\n",
    "vw -d train.part1.vw \\\n",
    "    --span_server localhost \\\n",
    "    --total 2 \\\n",
    "    --node 0 \\\n",
    "    --unique_id 1 \\\n",
    "    --learning_rate 20.0 \\\n",
    "    --bit_precision 23 \\\n",
    "    --passes 40 \\\n",
    "    --ngram r2 \\\n",
    "    --interactions dc \\\n",
    "    --cache -k"
   ]
  },
  {
   "cell_type": "code",
   "execution_count": 34,
   "metadata": {
    "cell_status": {
     "execute_time": {
      "duration": 238.797119140625,
      "end_time": 1613990892776.134
     }
    }
   },
   "outputs": [
    {
     "name": "stdout",
     "output_type": "stream",
     "text": [
      "ubuntu     15437  0.0  0.9 222760 147668 ?       Sl   17:01   0:00 vw -d train.part1.vw --span_server localhost --total 2 --node 0 --unique_id 1 --learning_rate 20.0 --bit_precision 23 --passes 40 --ngram r2 --interactions dc --cache -k\r\n",
      "ubuntu     15439  0.0  0.0   9492  3324 pts/1    Ss+  17:01   0:00 /bin/bash -c  ps aux | grep vw\r\n",
      "ubuntu     15441  0.0  0.0   8900   724 pts/1    S+   17:01   0:00 grep vw\r\n"
     ]
    }
   ],
   "source": [
    "! ps aux | grep vw"
   ]
  },
  {
   "cell_type": "code",
   "execution_count": 35,
   "metadata": {
    "cell_status": {
     "execute_time": {
      "duration": 36841.71484375,
      "end_time": 1613990929623.276
     }
    },
    "scrolled": true
   },
   "outputs": [
    {
     "name": "stdout",
     "output_type": "stream",
     "text": [
      "Generating 2-grams for r namespaces.\n",
      "creating features for following interactions: dc \n",
      "final_regressor = drugs.model.bin\n",
      "Num weight bits = 23\n",
      "learning rate = 20\n",
      "initial_t = 0\n",
      "power_t = 0.5\n",
      "decay_learning_rate = 1\n",
      "creating cache_file = train.part2.vw.cache\n",
      "Reading datafile = train.part2.vw\n",
      "num sources = 1\n",
      "Enabled reductions: gd, scorer\n",
      "average  since         example        example  current  current  current\n",
      "loss     last          counter         weight    label  predict features\n",
      "4.000000 4.000000            1            1.0   2.0000   0.0000      207\n",
      "9.166723 14.333446            2            2.0   4.0000   0.2140       61\n",
      "42.704962 76.243202            4            4.0   0.0000   6.1127      235\n",
      "53.751544 64.798126            8            8.0  18.0000   2.1770      203\n",
      "53.708574 53.665604           16           16.0  24.0000   6.9774      155\n",
      "40.367511 27.026447           32           32.0   3.0000   6.5818      273\n",
      "45.832557 51.297603           64           64.0   2.0000   8.2354      245\n",
      "109.074974 172.317392          128          128.0  24.0000  16.8396      213\n",
      "673.354866 1237.634757          256          256.0  76.0000  14.3099      279\n",
      "1015.136478 1356.918090          512          512.0  23.0000  39.7633      201\n",
      "911.819452 808.502427         1024         1024.0  65.0000  15.4694       83\n",
      "642.289911 372.760370         2048         2048.0   6.0000   0.0000      291\n",
      "821.871644 1001.453378         4096         4096.0  25.0000  37.0418      301\n",
      "1133.981974 1446.092304         8192         8192.0   6.0000   4.2844      311\n",
      "1040.096814 946.211655        16384        16384.0  21.0000  27.3926      277\n",
      "994.843446 949.590078        32768        32768.0  33.0000  43.9167       43\n",
      "912.797242 830.751038        65536        65536.0  28.0000  21.0527       15\n",
      "connecting to 127.0.0.1 = localhost:26543\n",
      "wrote unique_id=1\n",
      "wrote total=2\n",
      "wrote node=1\n",
      "read ok=1\n",
      "read kid_count=1\n",
      "read parent_ip=255.255.255.255\n",
      "read parent_port=65535\n",
      "912.170144 912.170144       131072       131072.0  11.0000  13.0508      137 h\n",
      "799.834497 687.498849       262144       262144.0   9.0000  10.3241      145 h\n",
      "675.028637 550.227062       524288       524288.0   7.0000   6.3030      195 h\n",
      "606.715241 538.401845      1048576      1048576.0  29.0000  31.0512      301 h\n",
      "\n",
      "finished run\n",
      "number of examples per pass = 153905\n",
      "passes used = 23\n",
      "weighted example sum = 3539815.000000\n",
      "weighted label sum = 100209848.000000\n",
      "average loss = 1115.867188 h\n",
      "best constant = 28.309345\n",
      "total feature number = 623893120\n",
      "CPU times: user 607 ms, sys: 108 ms, total: 715 ms\n",
      "Wall time: 31.4 s\n"
     ]
    }
   ],
   "source": [
    "%%time\n",
    "\n",
    "! vw -d train.part2.vw \\\n",
    "    --span_server localhost \\\n",
    "    --total 2 \\\n",
    "    --node 1 \\\n",
    "    --unique_id 1 \\\n",
    "    --learning_rate 20.0 \\\n",
    "    --bit_precision 23 \\\n",
    "    --passes 40 \\\n",
    "    --ngram r2 \\\n",
    "    --interactions dc \\\n",
    "    --cache -k \\\n",
    "    -f drugs.model.bin"
   ]
  },
  {
   "cell_type": "code",
   "execution_count": 36,
   "metadata": {
    "cell_status": {
     "execute_time": {
      "duration": 385.595947265625,
      "end_time": 1613990930014.148
     }
    }
   },
   "outputs": [
    {
     "name": "stdout",
     "output_type": "stream",
     "text": [
      "Generating 2-grams for r namespaces.\n",
      "creating features for following interactions: dc \n",
      "only testing\n",
      "predictions = drugs.preductions.txt\n",
      "Num weight bits = 23\n",
      "learning rate = 0.5\n",
      "initial_t = 0\n",
      "power_t = 0.5\n",
      "using no cache\n",
      "Reading datafile = test.vw\n",
      "num sources = 1\n",
      "Enabled reductions: gd, scorer\n",
      "average  since         example        example  current  current  current\n",
      "loss     last          counter         weight    label  predict features\n",
      "2.849555 2.849555            1            1.0   2.0000   3.6881      317\n",
      "3.424778 4.000000            2            2.0   2.0000   0.0000      237\n",
      "6.356657 9.288537            4            4.0  10.0000  13.0947      163\n",
      "34.073244 61.789832            8            8.0   1.0000  16.2863       59\n",
      "32.563332 31.053420           16           16.0   2.0000  16.5415      285\n",
      "31.656058 30.748784           32           32.0   7.0000   3.2724      125\n",
      "82.980499 134.304941           64           64.0  10.0000  43.8365      175\n",
      "333.861668 584.742837          128          128.0  36.0000  33.4536      215\n",
      "251.625093 169.388518          256          256.0  12.0000  17.0271       95\n",
      "207.968365 164.311637          512          512.0   2.0000   0.0000      161\n",
      "426.491306 645.014246         1024         1024.0 101.0000 106.3550      175\n",
      "436.934750 447.378194         2048         2048.0   0.0000   6.0057      191\n",
      "479.735384 522.536018         4096         4096.0  65.0000  49.4455       47\n",
      "522.162819 564.590255         8192         8192.0   7.0000   0.0000      303\n",
      "483.762786 445.362753        16384        16384.0  30.0000  39.8361       33\n",
      "\n",
      "finished run\n",
      "number of examples = 18906\n",
      "weighted example sum = 18906.000000\n",
      "weighted label sum = 535907.000000\n",
      "average loss = 476.209406\n",
      "best constant = 28.345869\n",
      "total feature number = 3339722\n"
     ]
    }
   ],
   "source": [
    "! vw --testonly --initial_regressor drugs.model.bin --predictions drugs.preductions.txt test.vw"
   ]
  },
  {
   "cell_type": "code",
   "execution_count": 37,
   "metadata": {
    "cell_status": {
     "execute_time": {
      "duration": 134.175048828125,
      "end_time": 1613990930153.721
     }
    }
   },
   "outputs": [
    {
     "data": {
      "text/plain": [
       "0.6496397151076883"
      ]
     },
     "execution_count": 37,
     "metadata": {},
     "output_type": "execute_result"
    }
   ],
   "source": [
    "calc_r2('drugs.preductions.txt', 'test.vw')"
   ]
  },
  {
   "cell_type": "markdown",
   "metadata": {},
   "source": [
    "Качество получилось даже немного больше, чем при одиночном запуске. Ну или чуть меньше)\n",
    "\n",
    "Сильного ускорения по времени мы не увидели, потому что мы все это запускаем на одной машине. Однако если запускать эти воркеры на разных машинах и на больших объемах данных, то можно увидеть сильное ускорение процесса обучения.\n",
    "\n",
    "И основное достижение этого алгоритма - теперь мы можем размещать данные по нескольким машинам, что позволяет нам теоретически обработать датасет произвольного размера."
   ]
  },
  {
   "cell_type": "code",
   "execution_count": null,
   "metadata": {},
   "outputs": [],
   "source": []
  },
  {
   "cell_type": "markdown",
   "metadata": {},
   "source": [
    "### VW на Hadoop\n",
    "\n",
    "VW достаточно несложно запустить в виде обычной MapReduce задачи. Для этого даже есть готовый скрипт, который написан авторами инструмента. \n",
    "\n",
    "Почитать про то, как запускать этот инструмент на Hadoop можно вот здесь - https://github.com/VowpalWabbit/vowpal_wabbit/tree/master/cluster .\n",
    "\n",
    "Мы же с вами более внимательно рассмотрим более удобный интерфейс для распределенного обучения VW на кластере."
   ]
  },
  {
   "cell_type": "markdown",
   "metadata": {
    "collapsed": true
   },
   "source": [
    "### SynapseML\n",
    "\n",
    "Существует целый набор библиотек для Spark от Microsoft, который позволяет удобно и быстро запускать распределенные алгоритмы на кластере Spark. Про все возможности можно почитать на официальном GitHub - https://github.com/microsoft/SynapseML\n",
    "\n",
    "Мы с вами воспользуемся двумя инструментами оттуда - VW и LightGBM (градиентный бустинг).\n",
    "\n",
    "\n",
    "Чтобы поставить SynapseML в окружение с lyvi , достаточно просто переконфигурировать сессию спарка.\n",
    "\n",
    "**Важно** Сначала нужно сделать запуск спарк сессии без команды переименовки конфига, процесс подгрузит jar пакеты и упадет от того что не сможет найти нужные файлы. После по уже скачанным файлам мы запускаем bash скрипт с созданием копий с корректными названиями, и после уже наша сессия корректно запустится"
   ]
  },
  {
   "cell_type": "code",
   "execution_count": 3,
   "metadata": {},
   "outputs": [],
   "source": [
    "! cd /home/ubuntu/.ivy2/jars && \\\n",
    "    cp io.netty_netty-transport-native-epoll-4.1.68.Final-linux-x86_64.jar io.netty_netty-transport-native-epoll-4.1.68.Final.jar && \\\n",
    "    cp io.netty_netty-transport-native-kqueue-4.1.68.Final-osx-x86_64.jar io.netty_netty-transport-native-kqueue-4.1.68.Final.jar && \\\n",
    "    cp io.netty_netty-resolver-dns-native-macos-4.1.68.Final-osx-x86_64.jar io.netty_netty-resolver-dns-native-macos-4.1.68.Final.jar"
   ]
  },
  {
   "cell_type": "code",
   "execution_count": 1,
   "metadata": {},
   "outputs": [],
   "source": [
    "import findspark\n",
    "findspark.init()"
   ]
  },
  {
   "cell_type": "code",
   "execution_count": 2,
   "metadata": {},
   "outputs": [],
   "source": [
    "import pyspark\n",
    "se = pyspark.sql.SparkSession.builder.appName(\"MyApp2\") \\\n",
    "            .config(\"spark.jars.packages\", \"com.microsoft.azure:synapseml_2.12:0.9.5\") \\\n",
    "            .config(\"spark.dynamicAllocation.enabled\", False) \\\n",
    "            .config(\"spark.locality.wait\", 0) \\\n",
    "            .getOrCreate()\n"
   ]
  },
  {
   "cell_type": "code",
   "execution_count": 3,
   "metadata": {},
   "outputs": [
    {
     "data": {
      "text/html": [
       "\n",
       "            <div>\n",
       "                <p><b>SparkSession - in-memory</b></p>\n",
       "                \n",
       "        <div>\n",
       "            <p><b>SparkContext</b></p>\n",
       "\n",
       "            <p><a href=\"http://rc1a-dataproc-m-mppng1ecjte7mcg2.mdb.yandexcloud.net:4040\">Spark UI</a></p>\n",
       "\n",
       "            <dl>\n",
       "              <dt>Version</dt>\n",
       "                <dd><code>v3.0.3</code></dd>\n",
       "              <dt>Master</dt>\n",
       "                <dd><code>yarn</code></dd>\n",
       "              <dt>AppName</dt>\n",
       "                <dd><code>MyApp2</code></dd>\n",
       "            </dl>\n",
       "        </div>\n",
       "        \n",
       "            </div>\n",
       "        "
      ],
      "text/plain": [
       "<pyspark.sql.session.SparkSession at 0x7f70101fb700>"
      ]
     },
     "execution_count": 3,
     "metadata": {},
     "output_type": "execute_result"
    }
   ],
   "source": [
    "se"
   ]
  },
  {
   "cell_type": "code",
   "execution_count": 11,
   "metadata": {
    "cell_status": {
     "execute_time": {
      "duration": 39.697021484375,
      "end_time": 1613995620888.398
     }
    }
   },
   "outputs": [],
   "source": [
    "from pyspark.sql.functions import when, col\n",
    "from pyspark.ml import Pipeline\n",
    "from synapse.ml.vw import VowpalWabbitFeaturizer, VowpalWabbitRegressor"
   ]
  },
  {
   "cell_type": "code",
   "execution_count": 12,
   "metadata": {
    "cell_status": {
     "execute_time": {
      "duration": 2252.64794921875,
      "end_time": 1613995623288.365
     }
    }
   },
   "outputs": [],
   "source": [
    "data = se.read.option(\"delimiter\", \"\\t\").csv('/user/drugs/data/*', header=True, inferSchema=True)"
   ]
  },
  {
   "cell_type": "code",
   "execution_count": 13,
   "metadata": {},
   "outputs": [
    {
     "data": {
      "text/html": [
       "<div>\n",
       "<style scoped>\n",
       "    .dataframe tbody tr th:only-of-type {\n",
       "        vertical-align: middle;\n",
       "    }\n",
       "\n",
       "    .dataframe tbody tr th {\n",
       "        vertical-align: top;\n",
       "    }\n",
       "\n",
       "    .dataframe thead th {\n",
       "        text-align: right;\n",
       "    }\n",
       "</style>\n",
       "<table border=\"1\" class=\"dataframe\">\n",
       "  <thead>\n",
       "    <tr style=\"text-align: right;\">\n",
       "      <th></th>\n",
       "      <th>_c0</th>\n",
       "      <th>drugName</th>\n",
       "      <th>condition</th>\n",
       "      <th>review</th>\n",
       "      <th>rating</th>\n",
       "      <th>date</th>\n",
       "      <th>usefulCount</th>\n",
       "    </tr>\n",
       "  </thead>\n",
       "  <tbody>\n",
       "    <tr>\n",
       "      <th>0</th>\n",
       "      <td>206461</td>\n",
       "      <td>Valsartan</td>\n",
       "      <td>Left Ventricular Dysfunction</td>\n",
       "      <td>\"\"\"It has no side effect, I take it in combina...</td>\n",
       "      <td>9.0</td>\n",
       "      <td>May 20, 2012</td>\n",
       "      <td>27.0</td>\n",
       "    </tr>\n",
       "    <tr>\n",
       "      <th>1</th>\n",
       "      <td>95260</td>\n",
       "      <td>Guanfacine</td>\n",
       "      <td>ADHD</td>\n",
       "      <td>\"\"\"My son is halfway through his fourth week o...</td>\n",
       "      <td>None</td>\n",
       "      <td>None</td>\n",
       "      <td>NaN</td>\n",
       "    </tr>\n",
       "    <tr>\n",
       "      <th>2</th>\n",
       "      <td>We have tried many different medications and s...</td>\n",
       "      <td>8.0</td>\n",
       "      <td>April 27, 2010</td>\n",
       "      <td>192</td>\n",
       "      <td>None</td>\n",
       "      <td>None</td>\n",
       "      <td>NaN</td>\n",
       "    </tr>\n",
       "    <tr>\n",
       "      <th>3</th>\n",
       "      <td>92703</td>\n",
       "      <td>Lybrel</td>\n",
       "      <td>Birth Control</td>\n",
       "      <td>\"\"\"I used to take another oral contraceptive, ...</td>\n",
       "      <td>None</td>\n",
       "      <td>None</td>\n",
       "      <td>NaN</td>\n",
       "    </tr>\n",
       "    <tr>\n",
       "      <th>4</th>\n",
       "      <td>The positive side is that I didn&amp;#039;t have a...</td>\n",
       "      <td>5.0</td>\n",
       "      <td>December 14, 2009</td>\n",
       "      <td>17</td>\n",
       "      <td>None</td>\n",
       "      <td>None</td>\n",
       "      <td>NaN</td>\n",
       "    </tr>\n",
       "    <tr>\n",
       "      <th>5</th>\n",
       "      <td>138000</td>\n",
       "      <td>Ortho Evra</td>\n",
       "      <td>Birth Control</td>\n",
       "      <td>\"\"\"This is my first time using any form of bir...</td>\n",
       "      <td>8.0</td>\n",
       "      <td>November 3, 2015</td>\n",
       "      <td>10.0</td>\n",
       "    </tr>\n",
       "    <tr>\n",
       "      <th>6</th>\n",
       "      <td>35696</td>\n",
       "      <td>Buprenorphine / naloxone</td>\n",
       "      <td>Opiate Dependence</td>\n",
       "      <td>\"\"\"Suboxone has completely turned my life arou...</td>\n",
       "      <td>9.0</td>\n",
       "      <td>November 27, 2016</td>\n",
       "      <td>37.0</td>\n",
       "    </tr>\n",
       "    <tr>\n",
       "      <th>7</th>\n",
       "      <td>155963</td>\n",
       "      <td>Cialis</td>\n",
       "      <td>Benign Prostatic Hyperplasia</td>\n",
       "      <td>\"\"\"2nd day on 5mg started to work with rock ha...</td>\n",
       "      <td>2.0</td>\n",
       "      <td>November 28, 2015</td>\n",
       "      <td>43.0</td>\n",
       "    </tr>\n",
       "    <tr>\n",
       "      <th>8</th>\n",
       "      <td>165907</td>\n",
       "      <td>Levonorgestrel</td>\n",
       "      <td>Emergency Contraception</td>\n",
       "      <td>\"\"\"He pulled out, but he cummed a bit in me. I...</td>\n",
       "      <td>1.0</td>\n",
       "      <td>March 7, 2017</td>\n",
       "      <td>5.0</td>\n",
       "    </tr>\n",
       "    <tr>\n",
       "      <th>9</th>\n",
       "      <td>102654</td>\n",
       "      <td>Aripiprazole</td>\n",
       "      <td>Bipolar Disorde</td>\n",
       "      <td>\"\"\"Abilify changed my life. There is hope. I w...</td>\n",
       "      <td>10.0</td>\n",
       "      <td>March 14, 2015</td>\n",
       "      <td>32.0</td>\n",
       "    </tr>\n",
       "  </tbody>\n",
       "</table>\n",
       "</div>"
      ],
      "text/plain": [
       "                                                 _c0  \\\n",
       "0                                             206461   \n",
       "1                                              95260   \n",
       "2  We have tried many different medications and s...   \n",
       "3                                              92703   \n",
       "4  The positive side is that I didn&#039;t have a...   \n",
       "5                                             138000   \n",
       "6                                              35696   \n",
       "7                                             155963   \n",
       "8                                             165907   \n",
       "9                                             102654   \n",
       "\n",
       "                   drugName                     condition  \\\n",
       "0                 Valsartan  Left Ventricular Dysfunction   \n",
       "1                Guanfacine                          ADHD   \n",
       "2                       8.0                April 27, 2010   \n",
       "3                    Lybrel                 Birth Control   \n",
       "4                       5.0             December 14, 2009   \n",
       "5                Ortho Evra                 Birth Control   \n",
       "6  Buprenorphine / naloxone             Opiate Dependence   \n",
       "7                    Cialis  Benign Prostatic Hyperplasia   \n",
       "8            Levonorgestrel       Emergency Contraception   \n",
       "9              Aripiprazole               Bipolar Disorde   \n",
       "\n",
       "                                              review rating  \\\n",
       "0  \"\"\"It has no side effect, I take it in combina...    9.0   \n",
       "1  \"\"\"My son is halfway through his fourth week o...   None   \n",
       "2                                                192   None   \n",
       "3  \"\"\"I used to take another oral contraceptive, ...   None   \n",
       "4                                                 17   None   \n",
       "5  \"\"\"This is my first time using any form of bir...    8.0   \n",
       "6  \"\"\"Suboxone has completely turned my life arou...    9.0   \n",
       "7  \"\"\"2nd day on 5mg started to work with rock ha...    2.0   \n",
       "8  \"\"\"He pulled out, but he cummed a bit in me. I...    1.0   \n",
       "9  \"\"\"Abilify changed my life. There is hope. I w...   10.0   \n",
       "\n",
       "                date  usefulCount  \n",
       "0       May 20, 2012         27.0  \n",
       "1               None          NaN  \n",
       "2               None          NaN  \n",
       "3               None          NaN  \n",
       "4               None          NaN  \n",
       "5   November 3, 2015         10.0  \n",
       "6  November 27, 2016         37.0  \n",
       "7  November 28, 2015         43.0  \n",
       "8      March 7, 2017          5.0  \n",
       "9     March 14, 2015         32.0  "
      ]
     },
     "execution_count": 13,
     "metadata": {},
     "output_type": "execute_result"
    }
   ],
   "source": [
    "data.limit(10).toPandas()"
   ]
  },
  {
   "cell_type": "code",
   "execution_count": 14,
   "metadata": {},
   "outputs": [
    {
     "data": {
      "text/plain": [
       "['_c0', 'drugName', 'condition', 'review', 'rating', 'date', 'usefulCount']"
      ]
     },
     "execution_count": 14,
     "metadata": {},
     "output_type": "execute_result"
    }
   ],
   "source": [
    "data.columns"
   ]
  },
  {
   "cell_type": "code",
   "execution_count": 15,
   "metadata": {},
   "outputs": [
    {
     "name": "stdout",
     "output_type": "stream",
     "text": [
      "root\n",
      " |-- _c0: string (nullable = true)\n",
      " |-- d: string (nullable = true)\n",
      " |-- c: string (nullable = true)\n",
      " |-- r: string (nullable = true)\n",
      " |-- rating: string (nullable = true)\n",
      " |-- data: string (nullable = true)\n",
      " |-- target: integer (nullable = true)\n",
      "\n"
     ]
    }
   ],
   "source": [
    "columns = [\n",
    "    '_c0',\n",
    "    'd',\n",
    "    'c',\n",
    "    'r',\n",
    "    'rating',\n",
    "    'data',\n",
    "    'target',\n",
    "]\n",
    "df = data.toDF(*columns)\n",
    "df.printSchema()"
   ]
  },
  {
   "cell_type": "code",
   "execution_count": 16,
   "metadata": {
    "cell_status": {
     "execute_time": {
      "duration": 234.337158203125,
      "end_time": 1613995623531.917
     }
    }
   },
   "outputs": [],
   "source": [
    "train, test = (\n",
    "    df\n",
    "    .na.drop('any')\n",
    "    .randomSplit([0.9, 0.1], 422)\n",
    ")"
   ]
  },
  {
   "cell_type": "code",
   "execution_count": 17,
   "metadata": {
    "cell_status": {
     "execute_time": {
      "duration": 741.008056640625,
      "end_time": 1613995624283.641
     }
    },
    "scrolled": true
   },
   "outputs": [
    {
     "data": {
      "text/html": [
       "<div>\n",
       "<style scoped>\n",
       "    .dataframe tbody tr th:only-of-type {\n",
       "        vertical-align: middle;\n",
       "    }\n",
       "\n",
       "    .dataframe tbody tr th {\n",
       "        vertical-align: top;\n",
       "    }\n",
       "\n",
       "    .dataframe thead th {\n",
       "        text-align: right;\n",
       "    }\n",
       "</style>\n",
       "<table border=\"1\" class=\"dataframe\">\n",
       "  <thead>\n",
       "    <tr style=\"text-align: right;\">\n",
       "      <th></th>\n",
       "      <th>_c0</th>\n",
       "      <th>d</th>\n",
       "      <th>c</th>\n",
       "      <th>r</th>\n",
       "      <th>rating</th>\n",
       "      <th>data</th>\n",
       "      <th>target</th>\n",
       "    </tr>\n",
       "  </thead>\n",
       "  <tbody>\n",
       "    <tr>\n",
       "      <th>0</th>\n",
       "      <td>10000</td>\n",
       "      <td>Lo Loestrin Fe</td>\n",
       "      <td>Birth Control</td>\n",
       "      <td>\"\"\"I was on this birth control for 8 months. T...</td>\n",
       "      <td>7.0</td>\n",
       "      <td>April 10, 2013</td>\n",
       "      <td>4</td>\n",
       "    </tr>\n",
       "    <tr>\n",
       "      <th>1</th>\n",
       "      <td>100012</td>\n",
       "      <td>Desogestrel / ethinyl estradiol</td>\n",
       "      <td>Birth Control</td>\n",
       "      <td>\"\"\"I&amp;#039;ve been taking Velivet for about a y...</td>\n",
       "      <td>9.0</td>\n",
       "      <td>June 17, 2017</td>\n",
       "      <td>2</td>\n",
       "    </tr>\n",
       "    <tr>\n",
       "      <th>2</th>\n",
       "      <td>100013</td>\n",
       "      <td>Desogestrel / ethinyl estradiol</td>\n",
       "      <td>Birth Control</td>\n",
       "      <td>\"\"\"Gives me heartburn and indigestion. Also ma...</td>\n",
       "      <td>2.0</td>\n",
       "      <td>June 8, 2017</td>\n",
       "      <td>1</td>\n",
       "    </tr>\n",
       "    <tr>\n",
       "      <th>3</th>\n",
       "      <td>100029</td>\n",
       "      <td>Desogestrel / ethinyl estradiol</td>\n",
       "      <td>Birth Control</td>\n",
       "      <td>\"\"\"I was switched from Azurette to Viorele by ...</td>\n",
       "      <td>5.0</td>\n",
       "      <td>December 6, 2017</td>\n",
       "      <td>0</td>\n",
       "    </tr>\n",
       "    <tr>\n",
       "      <th>4</th>\n",
       "      <td>10004</td>\n",
       "      <td>Lo Loestrin Fe</td>\n",
       "      <td>Birth Control</td>\n",
       "      <td>\"\"\"I&amp;#039;m 41, using for cramps and excessive...</td>\n",
       "      <td>2.0</td>\n",
       "      <td>March 31, 2013</td>\n",
       "      <td>12</td>\n",
       "    </tr>\n",
       "    <tr>\n",
       "      <th>5</th>\n",
       "      <td>100055</td>\n",
       "      <td>Desogestrel / ethinyl estradiol</td>\n",
       "      <td>Birth Control</td>\n",
       "      <td>\"\"\"I was on Apri for about a year. The first f...</td>\n",
       "      <td>5.0</td>\n",
       "      <td>May 2, 2017</td>\n",
       "      <td>1</td>\n",
       "    </tr>\n",
       "    <tr>\n",
       "      <th>6</th>\n",
       "      <td>10007</td>\n",
       "      <td>Lo Loestrin Fe</td>\n",
       "      <td>Birth Control</td>\n",
       "      <td>\"\"\"I posted on this forum when I first started...</td>\n",
       "      <td>9.0</td>\n",
       "      <td>March 10, 2013</td>\n",
       "      <td>18</td>\n",
       "    </tr>\n",
       "    <tr>\n",
       "      <th>7</th>\n",
       "      <td>100071</td>\n",
       "      <td>Desogestrel / ethinyl estradiol</td>\n",
       "      <td>Birth Control</td>\n",
       "      <td>\"\"\"So I&amp;#039;ve only been on this pill for a m...</td>\n",
       "      <td>8.0</td>\n",
       "      <td>March 7, 2017</td>\n",
       "      <td>7</td>\n",
       "    </tr>\n",
       "    <tr>\n",
       "      <th>8</th>\n",
       "      <td>100085</td>\n",
       "      <td>Desogestrel / ethinyl estradiol</td>\n",
       "      <td>Birth Control</td>\n",
       "      <td>\"\"\"I was on this for a year or two, I had been...</td>\n",
       "      <td>1.0</td>\n",
       "      <td>January 28, 2017</td>\n",
       "      <td>4</td>\n",
       "    </tr>\n",
       "    <tr>\n",
       "      <th>9</th>\n",
       "      <td>100087</td>\n",
       "      <td>Desogestrel / ethinyl estradiol</td>\n",
       "      <td>Birth Control</td>\n",
       "      <td>\"\"\"I&amp;#039;m 19 and have been on this birth con...</td>\n",
       "      <td>9.0</td>\n",
       "      <td>January 26, 2017</td>\n",
       "      <td>3</td>\n",
       "    </tr>\n",
       "    <tr>\n",
       "      <th>10</th>\n",
       "      <td>100088</td>\n",
       "      <td>Desogestrel / ethinyl estradiol</td>\n",
       "      <td>Birth Control</td>\n",
       "      <td>\"\"\"I switched to this birth control from Gilde...</td>\n",
       "      <td>10.0</td>\n",
       "      <td>January 19, 2017</td>\n",
       "      <td>4</td>\n",
       "    </tr>\n",
       "    <tr>\n",
       "      <th>11</th>\n",
       "      <td>100100</td>\n",
       "      <td>Desogestrel / ethinyl estradiol</td>\n",
       "      <td>Birth Control</td>\n",
       "      <td>\"\"\"I&amp;#039;ve been on Kariva for a months now a...</td>\n",
       "      <td>7.0</td>\n",
       "      <td>December 19, 2016</td>\n",
       "      <td>7</td>\n",
       "    </tr>\n",
       "    <tr>\n",
       "      <th>12</th>\n",
       "      <td>100101</td>\n",
       "      <td>Desogestrel / ethinyl estradiol</td>\n",
       "      <td>Birth Control</td>\n",
       "      <td>\"\"\"This birth control is amazing! I was defini...</td>\n",
       "      <td>10.0</td>\n",
       "      <td>December 18, 2016</td>\n",
       "      <td>5</td>\n",
       "    </tr>\n",
       "    <tr>\n",
       "      <th>13</th>\n",
       "      <td>100105</td>\n",
       "      <td>Desogestrel / ethinyl estradiol</td>\n",
       "      <td>Birth Control</td>\n",
       "      <td>\"\"\"For the most part, my experience on this me...</td>\n",
       "      <td>8.0</td>\n",
       "      <td>November 30, 2016</td>\n",
       "      <td>3</td>\n",
       "    </tr>\n",
       "    <tr>\n",
       "      <th>14</th>\n",
       "      <td>100107</td>\n",
       "      <td>Desogestrel / ethinyl estradiol</td>\n",
       "      <td>Birth Control</td>\n",
       "      <td>\"\"\"completely lost every bit of sex drive i ha...</td>\n",
       "      <td>5.0</td>\n",
       "      <td>November 23, 2016</td>\n",
       "      <td>1</td>\n",
       "    </tr>\n",
       "    <tr>\n",
       "      <th>15</th>\n",
       "      <td>100109</td>\n",
       "      <td>Desogestrel / ethinyl estradiol</td>\n",
       "      <td>Birth Control</td>\n",
       "      <td>\"\"\"My doc prescribed this for endometriosis. I...</td>\n",
       "      <td>9.0</td>\n",
       "      <td>November 21, 2016</td>\n",
       "      <td>7</td>\n",
       "    </tr>\n",
       "    <tr>\n",
       "      <th>16</th>\n",
       "      <td>100122</td>\n",
       "      <td>Desogestrel / ethinyl estradiol</td>\n",
       "      <td>Birth Control</td>\n",
       "      <td>\"\"\"Let me preface this by saying I have taken ...</td>\n",
       "      <td>10.0</td>\n",
       "      <td>November 3, 2016</td>\n",
       "      <td>3</td>\n",
       "    </tr>\n",
       "    <tr>\n",
       "      <th>17</th>\n",
       "      <td>100123</td>\n",
       "      <td>Desogestrel / ethinyl estradiol</td>\n",
       "      <td>Birth Control</td>\n",
       "      <td>\"\"\"I haven&amp;#039;t taken any BC in 5 years sinc...</td>\n",
       "      <td>1.0</td>\n",
       "      <td>November 2, 2016</td>\n",
       "      <td>2</td>\n",
       "    </tr>\n",
       "    <tr>\n",
       "      <th>18</th>\n",
       "      <td>100124</td>\n",
       "      <td>Desogestrel / ethinyl estradiol</td>\n",
       "      <td>Birth Control</td>\n",
       "      <td>\"\"\"Caused extreme vaginal dryness for me\"\"\"</td>\n",
       "      <td>1.0</td>\n",
       "      <td>November 2, 2016</td>\n",
       "      <td>1</td>\n",
       "    </tr>\n",
       "    <tr>\n",
       "      <th>19</th>\n",
       "      <td>100125</td>\n",
       "      <td>Desogestrel / ethinyl estradiol</td>\n",
       "      <td>Birth Control</td>\n",
       "      <td>\"\"\"Seems fine so far. Half way into my second ...</td>\n",
       "      <td>9.0</td>\n",
       "      <td>October 28, 2016</td>\n",
       "      <td>4</td>\n",
       "    </tr>\n",
       "  </tbody>\n",
       "</table>\n",
       "</div>"
      ],
      "text/plain": [
       "       _c0                                d              c  \\\n",
       "0    10000                   Lo Loestrin Fe  Birth Control   \n",
       "1   100012  Desogestrel / ethinyl estradiol  Birth Control   \n",
       "2   100013  Desogestrel / ethinyl estradiol  Birth Control   \n",
       "3   100029  Desogestrel / ethinyl estradiol  Birth Control   \n",
       "4    10004                   Lo Loestrin Fe  Birth Control   \n",
       "5   100055  Desogestrel / ethinyl estradiol  Birth Control   \n",
       "6    10007                   Lo Loestrin Fe  Birth Control   \n",
       "7   100071  Desogestrel / ethinyl estradiol  Birth Control   \n",
       "8   100085  Desogestrel / ethinyl estradiol  Birth Control   \n",
       "9   100087  Desogestrel / ethinyl estradiol  Birth Control   \n",
       "10  100088  Desogestrel / ethinyl estradiol  Birth Control   \n",
       "11  100100  Desogestrel / ethinyl estradiol  Birth Control   \n",
       "12  100101  Desogestrel / ethinyl estradiol  Birth Control   \n",
       "13  100105  Desogestrel / ethinyl estradiol  Birth Control   \n",
       "14  100107  Desogestrel / ethinyl estradiol  Birth Control   \n",
       "15  100109  Desogestrel / ethinyl estradiol  Birth Control   \n",
       "16  100122  Desogestrel / ethinyl estradiol  Birth Control   \n",
       "17  100123  Desogestrel / ethinyl estradiol  Birth Control   \n",
       "18  100124  Desogestrel / ethinyl estradiol  Birth Control   \n",
       "19  100125  Desogestrel / ethinyl estradiol  Birth Control   \n",
       "\n",
       "                                                    r rating  \\\n",
       "0   \"\"\"I was on this birth control for 8 months. T...    7.0   \n",
       "1   \"\"\"I&#039;ve been taking Velivet for about a y...    9.0   \n",
       "2   \"\"\"Gives me heartburn and indigestion. Also ma...    2.0   \n",
       "3   \"\"\"I was switched from Azurette to Viorele by ...    5.0   \n",
       "4   \"\"\"I&#039;m 41, using for cramps and excessive...    2.0   \n",
       "5   \"\"\"I was on Apri for about a year. The first f...    5.0   \n",
       "6   \"\"\"I posted on this forum when I first started...    9.0   \n",
       "7   \"\"\"So I&#039;ve only been on this pill for a m...    8.0   \n",
       "8   \"\"\"I was on this for a year or two, I had been...    1.0   \n",
       "9   \"\"\"I&#039;m 19 and have been on this birth con...    9.0   \n",
       "10  \"\"\"I switched to this birth control from Gilde...   10.0   \n",
       "11  \"\"\"I&#039;ve been on Kariva for a months now a...    7.0   \n",
       "12  \"\"\"This birth control is amazing! I was defini...   10.0   \n",
       "13  \"\"\"For the most part, my experience on this me...    8.0   \n",
       "14  \"\"\"completely lost every bit of sex drive i ha...    5.0   \n",
       "15  \"\"\"My doc prescribed this for endometriosis. I...    9.0   \n",
       "16  \"\"\"Let me preface this by saying I have taken ...   10.0   \n",
       "17  \"\"\"I haven&#039;t taken any BC in 5 years sinc...    1.0   \n",
       "18        \"\"\"Caused extreme vaginal dryness for me\"\"\"    1.0   \n",
       "19  \"\"\"Seems fine so far. Half way into my second ...    9.0   \n",
       "\n",
       "                 data  target  \n",
       "0      April 10, 2013       4  \n",
       "1       June 17, 2017       2  \n",
       "2        June 8, 2017       1  \n",
       "3    December 6, 2017       0  \n",
       "4      March 31, 2013      12  \n",
       "5         May 2, 2017       1  \n",
       "6      March 10, 2013      18  \n",
       "7       March 7, 2017       7  \n",
       "8    January 28, 2017       4  \n",
       "9    January 26, 2017       3  \n",
       "10   January 19, 2017       4  \n",
       "11  December 19, 2016       7  \n",
       "12  December 18, 2016       5  \n",
       "13  November 30, 2016       3  \n",
       "14  November 23, 2016       1  \n",
       "15  November 21, 2016       7  \n",
       "16   November 3, 2016       3  \n",
       "17   November 2, 2016       2  \n",
       "18   November 2, 2016       1  \n",
       "19   October 28, 2016       4  "
      ]
     },
     "execution_count": 17,
     "metadata": {},
     "output_type": "execute_result"
    }
   ],
   "source": [
    "train.limit(20).toPandas()"
   ]
  },
  {
   "cell_type": "markdown",
   "metadata": {},
   "source": [
    "Создадим объект для создания признаков в формате VW. Он принимает dataframe и возвращает dataframe но уже с новой колонкой, в которой записаны эти признаки"
   ]
  },
  {
   "cell_type": "code",
   "execution_count": 18,
   "metadata": {
    "cell_status": {
     "execute_time": {
      "duration": 38.982177734375,
      "end_time": 1613995624334.72
     }
    }
   },
   "outputs": [],
   "source": [
    "vw_featurizer = VowpalWabbitFeaturizer(\n",
    "    inputCols=[\"rating\"], \n",
    "    stringSplitInputCols=[\"d\", \"c\", \"r\"],\n",
    "    outputCol=\"features\",\n",
    "    numBits=24\n",
    ")"
   ]
  },
  {
   "cell_type": "code",
   "execution_count": 19,
   "metadata": {},
   "outputs": [
    {
     "data": {
      "text/plain": [
       "synapse.ml.vw.VowpalWabbitFeaturizer.VowpalWabbitFeaturizer"
      ]
     },
     "execution_count": 19,
     "metadata": {},
     "output_type": "execute_result"
    }
   ],
   "source": [
    "type(vw_featurizer)"
   ]
  },
  {
   "cell_type": "code",
   "execution_count": 20,
   "metadata": {
    "cell_status": {
     "execute_time": {
      "duration": 2252.458984375,
      "end_time": 1613995626618.318
     }
    }
   },
   "outputs": [
    {
     "data": {
      "text/plain": [
       "SparseVector(16777216, {139281: 1.0, 1016583: 1.0, 1102820: 1.0, 1162472: 2.0, 1505820: 1.0, 2204132: 1.0, 2339869: 1.0, 2673967: 1.0, 2679020: 1.0, 2839966: 1.0, 2991125: 1.0, 3257429: 1.0, 3346639: 6.0, 3410361: 1.0, 3446374: 1.0, 3783103: 2.0, 3803230: 1.0, 4415074: 1.0, 4597225: 1.0, 4709980: 1.0, 4778637: 1.0, 4890812: 1.0, 5367110: 1.0, 5426661: 2.0, 5481570: 1.0, 5728618: 1.0, 5837165: 1.0, 5881332: 1.0, 6192782: 1.0, 6362983: 1.0, 6366072: 1.0, 6737743: 1.0, 7337106: 2.0, 7608613: 1.0, 7636861: 3.0, 8148668: 1.0, 8336163: 1.0, 8515415: 1.0, 9170487: 1.0, 9519332: 1.0, 9651660: 1.0, 9787552: 1.0, 9845063: 1.0, 9894590: 1.0, 9970646: 1.0, 10090473: 1.0, 10189708: 1.0, 11318998: 1.0, 11946903: 1.0, 12243560: 1.0, 12463287: 2.0, 12730453: 1.0, 12741825: 1.0, 13350349: 1.0, 13357553: 2.0, 13735132: 3.0, 13901790: 1.0, 14380379: 1.0, 14524688: 1.0, 14608623: 1.0, 14946398: 1.0, 15174436: 1.0, 15384876: 1.0, 15847749: 1.0, 16681717: 1.0, 16772414: 1.0})"
      ]
     },
     "execution_count": 20,
     "metadata": {},
     "output_type": "execute_result"
    }
   ],
   "source": [
    "x = vw_featurizer.transform(train).rdd.first()\n",
    "x['features']"
   ]
  },
  {
   "cell_type": "code",
   "execution_count": null,
   "metadata": {},
   "outputs": [],
   "source": []
  },
  {
   "cell_type": "markdown",
   "metadata": {},
   "source": [
    "Создадим объект для обучения классификатора. Схема работы точно такая же - принимает на вход dataframe и потом может модифицировать другой dataframe, делая предсказание."
   ]
  },
  {
   "cell_type": "code",
   "execution_count": 31,
   "metadata": {
    "cell_status": {
     "execute_time": {
      "duration": 243.45703125,
      "end_time": 1613995626869.473
     }
    }
   },
   "outputs": [],
   "source": [
    "args = \"--learning_rate 20.0 --bit_precision 24 --ngram r2 --interactions dcr\"\n",
    "vw_model = VowpalWabbitRegressor(\n",
    "    featuresCol=\"features\",\n",
    "    labelCol=\"target\",\n",
    "    args=args,\n",
    "    numPasses=40\n",
    ")"
   ]
  },
  {
   "cell_type": "markdown",
   "metadata": {},
   "source": [
    "**Соберем их в единый пайплайн**"
   ]
  },
  {
   "cell_type": "code",
   "execution_count": 32,
   "metadata": {
    "cell_status": {
     "execute_time": {
      "duration": 38.97900390625,
      "end_time": 1613995626918.419
     }
    }
   },
   "outputs": [],
   "source": [
    "vw_pipeline = Pipeline(stages=[vw_featurizer, vw_model])"
   ]
  },
  {
   "cell_type": "code",
   "execution_count": 33,
   "metadata": {
    "cell_status": {
     "execute_time": {
      "duration": 59484.3818359375,
      "end_time": 1613995686444.083
     }
    }
   },
   "outputs": [],
   "source": [
    "vw_trained = vw_pipeline.fit(train)"
   ]
  },
  {
   "cell_type": "code",
   "execution_count": 34,
   "metadata": {},
   "outputs": [
    {
     "data": {
      "text/html": [
       "<div>\n",
       "<style scoped>\n",
       "    .dataframe tbody tr th:only-of-type {\n",
       "        vertical-align: middle;\n",
       "    }\n",
       "\n",
       "    .dataframe tbody tr th {\n",
       "        vertical-align: top;\n",
       "    }\n",
       "\n",
       "    .dataframe thead th {\n",
       "        text-align: right;\n",
       "    }\n",
       "</style>\n",
       "<table border=\"1\" class=\"dataframe\">\n",
       "  <thead>\n",
       "    <tr style=\"text-align: right;\">\n",
       "      <th></th>\n",
       "      <th>_c0</th>\n",
       "      <th>d</th>\n",
       "      <th>c</th>\n",
       "      <th>r</th>\n",
       "      <th>rating</th>\n",
       "      <th>data</th>\n",
       "      <th>target</th>\n",
       "    </tr>\n",
       "  </thead>\n",
       "  <tbody>\n",
       "    <tr>\n",
       "      <th>0</th>\n",
       "      <td>10000</td>\n",
       "      <td>Lo Loestrin Fe</td>\n",
       "      <td>Birth Control</td>\n",
       "      <td>\"\"\"I was on this birth control for 8 months. T...</td>\n",
       "      <td>7.0</td>\n",
       "      <td>April 10, 2013</td>\n",
       "      <td>4</td>\n",
       "    </tr>\n",
       "    <tr>\n",
       "      <th>1</th>\n",
       "      <td>100012</td>\n",
       "      <td>Desogestrel / ethinyl estradiol</td>\n",
       "      <td>Birth Control</td>\n",
       "      <td>\"\"\"I&amp;#039;ve been taking Velivet for about a y...</td>\n",
       "      <td>9.0</td>\n",
       "      <td>June 17, 2017</td>\n",
       "      <td>2</td>\n",
       "    </tr>\n",
       "    <tr>\n",
       "      <th>2</th>\n",
       "      <td>100013</td>\n",
       "      <td>Desogestrel / ethinyl estradiol</td>\n",
       "      <td>Birth Control</td>\n",
       "      <td>\"\"\"Gives me heartburn and indigestion. Also ma...</td>\n",
       "      <td>2.0</td>\n",
       "      <td>June 8, 2017</td>\n",
       "      <td>1</td>\n",
       "    </tr>\n",
       "    <tr>\n",
       "      <th>3</th>\n",
       "      <td>100029</td>\n",
       "      <td>Desogestrel / ethinyl estradiol</td>\n",
       "      <td>Birth Control</td>\n",
       "      <td>\"\"\"I was switched from Azurette to Viorele by ...</td>\n",
       "      <td>5.0</td>\n",
       "      <td>December 6, 2017</td>\n",
       "      <td>0</td>\n",
       "    </tr>\n",
       "    <tr>\n",
       "      <th>4</th>\n",
       "      <td>10004</td>\n",
       "      <td>Lo Loestrin Fe</td>\n",
       "      <td>Birth Control</td>\n",
       "      <td>\"\"\"I&amp;#039;m 41, using for cramps and excessive...</td>\n",
       "      <td>2.0</td>\n",
       "      <td>March 31, 2013</td>\n",
       "      <td>12</td>\n",
       "    </tr>\n",
       "  </tbody>\n",
       "</table>\n",
       "</div>"
      ],
      "text/plain": [
       "      _c0                                d              c  \\\n",
       "0   10000                   Lo Loestrin Fe  Birth Control   \n",
       "1  100012  Desogestrel / ethinyl estradiol  Birth Control   \n",
       "2  100013  Desogestrel / ethinyl estradiol  Birth Control   \n",
       "3  100029  Desogestrel / ethinyl estradiol  Birth Control   \n",
       "4   10004                   Lo Loestrin Fe  Birth Control   \n",
       "\n",
       "                                                   r rating              data  \\\n",
       "0  \"\"\"I was on this birth control for 8 months. T...    7.0    April 10, 2013   \n",
       "1  \"\"\"I&#039;ve been taking Velivet for about a y...    9.0     June 17, 2017   \n",
       "2  \"\"\"Gives me heartburn and indigestion. Also ma...    2.0      June 8, 2017   \n",
       "3  \"\"\"I was switched from Azurette to Viorele by ...    5.0  December 6, 2017   \n",
       "4  \"\"\"I&#039;m 41, using for cramps and excessive...    2.0    March 31, 2013   \n",
       "\n",
       "   target  \n",
       "0       4  \n",
       "1       2  \n",
       "2       1  \n",
       "3       0  \n",
       "4      12  "
      ]
     },
     "execution_count": 34,
     "metadata": {},
     "output_type": "execute_result"
    }
   ],
   "source": [
    "train.limit(5).toPandas()"
   ]
  },
  {
   "cell_type": "code",
   "execution_count": 26,
   "metadata": {
    "collapsed": true
   },
   "outputs": [
    {
     "name": "stdout",
     "output_type": "stream",
     "text": [
      "Help on PipelineModel in module pyspark.ml.pipeline object:\n",
      "\n",
      "class PipelineModel(pyspark.ml.base.Model, pyspark.ml.util.MLReadable, pyspark.ml.util.MLWritable)\n",
      " |  PipelineModel(stages)\n",
      " |  \n",
      " |  Represents a compiled pipeline with transformers and fitted models.\n",
      " |  \n",
      " |  .. versionadded:: 1.3.0\n",
      " |  \n",
      " |  Method resolution order:\n",
      " |      PipelineModel\n",
      " |      pyspark.ml.base.Model\n",
      " |      pyspark.ml.base.Transformer\n",
      " |      pyspark.ml.param.Params\n",
      " |      pyspark.ml.util.Identifiable\n",
      " |      pyspark.ml.util.MLReadable\n",
      " |      pyspark.ml.util.MLWritable\n",
      " |      builtins.object\n",
      " |  \n",
      " |  Methods defined here:\n",
      " |  \n",
      " |  __init__(self, stages)\n",
      " |      Initialize self.  See help(type(self)) for accurate signature.\n",
      " |  \n",
      " |  copy(self, extra=None)\n",
      " |      Creates a copy of this instance.\n",
      " |      \n",
      " |      :param extra: extra parameters\n",
      " |      :returns: new instance\n",
      " |      \n",
      " |      .. versionadded:: 1.4.0\n",
      " |  \n",
      " |  write(self)\n",
      " |      Returns an MLWriter instance for this ML instance.\n",
      " |      \n",
      " |      .. versionadded:: 2.0.0\n",
      " |  \n",
      " |  ----------------------------------------------------------------------\n",
      " |  Class methods defined here:\n",
      " |  \n",
      " |  read() from builtins.type\n",
      " |      Returns an MLReader instance for this class.\n",
      " |      \n",
      " |      .. versionadded:: 2.0.0\n",
      " |  \n",
      " |  ----------------------------------------------------------------------\n",
      " |  Data and other attributes inherited from pyspark.ml.base.Model:\n",
      " |  \n",
      " |  __metaclass__ = <class 'abc.ABCMeta'>\n",
      " |      Metaclass for defining Abstract Base Classes (ABCs).\n",
      " |      \n",
      " |      Use this metaclass to create an ABC.  An ABC can be subclassed\n",
      " |      directly, and then acts as a mix-in class.  You can also register\n",
      " |      unrelated concrete classes (even built-in classes) and unrelated\n",
      " |      ABCs as 'virtual subclasses' -- these and their descendants will\n",
      " |      be considered subclasses of the registering ABC by the built-in\n",
      " |      issubclass() function, but the registering ABC won't show up in\n",
      " |      their MRO (Method Resolution Order) nor will method\n",
      " |      implementations defined by the registering ABC be callable (not\n",
      " |      even via super()).\n",
      " |  \n",
      " |  ----------------------------------------------------------------------\n",
      " |  Methods inherited from pyspark.ml.base.Transformer:\n",
      " |  \n",
      " |  transform(self, dataset, params=None)\n",
      " |      Transforms the input dataset with optional parameters.\n",
      " |      \n",
      " |      :param dataset: input dataset, which is an instance of :py:class:`pyspark.sql.DataFrame`\n",
      " |      :param params: an optional param map that overrides embedded params.\n",
      " |      :returns: transformed dataset\n",
      " |      \n",
      " |      .. versionadded:: 1.3.0\n",
      " |  \n",
      " |  ----------------------------------------------------------------------\n",
      " |  Methods inherited from pyspark.ml.param.Params:\n",
      " |  \n",
      " |  clear(self, param)\n",
      " |      Clears a param from the param map if it has been explicitly set.\n",
      " |  \n",
      " |  explainParam(self, param)\n",
      " |      Explains a single param and returns its name, doc, and optional\n",
      " |      default value and user-supplied value in a string.\n",
      " |  \n",
      " |  explainParams(self)\n",
      " |      Returns the documentation of all params with their optionally\n",
      " |      default values and user-supplied values.\n",
      " |  \n",
      " |  extractParamMap(self, extra=None)\n",
      " |      Extracts the embedded default param values and user-supplied\n",
      " |      values, and then merges them with extra values from input into\n",
      " |      a flat param map, where the latter value is used if there exist\n",
      " |      conflicts, i.e., with ordering: default param values <\n",
      " |      user-supplied values < extra.\n",
      " |      \n",
      " |      :param extra: extra param values\n",
      " |      :return: merged param map\n",
      " |  \n",
      " |  getOrDefault(self, param)\n",
      " |      Gets the value of a param in the user-supplied param map or its\n",
      " |      default value. Raises an error if neither is set.\n",
      " |  \n",
      " |  getParam(self, paramName)\n",
      " |      Gets a param by its name.\n",
      " |  \n",
      " |  hasDefault(self, param)\n",
      " |      Checks whether a param has a default value.\n",
      " |  \n",
      " |  hasParam(self, paramName)\n",
      " |      Tests whether this instance contains a param with a given\n",
      " |      (string) name.\n",
      " |  \n",
      " |  isDefined(self, param)\n",
      " |      Checks whether a param is explicitly set by user or has\n",
      " |      a default value.\n",
      " |  \n",
      " |  isSet(self, param)\n",
      " |      Checks whether a param is explicitly set by user.\n",
      " |  \n",
      " |  set(self, param, value)\n",
      " |      Sets a parameter in the embedded param map.\n",
      " |  \n",
      " |  ----------------------------------------------------------------------\n",
      " |  Readonly properties inherited from pyspark.ml.param.Params:\n",
      " |  \n",
      " |  params\n",
      " |      Returns all params ordered by name. The default implementation\n",
      " |      uses :py:func:`dir` to get all attributes of type\n",
      " |      :py:class:`Param`.\n",
      " |  \n",
      " |  ----------------------------------------------------------------------\n",
      " |  Methods inherited from pyspark.ml.util.Identifiable:\n",
      " |  \n",
      " |  __repr__(self)\n",
      " |      Return repr(self).\n",
      " |  \n",
      " |  ----------------------------------------------------------------------\n",
      " |  Data descriptors inherited from pyspark.ml.util.Identifiable:\n",
      " |  \n",
      " |  __dict__\n",
      " |      dictionary for instance variables (if defined)\n",
      " |  \n",
      " |  __weakref__\n",
      " |      list of weak references to the object (if defined)\n",
      " |  \n",
      " |  ----------------------------------------------------------------------\n",
      " |  Class methods inherited from pyspark.ml.util.MLReadable:\n",
      " |  \n",
      " |  load(path) from builtins.type\n",
      " |      Reads an ML instance from the input path, a shortcut of `read().load(path)`.\n",
      " |  \n",
      " |  ----------------------------------------------------------------------\n",
      " |  Methods inherited from pyspark.ml.util.MLWritable:\n",
      " |  \n",
      " |  save(self, path)\n",
      " |      Save this ML instance to the given path, a shortcut of 'write().save(path)'.\n",
      "\n"
     ]
    }
   ],
   "source": [
    "help(vw_trained)"
   ]
  },
  {
   "cell_type": "code",
   "execution_count": 35,
   "metadata": {
    "cell_status": {
     "execute_time": {
      "duration": 236.666015625,
      "end_time": 1613995686690.678
     }
    }
   },
   "outputs": [],
   "source": [
    "prediction = vw_trained.transform(test)"
   ]
  },
  {
   "cell_type": "code",
   "execution_count": 36,
   "metadata": {
    "cell_status": {
     "execute_time": {
      "duration": 2271.975830078125,
      "end_time": 1613995688975.507
     }
    }
   },
   "outputs": [
    {
     "data": {
      "text/html": [
       "<div>\n",
       "<style scoped>\n",
       "    .dataframe tbody tr th:only-of-type {\n",
       "        vertical-align: middle;\n",
       "    }\n",
       "\n",
       "    .dataframe tbody tr th {\n",
       "        vertical-align: top;\n",
       "    }\n",
       "\n",
       "    .dataframe thead th {\n",
       "        text-align: right;\n",
       "    }\n",
       "</style>\n",
       "<table border=\"1\" class=\"dataframe\">\n",
       "  <thead>\n",
       "    <tr style=\"text-align: right;\">\n",
       "      <th></th>\n",
       "      <th>_c0</th>\n",
       "      <th>d</th>\n",
       "      <th>c</th>\n",
       "      <th>r</th>\n",
       "      <th>rating</th>\n",
       "      <th>data</th>\n",
       "      <th>target</th>\n",
       "      <th>features</th>\n",
       "      <th>rawPrediction</th>\n",
       "      <th>prediction</th>\n",
       "    </tr>\n",
       "  </thead>\n",
       "  <tbody>\n",
       "    <tr>\n",
       "      <th>0</th>\n",
       "      <td>100009</td>\n",
       "      <td>Desogestrel / ethinyl estradiol</td>\n",
       "      <td>Birth Control</td>\n",
       "      <td>\"\"\"I was on reclipsen for less than 2 weeks an...</td>\n",
       "      <td>1.0</td>\n",
       "      <td>June 28, 2017</td>\n",
       "      <td>2</td>\n",
       "      <td>(0.0, 0.0, 0.0, 0.0, 0.0, 0.0, 0.0, 0.0, 0.0, ...</td>\n",
       "      <td>0.000000</td>\n",
       "      <td>0.000000</td>\n",
       "    </tr>\n",
       "    <tr>\n",
       "      <th>1</th>\n",
       "      <td>10002</td>\n",
       "      <td>Lo Loestrin Fe</td>\n",
       "      <td>Birth Control</td>\n",
       "      <td>\"\"\"Well, I&amp;#039;ve been on this right now for ...</td>\n",
       "      <td>6.0</td>\n",
       "      <td>April 4, 2013</td>\n",
       "      <td>10</td>\n",
       "      <td>(0.0, 0.0, 0.0, 0.0, 0.0, 0.0, 0.0, 0.0, 0.0, ...</td>\n",
       "      <td>20.971004</td>\n",
       "      <td>20.971004</td>\n",
       "    </tr>\n",
       "    <tr>\n",
       "      <th>2</th>\n",
       "      <td>100091</td>\n",
       "      <td>Desogestrel / ethinyl estradiol</td>\n",
       "      <td>Birth Control</td>\n",
       "      <td>\"\"\"I started Apri a year and 4 months ago. Whe...</td>\n",
       "      <td>8.0</td>\n",
       "      <td>January 8, 2017</td>\n",
       "      <td>3</td>\n",
       "      <td>(0.0, 0.0, 0.0, 0.0, 0.0, 0.0, 0.0, 0.0, 0.0, ...</td>\n",
       "      <td>2.158285</td>\n",
       "      <td>2.158285</td>\n",
       "    </tr>\n",
       "    <tr>\n",
       "      <th>3</th>\n",
       "      <td>100094</td>\n",
       "      <td>Desogestrel / ethinyl estradiol</td>\n",
       "      <td>Birth Control</td>\n",
       "      <td>\"\"\"I started Apri after switching from a birth...</td>\n",
       "      <td>8.0</td>\n",
       "      <td>December 29, 2016</td>\n",
       "      <td>2</td>\n",
       "      <td>(0.0, 0.0, 0.0, 0.0, 0.0, 0.0, 0.0, 0.0, 0.0, ...</td>\n",
       "      <td>0.000000</td>\n",
       "      <td>0.000000</td>\n",
       "    </tr>\n",
       "    <tr>\n",
       "      <th>4</th>\n",
       "      <td>1001</td>\n",
       "      <td>Everolimus</td>\n",
       "      <td>Breast Cance</td>\n",
       "      <td>\"\"\"Stage 4 with lymph and bone bone metastasis...</td>\n",
       "      <td>10.0</td>\n",
       "      <td>August 31, 2015</td>\n",
       "      <td>16</td>\n",
       "      <td>(0.0, 0.0, 0.0, 0.0, 0.0, 0.0, 0.0, 0.0, 0.0, ...</td>\n",
       "      <td>43.083122</td>\n",
       "      <td>43.083122</td>\n",
       "    </tr>\n",
       "    <tr>\n",
       "      <th>5</th>\n",
       "      <td>100217</td>\n",
       "      <td>Desogestrel / ethinyl estradiol</td>\n",
       "      <td>Birth Control</td>\n",
       "      <td>\"\"\"Horrible experience! Has never had trouble ...</td>\n",
       "      <td>1.0</td>\n",
       "      <td>October 26, 2015</td>\n",
       "      <td>3</td>\n",
       "      <td>(0.0, 0.0, 0.0, 0.0, 0.0, 0.0, 0.0, 0.0, 0.0, ...</td>\n",
       "      <td>0.000000</td>\n",
       "      <td>0.000000</td>\n",
       "    </tr>\n",
       "    <tr>\n",
       "      <th>6</th>\n",
       "      <td>100242</td>\n",
       "      <td>Desogestrel / ethinyl estradiol</td>\n",
       "      <td>Birth Control</td>\n",
       "      <td>\"\"\"I first started with Reclipsen a year ago f...</td>\n",
       "      <td>10.0</td>\n",
       "      <td>December 28, 2015</td>\n",
       "      <td>1</td>\n",
       "      <td>(0.0, 0.0, 0.0, 0.0, 0.0, 0.0, 0.0, 0.0, 0.0, ...</td>\n",
       "      <td>0.000000</td>\n",
       "      <td>0.000000</td>\n",
       "    </tr>\n",
       "    <tr>\n",
       "      <th>7</th>\n",
       "      <td>100259</td>\n",
       "      <td>Desogestrel / ethinyl estradiol</td>\n",
       "      <td>Birth Control</td>\n",
       "      <td>\"\"\"I changed to this birth control at the advi...</td>\n",
       "      <td>4.0</td>\n",
       "      <td>September 21, 2015</td>\n",
       "      <td>2</td>\n",
       "      <td>(0.0, 0.0, 0.0, 0.0, 0.0, 0.0, 0.0, 0.0, 0.0, ...</td>\n",
       "      <td>22.114542</td>\n",
       "      <td>22.114542</td>\n",
       "    </tr>\n",
       "    <tr>\n",
       "      <th>8</th>\n",
       "      <td>100331</td>\n",
       "      <td>Desogestrel / ethinyl estradiol</td>\n",
       "      <td>Birth Control</td>\n",
       "      <td>\"\"\"I&amp;#039;ve been on this pill for almost a ye...</td>\n",
       "      <td>9.0</td>\n",
       "      <td>October 19, 2016</td>\n",
       "      <td>4</td>\n",
       "      <td>(0.0, 0.0, 0.0, 0.0, 0.0, 0.0, 0.0, 0.0, 0.0, ...</td>\n",
       "      <td>9.716249</td>\n",
       "      <td>9.716249</td>\n",
       "    </tr>\n",
       "    <tr>\n",
       "      <th>9</th>\n",
       "      <td>100337</td>\n",
       "      <td>Desogestrel / ethinyl estradiol</td>\n",
       "      <td>Birth Control</td>\n",
       "      <td>\"\"\"I&amp;#039;d say this is a good/decent pill ove...</td>\n",
       "      <td>9.0</td>\n",
       "      <td>October 3, 2016</td>\n",
       "      <td>1</td>\n",
       "      <td>(0.0, 0.0, 0.0, 0.0, 0.0, 0.0, 0.0, 0.0, 0.0, ...</td>\n",
       "      <td>5.560026</td>\n",
       "      <td>5.560026</td>\n",
       "    </tr>\n",
       "  </tbody>\n",
       "</table>\n",
       "</div>"
      ],
      "text/plain": [
       "      _c0                                d              c  \\\n",
       "0  100009  Desogestrel / ethinyl estradiol  Birth Control   \n",
       "1   10002                   Lo Loestrin Fe  Birth Control   \n",
       "2  100091  Desogestrel / ethinyl estradiol  Birth Control   \n",
       "3  100094  Desogestrel / ethinyl estradiol  Birth Control   \n",
       "4    1001                       Everolimus   Breast Cance   \n",
       "5  100217  Desogestrel / ethinyl estradiol  Birth Control   \n",
       "6  100242  Desogestrel / ethinyl estradiol  Birth Control   \n",
       "7  100259  Desogestrel / ethinyl estradiol  Birth Control   \n",
       "8  100331  Desogestrel / ethinyl estradiol  Birth Control   \n",
       "9  100337  Desogestrel / ethinyl estradiol  Birth Control   \n",
       "\n",
       "                                                   r rating  \\\n",
       "0  \"\"\"I was on reclipsen for less than 2 weeks an...    1.0   \n",
       "1  \"\"\"Well, I&#039;ve been on this right now for ...    6.0   \n",
       "2  \"\"\"I started Apri a year and 4 months ago. Whe...    8.0   \n",
       "3  \"\"\"I started Apri after switching from a birth...    8.0   \n",
       "4  \"\"\"Stage 4 with lymph and bone bone metastasis...   10.0   \n",
       "5  \"\"\"Horrible experience! Has never had trouble ...    1.0   \n",
       "6  \"\"\"I first started with Reclipsen a year ago f...   10.0   \n",
       "7  \"\"\"I changed to this birth control at the advi...    4.0   \n",
       "8  \"\"\"I&#039;ve been on this pill for almost a ye...    9.0   \n",
       "9  \"\"\"I&#039;d say this is a good/decent pill ove...    9.0   \n",
       "\n",
       "                 data  target  \\\n",
       "0       June 28, 2017       2   \n",
       "1       April 4, 2013      10   \n",
       "2     January 8, 2017       3   \n",
       "3   December 29, 2016       2   \n",
       "4     August 31, 2015      16   \n",
       "5    October 26, 2015       3   \n",
       "6   December 28, 2015       1   \n",
       "7  September 21, 2015       2   \n",
       "8    October 19, 2016       4   \n",
       "9     October 3, 2016       1   \n",
       "\n",
       "                                            features  rawPrediction  \\\n",
       "0  (0.0, 0.0, 0.0, 0.0, 0.0, 0.0, 0.0, 0.0, 0.0, ...       0.000000   \n",
       "1  (0.0, 0.0, 0.0, 0.0, 0.0, 0.0, 0.0, 0.0, 0.0, ...      20.971004   \n",
       "2  (0.0, 0.0, 0.0, 0.0, 0.0, 0.0, 0.0, 0.0, 0.0, ...       2.158285   \n",
       "3  (0.0, 0.0, 0.0, 0.0, 0.0, 0.0, 0.0, 0.0, 0.0, ...       0.000000   \n",
       "4  (0.0, 0.0, 0.0, 0.0, 0.0, 0.0, 0.0, 0.0, 0.0, ...      43.083122   \n",
       "5  (0.0, 0.0, 0.0, 0.0, 0.0, 0.0, 0.0, 0.0, 0.0, ...       0.000000   \n",
       "6  (0.0, 0.0, 0.0, 0.0, 0.0, 0.0, 0.0, 0.0, 0.0, ...       0.000000   \n",
       "7  (0.0, 0.0, 0.0, 0.0, 0.0, 0.0, 0.0, 0.0, 0.0, ...      22.114542   \n",
       "8  (0.0, 0.0, 0.0, 0.0, 0.0, 0.0, 0.0, 0.0, 0.0, ...       9.716249   \n",
       "9  (0.0, 0.0, 0.0, 0.0, 0.0, 0.0, 0.0, 0.0, 0.0, ...       5.560026   \n",
       "\n",
       "   prediction  \n",
       "0    0.000000  \n",
       "1   20.971004  \n",
       "2    2.158285  \n",
       "3    0.000000  \n",
       "4   43.083122  \n",
       "5    0.000000  \n",
       "6    0.000000  \n",
       "7   22.114542  \n",
       "8    9.716249  \n",
       "9    5.560026  "
      ]
     },
     "execution_count": 36,
     "metadata": {},
     "output_type": "execute_result"
    }
   ],
   "source": [
    "prediction.limit(10).toPandas()"
   ]
  },
  {
   "cell_type": "code",
   "execution_count": 37,
   "metadata": {
    "cell_status": {
     "execute_time": {
      "duration": 2255.380126953125,
      "end_time": 1613995691243.609
     }
    }
   },
   "outputs": [],
   "source": [
    "from synapse.ml.train import ComputeModelStatistics\n",
    "metrics = ComputeModelStatistics(\n",
    "    evaluationMetric='regression',\n",
    "    labelCol='target',\n",
    "    scoresCol='prediction'\n",
    ").transform(prediction)"
   ]
  },
  {
   "cell_type": "code",
   "execution_count": 38,
   "metadata": {},
   "outputs": [
    {
     "data": {
      "text/html": [
       "<div>\n",
       "<style scoped>\n",
       "    .dataframe tbody tr th:only-of-type {\n",
       "        vertical-align: middle;\n",
       "    }\n",
       "\n",
       "    .dataframe tbody tr th {\n",
       "        vertical-align: top;\n",
       "    }\n",
       "\n",
       "    .dataframe thead th {\n",
       "        text-align: right;\n",
       "    }\n",
       "</style>\n",
       "<table border=\"1\" class=\"dataframe\">\n",
       "  <thead>\n",
       "    <tr style=\"text-align: right;\">\n",
       "      <th></th>\n",
       "      <th>mean_squared_error</th>\n",
       "      <th>root_mean_squared_error</th>\n",
       "      <th>R^2</th>\n",
       "      <th>mean_absolute_error</th>\n",
       "    </tr>\n",
       "  </thead>\n",
       "  <tbody>\n",
       "    <tr>\n",
       "      <th>0</th>\n",
       "      <td>684.964667</td>\n",
       "      <td>26.17183</td>\n",
       "      <td>0.475109</td>\n",
       "      <td>16.509442</td>\n",
       "    </tr>\n",
       "  </tbody>\n",
       "</table>\n",
       "</div>"
      ],
      "text/plain": [
       "   mean_squared_error  root_mean_squared_error       R^2  mean_absolute_error\n",
       "0          684.964667                 26.17183  0.475109            16.509442"
      ]
     },
     "execution_count": 38,
     "metadata": {},
     "output_type": "execute_result"
    }
   ],
   "source": [
    "metrics.toPandas()"
   ]
  },
  {
   "cell_type": "code",
   "execution_count": 30,
   "metadata": {
    "cell_status": {
     "execute_time": {
      "duration": 238.402099609375,
      "end_time": 1613995691492.945
     }
    }
   },
   "outputs": [
    {
     "data": {
      "text/html": [
       "<div>\n",
       "<style scoped>\n",
       "    .dataframe tbody tr th:only-of-type {\n",
       "        vertical-align: middle;\n",
       "    }\n",
       "\n",
       "    .dataframe tbody tr th {\n",
       "        vertical-align: top;\n",
       "    }\n",
       "\n",
       "    .dataframe thead th {\n",
       "        text-align: right;\n",
       "    }\n",
       "</style>\n",
       "<table border=\"1\" class=\"dataframe\">\n",
       "  <thead>\n",
       "    <tr style=\"text-align: right;\">\n",
       "      <th></th>\n",
       "      <th>mean_squared_error</th>\n",
       "      <th>root_mean_squared_error</th>\n",
       "      <th>R^2</th>\n",
       "      <th>mean_absolute_error</th>\n",
       "    </tr>\n",
       "  </thead>\n",
       "  <tbody>\n",
       "    <tr>\n",
       "      <th>0</th>\n",
       "      <td>684.964659</td>\n",
       "      <td>26.17183</td>\n",
       "      <td>0.475109</td>\n",
       "      <td>16.509442</td>\n",
       "    </tr>\n",
       "  </tbody>\n",
       "</table>\n",
       "</div>"
      ],
      "text/plain": [
       "   mean_squared_error  root_mean_squared_error       R^2  mean_absolute_error\n",
       "0          684.964659                 26.17183  0.475109            16.509442"
      ]
     },
     "execution_count": 30,
     "metadata": {},
     "output_type": "execute_result"
    }
   ],
   "source": [
    "metrics.toPandas()"
   ]
  },
  {
   "cell_type": "code",
   "execution_count": null,
   "metadata": {},
   "outputs": [],
   "source": []
  },
  {
   "cell_type": "markdown",
   "metadata": {},
   "source": [
    "### SparkML\n",
    "\n",
    "Нужно отметить, что в стандартной библиотеке Spark присутствует модуль для машинного обучения.\n",
    "\n",
    "**ОДНАКО** нужно сказать, что работает он крайне плохо. Лучшее, что вы можете с ним сделать - это попробовать один раз его запустить и понять, что больше никогда не будете его использовать.\n",
    "\n",
    "Это правда важно, потому что это не звучит слишком убедительно, что стандартная библиотека для ML насколько уж плохо работет и наверное все таки есть случаи, когда она работает хорошо, правда ведь? Ответ - вполне возможно. Чтобы вам самим понять, есть ли такие случаи, попробуйте самостоятельно что-то обучить на SparkML и прочувствуйте границы применимости :)"
   ]
  },
  {
   "cell_type": "code",
   "execution_count": 1,
   "metadata": {},
   "outputs": [],
   "source": [
    "import findspark\n",
    "findspark.init()"
   ]
  },
  {
   "cell_type": "code",
   "execution_count": 2,
   "metadata": {},
   "outputs": [],
   "source": [
    "import pyspark\n",
    "sc = pyspark.SparkContext(appName=\"lsml-app-3\")"
   ]
  },
  {
   "cell_type": "code",
   "execution_count": 3,
   "metadata": {
    "cell_status": {
     "execute_time": {
      "duration": 761.909912109375,
      "end_time": 1614008059391.028
     }
    }
   },
   "outputs": [],
   "source": [
    "from pyspark.ml.classification import LogisticRegression\n",
    "from pyspark.ml.regression import LinearRegression\n",
    "from pyspark.ml.feature import HashingTF, IDF, Tokenizer\n",
    "from pyspark.ml import Pipeline\n",
    "from pyspark.ml.feature import OneHotEncoder, StringIndexer, VectorAssembler"
   ]
  },
  {
   "cell_type": "code",
   "execution_count": 4,
   "metadata": {},
   "outputs": [],
   "source": [
    "from pyspark.sql import SparkSession, Row\n",
    "\n",
    "se = SparkSession(sc)"
   ]
  },
  {
   "cell_type": "code",
   "execution_count": 5,
   "metadata": {
    "cell_status": {
     "execute_time": {
      "duration": 2289.341064453125,
      "end_time": 1614008102760.016
     }
    }
   },
   "outputs": [],
   "source": [
    "data = se.read.option(\"delimiter\", \"\\t\").csv('/user/drugs/data/*', header=True, inferSchema=True)"
   ]
  },
  {
   "cell_type": "code",
   "execution_count": 6,
   "metadata": {
    "cell_status": {
     "execute_time": {
      "duration": 268.247802734375,
      "end_time": 1614008103042.305
     }
    }
   },
   "outputs": [],
   "source": [
    "data = (\n",
    "    data\n",
    "    .na.drop('any')\n",
    "    .withColumn('ratingNum', data.rating.cast('integer'))\n",
    ")\n",
    "\n",
    "\n",
    "train, test = data.randomSplit([0.9, 0.1], 422)\n",
    "train, test = train.cache(), test.cache()"
   ]
  },
  {
   "cell_type": "code",
   "execution_count": null,
   "metadata": {
    "cell_status": {
     "execute_time": {
      "duration": 249.799072265625,
      "end_time": 1614002002346.306
     }
    }
   },
   "outputs": [],
   "source": []
  },
  {
   "cell_type": "code",
   "execution_count": 7,
   "metadata": {
    "cell_status": {
     "execute_time": {
      "duration": 11318.88916015625,
      "end_time": 1614002013693.811
     }
    }
   },
   "outputs": [],
   "source": [
    "tokenizer = Tokenizer(inputCol=\"review\", outputCol=\"words\")\n",
    "wordsData = tokenizer.transform(train)\n",
    "\n",
    "hashingTF = HashingTF(inputCol=\"words\", outputCol=\"rawFeatures\", numFeatures=2**23)\n",
    "featurizedData = hashingTF.transform(wordsData)\n",
    "idf = IDF(inputCol=\"rawFeatures\", outputCol=\"features\")\n",
    "idfModel = idf.fit(featurizedData)\n",
    "\n",
    "rescaledData = idfModel.transform(featurizedData)"
   ]
  },
  {
   "cell_type": "code",
   "execution_count": 8,
   "metadata": {
    "cell_status": {
     "execute_time": {
      "duration": 2270.119873046875,
      "end_time": 1614002015974.044
     }
    }
   },
   "outputs": [
    {
     "data": {
      "text/html": [
       "<div>\n",
       "<style scoped>\n",
       "    .dataframe tbody tr th:only-of-type {\n",
       "        vertical-align: middle;\n",
       "    }\n",
       "\n",
       "    .dataframe tbody tr th {\n",
       "        vertical-align: top;\n",
       "    }\n",
       "\n",
       "    .dataframe thead th {\n",
       "        text-align: right;\n",
       "    }\n",
       "</style>\n",
       "<table border=\"1\" class=\"dataframe\">\n",
       "  <thead>\n",
       "    <tr style=\"text-align: right;\">\n",
       "      <th></th>\n",
       "      <th>_c0</th>\n",
       "      <th>drugName</th>\n",
       "      <th>condition</th>\n",
       "      <th>review</th>\n",
       "      <th>rating</th>\n",
       "      <th>date</th>\n",
       "      <th>usefulCount</th>\n",
       "      <th>ratingNum</th>\n",
       "      <th>words</th>\n",
       "      <th>rawFeatures</th>\n",
       "      <th>features</th>\n",
       "    </tr>\n",
       "  </thead>\n",
       "  <tbody>\n",
       "    <tr>\n",
       "      <th>0</th>\n",
       "      <td>10</td>\n",
       "      <td>Medroxyprogesterone</td>\n",
       "      <td>Abnormal Uterine Bleeding</td>\n",
       "      <td>\"\"\"I&amp;#039;m 17 years old and I got shot in Aug...</td>\n",
       "      <td>7.0</td>\n",
       "      <td>October 20, 2015</td>\n",
       "      <td>2</td>\n",
       "      <td>7</td>\n",
       "      <td>[\"\"\"i&amp;#039;m, 17, years, old, and, i, got, sho...</td>\n",
       "      <td>(0.0, 0.0, 0.0, 0.0, 0.0, 0.0, 0.0, 0.0, 0.0, ...</td>\n",
       "      <td>(0.0, 0.0, 0.0, 0.0, 0.0, 0.0, 0.0, 0.0, 0.0, ...</td>\n",
       "    </tr>\n",
       "    <tr>\n",
       "      <th>1</th>\n",
       "      <td>1000</td>\n",
       "      <td>Everolimus</td>\n",
       "      <td>Breast Cance</td>\n",
       "      <td>\"\"\"Although the medication did effectively tre...</td>\n",
       "      <td>2.0</td>\n",
       "      <td>March 15, 2016</td>\n",
       "      <td>4</td>\n",
       "      <td>2</td>\n",
       "      <td>[\"\"\"although, the, medication, did, effectivel...</td>\n",
       "      <td>(0.0, 0.0, 0.0, 0.0, 0.0, 0.0, 0.0, 0.0, 0.0, ...</td>\n",
       "      <td>(0.0, 0.0, 0.0, 0.0, 0.0, 0.0, 0.0, 0.0, 0.0, ...</td>\n",
       "    </tr>\n",
       "    <tr>\n",
       "      <th>2</th>\n",
       "      <td>10000</td>\n",
       "      <td>Lo Loestrin Fe</td>\n",
       "      <td>Birth Control</td>\n",
       "      <td>\"\"\"I was on this birth control for 8 months. T...</td>\n",
       "      <td>7.0</td>\n",
       "      <td>April 10, 2013</td>\n",
       "      <td>4</td>\n",
       "      <td>7</td>\n",
       "      <td>[\"\"\"i, was, on, this, birth, control, for, 8, ...</td>\n",
       "      <td>(0.0, 0.0, 0.0, 0.0, 0.0, 0.0, 0.0, 0.0, 0.0, ...</td>\n",
       "      <td>(0.0, 0.0, 0.0, 0.0, 0.0, 0.0, 0.0, 0.0, 0.0, ...</td>\n",
       "    </tr>\n",
       "    <tr>\n",
       "      <th>3</th>\n",
       "      <td>100004</td>\n",
       "      <td>Desogestrel / ethinyl estradiol</td>\n",
       "      <td>Birth Control</td>\n",
       "      <td>\"\"\"I have been taking Azurette for 3 years now...</td>\n",
       "      <td>8.0</td>\n",
       "      <td>July 11, 2017</td>\n",
       "      <td>1</td>\n",
       "      <td>8</td>\n",
       "      <td>[\"\"\"i, have, been, taking, azurette, for, 3, y...</td>\n",
       "      <td>(0.0, 0.0, 0.0, 0.0, 0.0, 0.0, 0.0, 0.0, 0.0, ...</td>\n",
       "      <td>(0.0, 0.0, 0.0, 0.0, 0.0, 0.0, 0.0, 0.0, 0.0, ...</td>\n",
       "    </tr>\n",
       "    <tr>\n",
       "      <th>4</th>\n",
       "      <td>100007</td>\n",
       "      <td>Desogestrel / ethinyl estradiol</td>\n",
       "      <td>Birth Control</td>\n",
       "      <td>\"\"\"At the beginning, Kariva seemed to be worki...</td>\n",
       "      <td>5.0</td>\n",
       "      <td>June 29, 2017</td>\n",
       "      <td>0</td>\n",
       "      <td>5</td>\n",
       "      <td>[\"\"\"at, the, beginning,, kariva, seemed, to, b...</td>\n",
       "      <td>(0.0, 0.0, 0.0, 0.0, 0.0, 0.0, 0.0, 0.0, 0.0, ...</td>\n",
       "      <td>(0.0, 0.0, 0.0, 0.0, 0.0, 0.0, 0.0, 0.0, 0.0, ...</td>\n",
       "    </tr>\n",
       "  </tbody>\n",
       "</table>\n",
       "</div>"
      ],
      "text/plain": [
       "      _c0                         drugName                  condition  \\\n",
       "0      10              Medroxyprogesterone  Abnormal Uterine Bleeding   \n",
       "1    1000                       Everolimus               Breast Cance   \n",
       "2   10000                   Lo Loestrin Fe              Birth Control   \n",
       "3  100004  Desogestrel / ethinyl estradiol              Birth Control   \n",
       "4  100007  Desogestrel / ethinyl estradiol              Birth Control   \n",
       "\n",
       "                                              review rating              date  \\\n",
       "0  \"\"\"I&#039;m 17 years old and I got shot in Aug...    7.0  October 20, 2015   \n",
       "1  \"\"\"Although the medication did effectively tre...    2.0    March 15, 2016   \n",
       "2  \"\"\"I was on this birth control for 8 months. T...    7.0    April 10, 2013   \n",
       "3  \"\"\"I have been taking Azurette for 3 years now...    8.0     July 11, 2017   \n",
       "4  \"\"\"At the beginning, Kariva seemed to be worki...    5.0     June 29, 2017   \n",
       "\n",
       "   usefulCount  ratingNum                                              words  \\\n",
       "0            2          7  [\"\"\"i&#039;m, 17, years, old, and, i, got, sho...   \n",
       "1            4          2  [\"\"\"although, the, medication, did, effectivel...   \n",
       "2            4          7  [\"\"\"i, was, on, this, birth, control, for, 8, ...   \n",
       "3            1          8  [\"\"\"i, have, been, taking, azurette, for, 3, y...   \n",
       "4            0          5  [\"\"\"at, the, beginning,, kariva, seemed, to, b...   \n",
       "\n",
       "                                         rawFeatures  \\\n",
       "0  (0.0, 0.0, 0.0, 0.0, 0.0, 0.0, 0.0, 0.0, 0.0, ...   \n",
       "1  (0.0, 0.0, 0.0, 0.0, 0.0, 0.0, 0.0, 0.0, 0.0, ...   \n",
       "2  (0.0, 0.0, 0.0, 0.0, 0.0, 0.0, 0.0, 0.0, 0.0, ...   \n",
       "3  (0.0, 0.0, 0.0, 0.0, 0.0, 0.0, 0.0, 0.0, 0.0, ...   \n",
       "4  (0.0, 0.0, 0.0, 0.0, 0.0, 0.0, 0.0, 0.0, 0.0, ...   \n",
       "\n",
       "                                            features  \n",
       "0  (0.0, 0.0, 0.0, 0.0, 0.0, 0.0, 0.0, 0.0, 0.0, ...  \n",
       "1  (0.0, 0.0, 0.0, 0.0, 0.0, 0.0, 0.0, 0.0, 0.0, ...  \n",
       "2  (0.0, 0.0, 0.0, 0.0, 0.0, 0.0, 0.0, 0.0, 0.0, ...  \n",
       "3  (0.0, 0.0, 0.0, 0.0, 0.0, 0.0, 0.0, 0.0, 0.0, ...  \n",
       "4  (0.0, 0.0, 0.0, 0.0, 0.0, 0.0, 0.0, 0.0, 0.0, ...  "
      ]
     },
     "execution_count": 8,
     "metadata": {},
     "output_type": "execute_result"
    }
   ],
   "source": [
    "rescaledData.limit(5).toPandas()"
   ]
  },
  {
   "cell_type": "code",
   "execution_count": 9,
   "metadata": {
    "cell_status": {
     "execute_time": {
      "duration": 1471.298828125,
      "end_time": 1614002017454.737
     }
    }
   },
   "outputs": [],
   "source": [
    "stringIndexer = StringIndexer(inputCol='drugName', outputCol = \"drugIndex\").setHandleInvalid(\"skip\")\n",
    "encoder = OneHotEncoder(inputCol=\"drugIndex\", outputCol=\"drugVec\")\n",
    "\n",
    "pipeline = Pipeline(stages=[stringIndexer, encoder])\n",
    "ohe = pipeline.fit(rescaledData).transform(rescaledData)"
   ]
  },
  {
   "cell_type": "code",
   "execution_count": 10,
   "metadata": {
    "cell_status": {
     "execute_time": {
      "duration": 5661.347900390625,
      "end_time": 1614002023126.504
     }
    },
    "scrolled": true
   },
   "outputs": [
    {
     "data": {
      "text/plain": [
       "Row(_c0='10', drugName='Medroxyprogesterone', condition='Abnormal Uterine Bleeding', review='\"\"\"I&#039;m 17 years old and I got shot in August 2015, personally. I don&#039;t mind it. I mean, I bleed little bits and random times, but I&#039;d rather have the blood that&#039;s supposed to come out, come out and not worry about where it&#039;s going or staying in my body. I have my other injection in November on the 2nd, and I&#039;m still wondering if I could take it again. The only downside to the injection is that I gained access weight and I&#039;m kind of moody.\"\"\"', rating='7.0', date='October 20, 2015', usefulCount=2, ratingNum=7, words=['\"\"\"i&#039;m', '17', 'years', 'old', 'and', 'i', 'got', 'shot', 'in', 'august', '2015,', 'personally.', 'i', 'don&#039;t', 'mind', 'it.', 'i', 'mean,', 'i', 'bleed', 'little', 'bits', 'and', 'random', 'times,', 'but', 'i&#039;d', 'rather', 'have', 'the', 'blood', 'that&#039;s', 'supposed', 'to', 'come', 'out,', 'come', 'out', 'and', 'not', 'worry', 'about', 'where', 'it&#039;s', 'going', 'or', 'staying', 'in', 'my', 'body.', 'i', 'have', 'my', 'other', 'injection', 'in', 'november', 'on', 'the', '2nd,', 'and', 'i&#039;m', 'still', 'wondering', 'if', 'i', 'could', 'take', 'it', 'again.', 'the', 'only', 'downside', 'to', 'the', 'injection', 'is', 'that', 'i', 'gained', 'access', 'weight', 'and', 'i&#039;m', 'kind', 'of', 'moody.\"\"\"'], rawFeatures=SparseVector(8388608, {18700: 1.0, 119453: 1.0, 181635: 1.0, 192185: 1.0, 338250: 1.0, 530945: 1.0, 582960: 1.0, 814008: 2.0, 834880: 1.0, 854204: 1.0, 862101: 1.0, 1089997: 1.0, 1166551: 1.0, 1230811: 1.0, 1641268: 1.0, 1668228: 1.0, 1937390: 1.0, 2128688: 1.0, 2225914: 1.0, 2390246: 1.0, 2430421: 1.0, 2504812: 1.0, 2764941: 1.0, 2797697: 1.0, 3100046: 1.0, 3179805: 2.0, 3207553: 1.0, 3213144: 1.0, 3441107: 1.0, 3449811: 1.0, 3612252: 2.0, 3745974: 1.0, 3788007: 1.0, 3977482: 1.0, 4228221: 1.0, 4323378: 1.0, 4678141: 1.0, 4682346: 1.0, 4697392: 2.0, 4737628: 7.0, 5420559: 1.0, 5548558: 1.0, 5600913: 4.0, 5835162: 1.0, 5846300: 1.0, 5863186: 1.0, 5878912: 1.0, 6187973: 1.0, 6213250: 1.0, 6355523: 2.0, 6544931: 2.0, 6661592: 1.0, 6714782: 1.0, 6922585: 1.0, 6928394: 1.0, 6986432: 1.0, 7121876: 1.0, 7133527: 1.0, 7133528: 1.0, 7319910: 1.0, 7387842: 1.0, 7700902: 1.0, 7853031: 3.0, 8083407: 1.0, 8346379: 5.0, 8364976: 1.0}), features=SparseVector(8388608, {18700: 1.3708, 119453: 1.6823, 181635: 1.5304, 192185: 4.725, 338250: 1.8185, 530945: 3.6078, 582960: 2.5339, 814008: 0.594, 834880: 0.9365, 854204: 8.7172, 862101: 3.0392, 1089997: 7.8598, 1166551: 4.3546, 1230811: 3.0535, 1641268: 2.2415, 1668228: 8.6483, 1937390: 2.4482, 2128688: 2.0705, 2225914: 5.1467, 2390246: 0.4121, 2430421: 1.9944, 2504812: 7.5277, 2764941: 2.1188, 2797697: 2.1983, 3100046: 3.8935, 3179805: 9.2831, 3207553: 5.4415, 3213144: 0.6937, 3441107: 6.5772, 3449811: 3.7408, 3612252: 7.2846, 3745974: 3.3705, 3788007: 3.1687, 3977482: 2.0784, 4228221: 0.7118, 4323378: 5.5157, 4678141: 1.0269, 4682346: 2.0248, 4697392: 0.6901, 4737628: 1.1522, 5420559: 5.0248, 5548558: 5.0302, 5600913: 0.9819, 5835162: 5.2879, 5846300: 4.4113, 5863186: 8.1374, 5878912: 1.7799, 6187973: 4.3437, 6213250: 1.8193, 6355523: 3.1389, 6544931: 1.168, 6661592: 5.3007, 6714782: 3.6156, 6922585: 0.8269, 6928394: 3.4247, 6986432: 4.3127, 7121876: 5.2229, 7133527: 1.5774, 7133528: 4.4988, 7319910: 2.4675, 7387842: 5.6393, 7700902: 4.6996, 7853031: 2.2952, 8083407: 0.5692, 8346379: 0.8799, 8364976: 8.1993}), drugIndex=13.0, drugVec=SparseVector(3492, {13: 1.0}))"
      ]
     },
     "execution_count": 10,
     "metadata": {},
     "output_type": "execute_result"
    }
   ],
   "source": [
    "x = ohe.limit(1).rdd.first()\n",
    "x"
   ]
  },
  {
   "cell_type": "code",
   "execution_count": 11,
   "metadata": {
    "cell_status": {
     "execute_time": {
      "duration": 57.4951171875,
      "end_time": 1614002050942.128
     }
    }
   },
   "outputs": [
    {
     "data": {
      "text/plain": [
       "SparseVector(3492, {13: 1.0})"
      ]
     },
     "execution_count": 11,
     "metadata": {},
     "output_type": "execute_result"
    }
   ],
   "source": [
    "x['drugVec']"
   ]
  },
  {
   "cell_type": "code",
   "execution_count": null,
   "metadata": {},
   "outputs": [],
   "source": []
  },
  {
   "cell_type": "markdown",
   "metadata": {},
   "source": [
    "Подготавливаем признаки"
   ]
  },
  {
   "cell_type": "code",
   "execution_count": 13,
   "metadata": {
    "cell_status": {
     "execute_time": {
      "duration": 1161.2451171875,
      "end_time": 1614002060570.721
     }
    }
   },
   "outputs": [],
   "source": [
    "wordsData = tokenizer.transform(train)\n",
    "\n",
    "tokenizer = Tokenizer(inputCol=\"review\", outputCol=\"words\")\n",
    "hashingTF = HashingTF(inputCol=\"words\", outputCol=\"rawFeatures\", numFeatures=2**10)\n",
    "idf = IDF(inputCol=\"rawFeatures\", outputCol=\"revviewFeatures\")\n",
    "\n",
    "stringIndexerCondition = StringIndexer(inputCol='condition', outputCol = \"conditionIndex\").setHandleInvalid(\"skip\")\n",
    "encoderCondition = OneHotEncoder(inputCol=\"conditionIndex\", outputCol=\"conditionVec\")\n",
    "\n",
    "stringIndexerDrug = StringIndexer(inputCol='drugName', outputCol = \"drugIndex\").setHandleInvalid(\"skip\")\n",
    "encoderDrug = OneHotEncoder(inputCol=\"drugIndex\", outputCol=\"drugVec\")\n",
    "\n",
    "assembler = VectorAssembler(inputCols=[\"drugVec\", \"conditionVec\", \"revviewFeatures\", 'ratingNum'], outputCol=\"features\")\n",
    "\n",
    "preproc = Pipeline(stages=[\n",
    "    tokenizer,\n",
    "    hashingTF,\n",
    "    idf,\n",
    "    stringIndexerCondition,\n",
    "    encoderCondition,\n",
    "    stringIndexerDrug,\n",
    "    encoderDrug,\n",
    "    assembler\n",
    "])"
   ]
  },
  {
   "cell_type": "code",
   "execution_count": 14,
   "metadata": {
    "cell_status": {
     "execute_time": {
      "duration": 390136.5959472656,
      "end_time": 1614002526825.782
     }
    }
   },
   "outputs": [],
   "source": [
    "train_proc = preproc.fit(train).transform(train).cache()"
   ]
  },
  {
   "cell_type": "code",
   "execution_count": 15,
   "metadata": {
    "cell_status": {
     "execute_time": {
      "duration": 37.211181640625,
      "end_time": 1614002117596.296
     }
    },
    "scrolled": true
   },
   "outputs": [
    {
     "data": {
      "text/html": [
       "<div>\n",
       "<style scoped>\n",
       "    .dataframe tbody tr th:only-of-type {\n",
       "        vertical-align: middle;\n",
       "    }\n",
       "\n",
       "    .dataframe tbody tr th {\n",
       "        vertical-align: top;\n",
       "    }\n",
       "\n",
       "    .dataframe thead th {\n",
       "        text-align: right;\n",
       "    }\n",
       "</style>\n",
       "<table border=\"1\" class=\"dataframe\">\n",
       "  <thead>\n",
       "    <tr style=\"text-align: right;\">\n",
       "      <th></th>\n",
       "      <th>_c0</th>\n",
       "      <th>drugName</th>\n",
       "      <th>condition</th>\n",
       "      <th>review</th>\n",
       "      <th>rating</th>\n",
       "      <th>date</th>\n",
       "      <th>usefulCount</th>\n",
       "      <th>ratingNum</th>\n",
       "      <th>words</th>\n",
       "      <th>rawFeatures</th>\n",
       "      <th>revviewFeatures</th>\n",
       "      <th>conditionIndex</th>\n",
       "      <th>conditionVec</th>\n",
       "      <th>drugIndex</th>\n",
       "      <th>drugVec</th>\n",
       "      <th>features</th>\n",
       "    </tr>\n",
       "  </thead>\n",
       "  <tbody>\n",
       "    <tr>\n",
       "      <th>0</th>\n",
       "      <td>10</td>\n",
       "      <td>Medroxyprogesterone</td>\n",
       "      <td>Abnormal Uterine Bleeding</td>\n",
       "      <td>\"\"\"I&amp;#039;m 17 years old and I got shot in Aug...</td>\n",
       "      <td>7.0</td>\n",
       "      <td>October 20, 2015</td>\n",
       "      <td>2</td>\n",
       "      <td>7</td>\n",
       "      <td>[\"\"\"i&amp;#039;m, 17, years, old, and, i, got, sho...</td>\n",
       "      <td>(0.0, 0.0, 0.0, 0.0, 0.0, 0.0, 0.0, 0.0, 0.0, ...</td>\n",
       "      <td>(0.0, 0.0, 0.0, 0.0, 0.0, 0.0, 0.0, 0.0, 0.0, ...</td>\n",
       "      <td>14.0</td>\n",
       "      <td>(0.0, 0.0, 0.0, 0.0, 0.0, 0.0, 0.0, 0.0, 0.0, ...</td>\n",
       "      <td>13.0</td>\n",
       "      <td>(0.0, 0.0, 0.0, 0.0, 0.0, 0.0, 0.0, 0.0, 0.0, ...</td>\n",
       "      <td>(0.0, 0.0, 0.0, 0.0, 0.0, 0.0, 0.0, 0.0, 0.0, ...</td>\n",
       "    </tr>\n",
       "    <tr>\n",
       "      <th>1</th>\n",
       "      <td>1000</td>\n",
       "      <td>Everolimus</td>\n",
       "      <td>Breast Cance</td>\n",
       "      <td>\"\"\"Although the medication did effectively tre...</td>\n",
       "      <td>2.0</td>\n",
       "      <td>March 15, 2016</td>\n",
       "      <td>4</td>\n",
       "      <td>2</td>\n",
       "      <td>[\"\"\"although, the, medication, did, effectivel...</td>\n",
       "      <td>(0.0, 0.0, 0.0, 0.0, 0.0, 0.0, 0.0, 0.0, 0.0, ...</td>\n",
       "      <td>(0.0, 0.0, 0.0, 0.0, 0.0, 0.0, 0.0, 0.0, 0.0, ...</td>\n",
       "      <td>83.0</td>\n",
       "      <td>(0.0, 0.0, 0.0, 0.0, 0.0, 0.0, 0.0, 0.0, 0.0, ...</td>\n",
       "      <td>1322.0</td>\n",
       "      <td>(0.0, 0.0, 0.0, 0.0, 0.0, 0.0, 0.0, 0.0, 0.0, ...</td>\n",
       "      <td>(0.0, 0.0, 0.0, 0.0, 0.0, 0.0, 0.0, 0.0, 0.0, ...</td>\n",
       "    </tr>\n",
       "    <tr>\n",
       "      <th>2</th>\n",
       "      <td>10000</td>\n",
       "      <td>Lo Loestrin Fe</td>\n",
       "      <td>Birth Control</td>\n",
       "      <td>\"\"\"I was on this birth control for 8 months. T...</td>\n",
       "      <td>7.0</td>\n",
       "      <td>April 10, 2013</td>\n",
       "      <td>4</td>\n",
       "      <td>7</td>\n",
       "      <td>[\"\"\"i, was, on, this, birth, control, for, 8, ...</td>\n",
       "      <td>(0.0, 0.0, 0.0, 0.0, 0.0, 0.0, 0.0, 0.0, 0.0, ...</td>\n",
       "      <td>(0.0, 0.0, 0.0, 0.0, 0.0, 0.0, 0.0, 0.0, 0.0, ...</td>\n",
       "      <td>0.0</td>\n",
       "      <td>(1.0, 0.0, 0.0, 0.0, 0.0, 0.0, 0.0, 0.0, 0.0, ...</td>\n",
       "      <td>35.0</td>\n",
       "      <td>(0.0, 0.0, 0.0, 0.0, 0.0, 0.0, 0.0, 0.0, 0.0, ...</td>\n",
       "      <td>(0.0, 0.0, 0.0, 0.0, 0.0, 0.0, 0.0, 0.0, 0.0, ...</td>\n",
       "    </tr>\n",
       "    <tr>\n",
       "      <th>3</th>\n",
       "      <td>100004</td>\n",
       "      <td>Desogestrel / ethinyl estradiol</td>\n",
       "      <td>Birth Control</td>\n",
       "      <td>\"\"\"I have been taking Azurette for 3 years now...</td>\n",
       "      <td>8.0</td>\n",
       "      <td>July 11, 2017</td>\n",
       "      <td>1</td>\n",
       "      <td>8</td>\n",
       "      <td>[\"\"\"i, have, been, taking, azurette, for, 3, y...</td>\n",
       "      <td>(0.0, 0.0, 0.0, 0.0, 0.0, 0.0, 0.0, 0.0, 0.0, ...</td>\n",
       "      <td>(0.0, 0.0, 0.0, 0.0, 0.0, 0.0, 0.0, 0.0, 0.0, ...</td>\n",
       "      <td>0.0</td>\n",
       "      <td>(1.0, 0.0, 0.0, 0.0, 0.0, 0.0, 0.0, 0.0, 0.0, ...</td>\n",
       "      <td>57.0</td>\n",
       "      <td>(0.0, 0.0, 0.0, 0.0, 0.0, 0.0, 0.0, 0.0, 0.0, ...</td>\n",
       "      <td>(0.0, 0.0, 0.0, 0.0, 0.0, 0.0, 0.0, 0.0, 0.0, ...</td>\n",
       "    </tr>\n",
       "    <tr>\n",
       "      <th>4</th>\n",
       "      <td>100007</td>\n",
       "      <td>Desogestrel / ethinyl estradiol</td>\n",
       "      <td>Birth Control</td>\n",
       "      <td>\"\"\"At the beginning, Kariva seemed to be worki...</td>\n",
       "      <td>5.0</td>\n",
       "      <td>June 29, 2017</td>\n",
       "      <td>0</td>\n",
       "      <td>5</td>\n",
       "      <td>[\"\"\"at, the, beginning,, kariva, seemed, to, b...</td>\n",
       "      <td>(0.0, 0.0, 0.0, 0.0, 0.0, 0.0, 0.0, 0.0, 0.0, ...</td>\n",
       "      <td>(0.0, 0.0, 0.0, 0.0, 0.0, 0.0, 0.0, 0.0, 0.0, ...</td>\n",
       "      <td>0.0</td>\n",
       "      <td>(1.0, 0.0, 0.0, 0.0, 0.0, 0.0, 0.0, 0.0, 0.0, ...</td>\n",
       "      <td>57.0</td>\n",
       "      <td>(0.0, 0.0, 0.0, 0.0, 0.0, 0.0, 0.0, 0.0, 0.0, ...</td>\n",
       "      <td>(0.0, 0.0, 0.0, 0.0, 0.0, 0.0, 0.0, 0.0, 0.0, ...</td>\n",
       "    </tr>\n",
       "    <tr>\n",
       "      <th>5</th>\n",
       "      <td>100008</td>\n",
       "      <td>Desogestrel / ethinyl estradiol</td>\n",
       "      <td>Birth Control</td>\n",
       "      <td>\"\"\"This is yet another update. Just finished m...</td>\n",
       "      <td>1.0</td>\n",
       "      <td>June 28, 2017</td>\n",
       "      <td>0</td>\n",
       "      <td>1</td>\n",
       "      <td>[\"\"\"this, is, yet, another, update., just, fin...</td>\n",
       "      <td>(0.0, 0.0, 0.0, 0.0, 0.0, 0.0, 0.0, 0.0, 0.0, ...</td>\n",
       "      <td>(0.0, 0.0, 0.0, 0.0, 0.0, 0.0, 0.0, 0.0, 0.0, ...</td>\n",
       "      <td>0.0</td>\n",
       "      <td>(1.0, 0.0, 0.0, 0.0, 0.0, 0.0, 0.0, 0.0, 0.0, ...</td>\n",
       "      <td>57.0</td>\n",
       "      <td>(0.0, 0.0, 0.0, 0.0, 0.0, 0.0, 0.0, 0.0, 0.0, ...</td>\n",
       "      <td>(0.0, 0.0, 0.0, 0.0, 0.0, 0.0, 0.0, 0.0, 0.0, ...</td>\n",
       "    </tr>\n",
       "    <tr>\n",
       "      <th>6</th>\n",
       "      <td>100009</td>\n",
       "      <td>Desogestrel / ethinyl estradiol</td>\n",
       "      <td>Birth Control</td>\n",
       "      <td>\"\"\"I was on reclipsen for less than 2 weeks an...</td>\n",
       "      <td>1.0</td>\n",
       "      <td>June 28, 2017</td>\n",
       "      <td>2</td>\n",
       "      <td>1</td>\n",
       "      <td>[\"\"\"i, was, on, reclipsen, for, less, than, 2,...</td>\n",
       "      <td>(1.0, 0.0, 0.0, 0.0, 0.0, 0.0, 0.0, 0.0, 0.0, ...</td>\n",
       "      <td>(3.3244338839699816, 0.0, 0.0, 0.0, 0.0, 0.0, ...</td>\n",
       "      <td>0.0</td>\n",
       "      <td>(1.0, 0.0, 0.0, 0.0, 0.0, 0.0, 0.0, 0.0, 0.0, ...</td>\n",
       "      <td>57.0</td>\n",
       "      <td>(0.0, 0.0, 0.0, 0.0, 0.0, 0.0, 0.0, 0.0, 0.0, ...</td>\n",
       "      <td>(0.0, 0.0, 0.0, 0.0, 0.0, 0.0, 0.0, 0.0, 0.0, ...</td>\n",
       "    </tr>\n",
       "    <tr>\n",
       "      <th>7</th>\n",
       "      <td>100011</td>\n",
       "      <td>Desogestrel / ethinyl estradiol</td>\n",
       "      <td>Birth Control</td>\n",
       "      <td>\"\"\"I have been on Apri for 4 months, I&amp;#039;m ...</td>\n",
       "      <td>8.0</td>\n",
       "      <td>June 19, 2017</td>\n",
       "      <td>3</td>\n",
       "      <td>8</td>\n",
       "      <td>[\"\"\"i, have, been, on, apri, for, 4, months,, ...</td>\n",
       "      <td>(0.0, 0.0, 0.0, 0.0, 0.0, 0.0, 0.0, 0.0, 0.0, ...</td>\n",
       "      <td>(0.0, 0.0, 0.0, 0.0, 0.0, 0.0, 0.0, 0.0, 0.0, ...</td>\n",
       "      <td>0.0</td>\n",
       "      <td>(1.0, 0.0, 0.0, 0.0, 0.0, 0.0, 0.0, 0.0, 0.0, ...</td>\n",
       "      <td>57.0</td>\n",
       "      <td>(0.0, 0.0, 0.0, 0.0, 0.0, 0.0, 0.0, 0.0, 0.0, ...</td>\n",
       "      <td>(0.0, 0.0, 0.0, 0.0, 0.0, 0.0, 0.0, 0.0, 0.0, ...</td>\n",
       "    </tr>\n",
       "    <tr>\n",
       "      <th>8</th>\n",
       "      <td>100012</td>\n",
       "      <td>Desogestrel / ethinyl estradiol</td>\n",
       "      <td>Birth Control</td>\n",
       "      <td>\"\"\"I&amp;#039;ve been taking Velivet for about a y...</td>\n",
       "      <td>9.0</td>\n",
       "      <td>June 17, 2017</td>\n",
       "      <td>2</td>\n",
       "      <td>9</td>\n",
       "      <td>[\"\"\"i&amp;#039;ve, been, taking, velivet, for, abo...</td>\n",
       "      <td>(0.0, 0.0, 0.0, 0.0, 0.0, 0.0, 0.0, 0.0, 0.0, ...</td>\n",
       "      <td>(0.0, 0.0, 0.0, 0.0, 0.0, 0.0, 0.0, 0.0, 0.0, ...</td>\n",
       "      <td>0.0</td>\n",
       "      <td>(1.0, 0.0, 0.0, 0.0, 0.0, 0.0, 0.0, 0.0, 0.0, ...</td>\n",
       "      <td>57.0</td>\n",
       "      <td>(0.0, 0.0, 0.0, 0.0, 0.0, 0.0, 0.0, 0.0, 0.0, ...</td>\n",
       "      <td>(0.0, 0.0, 0.0, 0.0, 0.0, 0.0, 0.0, 0.0, 0.0, ...</td>\n",
       "    </tr>\n",
       "    <tr>\n",
       "      <th>9</th>\n",
       "      <td>100013</td>\n",
       "      <td>Desogestrel / ethinyl estradiol</td>\n",
       "      <td>Birth Control</td>\n",
       "      <td>\"\"\"Gives me heartburn and indigestion. Also ma...</td>\n",
       "      <td>2.0</td>\n",
       "      <td>June 8, 2017</td>\n",
       "      <td>1</td>\n",
       "      <td>2</td>\n",
       "      <td>[\"\"\"gives, me, heartburn, and, indigestion., a...</td>\n",
       "      <td>(0.0, 0.0, 0.0, 0.0, 0.0, 0.0, 0.0, 0.0, 0.0, ...</td>\n",
       "      <td>(0.0, 0.0, 0.0, 0.0, 0.0, 0.0, 0.0, 0.0, 0.0, ...</td>\n",
       "      <td>0.0</td>\n",
       "      <td>(1.0, 0.0, 0.0, 0.0, 0.0, 0.0, 0.0, 0.0, 0.0, ...</td>\n",
       "      <td>57.0</td>\n",
       "      <td>(0.0, 0.0, 0.0, 0.0, 0.0, 0.0, 0.0, 0.0, 0.0, ...</td>\n",
       "      <td>(0.0, 0.0, 0.0, 0.0, 0.0, 0.0, 0.0, 0.0, 0.0, ...</td>\n",
       "    </tr>\n",
       "  </tbody>\n",
       "</table>\n",
       "</div>"
      ],
      "text/plain": [
       "      _c0                         drugName                  condition  \\\n",
       "0      10              Medroxyprogesterone  Abnormal Uterine Bleeding   \n",
       "1    1000                       Everolimus               Breast Cance   \n",
       "2   10000                   Lo Loestrin Fe              Birth Control   \n",
       "3  100004  Desogestrel / ethinyl estradiol              Birth Control   \n",
       "4  100007  Desogestrel / ethinyl estradiol              Birth Control   \n",
       "5  100008  Desogestrel / ethinyl estradiol              Birth Control   \n",
       "6  100009  Desogestrel / ethinyl estradiol              Birth Control   \n",
       "7  100011  Desogestrel / ethinyl estradiol              Birth Control   \n",
       "8  100012  Desogestrel / ethinyl estradiol              Birth Control   \n",
       "9  100013  Desogestrel / ethinyl estradiol              Birth Control   \n",
       "\n",
       "                                              review rating              date  \\\n",
       "0  \"\"\"I&#039;m 17 years old and I got shot in Aug...    7.0  October 20, 2015   \n",
       "1  \"\"\"Although the medication did effectively tre...    2.0    March 15, 2016   \n",
       "2  \"\"\"I was on this birth control for 8 months. T...    7.0    April 10, 2013   \n",
       "3  \"\"\"I have been taking Azurette for 3 years now...    8.0     July 11, 2017   \n",
       "4  \"\"\"At the beginning, Kariva seemed to be worki...    5.0     June 29, 2017   \n",
       "5  \"\"\"This is yet another update. Just finished m...    1.0     June 28, 2017   \n",
       "6  \"\"\"I was on reclipsen for less than 2 weeks an...    1.0     June 28, 2017   \n",
       "7  \"\"\"I have been on Apri for 4 months, I&#039;m ...    8.0     June 19, 2017   \n",
       "8  \"\"\"I&#039;ve been taking Velivet for about a y...    9.0     June 17, 2017   \n",
       "9  \"\"\"Gives me heartburn and indigestion. Also ma...    2.0      June 8, 2017   \n",
       "\n",
       "   usefulCount  ratingNum                                              words  \\\n",
       "0            2          7  [\"\"\"i&#039;m, 17, years, old, and, i, got, sho...   \n",
       "1            4          2  [\"\"\"although, the, medication, did, effectivel...   \n",
       "2            4          7  [\"\"\"i, was, on, this, birth, control, for, 8, ...   \n",
       "3            1          8  [\"\"\"i, have, been, taking, azurette, for, 3, y...   \n",
       "4            0          5  [\"\"\"at, the, beginning,, kariva, seemed, to, b...   \n",
       "5            0          1  [\"\"\"this, is, yet, another, update., just, fin...   \n",
       "6            2          1  [\"\"\"i, was, on, reclipsen, for, less, than, 2,...   \n",
       "7            3          8  [\"\"\"i, have, been, on, apri, for, 4, months,, ...   \n",
       "8            2          9  [\"\"\"i&#039;ve, been, taking, velivet, for, abo...   \n",
       "9            1          2  [\"\"\"gives, me, heartburn, and, indigestion., a...   \n",
       "\n",
       "                                         rawFeatures  \\\n",
       "0  (0.0, 0.0, 0.0, 0.0, 0.0, 0.0, 0.0, 0.0, 0.0, ...   \n",
       "1  (0.0, 0.0, 0.0, 0.0, 0.0, 0.0, 0.0, 0.0, 0.0, ...   \n",
       "2  (0.0, 0.0, 0.0, 0.0, 0.0, 0.0, 0.0, 0.0, 0.0, ...   \n",
       "3  (0.0, 0.0, 0.0, 0.0, 0.0, 0.0, 0.0, 0.0, 0.0, ...   \n",
       "4  (0.0, 0.0, 0.0, 0.0, 0.0, 0.0, 0.0, 0.0, 0.0, ...   \n",
       "5  (0.0, 0.0, 0.0, 0.0, 0.0, 0.0, 0.0, 0.0, 0.0, ...   \n",
       "6  (1.0, 0.0, 0.0, 0.0, 0.0, 0.0, 0.0, 0.0, 0.0, ...   \n",
       "7  (0.0, 0.0, 0.0, 0.0, 0.0, 0.0, 0.0, 0.0, 0.0, ...   \n",
       "8  (0.0, 0.0, 0.0, 0.0, 0.0, 0.0, 0.0, 0.0, 0.0, ...   \n",
       "9  (0.0, 0.0, 0.0, 0.0, 0.0, 0.0, 0.0, 0.0, 0.0, ...   \n",
       "\n",
       "                                     revviewFeatures  conditionIndex  \\\n",
       "0  (0.0, 0.0, 0.0, 0.0, 0.0, 0.0, 0.0, 0.0, 0.0, ...            14.0   \n",
       "1  (0.0, 0.0, 0.0, 0.0, 0.0, 0.0, 0.0, 0.0, 0.0, ...            83.0   \n",
       "2  (0.0, 0.0, 0.0, 0.0, 0.0, 0.0, 0.0, 0.0, 0.0, ...             0.0   \n",
       "3  (0.0, 0.0, 0.0, 0.0, 0.0, 0.0, 0.0, 0.0, 0.0, ...             0.0   \n",
       "4  (0.0, 0.0, 0.0, 0.0, 0.0, 0.0, 0.0, 0.0, 0.0, ...             0.0   \n",
       "5  (0.0, 0.0, 0.0, 0.0, 0.0, 0.0, 0.0, 0.0, 0.0, ...             0.0   \n",
       "6  (3.3244338839699816, 0.0, 0.0, 0.0, 0.0, 0.0, ...             0.0   \n",
       "7  (0.0, 0.0, 0.0, 0.0, 0.0, 0.0, 0.0, 0.0, 0.0, ...             0.0   \n",
       "8  (0.0, 0.0, 0.0, 0.0, 0.0, 0.0, 0.0, 0.0, 0.0, ...             0.0   \n",
       "9  (0.0, 0.0, 0.0, 0.0, 0.0, 0.0, 0.0, 0.0, 0.0, ...             0.0   \n",
       "\n",
       "                                        conditionVec  drugIndex  \\\n",
       "0  (0.0, 0.0, 0.0, 0.0, 0.0, 0.0, 0.0, 0.0, 0.0, ...       13.0   \n",
       "1  (0.0, 0.0, 0.0, 0.0, 0.0, 0.0, 0.0, 0.0, 0.0, ...     1322.0   \n",
       "2  (1.0, 0.0, 0.0, 0.0, 0.0, 0.0, 0.0, 0.0, 0.0, ...       35.0   \n",
       "3  (1.0, 0.0, 0.0, 0.0, 0.0, 0.0, 0.0, 0.0, 0.0, ...       57.0   \n",
       "4  (1.0, 0.0, 0.0, 0.0, 0.0, 0.0, 0.0, 0.0, 0.0, ...       57.0   \n",
       "5  (1.0, 0.0, 0.0, 0.0, 0.0, 0.0, 0.0, 0.0, 0.0, ...       57.0   \n",
       "6  (1.0, 0.0, 0.0, 0.0, 0.0, 0.0, 0.0, 0.0, 0.0, ...       57.0   \n",
       "7  (1.0, 0.0, 0.0, 0.0, 0.0, 0.0, 0.0, 0.0, 0.0, ...       57.0   \n",
       "8  (1.0, 0.0, 0.0, 0.0, 0.0, 0.0, 0.0, 0.0, 0.0, ...       57.0   \n",
       "9  (1.0, 0.0, 0.0, 0.0, 0.0, 0.0, 0.0, 0.0, 0.0, ...       57.0   \n",
       "\n",
       "                                             drugVec  \\\n",
       "0  (0.0, 0.0, 0.0, 0.0, 0.0, 0.0, 0.0, 0.0, 0.0, ...   \n",
       "1  (0.0, 0.0, 0.0, 0.0, 0.0, 0.0, 0.0, 0.0, 0.0, ...   \n",
       "2  (0.0, 0.0, 0.0, 0.0, 0.0, 0.0, 0.0, 0.0, 0.0, ...   \n",
       "3  (0.0, 0.0, 0.0, 0.0, 0.0, 0.0, 0.0, 0.0, 0.0, ...   \n",
       "4  (0.0, 0.0, 0.0, 0.0, 0.0, 0.0, 0.0, 0.0, 0.0, ...   \n",
       "5  (0.0, 0.0, 0.0, 0.0, 0.0, 0.0, 0.0, 0.0, 0.0, ...   \n",
       "6  (0.0, 0.0, 0.0, 0.0, 0.0, 0.0, 0.0, 0.0, 0.0, ...   \n",
       "7  (0.0, 0.0, 0.0, 0.0, 0.0, 0.0, 0.0, 0.0, 0.0, ...   \n",
       "8  (0.0, 0.0, 0.0, 0.0, 0.0, 0.0, 0.0, 0.0, 0.0, ...   \n",
       "9  (0.0, 0.0, 0.0, 0.0, 0.0, 0.0, 0.0, 0.0, 0.0, ...   \n",
       "\n",
       "                                            features  \n",
       "0  (0.0, 0.0, 0.0, 0.0, 0.0, 0.0, 0.0, 0.0, 0.0, ...  \n",
       "1  (0.0, 0.0, 0.0, 0.0, 0.0, 0.0, 0.0, 0.0, 0.0, ...  \n",
       "2  (0.0, 0.0, 0.0, 0.0, 0.0, 0.0, 0.0, 0.0, 0.0, ...  \n",
       "3  (0.0, 0.0, 0.0, 0.0, 0.0, 0.0, 0.0, 0.0, 0.0, ...  \n",
       "4  (0.0, 0.0, 0.0, 0.0, 0.0, 0.0, 0.0, 0.0, 0.0, ...  \n",
       "5  (0.0, 0.0, 0.0, 0.0, 0.0, 0.0, 0.0, 0.0, 0.0, ...  \n",
       "6  (0.0, 0.0, 0.0, 0.0, 0.0, 0.0, 0.0, 0.0, 0.0, ...  \n",
       "7  (0.0, 0.0, 0.0, 0.0, 0.0, 0.0, 0.0, 0.0, 0.0, ...  \n",
       "8  (0.0, 0.0, 0.0, 0.0, 0.0, 0.0, 0.0, 0.0, 0.0, ...  \n",
       "9  (0.0, 0.0, 0.0, 0.0, 0.0, 0.0, 0.0, 0.0, 0.0, ...  "
      ]
     },
     "execution_count": 15,
     "metadata": {},
     "output_type": "execute_result"
    }
   ],
   "source": [
    "train_proc.limit(10).toPandas()"
   ]
  },
  {
   "cell_type": "code",
   "execution_count": null,
   "metadata": {},
   "outputs": [],
   "source": []
  },
  {
   "cell_type": "code",
   "execution_count": 16,
   "metadata": {
    "cell_status": {
     "execute_time": {
      "duration": 258.18994140625,
      "end_time": 1614003221877.417
     }
    }
   },
   "outputs": [],
   "source": [
    "tokenizer = Tokenizer(inputCol=\"review\", outputCol=\"words\")\n",
    "hashingTF = HashingTF(inputCol=\"words\", outputCol=\"rawFeatures\", numFeatures=2**23)\n",
    "idf = IDF(inputCol=\"rawFeatures\", outputCol=\"revviewFeatures\")\n",
    "\n",
    "preproc = Pipeline(stages=[\n",
    "    tokenizer,\n",
    "    hashingTF,\n",
    "    idf\n",
    "])"
   ]
  },
  {
   "cell_type": "markdown",
   "metadata": {},
   "source": [
    "Запустить сбор признаков, который написан, у вас скорее всего не получится. Поэтому попробуем урезать количество вычислений - может быть получится."
   ]
  },
  {
   "cell_type": "code",
   "execution_count": 17,
   "metadata": {
    "cell_status": {
     "execute_time": {
      "duration": 254.76513671875,
      "end_time": 1614008109896.306
     }
    }
   },
   "outputs": [],
   "source": [
    "stringIndexerCondition = StringIndexer(inputCol='condition', outputCol = \"conditionIndex\").setHandleInvalid(\"skip\")\n",
    "encoderCondition = OneHotEncoder(inputCol=\"conditionIndex\", outputCol=\"conditionVec\")\n",
    "\n",
    "stringIndexerDrug = StringIndexer(inputCol='drugName', outputCol = \"drugIndex\").setHandleInvalid(\"skip\")\n",
    "encoderDrug = OneHotEncoder(inputCol=\"drugIndex\", outputCol=\"drugVec\")\n",
    "\n",
    "assembler = VectorAssembler(inputCols=[\"drugVec\", \"conditionVec\", 'ratingNum'], outputCol=\"features\")\n",
    "\n",
    "preproc = Pipeline(stages=[\n",
    "    stringIndexerCondition,\n",
    "    encoderCondition,\n",
    "    stringIndexerDrug,\n",
    "    encoderDrug,\n",
    "    assembler\n",
    "])"
   ]
  },
  {
   "cell_type": "code",
   "execution_count": 18,
   "metadata": {
    "cell_status": {
     "execute_time": {
      "duration": 5316.071044921875,
      "end_time": 1614008115227.569
     }
    }
   },
   "outputs": [],
   "source": [
    "preproc = preproc.fit(data)"
   ]
  },
  {
   "cell_type": "code",
   "execution_count": 19,
   "metadata": {
    "cell_status": {
     "execute_time": {
      "duration": 756.6298828125,
      "end_time": 1614008115996.191
     }
    }
   },
   "outputs": [],
   "source": [
    "train_proc = preproc.transform(train).cache()\n",
    "test_proc = preproc.transform(test).cache()"
   ]
  },
  {
   "cell_type": "code",
   "execution_count": 20,
   "metadata": {
    "cell_status": {
     "execute_time": {
      "duration": 3277.0419921875,
      "end_time": 1614008119284.472
     }
    },
    "scrolled": true
   },
   "outputs": [
    {
     "data": {
      "text/html": [
       "<div>\n",
       "<style scoped>\n",
       "    .dataframe tbody tr th:only-of-type {\n",
       "        vertical-align: middle;\n",
       "    }\n",
       "\n",
       "    .dataframe tbody tr th {\n",
       "        vertical-align: top;\n",
       "    }\n",
       "\n",
       "    .dataframe thead th {\n",
       "        text-align: right;\n",
       "    }\n",
       "</style>\n",
       "<table border=\"1\" class=\"dataframe\">\n",
       "  <thead>\n",
       "    <tr style=\"text-align: right;\">\n",
       "      <th></th>\n",
       "      <th>_c0</th>\n",
       "      <th>drugName</th>\n",
       "      <th>condition</th>\n",
       "      <th>review</th>\n",
       "      <th>rating</th>\n",
       "      <th>date</th>\n",
       "      <th>usefulCount</th>\n",
       "      <th>ratingNum</th>\n",
       "      <th>conditionIndex</th>\n",
       "      <th>conditionVec</th>\n",
       "      <th>drugIndex</th>\n",
       "      <th>drugVec</th>\n",
       "      <th>features</th>\n",
       "    </tr>\n",
       "  </thead>\n",
       "  <tbody>\n",
       "    <tr>\n",
       "      <th>0</th>\n",
       "      <td>10</td>\n",
       "      <td>Medroxyprogesterone</td>\n",
       "      <td>Abnormal Uterine Bleeding</td>\n",
       "      <td>\"\"\"I&amp;#039;m 17 years old and I got shot in Aug...</td>\n",
       "      <td>7.0</td>\n",
       "      <td>October 20, 2015</td>\n",
       "      <td>2</td>\n",
       "      <td>7</td>\n",
       "      <td>14.0</td>\n",
       "      <td>(0.0, 0.0, 0.0, 0.0, 0.0, 0.0, 0.0, 0.0, 0.0, ...</td>\n",
       "      <td>14.0</td>\n",
       "      <td>(0.0, 0.0, 0.0, 0.0, 0.0, 0.0, 0.0, 0.0, 0.0, ...</td>\n",
       "      <td>(0.0, 0.0, 0.0, 0.0, 0.0, 0.0, 0.0, 0.0, 0.0, ...</td>\n",
       "    </tr>\n",
       "    <tr>\n",
       "      <th>1</th>\n",
       "      <td>1000</td>\n",
       "      <td>Everolimus</td>\n",
       "      <td>Breast Cance</td>\n",
       "      <td>\"\"\"Although the medication did effectively tre...</td>\n",
       "      <td>2.0</td>\n",
       "      <td>March 15, 2016</td>\n",
       "      <td>4</td>\n",
       "      <td>2</td>\n",
       "      <td>83.0</td>\n",
       "      <td>(0.0, 0.0, 0.0, 0.0, 0.0, 0.0, 0.0, 0.0, 0.0, ...</td>\n",
       "      <td>1379.0</td>\n",
       "      <td>(0.0, 0.0, 0.0, 0.0, 0.0, 0.0, 0.0, 0.0, 0.0, ...</td>\n",
       "      <td>(0.0, 0.0, 0.0, 0.0, 0.0, 0.0, 0.0, 0.0, 0.0, ...</td>\n",
       "    </tr>\n",
       "    <tr>\n",
       "      <th>2</th>\n",
       "      <td>10000</td>\n",
       "      <td>Lo Loestrin Fe</td>\n",
       "      <td>Birth Control</td>\n",
       "      <td>\"\"\"I was on this birth control for 8 months. T...</td>\n",
       "      <td>7.0</td>\n",
       "      <td>April 10, 2013</td>\n",
       "      <td>4</td>\n",
       "      <td>7</td>\n",
       "      <td>0.0</td>\n",
       "      <td>(1.0, 0.0, 0.0, 0.0, 0.0, 0.0, 0.0, 0.0, 0.0, ...</td>\n",
       "      <td>35.0</td>\n",
       "      <td>(0.0, 0.0, 0.0, 0.0, 0.0, 0.0, 0.0, 0.0, 0.0, ...</td>\n",
       "      <td>(0.0, 0.0, 0.0, 0.0, 0.0, 0.0, 0.0, 0.0, 0.0, ...</td>\n",
       "    </tr>\n",
       "    <tr>\n",
       "      <th>3</th>\n",
       "      <td>100004</td>\n",
       "      <td>Desogestrel / ethinyl estradiol</td>\n",
       "      <td>Birth Control</td>\n",
       "      <td>\"\"\"I have been taking Azurette for 3 years now...</td>\n",
       "      <td>8.0</td>\n",
       "      <td>July 11, 2017</td>\n",
       "      <td>1</td>\n",
       "      <td>8</td>\n",
       "      <td>0.0</td>\n",
       "      <td>(1.0, 0.0, 0.0, 0.0, 0.0, 0.0, 0.0, 0.0, 0.0, ...</td>\n",
       "      <td>60.0</td>\n",
       "      <td>(0.0, 0.0, 0.0, 0.0, 0.0, 0.0, 0.0, 0.0, 0.0, ...</td>\n",
       "      <td>(0.0, 0.0, 0.0, 0.0, 0.0, 0.0, 0.0, 0.0, 0.0, ...</td>\n",
       "    </tr>\n",
       "    <tr>\n",
       "      <th>4</th>\n",
       "      <td>100007</td>\n",
       "      <td>Desogestrel / ethinyl estradiol</td>\n",
       "      <td>Birth Control</td>\n",
       "      <td>\"\"\"At the beginning, Kariva seemed to be worki...</td>\n",
       "      <td>5.0</td>\n",
       "      <td>June 29, 2017</td>\n",
       "      <td>0</td>\n",
       "      <td>5</td>\n",
       "      <td>0.0</td>\n",
       "      <td>(1.0, 0.0, 0.0, 0.0, 0.0, 0.0, 0.0, 0.0, 0.0, ...</td>\n",
       "      <td>60.0</td>\n",
       "      <td>(0.0, 0.0, 0.0, 0.0, 0.0, 0.0, 0.0, 0.0, 0.0, ...</td>\n",
       "      <td>(0.0, 0.0, 0.0, 0.0, 0.0, 0.0, 0.0, 0.0, 0.0, ...</td>\n",
       "    </tr>\n",
       "    <tr>\n",
       "      <th>5</th>\n",
       "      <td>100008</td>\n",
       "      <td>Desogestrel / ethinyl estradiol</td>\n",
       "      <td>Birth Control</td>\n",
       "      <td>\"\"\"This is yet another update. Just finished m...</td>\n",
       "      <td>1.0</td>\n",
       "      <td>June 28, 2017</td>\n",
       "      <td>0</td>\n",
       "      <td>1</td>\n",
       "      <td>0.0</td>\n",
       "      <td>(1.0, 0.0, 0.0, 0.0, 0.0, 0.0, 0.0, 0.0, 0.0, ...</td>\n",
       "      <td>60.0</td>\n",
       "      <td>(0.0, 0.0, 0.0, 0.0, 0.0, 0.0, 0.0, 0.0, 0.0, ...</td>\n",
       "      <td>(0.0, 0.0, 0.0, 0.0, 0.0, 0.0, 0.0, 0.0, 0.0, ...</td>\n",
       "    </tr>\n",
       "    <tr>\n",
       "      <th>6</th>\n",
       "      <td>100009</td>\n",
       "      <td>Desogestrel / ethinyl estradiol</td>\n",
       "      <td>Birth Control</td>\n",
       "      <td>\"\"\"I was on reclipsen for less than 2 weeks an...</td>\n",
       "      <td>1.0</td>\n",
       "      <td>June 28, 2017</td>\n",
       "      <td>2</td>\n",
       "      <td>1</td>\n",
       "      <td>0.0</td>\n",
       "      <td>(1.0, 0.0, 0.0, 0.0, 0.0, 0.0, 0.0, 0.0, 0.0, ...</td>\n",
       "      <td>60.0</td>\n",
       "      <td>(0.0, 0.0, 0.0, 0.0, 0.0, 0.0, 0.0, 0.0, 0.0, ...</td>\n",
       "      <td>(0.0, 0.0, 0.0, 0.0, 0.0, 0.0, 0.0, 0.0, 0.0, ...</td>\n",
       "    </tr>\n",
       "    <tr>\n",
       "      <th>7</th>\n",
       "      <td>100011</td>\n",
       "      <td>Desogestrel / ethinyl estradiol</td>\n",
       "      <td>Birth Control</td>\n",
       "      <td>\"\"\"I have been on Apri for 4 months, I&amp;#039;m ...</td>\n",
       "      <td>8.0</td>\n",
       "      <td>June 19, 2017</td>\n",
       "      <td>3</td>\n",
       "      <td>8</td>\n",
       "      <td>0.0</td>\n",
       "      <td>(1.0, 0.0, 0.0, 0.0, 0.0, 0.0, 0.0, 0.0, 0.0, ...</td>\n",
       "      <td>60.0</td>\n",
       "      <td>(0.0, 0.0, 0.0, 0.0, 0.0, 0.0, 0.0, 0.0, 0.0, ...</td>\n",
       "      <td>(0.0, 0.0, 0.0, 0.0, 0.0, 0.0, 0.0, 0.0, 0.0, ...</td>\n",
       "    </tr>\n",
       "    <tr>\n",
       "      <th>8</th>\n",
       "      <td>100012</td>\n",
       "      <td>Desogestrel / ethinyl estradiol</td>\n",
       "      <td>Birth Control</td>\n",
       "      <td>\"\"\"I&amp;#039;ve been taking Velivet for about a y...</td>\n",
       "      <td>9.0</td>\n",
       "      <td>June 17, 2017</td>\n",
       "      <td>2</td>\n",
       "      <td>9</td>\n",
       "      <td>0.0</td>\n",
       "      <td>(1.0, 0.0, 0.0, 0.0, 0.0, 0.0, 0.0, 0.0, 0.0, ...</td>\n",
       "      <td>60.0</td>\n",
       "      <td>(0.0, 0.0, 0.0, 0.0, 0.0, 0.0, 0.0, 0.0, 0.0, ...</td>\n",
       "      <td>(0.0, 0.0, 0.0, 0.0, 0.0, 0.0, 0.0, 0.0, 0.0, ...</td>\n",
       "    </tr>\n",
       "    <tr>\n",
       "      <th>9</th>\n",
       "      <td>100013</td>\n",
       "      <td>Desogestrel / ethinyl estradiol</td>\n",
       "      <td>Birth Control</td>\n",
       "      <td>\"\"\"Gives me heartburn and indigestion. Also ma...</td>\n",
       "      <td>2.0</td>\n",
       "      <td>June 8, 2017</td>\n",
       "      <td>1</td>\n",
       "      <td>2</td>\n",
       "      <td>0.0</td>\n",
       "      <td>(1.0, 0.0, 0.0, 0.0, 0.0, 0.0, 0.0, 0.0, 0.0, ...</td>\n",
       "      <td>60.0</td>\n",
       "      <td>(0.0, 0.0, 0.0, 0.0, 0.0, 0.0, 0.0, 0.0, 0.0, ...</td>\n",
       "      <td>(0.0, 0.0, 0.0, 0.0, 0.0, 0.0, 0.0, 0.0, 0.0, ...</td>\n",
       "    </tr>\n",
       "  </tbody>\n",
       "</table>\n",
       "</div>"
      ],
      "text/plain": [
       "      _c0                         drugName                  condition  \\\n",
       "0      10              Medroxyprogesterone  Abnormal Uterine Bleeding   \n",
       "1    1000                       Everolimus               Breast Cance   \n",
       "2   10000                   Lo Loestrin Fe              Birth Control   \n",
       "3  100004  Desogestrel / ethinyl estradiol              Birth Control   \n",
       "4  100007  Desogestrel / ethinyl estradiol              Birth Control   \n",
       "5  100008  Desogestrel / ethinyl estradiol              Birth Control   \n",
       "6  100009  Desogestrel / ethinyl estradiol              Birth Control   \n",
       "7  100011  Desogestrel / ethinyl estradiol              Birth Control   \n",
       "8  100012  Desogestrel / ethinyl estradiol              Birth Control   \n",
       "9  100013  Desogestrel / ethinyl estradiol              Birth Control   \n",
       "\n",
       "                                              review rating              date  \\\n",
       "0  \"\"\"I&#039;m 17 years old and I got shot in Aug...    7.0  October 20, 2015   \n",
       "1  \"\"\"Although the medication did effectively tre...    2.0    March 15, 2016   \n",
       "2  \"\"\"I was on this birth control for 8 months. T...    7.0    April 10, 2013   \n",
       "3  \"\"\"I have been taking Azurette for 3 years now...    8.0     July 11, 2017   \n",
       "4  \"\"\"At the beginning, Kariva seemed to be worki...    5.0     June 29, 2017   \n",
       "5  \"\"\"This is yet another update. Just finished m...    1.0     June 28, 2017   \n",
       "6  \"\"\"I was on reclipsen for less than 2 weeks an...    1.0     June 28, 2017   \n",
       "7  \"\"\"I have been on Apri for 4 months, I&#039;m ...    8.0     June 19, 2017   \n",
       "8  \"\"\"I&#039;ve been taking Velivet for about a y...    9.0     June 17, 2017   \n",
       "9  \"\"\"Gives me heartburn and indigestion. Also ma...    2.0      June 8, 2017   \n",
       "\n",
       "   usefulCount  ratingNum  conditionIndex  \\\n",
       "0            2          7            14.0   \n",
       "1            4          2            83.0   \n",
       "2            4          7             0.0   \n",
       "3            1          8             0.0   \n",
       "4            0          5             0.0   \n",
       "5            0          1             0.0   \n",
       "6            2          1             0.0   \n",
       "7            3          8             0.0   \n",
       "8            2          9             0.0   \n",
       "9            1          2             0.0   \n",
       "\n",
       "                                        conditionVec  drugIndex  \\\n",
       "0  (0.0, 0.0, 0.0, 0.0, 0.0, 0.0, 0.0, 0.0, 0.0, ...       14.0   \n",
       "1  (0.0, 0.0, 0.0, 0.0, 0.0, 0.0, 0.0, 0.0, 0.0, ...     1379.0   \n",
       "2  (1.0, 0.0, 0.0, 0.0, 0.0, 0.0, 0.0, 0.0, 0.0, ...       35.0   \n",
       "3  (1.0, 0.0, 0.0, 0.0, 0.0, 0.0, 0.0, 0.0, 0.0, ...       60.0   \n",
       "4  (1.0, 0.0, 0.0, 0.0, 0.0, 0.0, 0.0, 0.0, 0.0, ...       60.0   \n",
       "5  (1.0, 0.0, 0.0, 0.0, 0.0, 0.0, 0.0, 0.0, 0.0, ...       60.0   \n",
       "6  (1.0, 0.0, 0.0, 0.0, 0.0, 0.0, 0.0, 0.0, 0.0, ...       60.0   \n",
       "7  (1.0, 0.0, 0.0, 0.0, 0.0, 0.0, 0.0, 0.0, 0.0, ...       60.0   \n",
       "8  (1.0, 0.0, 0.0, 0.0, 0.0, 0.0, 0.0, 0.0, 0.0, ...       60.0   \n",
       "9  (1.0, 0.0, 0.0, 0.0, 0.0, 0.0, 0.0, 0.0, 0.0, ...       60.0   \n",
       "\n",
       "                                             drugVec  \\\n",
       "0  (0.0, 0.0, 0.0, 0.0, 0.0, 0.0, 0.0, 0.0, 0.0, ...   \n",
       "1  (0.0, 0.0, 0.0, 0.0, 0.0, 0.0, 0.0, 0.0, 0.0, ...   \n",
       "2  (0.0, 0.0, 0.0, 0.0, 0.0, 0.0, 0.0, 0.0, 0.0, ...   \n",
       "3  (0.0, 0.0, 0.0, 0.0, 0.0, 0.0, 0.0, 0.0, 0.0, ...   \n",
       "4  (0.0, 0.0, 0.0, 0.0, 0.0, 0.0, 0.0, 0.0, 0.0, ...   \n",
       "5  (0.0, 0.0, 0.0, 0.0, 0.0, 0.0, 0.0, 0.0, 0.0, ...   \n",
       "6  (0.0, 0.0, 0.0, 0.0, 0.0, 0.0, 0.0, 0.0, 0.0, ...   \n",
       "7  (0.0, 0.0, 0.0, 0.0, 0.0, 0.0, 0.0, 0.0, 0.0, ...   \n",
       "8  (0.0, 0.0, 0.0, 0.0, 0.0, 0.0, 0.0, 0.0, 0.0, ...   \n",
       "9  (0.0, 0.0, 0.0, 0.0, 0.0, 0.0, 0.0, 0.0, 0.0, ...   \n",
       "\n",
       "                                            features  \n",
       "0  (0.0, 0.0, 0.0, 0.0, 0.0, 0.0, 0.0, 0.0, 0.0, ...  \n",
       "1  (0.0, 0.0, 0.0, 0.0, 0.0, 0.0, 0.0, 0.0, 0.0, ...  \n",
       "2  (0.0, 0.0, 0.0, 0.0, 0.0, 0.0, 0.0, 0.0, 0.0, ...  \n",
       "3  (0.0, 0.0, 0.0, 0.0, 0.0, 0.0, 0.0, 0.0, 0.0, ...  \n",
       "4  (0.0, 0.0, 0.0, 0.0, 0.0, 0.0, 0.0, 0.0, 0.0, ...  \n",
       "5  (0.0, 0.0, 0.0, 0.0, 0.0, 0.0, 0.0, 0.0, 0.0, ...  \n",
       "6  (0.0, 0.0, 0.0, 0.0, 0.0, 0.0, 0.0, 0.0, 0.0, ...  \n",
       "7  (0.0, 0.0, 0.0, 0.0, 0.0, 0.0, 0.0, 0.0, 0.0, ...  \n",
       "8  (0.0, 0.0, 0.0, 0.0, 0.0, 0.0, 0.0, 0.0, 0.0, ...  \n",
       "9  (0.0, 0.0, 0.0, 0.0, 0.0, 0.0, 0.0, 0.0, 0.0, ...  "
      ]
     },
     "execution_count": 20,
     "metadata": {},
     "output_type": "execute_result"
    }
   ],
   "source": [
    "train_proc.limit(10).toPandas()"
   ]
  },
  {
   "cell_type": "code",
   "execution_count": 21,
   "metadata": {},
   "outputs": [
    {
     "data": {
      "text/plain": [
       "Row(_c0='10', drugName='Medroxyprogesterone', condition='Abnormal Uterine Bleeding', review='\"\"\"I&#039;m 17 years old and I got shot in August 2015, personally. I don&#039;t mind it. I mean, I bleed little bits and random times, but I&#039;d rather have the blood that&#039;s supposed to come out, come out and not worry about where it&#039;s going or staying in my body. I have my other injection in November on the 2nd, and I&#039;m still wondering if I could take it again. The only downside to the injection is that I gained access weight and I&#039;m kind of moody.\"\"\"', rating='7.0', date='October 20, 2015', usefulCount=2, ratingNum=7, conditionIndex=14.0, conditionVec=SparseVector(896, {14: 1.0}), drugIndex=14.0, drugVec=SparseVector(3572, {14: 1.0}), features=SparseVector(4469, {14: 1.0, 3586: 1.0, 4468: 7.0}))"
      ]
     },
     "execution_count": 21,
     "metadata": {},
     "output_type": "execute_result"
    }
   ],
   "source": [
    "train_proc.rdd.first()"
   ]
  },
  {
   "cell_type": "markdown",
   "metadata": {},
   "source": [
    "Если все таки удалось собрать датасет, то запускаем линейную регрессию"
   ]
  },
  {
   "cell_type": "code",
   "execution_count": 22,
   "metadata": {
    "cell_status": {
     "execute_time": {
      "duration": 246.6259765625,
      "end_time": 1614008119542.424
     }
    }
   },
   "outputs": [],
   "source": [
    "lr = LinearRegression(featuresCol='features',\n",
    "                      labelCol='usefulCount', maxIter=10, regParam=0.3, elasticNetParam=0.8)"
   ]
  },
  {
   "cell_type": "code",
   "execution_count": 23,
   "metadata": {
    "cell_status": {
     "execute_time": {
      "duration": 13373.862060546875,
      "end_time": 1614008132927.959
     }
    }
   },
   "outputs": [],
   "source": [
    "lrModel = lr.fit(train_proc)"
   ]
  },
  {
   "cell_type": "code",
   "execution_count": 41,
   "metadata": {},
   "outputs": [],
   "source": [
    "#test_proc = preproc.fit(train).transform(test).cache()"
   ]
  },
  {
   "cell_type": "code",
   "execution_count": 24,
   "metadata": {
    "cell_status": {
     "execute_time": {
      "duration": 264.359130859375,
      "end_time": 1614008133204.069
     }
    },
    "scrolled": true
   },
   "outputs": [
    {
     "data": {
      "text/plain": [
       "SparseVector(4469, {0: -1.5396, 7: 0.6016, 8: -2.2478, 11: 18.5525, 12: -2.6516, 13: 6.3993, 15: -4.2273, 17: 2.2721, 18: 2.7929, 19: -4.6926, 20: -1.8025, 22: -1.4182, 24: 1.5974, 25: 5.6574, 27: -3.6162, 28: 14.7229, 30: -2.1567, 31: -6.25, 32: 4.1213, 33: -0.733, 34: -1.3478, 36: 16.8292, 37: -2.0554, 42: -1.3523, 43: 8.9463, 44: 16.5407, 45: 7.6053, 46: -4.8076, 47: 19.9402, 49: 1.5438, 51: 21.3003, 54: -3.1937, 57: -0.3751, 59: 3.3786, 61: -7.7252, 63: 17.8873, 64: 3.3672, 68: -7.1302, 69: 4.5331, 73: 1.5355, 74: 22.0911, 75: 10.1474, 77: 12.5425, 82: 0.837, 83: 10.9366, 85: 0.745, 88: -1.6474, 89: -1.2763, 91: 3.3217, 94: -4.1866, 97: 8.6183, 101: 5.3111, 104: 7.3622, 106: 15.4524, 107: -1.2783, 109: 12.6343, 110: 21.9048, 111: 8.4787, 113: -5.7946, 116: 1.2026, 118: 15.4499, 119: 3.2374, 120: 6.8017, 122: 7.03, 123: 10.7318, 124: 26.3091, 126: -0.7743, 132: 1.4863, 139: -0.3653, 140: 3.7497, 142: -0.4101, 143: 34.2557, 145: 14.5784, 146: 14.928, 149: 5.9699, 152: 5.5148, 153: 6.2735, 157: 2.0887, 158: 0.8463, 159: 1.4041, 162: 0.9508, 163: 5.3233, 164: -2.3642, 166: 1.4825, 169: 5.5133, 179: 0.9408, 180: 0.0411, 181: 28.7637, 184: -0.2251, 185: 8.9091, 192: 22.41, 196: -2.5467, 199: 0.6911, 206: 5.5639, 210: 11.1281, 211: -7.4094, 212: 27.723, 214: 0.8553, 216: 1.7851, 219: -0.573, 221: -1.0863, 223: 4.9336, 227: 16.3589, 231: 4.1338, 233: 0.204, 234: 27.2621, 237: 8.9564, 240: 17.8839, 246: -1.6676, 247: 4.617, 248: 4.1726, 249: 5.1141, 252: 0.0962, 253: 5.7131, 254: 17.3257, 257: 7.5361, 258: 5.0471, 260: 34.9096, 273: 23.3298, 275: 6.269, 278: 7.6876, 290: 41.9596, 291: 14.9342, 293: 1.4005, 295: 3.1173, 297: 21.8817, 298: -1.0684, 301: 12.535, 302: 7.7762, 304: 6.1817, 306: -2.6167, 307: 14.9919, 309: 13.9212, 310: 12.8663, 311: 6.822, 312: 14.2886, 315: 1.4691, 317: -1.9516, 324: 18.6306, 325: 3.17, 327: 8.0196, 335: 20.5054, 339: 1.4472, 340: 0.634, 343: 0.8972, 346: 7.0568, 351: 0.2932, 352: 13.7115, 355: 4.9682, 359: 1.6024, 376: 7.6466, 377: 13.6648, 381: -1.1039, 387: 31.0928, 388: 29.2359, 394: 6.9738, 397: 1.0517, 399: 21.0651, 401: -2.0643, 402: -5.0537, 404: -2.7021, 406: 4.2795, 408: 8.6579, 410: 6.1314, 414: 1.7612, 415: 8.8533, 431: 6.1299, 448: 2.5888, 450: 8.2269, 460: 16.2139, 461: 24.257, 463: -0.7214, 464: 15.2166, 469: 4.3738, 473: 29.4053, 482: 4.0464, 485: 9.9629, 488: 12.7468, 489: 9.7767, 490: 31.1093, 494: 31.2244, 496: 1.569, 503: 19.7527, 504: 9.9589, 516: 12.118, 521: 8.7054, 526: 21.2673, 527: 16.1794, 534: 13.299, 537: -5.3797, 541: 17.66, 543: 32.6435, 545: 10.889, 551: 36.8534, 554: 12.2555, 565: 0.5656, 571: 14.9653, 573: -2.6488, 578: 11.9869, 579: 20.1364, 581: 41.7811, 594: 1.7498, 596: 50.1646, 599: -3.325, 604: 13.3112, 607: 56.9094, 608: 9.2681, 615: 27.3418, 617: -7.2131, 618: -6.6723, 619: -4.3234, 620: 9.1203, 623: 7.1445, 629: -4.1843, 641: 13.1282, 642: 0.1189, 645: 13.7873, 647: 15.8802, 653: 23.25, 658: 3.0711, 661: 5.7324, 665: 52.4924, 666: 0.5223, 670: 36.9077, 674: 30.2, 676: 5.868, 677: 45.4242, 686: 14.2353, 691: 15.7064, 695: 1.777, 696: -4.5709, 697: 19.4632, 707: 7.3965, 708: 3.1217, 713: 35.5929, 714: 4.5367, 715: 6.9793, 716: 10.069, 719: 12.08, 734: 30.291, 736: 9.686, 742: 7.1839, 747: 65.3427, 749: 9.4966, 753: 4.3933, 757: 44.2903, 762: 1.6162, 767: 17.5862, 769: 8.7147, 772: 4.5048, 773: 3.4939, 780: 1.6903, 789: 21.1582, 803: 25.3069, 814: 22.8852, 816: 18.2893, 818: 28.8024, 821: 10.5575, 824: 8.4987, 826: 3.1746, 830: 2.647, 846: 9.5078, 852: -0.8376, 862: 7.1203, 865: 1.1642, 885: 14.6741, 888: 34.8214, 889: 10.9084, 896: -3.402, 899: 24.0781, 906: 10.7606, 909: 9.0393, 913: 14.6869, 915: 37.1833, 921: 7.9807, 934: 37.4829, 940: 29.3355, 947: 24.513, 950: 0.9197, 955: 33.8026, 956: 7.8964, 995: -6.6518, 998: 13.5811, 999: -2.2529, 1006: 4.4875, 1011: 5.2573, 1012: -0.3717, 1034: 35.3653, 1037: 9.3473, 1042: 28.5603, 1059: -2.1428, 1060: 6.1481, 1067: 39.6053, 1070: -1.7128, 1090: 11.9855, 1094: 3.3613, 1106: 47.375, 1115: -0.5445, 1119: -2.2973, 1130: 10.4524, 1150: 0.3054, 1183: 6.8031, 1191: 25.0436, 1198: 15.4916, 1228: 16.237, 1231: 12.3282, 1245: -1.2788, 1264: 26.5981, 1288: 8.5237, 1294: 10.5239, 1309: 8.7279, 1323: 95.016, 1349: 24.0438, 1360: 4.3211, 1419: 4.6932, 1432: -2.0493, 1442: 19.8281, 1489: 12.7824, 1491: -1.8191, 1501: 19.7405, 1520: 29.0613, 1557: 2.7116, 1574: 32.6593, 1613: -1.3364, 1674: 47.3162, 1677: 28.9377, 1935: 13.7606, 2185: 8.673, 2196: 49.9157, 2355: 19.7857, 2381: 44.8812, 2489: 30.0832, 2698: 39.4247, 3472: 23.9858, 3572: -14.7897, 3573: 21.6433, 3574: 4.2944, 3575: 17.9624, 3576: -9.1173, 3577: 6.5187, 3578: 7.199, 3579: 3.7825, 3580: 6.0245, 3581: 7.1086, 3582: -11.1126, 3583: 0.296, 3584: 15.2323, 3585: -4.7187, 3586: -4.5101, 3587: 12.206, 3588: -3.6739, 3589: -8.0156, 3590: -13.7724, 3591: 28.9721, 3594: 9.1087, 3595: 8.3649, 3596: -0.65, 3597: 2.1041, 3598: 13.0378, 3599: 10.4582, 3600: 1.8102, 3601: 18.891, 3602: 22.2763, 3603: -5.6171, 3604: 15.6747, 3605: 1.9019, 3606: -4.4697, 3609: -2.406, 3610: 0.136, 3611: -14.1601, 3612: 9.9517, 3613: 8.0, 3614: 2.6486, 3616: -0.2613, 3617: 20.6923, 3618: 1.7365, 3619: -12.0206, 3620: 9.6735, 3622: -4.6016, 3623: 11.7143, 3625: -3.6691, 3628: 29.0361, 3630: 3.2614, 3631: -4.6312, 3633: -18.4421, 3634: 28.063, 3635: -0.8008, 3636: 5.6983, 3637: -5.6007, 3639: -7.6502, 3640: 36.0385, 3641: -7.4841, 3642: -9.4398, 3643: -6.0062, 3644: 7.8118, 3645: -6.7102, 3647: 21.3086, 3648: 40.8453, 3651: 8.3729, 3652: -8.1201, 3655: 27.7309, 3656: -2.7866, 3658: -12.4132, 3659: -5.1111, 3662: 16.3421, 3664: 9.1113, 3665: -0.8714, 3666: -0.3918, 3668: 13.7298, 3670: -0.873, 3676: 7.6271, 3679: 0.7988, 3680: 15.5023, 3684: -6.1633, 3685: -2.9896, 3686: 8.9649, 3687: 4.0779, 3688: -1.0872, 3690: -4.1314, 3691: 4.9967, 3692: -1.2995, 3693: 10.6916, 3694: -8.7219, 3695: 9.2784, 3696: 8.5507, 3697: -1.9301, 3700: -0.1891, 3701: 1.3063, 3703: 11.1939, 3704: -2.9273, 3706: 10.5538, 3707: -12.1004, 3710: -10.5052, 3712: 13.5971, 3714: 2.6978, 3716: 7.1626, 3717: -14.0048, 3718: 4.9766, 3719: -5.3874, 3723: 13.7997, 3724: -2.4931, 3726: 22.8482, 3727: 2.4067, 3728: 3.976, 3730: 14.824, 3731: 12.6678, 3732: 15.8856, 3735: -12.4143, 3740: 6.5088, 3743: 21.5282, 3744: -11.7114, 3748: 5.0703, 3751: -4.4184, 3752: -9.3167, 3754: -10.8993, 3755: 6.7709, 3761: -10.6818, 3765: -1.2042, 3766: -1.1931, 3767: -1.0235, 3770: -2.8379, 3774: 3.2064, 3775: 16.0723, 3776: -9.4979, 3777: -4.0906, 3781: 1.4483, 3785: -1.9951, 3788: 9.3074, 3790: 23.0155, 3797: -11.4951, 3801: -8.8016, 3804: -2.4743, 3806: 5.9184, 3807: -6.0414, 3808: -0.2405, 3810: -1.4474, 3812: 2.37, 3816: 5.691, 3819: -6.8752, 3825: -3.6102, 3831: -2.9922, 3837: 20.3993, 3841: -3.8665, 3844: -0.1823, 3845: -3.7069, 3852: -0.3894, 3859: -0.693, 3862: -1.1833, 3872: -15.2952, 3882: 12.3754, 3899: -2.7599, 3905: -3.066, 3916: -1.1952, 3919: -1.7489, 3921: 1.0291, 3937: 31.5558, 3992: 6.2722, 4241: 5.5022, 4468: 2.165})"
      ]
     },
     "execution_count": 24,
     "metadata": {},
     "output_type": "execute_result"
    }
   ],
   "source": [
    "lrModel.coefficients"
   ]
  },
  {
   "cell_type": "code",
   "execution_count": 25,
   "metadata": {
    "cell_status": {
     "execute_time": {
      "duration": 249.432861328125,
      "end_time": 1614008133464.818
     }
    }
   },
   "outputs": [],
   "source": [
    "from pyspark.ml.evaluation import RegressionEvaluator\n",
    "\n",
    "predictions = lrModel.transform(test_proc)"
   ]
  },
  {
   "cell_type": "code",
   "execution_count": 26,
   "metadata": {
    "cell_status": {
     "execute_time": {
      "duration": 2274.383056640625,
      "end_time": 1614008135751.993
     }
    },
    "scrolled": true
   },
   "outputs": [
    {
     "data": {
      "text/html": [
       "<div>\n",
       "<style scoped>\n",
       "    .dataframe tbody tr th:only-of-type {\n",
       "        vertical-align: middle;\n",
       "    }\n",
       "\n",
       "    .dataframe tbody tr th {\n",
       "        vertical-align: top;\n",
       "    }\n",
       "\n",
       "    .dataframe thead th {\n",
       "        text-align: right;\n",
       "    }\n",
       "</style>\n",
       "<table border=\"1\" class=\"dataframe\">\n",
       "  <thead>\n",
       "    <tr style=\"text-align: right;\">\n",
       "      <th></th>\n",
       "      <th>_c0</th>\n",
       "      <th>drugName</th>\n",
       "      <th>condition</th>\n",
       "      <th>review</th>\n",
       "      <th>rating</th>\n",
       "      <th>date</th>\n",
       "      <th>usefulCount</th>\n",
       "      <th>ratingNum</th>\n",
       "      <th>conditionIndex</th>\n",
       "      <th>conditionVec</th>\n",
       "      <th>drugIndex</th>\n",
       "      <th>drugVec</th>\n",
       "      <th>features</th>\n",
       "      <th>prediction</th>\n",
       "    </tr>\n",
       "  </thead>\n",
       "  <tbody>\n",
       "    <tr>\n",
       "      <th>0</th>\n",
       "      <td>100</td>\n",
       "      <td>Medroxyprogesterone</td>\n",
       "      <td>Birth Control</td>\n",
       "      <td>\"\"\"Depo was not for me, but that does not mean...</td>\n",
       "      <td>5.0</td>\n",
       "      <td>August 17, 2015</td>\n",
       "      <td>2</td>\n",
       "      <td>5</td>\n",
       "      <td>0.0</td>\n",
       "      <td>(1.0, 0.0, 0.0, 0.0, 0.0, 0.0, 0.0, 0.0, 0.0, ...</td>\n",
       "      <td>14.0</td>\n",
       "      <td>(0.0, 0.0, 0.0, 0.0, 0.0, 0.0, 0.0, 0.0, 0.0, ...</td>\n",
       "      <td>(0.0, 0.0, 0.0, 0.0, 0.0, 0.0, 0.0, 0.0, 0.0, ...</td>\n",
       "      <td>6.099772</td>\n",
       "    </tr>\n",
       "    <tr>\n",
       "      <th>1</th>\n",
       "      <td>100002</td>\n",
       "      <td>Desogestrel / ethinyl estradiol</td>\n",
       "      <td>Birth Control</td>\n",
       "      <td>\"\"\"I have been taking this birth control for f...</td>\n",
       "      <td>4.0</td>\n",
       "      <td>July 12, 2017</td>\n",
       "      <td>2</td>\n",
       "      <td>4</td>\n",
       "      <td>0.0</td>\n",
       "      <td>(1.0, 0.0, 0.0, 0.0, 0.0, 0.0, 0.0, 0.0, 0.0, ...</td>\n",
       "      <td>60.0</td>\n",
       "      <td>(0.0, 0.0, 0.0, 0.0, 0.0, 0.0, 0.0, 0.0, 0.0, ...</td>\n",
       "      <td>(0.0, 0.0, 0.0, 0.0, 0.0, 0.0, 0.0, 0.0, 0.0, ...</td>\n",
       "      <td>3.934818</td>\n",
       "    </tr>\n",
       "    <tr>\n",
       "      <th>2</th>\n",
       "      <td>100017</td>\n",
       "      <td>Desogestrel / ethinyl estradiol</td>\n",
       "      <td>Birth Control</td>\n",
       "      <td>\"\"\"Love it! Been continuously dosing without b...</td>\n",
       "      <td>9.0</td>\n",
       "      <td>May 30, 2017</td>\n",
       "      <td>3</td>\n",
       "      <td>9</td>\n",
       "      <td>0.0</td>\n",
       "      <td>(1.0, 0.0, 0.0, 0.0, 0.0, 0.0, 0.0, 0.0, 0.0, ...</td>\n",
       "      <td>60.0</td>\n",
       "      <td>(0.0, 0.0, 0.0, 0.0, 0.0, 0.0, 0.0, 0.0, 0.0, ...</td>\n",
       "      <td>(0.0, 0.0, 0.0, 0.0, 0.0, 0.0, 0.0, 0.0, 0.0, ...</td>\n",
       "      <td>14.759589</td>\n",
       "    </tr>\n",
       "    <tr>\n",
       "      <th>3</th>\n",
       "      <td>10002</td>\n",
       "      <td>Lo Loestrin Fe</td>\n",
       "      <td>Birth Control</td>\n",
       "      <td>\"\"\"Well, I&amp;#039;ve been on this right now for ...</td>\n",
       "      <td>6.0</td>\n",
       "      <td>April 4, 2013</td>\n",
       "      <td>10</td>\n",
       "      <td>6</td>\n",
       "      <td>0.0</td>\n",
       "      <td>(1.0, 0.0, 0.0, 0.0, 0.0, 0.0, 0.0, 0.0, 0.0, ...</td>\n",
       "      <td>35.0</td>\n",
       "      <td>(0.0, 0.0, 0.0, 0.0, 0.0, 0.0, 0.0, 0.0, 0.0, ...</td>\n",
       "      <td>(0.0, 0.0, 0.0, 0.0, 0.0, 0.0, 0.0, 0.0, 0.0, ...</td>\n",
       "      <td>8.264726</td>\n",
       "    </tr>\n",
       "    <tr>\n",
       "      <th>4</th>\n",
       "      <td>100021</td>\n",
       "      <td>Desogestrel / ethinyl estradiol</td>\n",
       "      <td>Birth Control</td>\n",
       "      <td>\"\"\"So I&amp;#039;ve been on this birth control a l...</td>\n",
       "      <td>5.0</td>\n",
       "      <td>May 18, 2017</td>\n",
       "      <td>3</td>\n",
       "      <td>5</td>\n",
       "      <td>0.0</td>\n",
       "      <td>(1.0, 0.0, 0.0, 0.0, 0.0, 0.0, 0.0, 0.0, 0.0, ...</td>\n",
       "      <td>60.0</td>\n",
       "      <td>(0.0, 0.0, 0.0, 0.0, 0.0, 0.0, 0.0, 0.0, 0.0, ...</td>\n",
       "      <td>(0.0, 0.0, 0.0, 0.0, 0.0, 0.0, 0.0, 0.0, 0.0, ...</td>\n",
       "      <td>6.099772</td>\n",
       "    </tr>\n",
       "    <tr>\n",
       "      <th>5</th>\n",
       "      <td>100107</td>\n",
       "      <td>Desogestrel / ethinyl estradiol</td>\n",
       "      <td>Birth Control</td>\n",
       "      <td>\"\"\"completely lost every bit of sex drive i ha...</td>\n",
       "      <td>5.0</td>\n",
       "      <td>November 23, 2016</td>\n",
       "      <td>1</td>\n",
       "      <td>5</td>\n",
       "      <td>0.0</td>\n",
       "      <td>(1.0, 0.0, 0.0, 0.0, 0.0, 0.0, 0.0, 0.0, 0.0, ...</td>\n",
       "      <td>60.0</td>\n",
       "      <td>(0.0, 0.0, 0.0, 0.0, 0.0, 0.0, 0.0, 0.0, 0.0, ...</td>\n",
       "      <td>(0.0, 0.0, 0.0, 0.0, 0.0, 0.0, 0.0, 0.0, 0.0, ...</td>\n",
       "      <td>6.099772</td>\n",
       "    </tr>\n",
       "    <tr>\n",
       "      <th>6</th>\n",
       "      <td>100123</td>\n",
       "      <td>Desogestrel / ethinyl estradiol</td>\n",
       "      <td>Birth Control</td>\n",
       "      <td>\"\"\"I haven&amp;#039;t taken any BC in 5 years sinc...</td>\n",
       "      <td>1.0</td>\n",
       "      <td>November 2, 2016</td>\n",
       "      <td>2</td>\n",
       "      <td>1</td>\n",
       "      <td>0.0</td>\n",
       "      <td>(1.0, 0.0, 0.0, 0.0, 0.0, 0.0, 0.0, 0.0, 0.0, ...</td>\n",
       "      <td>60.0</td>\n",
       "      <td>(0.0, 0.0, 0.0, 0.0, 0.0, 0.0, 0.0, 0.0, 0.0, ...</td>\n",
       "      <td>(0.0, 0.0, 0.0, 0.0, 0.0, 0.0, 0.0, 0.0, 0.0, ...</td>\n",
       "      <td>-2.560044</td>\n",
       "    </tr>\n",
       "    <tr>\n",
       "      <th>7</th>\n",
       "      <td>100126</td>\n",
       "      <td>Desogestrel / ethinyl estradiol</td>\n",
       "      <td>Birth Control</td>\n",
       "      <td>\"\"\"I have  used Cerelle for 9 days I feel very...</td>\n",
       "      <td>10.0</td>\n",
       "      <td>October 28, 2016</td>\n",
       "      <td>1</td>\n",
       "      <td>10</td>\n",
       "      <td>0.0</td>\n",
       "      <td>(1.0, 0.0, 0.0, 0.0, 0.0, 0.0, 0.0, 0.0, 0.0, ...</td>\n",
       "      <td>60.0</td>\n",
       "      <td>(0.0, 0.0, 0.0, 0.0, 0.0, 0.0, 0.0, 0.0, 0.0, ...</td>\n",
       "      <td>(0.0, 0.0, 0.0, 0.0, 0.0, 0.0, 0.0, 0.0, 0.0, ...</td>\n",
       "      <td>16.924543</td>\n",
       "    </tr>\n",
       "    <tr>\n",
       "      <th>8</th>\n",
       "      <td>100165</td>\n",
       "      <td>Desogestrel / ethinyl estradiol</td>\n",
       "      <td>Birth Control</td>\n",
       "      <td>\"\"\"I&amp;#039;ve had a pretty good experience with...</td>\n",
       "      <td>8.0</td>\n",
       "      <td>March 15, 2016</td>\n",
       "      <td>1</td>\n",
       "      <td>8</td>\n",
       "      <td>0.0</td>\n",
       "      <td>(1.0, 0.0, 0.0, 0.0, 0.0, 0.0, 0.0, 0.0, 0.0, ...</td>\n",
       "      <td>60.0</td>\n",
       "      <td>(0.0, 0.0, 0.0, 0.0, 0.0, 0.0, 0.0, 0.0, 0.0, ...</td>\n",
       "      <td>(0.0, 0.0, 0.0, 0.0, 0.0, 0.0, 0.0, 0.0, 0.0, ...</td>\n",
       "      <td>12.594635</td>\n",
       "    </tr>\n",
       "    <tr>\n",
       "      <th>9</th>\n",
       "      <td>100167</td>\n",
       "      <td>Desogestrel / ethinyl estradiol</td>\n",
       "      <td>Birth Control</td>\n",
       "      <td>\"\"\"I had previously been on Microgestin which ...</td>\n",
       "      <td>10.0</td>\n",
       "      <td>March 11, 2016</td>\n",
       "      <td>10</td>\n",
       "      <td>10</td>\n",
       "      <td>0.0</td>\n",
       "      <td>(1.0, 0.0, 0.0, 0.0, 0.0, 0.0, 0.0, 0.0, 0.0, ...</td>\n",
       "      <td>60.0</td>\n",
       "      <td>(0.0, 0.0, 0.0, 0.0, 0.0, 0.0, 0.0, 0.0, 0.0, ...</td>\n",
       "      <td>(0.0, 0.0, 0.0, 0.0, 0.0, 0.0, 0.0, 0.0, 0.0, ...</td>\n",
       "      <td>16.924543</td>\n",
       "    </tr>\n",
       "  </tbody>\n",
       "</table>\n",
       "</div>"
      ],
      "text/plain": [
       "      _c0                         drugName      condition  \\\n",
       "0     100              Medroxyprogesterone  Birth Control   \n",
       "1  100002  Desogestrel / ethinyl estradiol  Birth Control   \n",
       "2  100017  Desogestrel / ethinyl estradiol  Birth Control   \n",
       "3   10002                   Lo Loestrin Fe  Birth Control   \n",
       "4  100021  Desogestrel / ethinyl estradiol  Birth Control   \n",
       "5  100107  Desogestrel / ethinyl estradiol  Birth Control   \n",
       "6  100123  Desogestrel / ethinyl estradiol  Birth Control   \n",
       "7  100126  Desogestrel / ethinyl estradiol  Birth Control   \n",
       "8  100165  Desogestrel / ethinyl estradiol  Birth Control   \n",
       "9  100167  Desogestrel / ethinyl estradiol  Birth Control   \n",
       "\n",
       "                                              review rating  \\\n",
       "0  \"\"\"Depo was not for me, but that does not mean...    5.0   \n",
       "1  \"\"\"I have been taking this birth control for f...    4.0   \n",
       "2  \"\"\"Love it! Been continuously dosing without b...    9.0   \n",
       "3  \"\"\"Well, I&#039;ve been on this right now for ...    6.0   \n",
       "4  \"\"\"So I&#039;ve been on this birth control a l...    5.0   \n",
       "5  \"\"\"completely lost every bit of sex drive i ha...    5.0   \n",
       "6  \"\"\"I haven&#039;t taken any BC in 5 years sinc...    1.0   \n",
       "7  \"\"\"I have  used Cerelle for 9 days I feel very...   10.0   \n",
       "8  \"\"\"I&#039;ve had a pretty good experience with...    8.0   \n",
       "9  \"\"\"I had previously been on Microgestin which ...   10.0   \n",
       "\n",
       "                date  usefulCount  ratingNum  conditionIndex  \\\n",
       "0    August 17, 2015            2          5             0.0   \n",
       "1      July 12, 2017            2          4             0.0   \n",
       "2       May 30, 2017            3          9             0.0   \n",
       "3      April 4, 2013           10          6             0.0   \n",
       "4       May 18, 2017            3          5             0.0   \n",
       "5  November 23, 2016            1          5             0.0   \n",
       "6   November 2, 2016            2          1             0.0   \n",
       "7   October 28, 2016            1         10             0.0   \n",
       "8     March 15, 2016            1          8             0.0   \n",
       "9     March 11, 2016           10         10             0.0   \n",
       "\n",
       "                                        conditionVec  drugIndex  \\\n",
       "0  (1.0, 0.0, 0.0, 0.0, 0.0, 0.0, 0.0, 0.0, 0.0, ...       14.0   \n",
       "1  (1.0, 0.0, 0.0, 0.0, 0.0, 0.0, 0.0, 0.0, 0.0, ...       60.0   \n",
       "2  (1.0, 0.0, 0.0, 0.0, 0.0, 0.0, 0.0, 0.0, 0.0, ...       60.0   \n",
       "3  (1.0, 0.0, 0.0, 0.0, 0.0, 0.0, 0.0, 0.0, 0.0, ...       35.0   \n",
       "4  (1.0, 0.0, 0.0, 0.0, 0.0, 0.0, 0.0, 0.0, 0.0, ...       60.0   \n",
       "5  (1.0, 0.0, 0.0, 0.0, 0.0, 0.0, 0.0, 0.0, 0.0, ...       60.0   \n",
       "6  (1.0, 0.0, 0.0, 0.0, 0.0, 0.0, 0.0, 0.0, 0.0, ...       60.0   \n",
       "7  (1.0, 0.0, 0.0, 0.0, 0.0, 0.0, 0.0, 0.0, 0.0, ...       60.0   \n",
       "8  (1.0, 0.0, 0.0, 0.0, 0.0, 0.0, 0.0, 0.0, 0.0, ...       60.0   \n",
       "9  (1.0, 0.0, 0.0, 0.0, 0.0, 0.0, 0.0, 0.0, 0.0, ...       60.0   \n",
       "\n",
       "                                             drugVec  \\\n",
       "0  (0.0, 0.0, 0.0, 0.0, 0.0, 0.0, 0.0, 0.0, 0.0, ...   \n",
       "1  (0.0, 0.0, 0.0, 0.0, 0.0, 0.0, 0.0, 0.0, 0.0, ...   \n",
       "2  (0.0, 0.0, 0.0, 0.0, 0.0, 0.0, 0.0, 0.0, 0.0, ...   \n",
       "3  (0.0, 0.0, 0.0, 0.0, 0.0, 0.0, 0.0, 0.0, 0.0, ...   \n",
       "4  (0.0, 0.0, 0.0, 0.0, 0.0, 0.0, 0.0, 0.0, 0.0, ...   \n",
       "5  (0.0, 0.0, 0.0, 0.0, 0.0, 0.0, 0.0, 0.0, 0.0, ...   \n",
       "6  (0.0, 0.0, 0.0, 0.0, 0.0, 0.0, 0.0, 0.0, 0.0, ...   \n",
       "7  (0.0, 0.0, 0.0, 0.0, 0.0, 0.0, 0.0, 0.0, 0.0, ...   \n",
       "8  (0.0, 0.0, 0.0, 0.0, 0.0, 0.0, 0.0, 0.0, 0.0, ...   \n",
       "9  (0.0, 0.0, 0.0, 0.0, 0.0, 0.0, 0.0, 0.0, 0.0, ...   \n",
       "\n",
       "                                            features  prediction  \n",
       "0  (0.0, 0.0, 0.0, 0.0, 0.0, 0.0, 0.0, 0.0, 0.0, ...    6.099772  \n",
       "1  (0.0, 0.0, 0.0, 0.0, 0.0, 0.0, 0.0, 0.0, 0.0, ...    3.934818  \n",
       "2  (0.0, 0.0, 0.0, 0.0, 0.0, 0.0, 0.0, 0.0, 0.0, ...   14.759589  \n",
       "3  (0.0, 0.0, 0.0, 0.0, 0.0, 0.0, 0.0, 0.0, 0.0, ...    8.264726  \n",
       "4  (0.0, 0.0, 0.0, 0.0, 0.0, 0.0, 0.0, 0.0, 0.0, ...    6.099772  \n",
       "5  (0.0, 0.0, 0.0, 0.0, 0.0, 0.0, 0.0, 0.0, 0.0, ...    6.099772  \n",
       "6  (0.0, 0.0, 0.0, 0.0, 0.0, 0.0, 0.0, 0.0, 0.0, ...   -2.560044  \n",
       "7  (0.0, 0.0, 0.0, 0.0, 0.0, 0.0, 0.0, 0.0, 0.0, ...   16.924543  \n",
       "8  (0.0, 0.0, 0.0, 0.0, 0.0, 0.0, 0.0, 0.0, 0.0, ...   12.594635  \n",
       "9  (0.0, 0.0, 0.0, 0.0, 0.0, 0.0, 0.0, 0.0, 0.0, ...   16.924543  "
      ]
     },
     "execution_count": 26,
     "metadata": {},
     "output_type": "execute_result"
    }
   ],
   "source": [
    "predictions.limit(10).toPandas()"
   ]
  },
  {
   "cell_type": "code",
   "execution_count": 27,
   "metadata": {
    "cell_status": {
     "execute_time": {
      "duration": 2279.85205078125,
      "end_time": 1614008138042.79
     }
    }
   },
   "outputs": [
    {
     "data": {
      "text/plain": [
       "0.27444947176597745"
      ]
     },
     "execution_count": 27,
     "metadata": {},
     "output_type": "execute_result"
    }
   ],
   "source": [
    "lr_evaluator = RegressionEvaluator(predictionCol=\"prediction\", labelCol=\"usefulCount\", metricName=\"r2\")\n",
    "lr_evaluator.evaluate(predictions)"
   ]
  },
  {
   "cell_type": "code",
   "execution_count": null,
   "metadata": {},
   "outputs": [],
   "source": []
  },
  {
   "cell_type": "markdown",
   "metadata": {},
   "source": [
    "С недавнего времени на Spark появился CatBoost. Давайте попробуем поиграться с этим инструментом."
   ]
  },
  {
   "cell_type": "code",
   "execution_count": 1,
   "metadata": {},
   "outputs": [],
   "source": [
    "import findspark\n",
    "findspark.init()"
   ]
  },
  {
   "cell_type": "code",
   "execution_count": 2,
   "metadata": {},
   "outputs": [],
   "source": [
    "import pyspark\n",
    "se = pyspark.sql.SparkSession.builder.appName(\"MyApp-catboost\") \\\n",
    "            .config(\"spark.jars.packages\", \"ai.catboost:catboost-spark_3.0_2.12:1.1.1\") \\\n",
    "            .config(\"spark.dynamicAllocation.enabled\", False) \\\n",
    "            .config(\"spark.locality.wait\", 0) \\\n",
    "            .getOrCreate()\n"
   ]
  },
  {
   "cell_type": "code",
   "execution_count": 4,
   "metadata": {},
   "outputs": [],
   "source": [
    "import catboost_spark"
   ]
  },
  {
   "cell_type": "code",
   "execution_count": 5,
   "metadata": {},
   "outputs": [],
   "source": [
    "data = se.read.option(\"delimiter\", \"\\t\").csv('/user/drugs/data/*', header=True, inferSchema=True)\n",
    "\n",
    "data = (\n",
    "    data\n",
    "    .na.drop('any')\n",
    "    .withColumn('ratingNum', data.rating.cast('integer'))\n",
    ")\n",
    "\n",
    "\n",
    "train, test = data.randomSplit([0.9, 0.1], 422)\n",
    "train, test = train.cache(), test.cache()"
   ]
  },
  {
   "cell_type": "code",
   "execution_count": 6,
   "metadata": {},
   "outputs": [],
   "source": [
    "from pyspark.ml.classification import LogisticRegression\n",
    "from pyspark.ml.regression import LinearRegression\n",
    "from pyspark.ml.feature import HashingTF, IDF, Tokenizer\n",
    "from pyspark.ml import Pipeline\n",
    "from pyspark.ml.feature import OneHotEncoder, StringIndexer, VectorAssembler"
   ]
  },
  {
   "cell_type": "code",
   "execution_count": 7,
   "metadata": {},
   "outputs": [],
   "source": [
    "stringIndexerCondition = StringIndexer(inputCol='condition', outputCol = \"conditionIndex\").setHandleInvalid(\"skip\")\n",
    "encoderCondition = OneHotEncoder(inputCol=\"conditionIndex\", outputCol=\"conditionVec\")\n",
    "\n",
    "stringIndexerDrug = StringIndexer(inputCol='drugName', outputCol = \"drugIndex\").setHandleInvalid(\"skip\")\n",
    "encoderDrug = OneHotEncoder(inputCol=\"drugIndex\", outputCol=\"drugVec\")\n",
    "\n",
    "assembler = VectorAssembler(inputCols=[\"drugVec\", \"conditionVec\", 'ratingNum'], outputCol=\"features\")\n",
    "\n",
    "\n",
    "preproc = Pipeline(stages=[\n",
    "    stringIndexerCondition,\n",
    "    encoderCondition,\n",
    "    stringIndexerDrug,\n",
    "    encoderDrug,\n",
    "    assembler\n",
    "])"
   ]
  },
  {
   "cell_type": "code",
   "execution_count": 8,
   "metadata": {},
   "outputs": [],
   "source": [
    "preproc = preproc.fit(data)"
   ]
  },
  {
   "cell_type": "code",
   "execution_count": 9,
   "metadata": {},
   "outputs": [],
   "source": [
    "train_proc = preproc.transform(train).cache()\n",
    "test_proc = preproc.transform(test).cache()"
   ]
  },
  {
   "cell_type": "code",
   "execution_count": 10,
   "metadata": {
    "scrolled": true
   },
   "outputs": [
    {
     "data": {
      "text/html": [
       "<div>\n",
       "<style scoped>\n",
       "    .dataframe tbody tr th:only-of-type {\n",
       "        vertical-align: middle;\n",
       "    }\n",
       "\n",
       "    .dataframe tbody tr th {\n",
       "        vertical-align: top;\n",
       "    }\n",
       "\n",
       "    .dataframe thead th {\n",
       "        text-align: right;\n",
       "    }\n",
       "</style>\n",
       "<table border=\"1\" class=\"dataframe\">\n",
       "  <thead>\n",
       "    <tr style=\"text-align: right;\">\n",
       "      <th></th>\n",
       "      <th>_c0</th>\n",
       "      <th>drugName</th>\n",
       "      <th>condition</th>\n",
       "      <th>review</th>\n",
       "      <th>rating</th>\n",
       "      <th>date</th>\n",
       "      <th>usefulCount</th>\n",
       "      <th>ratingNum</th>\n",
       "      <th>conditionIndex</th>\n",
       "      <th>conditionVec</th>\n",
       "      <th>drugIndex</th>\n",
       "      <th>drugVec</th>\n",
       "      <th>features</th>\n",
       "    </tr>\n",
       "  </thead>\n",
       "  <tbody>\n",
       "    <tr>\n",
       "      <th>0</th>\n",
       "      <td>10000</td>\n",
       "      <td>Lo Loestrin Fe</td>\n",
       "      <td>Birth Control</td>\n",
       "      <td>\"\"\"I was on this birth control for 8 months. T...</td>\n",
       "      <td>7.0</td>\n",
       "      <td>April 10, 2013</td>\n",
       "      <td>4</td>\n",
       "      <td>7</td>\n",
       "      <td>0.0</td>\n",
       "      <td>(1.0, 0.0, 0.0, 0.0, 0.0, 0.0, 0.0, 0.0, 0.0, ...</td>\n",
       "      <td>35.0</td>\n",
       "      <td>(0.0, 0.0, 0.0, 0.0, 0.0, 0.0, 0.0, 0.0, 0.0, ...</td>\n",
       "      <td>(0.0, 0.0, 0.0, 0.0, 0.0, 0.0, 0.0, 0.0, 0.0, ...</td>\n",
       "    </tr>\n",
       "    <tr>\n",
       "      <th>1</th>\n",
       "      <td>100012</td>\n",
       "      <td>Desogestrel / ethinyl estradiol</td>\n",
       "      <td>Birth Control</td>\n",
       "      <td>\"\"\"I&amp;#039;ve been taking Velivet for about a y...</td>\n",
       "      <td>9.0</td>\n",
       "      <td>June 17, 2017</td>\n",
       "      <td>2</td>\n",
       "      <td>9</td>\n",
       "      <td>0.0</td>\n",
       "      <td>(1.0, 0.0, 0.0, 0.0, 0.0, 0.0, 0.0, 0.0, 0.0, ...</td>\n",
       "      <td>60.0</td>\n",
       "      <td>(0.0, 0.0, 0.0, 0.0, 0.0, 0.0, 0.0, 0.0, 0.0, ...</td>\n",
       "      <td>(0.0, 0.0, 0.0, 0.0, 0.0, 0.0, 0.0, 0.0, 0.0, ...</td>\n",
       "    </tr>\n",
       "    <tr>\n",
       "      <th>2</th>\n",
       "      <td>100013</td>\n",
       "      <td>Desogestrel / ethinyl estradiol</td>\n",
       "      <td>Birth Control</td>\n",
       "      <td>\"\"\"Gives me heartburn and indigestion. Also ma...</td>\n",
       "      <td>2.0</td>\n",
       "      <td>June 8, 2017</td>\n",
       "      <td>1</td>\n",
       "      <td>2</td>\n",
       "      <td>0.0</td>\n",
       "      <td>(1.0, 0.0, 0.0, 0.0, 0.0, 0.0, 0.0, 0.0, 0.0, ...</td>\n",
       "      <td>60.0</td>\n",
       "      <td>(0.0, 0.0, 0.0, 0.0, 0.0, 0.0, 0.0, 0.0, 0.0, ...</td>\n",
       "      <td>(0.0, 0.0, 0.0, 0.0, 0.0, 0.0, 0.0, 0.0, 0.0, ...</td>\n",
       "    </tr>\n",
       "    <tr>\n",
       "      <th>3</th>\n",
       "      <td>100029</td>\n",
       "      <td>Desogestrel / ethinyl estradiol</td>\n",
       "      <td>Birth Control</td>\n",
       "      <td>\"\"\"I was switched from Azurette to Viorele by ...</td>\n",
       "      <td>5.0</td>\n",
       "      <td>December 6, 2017</td>\n",
       "      <td>0</td>\n",
       "      <td>5</td>\n",
       "      <td>0.0</td>\n",
       "      <td>(1.0, 0.0, 0.0, 0.0, 0.0, 0.0, 0.0, 0.0, 0.0, ...</td>\n",
       "      <td>60.0</td>\n",
       "      <td>(0.0, 0.0, 0.0, 0.0, 0.0, 0.0, 0.0, 0.0, 0.0, ...</td>\n",
       "      <td>(0.0, 0.0, 0.0, 0.0, 0.0, 0.0, 0.0, 0.0, 0.0, ...</td>\n",
       "    </tr>\n",
       "    <tr>\n",
       "      <th>4</th>\n",
       "      <td>10004</td>\n",
       "      <td>Lo Loestrin Fe</td>\n",
       "      <td>Birth Control</td>\n",
       "      <td>\"\"\"I&amp;#039;m 41, using for cramps and excessive...</td>\n",
       "      <td>2.0</td>\n",
       "      <td>March 31, 2013</td>\n",
       "      <td>12</td>\n",
       "      <td>2</td>\n",
       "      <td>0.0</td>\n",
       "      <td>(1.0, 0.0, 0.0, 0.0, 0.0, 0.0, 0.0, 0.0, 0.0, ...</td>\n",
       "      <td>35.0</td>\n",
       "      <td>(0.0, 0.0, 0.0, 0.0, 0.0, 0.0, 0.0, 0.0, 0.0, ...</td>\n",
       "      <td>(0.0, 0.0, 0.0, 0.0, 0.0, 0.0, 0.0, 0.0, 0.0, ...</td>\n",
       "    </tr>\n",
       "    <tr>\n",
       "      <th>5</th>\n",
       "      <td>100055</td>\n",
       "      <td>Desogestrel / ethinyl estradiol</td>\n",
       "      <td>Birth Control</td>\n",
       "      <td>\"\"\"I was on Apri for about a year. The first f...</td>\n",
       "      <td>5.0</td>\n",
       "      <td>May 2, 2017</td>\n",
       "      <td>1</td>\n",
       "      <td>5</td>\n",
       "      <td>0.0</td>\n",
       "      <td>(1.0, 0.0, 0.0, 0.0, 0.0, 0.0, 0.0, 0.0, 0.0, ...</td>\n",
       "      <td>60.0</td>\n",
       "      <td>(0.0, 0.0, 0.0, 0.0, 0.0, 0.0, 0.0, 0.0, 0.0, ...</td>\n",
       "      <td>(0.0, 0.0, 0.0, 0.0, 0.0, 0.0, 0.0, 0.0, 0.0, ...</td>\n",
       "    </tr>\n",
       "    <tr>\n",
       "      <th>6</th>\n",
       "      <td>10007</td>\n",
       "      <td>Lo Loestrin Fe</td>\n",
       "      <td>Birth Control</td>\n",
       "      <td>\"\"\"I posted on this forum when I first started...</td>\n",
       "      <td>9.0</td>\n",
       "      <td>March 10, 2013</td>\n",
       "      <td>18</td>\n",
       "      <td>9</td>\n",
       "      <td>0.0</td>\n",
       "      <td>(1.0, 0.0, 0.0, 0.0, 0.0, 0.0, 0.0, 0.0, 0.0, ...</td>\n",
       "      <td>35.0</td>\n",
       "      <td>(0.0, 0.0, 0.0, 0.0, 0.0, 0.0, 0.0, 0.0, 0.0, ...</td>\n",
       "      <td>(0.0, 0.0, 0.0, 0.0, 0.0, 0.0, 0.0, 0.0, 0.0, ...</td>\n",
       "    </tr>\n",
       "    <tr>\n",
       "      <th>7</th>\n",
       "      <td>100071</td>\n",
       "      <td>Desogestrel / ethinyl estradiol</td>\n",
       "      <td>Birth Control</td>\n",
       "      <td>\"\"\"So I&amp;#039;ve only been on this pill for a m...</td>\n",
       "      <td>8.0</td>\n",
       "      <td>March 7, 2017</td>\n",
       "      <td>7</td>\n",
       "      <td>8</td>\n",
       "      <td>0.0</td>\n",
       "      <td>(1.0, 0.0, 0.0, 0.0, 0.0, 0.0, 0.0, 0.0, 0.0, ...</td>\n",
       "      <td>60.0</td>\n",
       "      <td>(0.0, 0.0, 0.0, 0.0, 0.0, 0.0, 0.0, 0.0, 0.0, ...</td>\n",
       "      <td>(0.0, 0.0, 0.0, 0.0, 0.0, 0.0, 0.0, 0.0, 0.0, ...</td>\n",
       "    </tr>\n",
       "    <tr>\n",
       "      <th>8</th>\n",
       "      <td>100085</td>\n",
       "      <td>Desogestrel / ethinyl estradiol</td>\n",
       "      <td>Birth Control</td>\n",
       "      <td>\"\"\"I was on this for a year or two, I had been...</td>\n",
       "      <td>1.0</td>\n",
       "      <td>January 28, 2017</td>\n",
       "      <td>4</td>\n",
       "      <td>1</td>\n",
       "      <td>0.0</td>\n",
       "      <td>(1.0, 0.0, 0.0, 0.0, 0.0, 0.0, 0.0, 0.0, 0.0, ...</td>\n",
       "      <td>60.0</td>\n",
       "      <td>(0.0, 0.0, 0.0, 0.0, 0.0, 0.0, 0.0, 0.0, 0.0, ...</td>\n",
       "      <td>(0.0, 0.0, 0.0, 0.0, 0.0, 0.0, 0.0, 0.0, 0.0, ...</td>\n",
       "    </tr>\n",
       "    <tr>\n",
       "      <th>9</th>\n",
       "      <td>100087</td>\n",
       "      <td>Desogestrel / ethinyl estradiol</td>\n",
       "      <td>Birth Control</td>\n",
       "      <td>\"\"\"I&amp;#039;m 19 and have been on this birth con...</td>\n",
       "      <td>9.0</td>\n",
       "      <td>January 26, 2017</td>\n",
       "      <td>3</td>\n",
       "      <td>9</td>\n",
       "      <td>0.0</td>\n",
       "      <td>(1.0, 0.0, 0.0, 0.0, 0.0, 0.0, 0.0, 0.0, 0.0, ...</td>\n",
       "      <td>60.0</td>\n",
       "      <td>(0.0, 0.0, 0.0, 0.0, 0.0, 0.0, 0.0, 0.0, 0.0, ...</td>\n",
       "      <td>(0.0, 0.0, 0.0, 0.0, 0.0, 0.0, 0.0, 0.0, 0.0, ...</td>\n",
       "    </tr>\n",
       "  </tbody>\n",
       "</table>\n",
       "</div>"
      ],
      "text/plain": [
       "      _c0                         drugName      condition  \\\n",
       "0   10000                   Lo Loestrin Fe  Birth Control   \n",
       "1  100012  Desogestrel / ethinyl estradiol  Birth Control   \n",
       "2  100013  Desogestrel / ethinyl estradiol  Birth Control   \n",
       "3  100029  Desogestrel / ethinyl estradiol  Birth Control   \n",
       "4   10004                   Lo Loestrin Fe  Birth Control   \n",
       "5  100055  Desogestrel / ethinyl estradiol  Birth Control   \n",
       "6   10007                   Lo Loestrin Fe  Birth Control   \n",
       "7  100071  Desogestrel / ethinyl estradiol  Birth Control   \n",
       "8  100085  Desogestrel / ethinyl estradiol  Birth Control   \n",
       "9  100087  Desogestrel / ethinyl estradiol  Birth Control   \n",
       "\n",
       "                                              review rating              date  \\\n",
       "0  \"\"\"I was on this birth control for 8 months. T...    7.0    April 10, 2013   \n",
       "1  \"\"\"I&#039;ve been taking Velivet for about a y...    9.0     June 17, 2017   \n",
       "2  \"\"\"Gives me heartburn and indigestion. Also ma...    2.0      June 8, 2017   \n",
       "3  \"\"\"I was switched from Azurette to Viorele by ...    5.0  December 6, 2017   \n",
       "4  \"\"\"I&#039;m 41, using for cramps and excessive...    2.0    March 31, 2013   \n",
       "5  \"\"\"I was on Apri for about a year. The first f...    5.0       May 2, 2017   \n",
       "6  \"\"\"I posted on this forum when I first started...    9.0    March 10, 2013   \n",
       "7  \"\"\"So I&#039;ve only been on this pill for a m...    8.0     March 7, 2017   \n",
       "8  \"\"\"I was on this for a year or two, I had been...    1.0  January 28, 2017   \n",
       "9  \"\"\"I&#039;m 19 and have been on this birth con...    9.0  January 26, 2017   \n",
       "\n",
       "   usefulCount  ratingNum  conditionIndex  \\\n",
       "0            4          7             0.0   \n",
       "1            2          9             0.0   \n",
       "2            1          2             0.0   \n",
       "3            0          5             0.0   \n",
       "4           12          2             0.0   \n",
       "5            1          5             0.0   \n",
       "6           18          9             0.0   \n",
       "7            7          8             0.0   \n",
       "8            4          1             0.0   \n",
       "9            3          9             0.0   \n",
       "\n",
       "                                        conditionVec  drugIndex  \\\n",
       "0  (1.0, 0.0, 0.0, 0.0, 0.0, 0.0, 0.0, 0.0, 0.0, ...       35.0   \n",
       "1  (1.0, 0.0, 0.0, 0.0, 0.0, 0.0, 0.0, 0.0, 0.0, ...       60.0   \n",
       "2  (1.0, 0.0, 0.0, 0.0, 0.0, 0.0, 0.0, 0.0, 0.0, ...       60.0   \n",
       "3  (1.0, 0.0, 0.0, 0.0, 0.0, 0.0, 0.0, 0.0, 0.0, ...       60.0   \n",
       "4  (1.0, 0.0, 0.0, 0.0, 0.0, 0.0, 0.0, 0.0, 0.0, ...       35.0   \n",
       "5  (1.0, 0.0, 0.0, 0.0, 0.0, 0.0, 0.0, 0.0, 0.0, ...       60.0   \n",
       "6  (1.0, 0.0, 0.0, 0.0, 0.0, 0.0, 0.0, 0.0, 0.0, ...       35.0   \n",
       "7  (1.0, 0.0, 0.0, 0.0, 0.0, 0.0, 0.0, 0.0, 0.0, ...       60.0   \n",
       "8  (1.0, 0.0, 0.0, 0.0, 0.0, 0.0, 0.0, 0.0, 0.0, ...       60.0   \n",
       "9  (1.0, 0.0, 0.0, 0.0, 0.0, 0.0, 0.0, 0.0, 0.0, ...       60.0   \n",
       "\n",
       "                                             drugVec  \\\n",
       "0  (0.0, 0.0, 0.0, 0.0, 0.0, 0.0, 0.0, 0.0, 0.0, ...   \n",
       "1  (0.0, 0.0, 0.0, 0.0, 0.0, 0.0, 0.0, 0.0, 0.0, ...   \n",
       "2  (0.0, 0.0, 0.0, 0.0, 0.0, 0.0, 0.0, 0.0, 0.0, ...   \n",
       "3  (0.0, 0.0, 0.0, 0.0, 0.0, 0.0, 0.0, 0.0, 0.0, ...   \n",
       "4  (0.0, 0.0, 0.0, 0.0, 0.0, 0.0, 0.0, 0.0, 0.0, ...   \n",
       "5  (0.0, 0.0, 0.0, 0.0, 0.0, 0.0, 0.0, 0.0, 0.0, ...   \n",
       "6  (0.0, 0.0, 0.0, 0.0, 0.0, 0.0, 0.0, 0.0, 0.0, ...   \n",
       "7  (0.0, 0.0, 0.0, 0.0, 0.0, 0.0, 0.0, 0.0, 0.0, ...   \n",
       "8  (0.0, 0.0, 0.0, 0.0, 0.0, 0.0, 0.0, 0.0, 0.0, ...   \n",
       "9  (0.0, 0.0, 0.0, 0.0, 0.0, 0.0, 0.0, 0.0, 0.0, ...   \n",
       "\n",
       "                                            features  \n",
       "0  (0.0, 0.0, 0.0, 0.0, 0.0, 0.0, 0.0, 0.0, 0.0, ...  \n",
       "1  (0.0, 0.0, 0.0, 0.0, 0.0, 0.0, 0.0, 0.0, 0.0, ...  \n",
       "2  (0.0, 0.0, 0.0, 0.0, 0.0, 0.0, 0.0, 0.0, 0.0, ...  \n",
       "3  (0.0, 0.0, 0.0, 0.0, 0.0, 0.0, 0.0, 0.0, 0.0, ...  \n",
       "4  (0.0, 0.0, 0.0, 0.0, 0.0, 0.0, 0.0, 0.0, 0.0, ...  \n",
       "5  (0.0, 0.0, 0.0, 0.0, 0.0, 0.0, 0.0, 0.0, 0.0, ...  \n",
       "6  (0.0, 0.0, 0.0, 0.0, 0.0, 0.0, 0.0, 0.0, 0.0, ...  \n",
       "7  (0.0, 0.0, 0.0, 0.0, 0.0, 0.0, 0.0, 0.0, 0.0, ...  \n",
       "8  (0.0, 0.0, 0.0, 0.0, 0.0, 0.0, 0.0, 0.0, 0.0, ...  \n",
       "9  (0.0, 0.0, 0.0, 0.0, 0.0, 0.0, 0.0, 0.0, 0.0, ...  "
      ]
     },
     "execution_count": 10,
     "metadata": {},
     "output_type": "execute_result"
    }
   ],
   "source": [
    "train_proc.limit(10).toPandas()"
   ]
  },
  {
   "cell_type": "code",
   "execution_count": 11,
   "metadata": {},
   "outputs": [],
   "source": [
    "from pyspark.sql.types import *\n",
    "from pyspark.ml.linalg import Vectors, VectorUDT\n",
    "from pyspark.sql import Row,SparkSession"
   ]
  },
  {
   "cell_type": "code",
   "execution_count": 12,
   "metadata": {},
   "outputs": [],
   "source": [
    "srcDataSchema = [\n",
    "    StructField(\"features\", VectorUDT()),\n",
    "    StructField(\"label\", DoubleType())\n",
    "]"
   ]
  },
  {
   "cell_type": "code",
   "execution_count": 13,
   "metadata": {},
   "outputs": [
    {
     "data": {
      "text/plain": [
       "[<Row(SparseVector(4469, {35: 1.0, 3572: 1.0, 4468: 7.0}), 4.0)>]"
      ]
     },
     "execution_count": 13,
     "metadata": {},
     "output_type": "execute_result"
    }
   ],
   "source": [
    "train_proc.rdd.map(lambda x: Row(x.features, float(x.usefulCount))).take(1)"
   ]
  },
  {
   "cell_type": "code",
   "execution_count": 14,
   "metadata": {},
   "outputs": [],
   "source": [
    "trainData = train_proc.rdd.map(lambda x: Row(x.features, float(x.usefulCount)))"
   ]
  },
  {
   "cell_type": "code",
   "execution_count": 15,
   "metadata": {},
   "outputs": [],
   "source": [
    "trainDf = se.createDataFrame(trainData, StructType(srcDataSchema))"
   ]
  },
  {
   "cell_type": "code",
   "execution_count": 16,
   "metadata": {},
   "outputs": [
    {
     "data": {
      "text/html": [
       "<div>\n",
       "<style scoped>\n",
       "    .dataframe tbody tr th:only-of-type {\n",
       "        vertical-align: middle;\n",
       "    }\n",
       "\n",
       "    .dataframe tbody tr th {\n",
       "        vertical-align: top;\n",
       "    }\n",
       "\n",
       "    .dataframe thead th {\n",
       "        text-align: right;\n",
       "    }\n",
       "</style>\n",
       "<table border=\"1\" class=\"dataframe\">\n",
       "  <thead>\n",
       "    <tr style=\"text-align: right;\">\n",
       "      <th></th>\n",
       "      <th>features</th>\n",
       "      <th>label</th>\n",
       "    </tr>\n",
       "  </thead>\n",
       "  <tbody>\n",
       "    <tr>\n",
       "      <th>0</th>\n",
       "      <td>(0.0, 0.0, 0.0, 0.0, 0.0, 0.0, 0.0, 0.0, 0.0, ...</td>\n",
       "      <td>4.0</td>\n",
       "    </tr>\n",
       "    <tr>\n",
       "      <th>1</th>\n",
       "      <td>(0.0, 0.0, 0.0, 0.0, 0.0, 0.0, 0.0, 0.0, 0.0, ...</td>\n",
       "      <td>2.0</td>\n",
       "    </tr>\n",
       "    <tr>\n",
       "      <th>2</th>\n",
       "      <td>(0.0, 0.0, 0.0, 0.0, 0.0, 0.0, 0.0, 0.0, 0.0, ...</td>\n",
       "      <td>1.0</td>\n",
       "    </tr>\n",
       "    <tr>\n",
       "      <th>3</th>\n",
       "      <td>(0.0, 0.0, 0.0, 0.0, 0.0, 0.0, 0.0, 0.0, 0.0, ...</td>\n",
       "      <td>0.0</td>\n",
       "    </tr>\n",
       "    <tr>\n",
       "      <th>4</th>\n",
       "      <td>(0.0, 0.0, 0.0, 0.0, 0.0, 0.0, 0.0, 0.0, 0.0, ...</td>\n",
       "      <td>12.0</td>\n",
       "    </tr>\n",
       "    <tr>\n",
       "      <th>5</th>\n",
       "      <td>(0.0, 0.0, 0.0, 0.0, 0.0, 0.0, 0.0, 0.0, 0.0, ...</td>\n",
       "      <td>1.0</td>\n",
       "    </tr>\n",
       "    <tr>\n",
       "      <th>6</th>\n",
       "      <td>(0.0, 0.0, 0.0, 0.0, 0.0, 0.0, 0.0, 0.0, 0.0, ...</td>\n",
       "      <td>18.0</td>\n",
       "    </tr>\n",
       "    <tr>\n",
       "      <th>7</th>\n",
       "      <td>(0.0, 0.0, 0.0, 0.0, 0.0, 0.0, 0.0, 0.0, 0.0, ...</td>\n",
       "      <td>7.0</td>\n",
       "    </tr>\n",
       "    <tr>\n",
       "      <th>8</th>\n",
       "      <td>(0.0, 0.0, 0.0, 0.0, 0.0, 0.0, 0.0, 0.0, 0.0, ...</td>\n",
       "      <td>4.0</td>\n",
       "    </tr>\n",
       "    <tr>\n",
       "      <th>9</th>\n",
       "      <td>(0.0, 0.0, 0.0, 0.0, 0.0, 0.0, 0.0, 0.0, 0.0, ...</td>\n",
       "      <td>3.0</td>\n",
       "    </tr>\n",
       "  </tbody>\n",
       "</table>\n",
       "</div>"
      ],
      "text/plain": [
       "                                            features  label\n",
       "0  (0.0, 0.0, 0.0, 0.0, 0.0, 0.0, 0.0, 0.0, 0.0, ...    4.0\n",
       "1  (0.0, 0.0, 0.0, 0.0, 0.0, 0.0, 0.0, 0.0, 0.0, ...    2.0\n",
       "2  (0.0, 0.0, 0.0, 0.0, 0.0, 0.0, 0.0, 0.0, 0.0, ...    1.0\n",
       "3  (0.0, 0.0, 0.0, 0.0, 0.0, 0.0, 0.0, 0.0, 0.0, ...    0.0\n",
       "4  (0.0, 0.0, 0.0, 0.0, 0.0, 0.0, 0.0, 0.0, 0.0, ...   12.0\n",
       "5  (0.0, 0.0, 0.0, 0.0, 0.0, 0.0, 0.0, 0.0, 0.0, ...    1.0\n",
       "6  (0.0, 0.0, 0.0, 0.0, 0.0, 0.0, 0.0, 0.0, 0.0, ...   18.0\n",
       "7  (0.0, 0.0, 0.0, 0.0, 0.0, 0.0, 0.0, 0.0, 0.0, ...    7.0\n",
       "8  (0.0, 0.0, 0.0, 0.0, 0.0, 0.0, 0.0, 0.0, 0.0, ...    4.0\n",
       "9  (0.0, 0.0, 0.0, 0.0, 0.0, 0.0, 0.0, 0.0, 0.0, ...    3.0"
      ]
     },
     "execution_count": 16,
     "metadata": {},
     "output_type": "execute_result"
    }
   ],
   "source": [
    "trainDf.limit(10).toPandas()"
   ]
  },
  {
   "cell_type": "code",
   "execution_count": 17,
   "metadata": {},
   "outputs": [],
   "source": [
    "evalData = test_proc.rdd.map(lambda x: Row(x.features, float(x.usefulCount)))"
   ]
  },
  {
   "cell_type": "code",
   "execution_count": 18,
   "metadata": {},
   "outputs": [],
   "source": [
    "evalDf = se.createDataFrame(evalData, StructType(srcDataSchema))"
   ]
  },
  {
   "cell_type": "code",
   "execution_count": 19,
   "metadata": {},
   "outputs": [
    {
     "data": {
      "text/html": [
       "<div>\n",
       "<style scoped>\n",
       "    .dataframe tbody tr th:only-of-type {\n",
       "        vertical-align: middle;\n",
       "    }\n",
       "\n",
       "    .dataframe tbody tr th {\n",
       "        vertical-align: top;\n",
       "    }\n",
       "\n",
       "    .dataframe thead th {\n",
       "        text-align: right;\n",
       "    }\n",
       "</style>\n",
       "<table border=\"1\" class=\"dataframe\">\n",
       "  <thead>\n",
       "    <tr style=\"text-align: right;\">\n",
       "      <th></th>\n",
       "      <th>features</th>\n",
       "      <th>label</th>\n",
       "    </tr>\n",
       "  </thead>\n",
       "  <tbody>\n",
       "    <tr>\n",
       "      <th>0</th>\n",
       "      <td>(0.0, 0.0, 0.0, 0.0, 0.0, 0.0, 0.0, 0.0, 0.0, ...</td>\n",
       "      <td>2.0</td>\n",
       "    </tr>\n",
       "    <tr>\n",
       "      <th>1</th>\n",
       "      <td>(0.0, 0.0, 0.0, 0.0, 0.0, 0.0, 0.0, 0.0, 0.0, ...</td>\n",
       "      <td>10.0</td>\n",
       "    </tr>\n",
       "    <tr>\n",
       "      <th>2</th>\n",
       "      <td>(0.0, 0.0, 0.0, 0.0, 0.0, 0.0, 0.0, 0.0, 0.0, ...</td>\n",
       "      <td>3.0</td>\n",
       "    </tr>\n",
       "    <tr>\n",
       "      <th>3</th>\n",
       "      <td>(0.0, 0.0, 0.0, 0.0, 0.0, 0.0, 0.0, 0.0, 0.0, ...</td>\n",
       "      <td>2.0</td>\n",
       "    </tr>\n",
       "    <tr>\n",
       "      <th>4</th>\n",
       "      <td>(0.0, 0.0, 0.0, 0.0, 0.0, 0.0, 0.0, 0.0, 0.0, ...</td>\n",
       "      <td>16.0</td>\n",
       "    </tr>\n",
       "    <tr>\n",
       "      <th>5</th>\n",
       "      <td>(0.0, 0.0, 0.0, 0.0, 0.0, 0.0, 0.0, 0.0, 0.0, ...</td>\n",
       "      <td>3.0</td>\n",
       "    </tr>\n",
       "    <tr>\n",
       "      <th>6</th>\n",
       "      <td>(0.0, 0.0, 0.0, 0.0, 0.0, 0.0, 0.0, 0.0, 0.0, ...</td>\n",
       "      <td>1.0</td>\n",
       "    </tr>\n",
       "    <tr>\n",
       "      <th>7</th>\n",
       "      <td>(0.0, 0.0, 0.0, 0.0, 0.0, 0.0, 0.0, 0.0, 0.0, ...</td>\n",
       "      <td>2.0</td>\n",
       "    </tr>\n",
       "    <tr>\n",
       "      <th>8</th>\n",
       "      <td>(0.0, 0.0, 0.0, 0.0, 0.0, 0.0, 0.0, 0.0, 0.0, ...</td>\n",
       "      <td>4.0</td>\n",
       "    </tr>\n",
       "    <tr>\n",
       "      <th>9</th>\n",
       "      <td>(0.0, 0.0, 0.0, 0.0, 0.0, 0.0, 0.0, 0.0, 0.0, ...</td>\n",
       "      <td>1.0</td>\n",
       "    </tr>\n",
       "  </tbody>\n",
       "</table>\n",
       "</div>"
      ],
      "text/plain": [
       "                                            features  label\n",
       "0  (0.0, 0.0, 0.0, 0.0, 0.0, 0.0, 0.0, 0.0, 0.0, ...    2.0\n",
       "1  (0.0, 0.0, 0.0, 0.0, 0.0, 0.0, 0.0, 0.0, 0.0, ...   10.0\n",
       "2  (0.0, 0.0, 0.0, 0.0, 0.0, 0.0, 0.0, 0.0, 0.0, ...    3.0\n",
       "3  (0.0, 0.0, 0.0, 0.0, 0.0, 0.0, 0.0, 0.0, 0.0, ...    2.0\n",
       "4  (0.0, 0.0, 0.0, 0.0, 0.0, 0.0, 0.0, 0.0, 0.0, ...   16.0\n",
       "5  (0.0, 0.0, 0.0, 0.0, 0.0, 0.0, 0.0, 0.0, 0.0, ...    3.0\n",
       "6  (0.0, 0.0, 0.0, 0.0, 0.0, 0.0, 0.0, 0.0, 0.0, ...    1.0\n",
       "7  (0.0, 0.0, 0.0, 0.0, 0.0, 0.0, 0.0, 0.0, 0.0, ...    2.0\n",
       "8  (0.0, 0.0, 0.0, 0.0, 0.0, 0.0, 0.0, 0.0, 0.0, ...    4.0\n",
       "9  (0.0, 0.0, 0.0, 0.0, 0.0, 0.0, 0.0, 0.0, 0.0, ...    1.0"
      ]
     },
     "execution_count": 19,
     "metadata": {},
     "output_type": "execute_result"
    }
   ],
   "source": [
    "evalDf.limit(10).toPandas()"
   ]
  },
  {
   "cell_type": "code",
   "execution_count": 20,
   "metadata": {},
   "outputs": [],
   "source": [
    "trainPool = catboost_spark.Pool(trainDf)\n",
    "evalPool = catboost_spark.Pool(evalDf)"
   ]
  },
  {
   "cell_type": "code",
   "execution_count": 21,
   "metadata": {},
   "outputs": [],
   "source": [
    "regressor = catboost_spark.CatBoostRegressor()"
   ]
  },
  {
   "cell_type": "code",
   "execution_count": 22,
   "metadata": {},
   "outputs": [],
   "source": [
    "model = regressor.fit(trainPool, evalDatasets=[evalPool])"
   ]
  },
  {
   "cell_type": "code",
   "execution_count": 23,
   "metadata": {},
   "outputs": [
    {
     "name": "stdout",
     "output_type": "stream",
     "text": [
      "+--------------------+-----+------------------+\n",
      "|            features|label|        prediction|\n",
      "+--------------------+-----+------------------+\n",
      "|(4469,[60,3572,44...|  2.0| 5.170005929902579|\n",
      "|(4469,[35,3572,44...| 10.0|5.8569559499594686|\n",
      "|(4469,[60,3572,44...|  3.0| 6.826722103079383|\n",
      "|(4469,[60,3572,44...|  2.0| 6.826722103079383|\n",
      "|(4469,[1379,3655,...| 16.0| 60.71024067230398|\n",
      "|(4469,[60,3572,44...|  3.0| 5.170005929902579|\n",
      "|(4469,[60,3572,44...|  1.0|10.622242375513803|\n",
      "|(4469,[60,3572,44...|  2.0| 6.235350342367859|\n",
      "|(4469,[60,3572,44...|  4.0| 8.550074247066402|\n",
      "|(4469,[60,3572,44...|  1.0| 8.550074247066402|\n",
      "|(4469,[35,3572,44...| 23.0| 8.550074247066402|\n",
      "|(4469,[60,3572,44...| 13.0| 6.080283423614435|\n",
      "|(4469,[60,3572,44...|  6.0|10.622242375513803|\n",
      "|(4469,[60,3572,44...|  1.0| 5.814267070328612|\n",
      "|(4469,[35,3572,44...| 18.0| 6.080283423614435|\n",
      "|(4469,[60,3572,44...|  8.0| 8.550074247066402|\n",
      "|(4469,[60,3572,44...|  1.0| 6.235350342367859|\n",
      "|(4469,[60,3572,44...| 15.0| 5.999335757252994|\n",
      "|(4469,[35,3572,44...| 36.0| 8.550074247066402|\n",
      "|(4469,[35,3572,44...| 14.0| 6.080283423614435|\n",
      "+--------------------+-----+------------------+\n",
      "only showing top 20 rows\n",
      "\n"
     ]
    }
   ],
   "source": [
    "predictions = model.transform(evalPool.data)\n",
    "predictions.show()"
   ]
  },
  {
   "cell_type": "code",
   "execution_count": 24,
   "metadata": {},
   "outputs": [],
   "source": [
    "from pyspark.ml.evaluation import RegressionEvaluator"
   ]
  },
  {
   "cell_type": "code",
   "execution_count": 25,
   "metadata": {},
   "outputs": [
    {
     "data": {
      "text/plain": [
       "0.3480108422561933"
      ]
     },
     "execution_count": 25,
     "metadata": {},
     "output_type": "execute_result"
    }
   ],
   "source": [
    "lr_evaluator = RegressionEvaluator(predictionCol=\"prediction\", labelCol=\"label\", metricName=\"r2\")\n",
    "lr_evaluator.evaluate(predictions)"
   ]
  },
  {
   "cell_type": "code",
   "execution_count": 26,
   "metadata": {},
   "outputs": [
    {
     "data": {
      "text/plain": [
       "29.168868237493744"
      ]
     },
     "execution_count": 26,
     "metadata": {},
     "output_type": "execute_result"
    }
   ],
   "source": [
    "lr_evaluator = RegressionEvaluator(predictionCol=\"prediction\", labelCol=\"label\", metricName=\"rmse\")\n",
    "lr_evaluator.evaluate(predictions)"
   ]
  },
  {
   "cell_type": "code",
   "execution_count": null,
   "metadata": {},
   "outputs": [],
   "source": []
  }
 ],
 "metadata": {
  "kernelspec": {
   "display_name": "Python 3",
   "language": "python",
   "name": "python3"
  },
  "language_info": {
   "codemirror_mode": {
    "name": "ipython",
    "version": 3
   },
   "file_extension": ".py",
   "mimetype": "text/x-python",
   "name": "python",
   "nbconvert_exporter": "python",
   "pygments_lexer": "ipython3",
   "version": "3.8.10"
  }
 },
 "nbformat": 4,
 "nbformat_minor": 2
}
